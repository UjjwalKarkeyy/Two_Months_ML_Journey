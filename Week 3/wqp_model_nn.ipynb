{
 "cells": [
  {
   "cell_type": "code",
   "execution_count": 1,
   "id": "cdb4fc71",
   "metadata": {},
   "outputs": [
    {
     "name": "stderr",
     "output_type": "stream",
     "text": [
      "2025-10-01 09:02:40.914196: I tensorflow/core/util/port.cc:153] oneDNN custom operations are on. You may see slightly different numerical results due to floating-point round-off errors from different computation orders. To turn them off, set the environment variable `TF_ENABLE_ONEDNN_OPTS=0`.\n",
      "2025-10-01 09:02:40.930353: E external/local_xla/xla/stream_executor/cuda/cuda_fft.cc:477] Unable to register cuFFT factory: Attempting to register factory for plugin cuFFT when one has already been registered\n",
      "WARNING: All log messages before absl::InitializeLog() is called are written to STDERR\n",
      "E0000 00:00:1759288660.948372   14299 cuda_dnn.cc:8310] Unable to register cuDNN factory: Attempting to register factory for plugin cuDNN when one has already been registered\n",
      "E0000 00:00:1759288660.953296   14299 cuda_blas.cc:1418] Unable to register cuBLAS factory: Attempting to register factory for plugin cuBLAS when one has already been registered\n",
      "2025-10-01 09:02:40.973462: I tensorflow/core/platform/cpu_feature_guard.cc:210] This TensorFlow binary is optimized to use available CPU instructions in performance-critical operations.\n",
      "To enable the following instructions: AVX2 AVX512F AVX512_VNNI FMA, in other operations, rebuild TensorFlow with the appropriate compiler flags.\n"
     ]
    }
   ],
   "source": [
    "import pandas as pd\n",
    "import tensorflow as tf\n",
    "from tensorflow import keras\n",
    "from tensorflow.keras.models import Sequential\n",
    "from tensorflow.keras.layers import Activation, Dense\n",
    "from tensorflow.keras.optimizers import Adam\n",
    "from tensorflow.keras.metrics import categorical_crossentropy\n",
    "from sklearn.model_selection import train_test_split"
   ]
  },
  {
   "cell_type": "code",
   "execution_count": 2,
   "id": "b3ec74c2",
   "metadata": {},
   "outputs": [],
   "source": [
    "df_red = pd.read_csv('./data/clean_red_wine.csv')\n",
    "df_white = pd.read_csv('./data/clean_white_wine.csv')"
   ]
  },
  {
   "cell_type": "code",
   "execution_count": 3,
   "id": "00d41ae0",
   "metadata": {},
   "outputs": [
    {
     "data": {
      "text/html": [
       "<div>\n",
       "<style scoped>\n",
       "    .dataframe tbody tr th:only-of-type {\n",
       "        vertical-align: middle;\n",
       "    }\n",
       "\n",
       "    .dataframe tbody tr th {\n",
       "        vertical-align: top;\n",
       "    }\n",
       "\n",
       "    .dataframe thead th {\n",
       "        text-align: right;\n",
       "    }\n",
       "</style>\n",
       "<table border=\"1\" class=\"dataframe\">\n",
       "  <thead>\n",
       "    <tr style=\"text-align: right;\">\n",
       "      <th></th>\n",
       "      <th>fixed acidity</th>\n",
       "      <th>volatile acidity</th>\n",
       "      <th>citric acid</th>\n",
       "      <th>residual sugar</th>\n",
       "      <th>chlorides</th>\n",
       "      <th>free sulfur dioxide</th>\n",
       "      <th>total sulfur dioxide</th>\n",
       "      <th>density</th>\n",
       "      <th>pH</th>\n",
       "      <th>sulphates</th>\n",
       "      <th>alcohol</th>\n",
       "      <th>quality</th>\n",
       "    </tr>\n",
       "  </thead>\n",
       "  <tbody>\n",
       "    <tr>\n",
       "      <th>0</th>\n",
       "      <td>-0.532016</td>\n",
       "      <td>0.967994</td>\n",
       "      <td>-1.400957</td>\n",
       "      <td>-0.521653</td>\n",
       "      <td>-0.262309</td>\n",
       "      <td>-0.474408</td>\n",
       "      <td>-0.390729</td>\n",
       "      <td>0.602543</td>\n",
       "      <td>1.335338</td>\n",
       "      <td>-0.620007</td>\n",
       "      <td>-0.967074</td>\n",
       "      <td>5</td>\n",
       "    </tr>\n",
       "    <tr>\n",
       "      <th>1</th>\n",
       "      <td>-0.296220</td>\n",
       "      <td>1.982805</td>\n",
       "      <td>-1.400957</td>\n",
       "      <td>0.093048</td>\n",
       "      <td>0.243692</td>\n",
       "      <td>0.899216</td>\n",
       "      <td>0.633800</td>\n",
       "      <td>0.052488</td>\n",
       "      <td>-0.727227</td>\n",
       "      <td>0.152538</td>\n",
       "      <td>-0.591372</td>\n",
       "      <td>5</td>\n",
       "    </tr>\n",
       "    <tr>\n",
       "      <th>2</th>\n",
       "      <td>-0.296220</td>\n",
       "      <td>1.306264</td>\n",
       "      <td>-1.194756</td>\n",
       "      <td>-0.170395</td>\n",
       "      <td>0.105692</td>\n",
       "      <td>-0.081944</td>\n",
       "      <td>0.230198</td>\n",
       "      <td>0.162499</td>\n",
       "      <td>-0.328021</td>\n",
       "      <td>-0.040598</td>\n",
       "      <td>-0.591372</td>\n",
       "      <td>5</td>\n",
       "    </tr>\n",
       "    <tr>\n",
       "      <th>3</th>\n",
       "      <td>1.708046</td>\n",
       "      <td>-1.399896</td>\n",
       "      <td>1.485849</td>\n",
       "      <td>-0.521653</td>\n",
       "      <td>-0.285309</td>\n",
       "      <td>0.114288</td>\n",
       "      <td>0.416476</td>\n",
       "      <td>0.712554</td>\n",
       "      <td>-0.993364</td>\n",
       "      <td>-0.491249</td>\n",
       "      <td>-0.591372</td>\n",
       "      <td>6</td>\n",
       "    </tr>\n",
       "    <tr>\n",
       "      <th>4</th>\n",
       "      <td>-0.532016</td>\n",
       "      <td>0.742481</td>\n",
       "      <td>-1.400957</td>\n",
       "      <td>-0.609467</td>\n",
       "      <td>-0.285309</td>\n",
       "      <td>-0.278176</td>\n",
       "      <td>-0.204451</td>\n",
       "      <td>0.602543</td>\n",
       "      <td>1.335338</td>\n",
       "      <td>-0.620007</td>\n",
       "      <td>-0.967074</td>\n",
       "      <td>5</td>\n",
       "    </tr>\n",
       "  </tbody>\n",
       "</table>\n",
       "</div>"
      ],
      "text/plain": [
       "   fixed acidity  volatile acidity  citric acid  residual sugar  chlorides  \\\n",
       "0      -0.532016          0.967994    -1.400957       -0.521653  -0.262309   \n",
       "1      -0.296220          1.982805    -1.400957        0.093048   0.243692   \n",
       "2      -0.296220          1.306264    -1.194756       -0.170395   0.105692   \n",
       "3       1.708046         -1.399896     1.485849       -0.521653  -0.285309   \n",
       "4      -0.532016          0.742481    -1.400957       -0.609467  -0.285309   \n",
       "\n",
       "   free sulfur dioxide  total sulfur dioxide   density        pH  sulphates  \\\n",
       "0            -0.474408             -0.390729  0.602543  1.335338  -0.620007   \n",
       "1             0.899216              0.633800  0.052488 -0.727227   0.152538   \n",
       "2            -0.081944              0.230198  0.162499 -0.328021  -0.040598   \n",
       "3             0.114288              0.416476  0.712554 -0.993364  -0.491249   \n",
       "4            -0.278176             -0.204451  0.602543  1.335338  -0.620007   \n",
       "\n",
       "    alcohol  quality  \n",
       "0 -0.967074        5  \n",
       "1 -0.591372        5  \n",
       "2 -0.591372        5  \n",
       "3 -0.591372        6  \n",
       "4 -0.967074        5  "
      ]
     },
     "execution_count": 3,
     "metadata": {},
     "output_type": "execute_result"
    }
   ],
   "source": [
    "df_red.head()"
   ]
  },
  {
   "cell_type": "code",
   "execution_count": null,
   "id": "bf6a4c30",
   "metadata": {},
   "outputs": [
    {
     "data": {
      "text/plain": [
       "array([5, 6, 7, 4, 8, 3])"
      ]
     },
     "execution_count": 4,
     "metadata": {},
     "output_type": "execute_result"
    }
   ],
   "source": [
    "df_red['quality'].unique()"
   ]
  },
  {
   "cell_type": "code",
   "execution_count": 5,
   "id": "5b545914",
   "metadata": {},
   "outputs": [
    {
     "data": {
      "text/html": [
       "<div>\n",
       "<style scoped>\n",
       "    .dataframe tbody tr th:only-of-type {\n",
       "        vertical-align: middle;\n",
       "    }\n",
       "\n",
       "    .dataframe tbody tr th {\n",
       "        vertical-align: top;\n",
       "    }\n",
       "\n",
       "    .dataframe thead th {\n",
       "        text-align: right;\n",
       "    }\n",
       "</style>\n",
       "<table border=\"1\" class=\"dataframe\">\n",
       "  <thead>\n",
       "    <tr style=\"text-align: right;\">\n",
       "      <th></th>\n",
       "      <th>fixed acidity</th>\n",
       "      <th>volatile acidity</th>\n",
       "      <th>citric acid</th>\n",
       "      <th>residual sugar</th>\n",
       "      <th>chlorides</th>\n",
       "      <th>free sulfur dioxide</th>\n",
       "      <th>total sulfur dioxide</th>\n",
       "      <th>density</th>\n",
       "      <th>pH</th>\n",
       "      <th>sulphates</th>\n",
       "      <th>alcohol</th>\n",
       "      <th>quality</th>\n",
       "    </tr>\n",
       "  </thead>\n",
       "  <tbody>\n",
       "    <tr>\n",
       "      <th>0</th>\n",
       "      <td>0.195694</td>\n",
       "      <td>-0.097739</td>\n",
       "      <td>0.226190</td>\n",
       "      <td>2.723930</td>\n",
       "      <td>-0.028613</td>\n",
       "      <td>0.642629</td>\n",
       "      <td>0.784270</td>\n",
       "      <td>2.311671</td>\n",
       "      <td>-1.321817</td>\n",
       "      <td>-0.360537</td>\n",
       "      <td>-1.480369</td>\n",
       "      <td>6</td>\n",
       "    </tr>\n",
       "    <tr>\n",
       "      <th>1</th>\n",
       "      <td>-0.640298</td>\n",
       "      <td>0.206859</td>\n",
       "      <td>0.054817</td>\n",
       "      <td>-0.908391</td>\n",
       "      <td>0.167471</td>\n",
       "      <td>-1.286476</td>\n",
       "      <td>-0.121816</td>\n",
       "      <td>0.080487</td>\n",
       "      <td>0.711655</td>\n",
       "      <td>0.003191</td>\n",
       "      <td>-0.900805</td>\n",
       "      <td>6</td>\n",
       "    </tr>\n",
       "    <tr>\n",
       "      <th>2</th>\n",
       "      <td>1.509395</td>\n",
       "      <td>0.003794</td>\n",
       "      <td>0.568936</td>\n",
       "      <td>0.214134</td>\n",
       "      <td>0.216492</td>\n",
       "      <td>-0.290809</td>\n",
       "      <td>-0.956369</td>\n",
       "      <td>0.476342</td>\n",
       "      <td>0.440526</td>\n",
       "      <td>-0.451469</td>\n",
       "      <td>-0.404035</td>\n",
       "      <td>6</td>\n",
       "    </tr>\n",
       "    <tr>\n",
       "      <th>3</th>\n",
       "      <td>0.434549</td>\n",
       "      <td>-0.503869</td>\n",
       "      <td>-0.116556</td>\n",
       "      <td>0.553009</td>\n",
       "      <td>0.608660</td>\n",
       "      <td>0.767088</td>\n",
       "      <td>1.165779</td>\n",
       "      <td>0.656276</td>\n",
       "      <td>-0.033951</td>\n",
       "      <td>-0.815196</td>\n",
       "      <td>-0.569625</td>\n",
       "      <td>6</td>\n",
       "    </tr>\n",
       "    <tr>\n",
       "      <th>4</th>\n",
       "      <td>-0.759725</td>\n",
       "      <td>0.409924</td>\n",
       "      <td>-1.487541</td>\n",
       "      <td>0.235314</td>\n",
       "      <td>-0.028613</td>\n",
       "      <td>-0.290809</td>\n",
       "      <td>-0.026439</td>\n",
       "      <td>0.404369</td>\n",
       "      <td>-0.101734</td>\n",
       "      <td>-0.178673</td>\n",
       "      <td>-0.818010</td>\n",
       "      <td>6</td>\n",
       "    </tr>\n",
       "  </tbody>\n",
       "</table>\n",
       "</div>"
      ],
      "text/plain": [
       "   fixed acidity  volatile acidity  citric acid  residual sugar  chlorides  \\\n",
       "0       0.195694         -0.097739     0.226190        2.723930  -0.028613   \n",
       "1      -0.640298          0.206859     0.054817       -0.908391   0.167471   \n",
       "2       1.509395          0.003794     0.568936        0.214134   0.216492   \n",
       "3       0.434549         -0.503869    -0.116556        0.553009   0.608660   \n",
       "4      -0.759725          0.409924    -1.487541        0.235314  -0.028613   \n",
       "\n",
       "   free sulfur dioxide  total sulfur dioxide   density        pH  sulphates  \\\n",
       "0             0.642629              0.784270  2.311671 -1.321817  -0.360537   \n",
       "1            -1.286476             -0.121816  0.080487  0.711655   0.003191   \n",
       "2            -0.290809             -0.956369  0.476342  0.440526  -0.451469   \n",
       "3             0.767088              1.165779  0.656276 -0.033951  -0.815196   \n",
       "4            -0.290809             -0.026439  0.404369 -0.101734  -0.178673   \n",
       "\n",
       "    alcohol  quality  \n",
       "0 -1.480369        6  \n",
       "1 -0.900805        6  \n",
       "2 -0.404035        6  \n",
       "3 -0.569625        6  \n",
       "4 -0.818010        6  "
      ]
     },
     "execution_count": 5,
     "metadata": {},
     "output_type": "execute_result"
    }
   ],
   "source": [
    "df_white.head()"
   ]
  },
  {
   "cell_type": "code",
   "execution_count": 6,
   "id": "bb4e4256",
   "metadata": {},
   "outputs": [
    {
     "data": {
      "text/plain": [
       "array([6, 5, 7, 8, 4, 3, 9])"
      ]
     },
     "execution_count": 6,
     "metadata": {},
     "output_type": "execute_result"
    }
   ],
   "source": [
    "df_white['quality'].unique()"
   ]
  },
  {
   "cell_type": "code",
   "execution_count": 7,
   "id": "340f0cbe",
   "metadata": {},
   "outputs": [],
   "source": [
    "# train-test-split\n",
    "X_red = df_red.drop(columns=['quality'])\n",
    "y_red = df_red['quality']\n",
    "X_train_red, X_test_red, y_train_red, y_test_red = train_test_split(X_red, y_red, random_state=42, test_size=30)"
   ]
  },
  {
   "cell_type": "code",
   "execution_count": 8,
   "id": "627d791f",
   "metadata": {},
   "outputs": [],
   "source": [
    "# # cheking if tensorflow identifies my GPU\n",
    "# physical_devices = tf.config.experimental.list_physical_devices('GPU')\n",
    "# print(f'Num GPUs available: {len(physical_devices)}')\n",
    "# tf.config.experimental.set_memory_growth(physical_devices[0], True) # 'True' takes up GPU memory based on-demand instead of entire"
   ]
  },
  {
   "cell_type": "code",
   "execution_count": 9,
   "id": "19032f70",
   "metadata": {},
   "outputs": [
    {
     "name": "stderr",
     "output_type": "stream",
     "text": [
      "/home/root123/.local/lib/python3.10/site-packages/keras/src/layers/core/dense.py:87: UserWarning: Do not pass an `input_shape`/`input_dim` argument to a layer. When using Sequential models, prefer using an `Input(shape)` object as the first layer in the model instead.\n",
      "  super().__init__(activity_regularizer=activity_regularizer, **kwargs)\n",
      "I0000 00:00:1759288663.333000   14299 gpu_device.cc:2022] Created device /job:localhost/replica:0/task:0/device:GPU:0 with 1767 MB memory:  -> device: 0, name: NVIDIA GeForce RTX 3050 Laptop GPU, pci bus id: 0000:01:00.0, compute capability: 8.6\n",
      "WARNING: All log messages before absl::InitializeLog() is called are written to STDERR\n",
      "W0000 00:00:1759288663.620797   14380 gpu_backend_lib.cc:579] Can't find libdevice directory ${CUDA_DIR}/nvvm/libdevice. This may result in compilation or runtime failures, if the program we try to run uses routines from libdevice.\n",
      "Searched for CUDA in the following directories:\n",
      "  ./cuda_sdk_lib\n",
      "  ipykernel_launcher.runfiles/cuda_nvcc\n",
      "  ipykern/cuda_nvcc\n",
      "  \n",
      "  /usr/local/cuda\n",
      "  /home/root123/.local/lib/python3.10/site-packages/tensorflow/python/platform/../../../nvidia/cuda_nvcc\n",
      "  /home/root123/.local/lib/python3.10/site-packages/tensorflow/python/platform/../../../../nvidia/cuda_nvcc\n",
      "  /home/root123/.local/lib/python3.10/site-packages/tensorflow/python/platform/../../cuda\n",
      "  .\n",
      "You can choose the search directory by setting xla_gpu_cuda_data_dir in HloModule's DebugOptions.  For most apps, setting the environment variable XLA_FLAGS=--xla_gpu_cuda_data_dir=/path/to/cuda will work.\n",
      "W0000 00:00:1759288663.629443   14387 gpu_kernel_to_blob_pass.cc:190] Failed to compile generated PTX with ptxas. Falling back to compilation by driver.\n",
      "W0000 00:00:1759288663.631298   14390 gpu_kernel_to_blob_pass.cc:190] Failed to compile generated PTX with ptxas. Falling back to compilation by driver.\n",
      "W0000 00:00:1759288663.632797   14380 gpu_kernel_to_blob_pass.cc:190] Failed to compile generated PTX with ptxas. Falling back to compilation by driver.\n",
      "W0000 00:00:1759288663.634020   14381 gpu_kernel_to_blob_pass.cc:190] Failed to compile generated PTX with ptxas. Falling back to compilation by driver.\n",
      "W0000 00:00:1759288663.635476   14388 gpu_kernel_to_blob_pass.cc:190] Failed to compile generated PTX with ptxas. Falling back to compilation by driver.\n",
      "W0000 00:00:1759288663.636669   14389 gpu_kernel_to_blob_pass.cc:190] Failed to compile generated PTX with ptxas. Falling back to compilation by driver.\n",
      "W0000 00:00:1759288663.639436   14391 gpu_kernel_to_blob_pass.cc:190] Failed to compile generated PTX with ptxas. Falling back to compilation by driver.\n",
      "W0000 00:00:1759288663.640498   14384 gpu_kernel_to_blob_pass.cc:190] Failed to compile generated PTX with ptxas. Falling back to compilation by driver.\n",
      "W0000 00:00:1759288663.641818   14385 gpu_kernel_to_blob_pass.cc:190] Failed to compile generated PTX with ptxas. Falling back to compilation by driver.\n",
      "W0000 00:00:1759288663.643373   14386 gpu_kernel_to_blob_pass.cc:190] Failed to compile generated PTX with ptxas. Falling back to compilation by driver.\n",
      "W0000 00:00:1759288663.645370   14382 gpu_kernel_to_blob_pass.cc:190] Failed to compile generated PTX with ptxas. Falling back to compilation by driver.\n",
      "W0000 00:00:1759288663.648044   14383 gpu_kernel_to_blob_pass.cc:190] Failed to compile generated PTX with ptxas. Falling back to compilation by driver.\n",
      "W0000 00:00:1759288663.654796   14387 gpu_kernel_to_blob_pass.cc:190] Failed to compile generated PTX with ptxas. Falling back to compilation by driver.\n"
     ]
    }
   ],
   "source": [
    "model_red = keras.Sequential([\n",
    "    Dense(units=16, input_shape = (11,), activation='relu'), # \"Dense\" means fully connected layers\n",
    "    Dense(units=6, activation='softmax'),\n",
    "])"
   ]
  },
  {
   "cell_type": "code",
   "execution_count": 10,
   "id": "e798bd22",
   "metadata": {},
   "outputs": [
    {
     "data": {
      "text/html": [
       "<pre style=\"white-space:pre;overflow-x:auto;line-height:normal;font-family:Menlo,'DejaVu Sans Mono',consolas,'Courier New',monospace\"><span style=\"font-weight: bold\">Model: \"sequential\"</span>\n",
       "</pre>\n"
      ],
      "text/plain": [
       "\u001b[1mModel: \"sequential\"\u001b[0m\n"
      ]
     },
     "metadata": {},
     "output_type": "display_data"
    },
    {
     "data": {
      "text/html": [
       "<pre style=\"white-space:pre;overflow-x:auto;line-height:normal;font-family:Menlo,'DejaVu Sans Mono',consolas,'Courier New',monospace\">┏━━━━━━━━━━━━━━━━━━━━━━━━━━━━━━━━━┳━━━━━━━━━━━━━━━━━━━━━━━━┳━━━━━━━━━━━━━━━┓\n",
       "┃<span style=\"font-weight: bold\"> Layer (type)                    </span>┃<span style=\"font-weight: bold\"> Output Shape           </span>┃<span style=\"font-weight: bold\">       Param # </span>┃\n",
       "┡━━━━━━━━━━━━━━━━━━━━━━━━━━━━━━━━━╇━━━━━━━━━━━━━━━━━━━━━━━━╇━━━━━━━━━━━━━━━┩\n",
       "│ dense (<span style=\"color: #0087ff; text-decoration-color: #0087ff\">Dense</span>)                   │ (<span style=\"color: #00d7ff; text-decoration-color: #00d7ff\">None</span>, <span style=\"color: #00af00; text-decoration-color: #00af00\">16</span>)             │           <span style=\"color: #00af00; text-decoration-color: #00af00\">192</span> │\n",
       "├─────────────────────────────────┼────────────────────────┼───────────────┤\n",
       "│ dense_1 (<span style=\"color: #0087ff; text-decoration-color: #0087ff\">Dense</span>)                 │ (<span style=\"color: #00d7ff; text-decoration-color: #00d7ff\">None</span>, <span style=\"color: #00af00; text-decoration-color: #00af00\">6</span>)              │           <span style=\"color: #00af00; text-decoration-color: #00af00\">102</span> │\n",
       "└─────────────────────────────────┴────────────────────────┴───────────────┘\n",
       "</pre>\n"
      ],
      "text/plain": [
       "┏━━━━━━━━━━━━━━━━━━━━━━━━━━━━━━━━━┳━━━━━━━━━━━━━━━━━━━━━━━━┳━━━━━━━━━━━━━━━┓\n",
       "┃\u001b[1m \u001b[0m\u001b[1mLayer (type)                   \u001b[0m\u001b[1m \u001b[0m┃\u001b[1m \u001b[0m\u001b[1mOutput Shape          \u001b[0m\u001b[1m \u001b[0m┃\u001b[1m \u001b[0m\u001b[1m      Param #\u001b[0m\u001b[1m \u001b[0m┃\n",
       "┡━━━━━━━━━━━━━━━━━━━━━━━━━━━━━━━━━╇━━━━━━━━━━━━━━━━━━━━━━━━╇━━━━━━━━━━━━━━━┩\n",
       "│ dense (\u001b[38;5;33mDense\u001b[0m)                   │ (\u001b[38;5;45mNone\u001b[0m, \u001b[38;5;34m16\u001b[0m)             │           \u001b[38;5;34m192\u001b[0m │\n",
       "├─────────────────────────────────┼────────────────────────┼───────────────┤\n",
       "│ dense_1 (\u001b[38;5;33mDense\u001b[0m)                 │ (\u001b[38;5;45mNone\u001b[0m, \u001b[38;5;34m6\u001b[0m)              │           \u001b[38;5;34m102\u001b[0m │\n",
       "└─────────────────────────────────┴────────────────────────┴───────────────┘\n"
      ]
     },
     "metadata": {},
     "output_type": "display_data"
    },
    {
     "data": {
      "text/html": [
       "<pre style=\"white-space:pre;overflow-x:auto;line-height:normal;font-family:Menlo,'DejaVu Sans Mono',consolas,'Courier New',monospace\"><span style=\"font-weight: bold\"> Total params: </span><span style=\"color: #00af00; text-decoration-color: #00af00\">294</span> (1.15 KB)\n",
       "</pre>\n"
      ],
      "text/plain": [
       "\u001b[1m Total params: \u001b[0m\u001b[38;5;34m294\u001b[0m (1.15 KB)\n"
      ]
     },
     "metadata": {},
     "output_type": "display_data"
    },
    {
     "data": {
      "text/html": [
       "<pre style=\"white-space:pre;overflow-x:auto;line-height:normal;font-family:Menlo,'DejaVu Sans Mono',consolas,'Courier New',monospace\"><span style=\"font-weight: bold\"> Trainable params: </span><span style=\"color: #00af00; text-decoration-color: #00af00\">294</span> (1.15 KB)\n",
       "</pre>\n"
      ],
      "text/plain": [
       "\u001b[1m Trainable params: \u001b[0m\u001b[38;5;34m294\u001b[0m (1.15 KB)\n"
      ]
     },
     "metadata": {},
     "output_type": "display_data"
    },
    {
     "data": {
      "text/html": [
       "<pre style=\"white-space:pre;overflow-x:auto;line-height:normal;font-family:Menlo,'DejaVu Sans Mono',consolas,'Courier New',monospace\"><span style=\"font-weight: bold\"> Non-trainable params: </span><span style=\"color: #00af00; text-decoration-color: #00af00\">0</span> (0.00 B)\n",
       "</pre>\n"
      ],
      "text/plain": [
       "\u001b[1m Non-trainable params: \u001b[0m\u001b[38;5;34m0\u001b[0m (0.00 B)\n"
      ]
     },
     "metadata": {},
     "output_type": "display_data"
    }
   ],
   "source": [
    "model_red.summary()"
   ]
  },
  {
   "cell_type": "code",
   "execution_count": null,
   "id": "3fc22e5e",
   "metadata": {},
   "outputs": [
    {
     "ename": "",
     "evalue": "",
     "output_type": "error",
     "traceback": [
      "\u001b[1;31mThe Kernel crashed while executing code in the current cell or a previous cell. \n",
      "\u001b[1;31mPlease review the code in the cell(s) to identify a possible cause of the failure. \n",
      "\u001b[1;31mClick <a href='https://aka.ms/vscodeJupyterKernelCrash'>here</a> for more info. \n",
      "\u001b[1;31mView Jupyter <a href='command:jupyter.viewOutput'>log</a> for further details."
     ]
    }
   ],
   "source": [
    "model_red.compile(\n",
    "    optimizer=Adam(learning_rate=0.0001), \n",
    "    loss='sparse_categorical_crossentropy',\n",
    "    metrics=['accuracy'])"
   ]
  },
  {
   "cell_type": "code",
   "execution_count": null,
   "id": "0a71df71",
   "metadata": {},
   "outputs": [
    {
     "name": "stdout",
     "output_type": "stream",
     "text": [
      "Epoch 1/30\n"
     ]
    }
   ],
   "source": [
    "model_red.fit(\n",
    "    x=X_train_red, \n",
    "    y=y_train_red, \n",
    "    batch_size=10, \n",
    "    epochs=30, \n",
    "    shuffle=True, \n",
    "    verbose=2,\n",
    "    validation_split = 0.2)"
   ]
  },
  {
   "cell_type": "code",
   "execution_count": null,
   "id": "d45871dd",
   "metadata": {},
   "outputs": [],
   "source": [
    "# f1 score\n",
    "metric = keras.metrics.F1Score()\n",
    "metric.update_state(y_test_red, model_red.predict(X_test_red))\n",
    "metric.result()"
   ]
  }
 ],
 "metadata": {
  "kernelspec": {
   "display_name": "Python 3",
   "language": "python",
   "name": "python3"
  },
  "language_info": {
   "codemirror_mode": {
    "name": "ipython",
    "version": 3
   },
   "file_extension": ".py",
   "mimetype": "text/x-python",
   "name": "python",
   "nbconvert_exporter": "python",
   "pygments_lexer": "ipython3",
   "version": "3.10.12"
  }
 },
 "nbformat": 4,
 "nbformat_minor": 5
}

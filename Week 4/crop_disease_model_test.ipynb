{
 "cells": [
  {
   "cell_type": "code",
   "execution_count": 14,
   "id": "2f0d0a70",
   "metadata": {},
   "outputs": [],
   "source": [
    "import numpy as np\n",
    "import os\n",
    "from sklearn.preprocessing import FunctionTransformer\n",
    "from sklearn.pipeline import Pipeline\n",
    "from skimage import color, transform\n",
    "from pathlib import Path\n",
    "import keras\n",
    "from PIL import Image\n",
    "import tensorflow as tf\n",
    "from sklearn.base import BaseEstimator, TransformerMixin\n",
    "from tensorflow.keras.applications.mobilenet import MobileNet, preprocess_input, decode_predictions\n",
    "import joblib"
   ]
  },
  {
   "cell_type": "markdown",
   "id": "de9556f8",
   "metadata": {},
   "source": [
    "## Loading Saved Model"
   ]
  },
  {
   "cell_type": "code",
   "execution_count": 2,
   "id": "843ab892",
   "metadata": {},
   "outputs": [
    {
     "data": {
      "text/plain": [
       "'/home/root123/GitHub/Two_Months_ML_Journey/Week 4'"
      ]
     },
     "execution_count": 2,
     "metadata": {},
     "output_type": "execute_result"
    }
   ],
   "source": [
    "curr_dir = os.getcwd()\n",
    "curr_dir"
   ]
  },
  {
   "cell_type": "code",
   "execution_count": 3,
   "id": "83b531e7",
   "metadata": {},
   "outputs": [
    {
     "name": "stderr",
     "output_type": "stream",
     "text": [
      "WARNING: All log messages before absl::InitializeLog() is called are written to STDERR\n",
      "I0000 00:00:1761483164.470285    8985 gpu_device.cc:2020] Created device /job:localhost/replica:0/task:0/device:GPU:0 with 1767 MB memory:  -> device: 0, name: NVIDIA GeForce RTX 3050 Laptop GPU, pci bus id: 0000:01:00.0, compute capability: 8.6\n"
     ]
    }
   ],
   "source": [
    "cnn = keras.saving.load_model(f'{curr_dir}/saved_models/cnn_scratch_model.keras')\n",
    "mobile_net = keras.saving.load_model(f'{curr_dir}/saved_models/mobileNet_model.keras')"
   ]
  },
  {
   "cell_type": "markdown",
   "id": "e0b6b15f",
   "metadata": {},
   "source": [
    "## Creating Pipeline"
   ]
  },
  {
   "cell_type": "code",
   "execution_count": 4,
   "id": "de4727e4",
   "metadata": {},
   "outputs": [],
   "source": [
    "# # creating a function transformer to pass it to pipeline\n",
    "\n",
    "# def preprocess(img):\n",
    "#     # Convert PIL Image → NumPy array\n",
    "#     if isinstance(img, Image.Image):\n",
    "#         img = np.array(img)\n",
    "#     # grayscale (no channel dimension)\n",
    "#     if img.ndim == 2:\n",
    "#         img = color.gray2rgb(img)\n",
    "#         print('Gray to RGB')\n",
    "#     # RGBA (4 channels)\n",
    "#     elif img.shape[2] == 4:\n",
    "#         img = color.rgba2rgb(img)\n",
    "#         print('RGBA to RGB')\n",
    "\n",
    "#     # Resize to 128x128\n",
    "#     resized_img = transform.resize(img, (128, 128), anti_aliasing=True) # anti_aliasing makes img smoother when shrinked\n",
    "#     resized_img = resized_img.astype('float32')\n",
    "#     norm_resized_img = resized_img / 255.0\n",
    "#     return norm_resized_img\n",
    "\n",
    "# # converting our function to 'Function Transformer' for compatibility with Sklearn's pipeline\n",
    "# rgb_resize_transformer = FunctionTransformer(\n",
    "#     lambda imgs: np.array([preprocess(img) for img in imgs])\n",
    "# )"
   ]
  },
  {
   "cell_type": "code",
   "execution_count": 5,
   "id": "c6769fe3",
   "metadata": {},
   "outputs": [],
   "source": [
    "class KerasPreprocessorWrapper_CNN(BaseEstimator, TransformerMixin):\n",
    "    def __init__(self, target_size=(128, 128)):\n",
    "        self.target_size = target_size\n",
    "\n",
    "    def fit(self, X, y=None):\n",
    "        # no learning from data here, but required by sklearn's API\n",
    "        return self\n",
    "\n",
    "    def transform(self, X):\n",
    "        \n",
    "            # Convert PIL images to numpy arrays if needed\n",
    "        if isinstance(X, list):\n",
    "            X = [np.array(img) if hasattr(img, 'size') else img for img in X]\n",
    "            X = np.stack(X, axis=0)  # shape: (batch, H, W, C)\n",
    "        elif isinstance(X, Image.Image):  # single image\n",
    "            X = np.expand_dims(np.array(X), axis=0)\n",
    "        # Ensure the input is a TensorFlow tensor\n",
    "        X = tf.convert_to_tensor(X)\n",
    "\n",
    "        # Normalize dtype and scale to [0,1]\n",
    "        X = tf.image.convert_image_dtype(X, tf.float32)\n",
    "\n",
    "        # Handle grayscale (1 channel) or RGBA (4 channels)\n",
    "        num_channels = tf.shape(X)[-1]\n",
    "\n",
    "        def to_rgb_if_grayscale():\n",
    "            return tf.image.grayscale_to_rgb(X)\n",
    "\n",
    "        def to_rgb_if_rgba():\n",
    "            return X[..., :3]\n",
    "\n",
    "        def identity():\n",
    "            return X\n",
    "\n",
    "        X = tf.case(\n",
    "            [\n",
    "                (tf.equal(num_channels, 1), to_rgb_if_grayscale),\n",
    "                (tf.equal(num_channels, 4), to_rgb_if_rgba)\n",
    "            ],\n",
    "            default=identity,\n",
    "            exclusive=True\n",
    "        )\n",
    "\n",
    "        # Resize to target size\n",
    "        X = tf.image.resize(X, self.target_size)\n",
    "\n",
    "        # Return a TensorFlow tensor (not NumPy)\n",
    "        return X"
   ]
  },
  {
   "cell_type": "code",
   "execution_count": 6,
   "id": "1134fc97",
   "metadata": {},
   "outputs": [],
   "source": [
    "class KerasPreprocessorWrapper_MobileNet(BaseEstimator, TransformerMixin):\n",
    "    def __init__(self, target_size=(224, 224)):\n",
    "        self.target_size = target_size\n",
    "\n",
    "    def fit(self, X, y=None):\n",
    "        return self\n",
    "\n",
    "    def transform(self, X):\n",
    "        processed_imgs = []\n",
    "        # Expecting a list of file paths\n",
    "        for img_path in X:\n",
    "            if Path(img_path).suffix.lower() in ['.jpg', '.png']:\n",
    "                img = Image.open(img_path).convert('RGB').resize(self.target_size)\n",
    "                img_array = np.array(img)\n",
    "                img_array = np.expand_dims(img_array, axis=0)\n",
    "                img_array = preprocess_input(img_array)\n",
    "                processed_imgs.append(img_array[0])\n",
    "        return np.array(processed_imgs)"
   ]
  },
  {
   "cell_type": "code",
   "execution_count": 7,
   "id": "923177a3",
   "metadata": {},
   "outputs": [],
   "source": [
    "pipeline_cnn = Pipeline(steps=[\n",
    "    ('preprocess', KerasPreprocessorWrapper_CNN()),\n",
    "    ('model', cnn),\n",
    "])"
   ]
  },
  {
   "cell_type": "code",
   "execution_count": 8,
   "id": "f9a9760f",
   "metadata": {},
   "outputs": [],
   "source": [
    "pipeline_mobile_net = Pipeline(steps=[\n",
    "    ('preprocess', KerasPreprocessorWrapper_MobileNet()),\n",
    "    ('model', mobile_net),\n",
    "])"
   ]
  },
  {
   "cell_type": "code",
   "execution_count": 9,
   "id": "db4d975b",
   "metadata": {},
   "outputs": [],
   "source": [
    "destination_path = 'test_data'\n",
    "predict_img_path = curr_dir/Path(destination_path)\n",
    "predictions = [\n",
    "    'Pepper Bell Bacterial Spot',\n",
    "    'Pepper Bell Healthy',\n",
    "    'Potato Early Blight',\n",
    "    'Potato Healthy',\n",
    "    'Potato Late Blight',\n",
    "    'Tomato Target Spot',\n",
    "    'Tomato Mosaic Virus',\n",
    "    'Tomato Yellow Leaf Curl Virus',\n",
    "    'Tomato Bacterial Spot',\n",
    "    'Tomato Early Blight',\n",
    "    'Tomato Healthy',\n",
    "    'Tomato Late Blight',\n",
    "    'Tomato Leaf Mold',\n",
    "    'Tomato Septoria Leaf Spot',\n",
    "    'Tomato Spider Mites',\n",
    "]   \n"
   ]
  },
  {
   "cell_type": "code",
   "execution_count": 11,
   "id": "67bda040",
   "metadata": {},
   "outputs": [
    {
     "name": "stdout",
     "output_type": "stream",
     "text": [
      "\u001b[1m1/1\u001b[0m \u001b[32m━━━━━━━━━━━━━━━━━━━━\u001b[0m\u001b[37m\u001b[0m \u001b[1m0s\u001b[0m 29ms/step\n",
      "[9.9940312e-01 5.9683027e-04 6.4497718e-10 5.3543253e-10 1.1160387e-14\n",
      " 7.0877753e-16 7.6820848e-11 3.9348008e-10 4.0131235e-23 2.7700147e-14\n",
      " 8.8239543e-28 1.2089531e-18 4.5733163e-23 0.0000000e+00 2.6475101e-22]\n",
      "Prediction: Pepper Bell Bacterial Spot\n",
      "\u001b[1m1/1\u001b[0m \u001b[32m━━━━━━━━━━━━━━━━━━━━\u001b[0m\u001b[37m\u001b[0m \u001b[1m0s\u001b[0m 30ms/step\n",
      "[2.7851493e-04 4.4583013e-16 9.4973463e-01 7.5882529e-03 3.1538099e-15\n",
      " 5.7341404e-10 5.6694695e-03 2.9872486e-02 1.7974696e-08 6.8566832e-03\n",
      " 2.2041774e-14 4.1508645e-12 2.1156896e-14 4.7882338e-20 6.6638628e-09]\n",
      "Prediction: Potato Early Blight\n",
      "\u001b[1m1/1\u001b[0m \u001b[32m━━━━━━━━━━━━━━━━━━━━\u001b[0m\u001b[37m\u001b[0m \u001b[1m0s\u001b[0m 28ms/step\n",
      "[2.5763463e-11 3.6726442e-15 1.3369031e-13 1.7981474e-11 3.2138287e-14\n",
      " 2.1836148e-12 2.2625942e-04 9.3632644e-01 2.1626180e-11 1.9487823e-04\n",
      " 9.9471714e-03 5.3237520e-02 6.0813193e-13 8.1509425e-16 6.7714958e-05]\n",
      "Prediction: Tomato Yellow Leaf Curl Virus\n"
     ]
    }
   ],
   "source": [
    "# prediction using scratch CNN\n",
    "\n",
    "for img_file in predict_img_path.iterdir():\n",
    "    if img_file.suffix.lower() in ['.jpg', '.png']:\n",
    "        # Open image\n",
    "        img = Image.open(img_file)\n",
    "        \n",
    "        # Run through your pipeline (wrap in list or array)\n",
    "        pred = pipeline_cnn.predict([img])\n",
    "        print(pred[0])\n",
    "        print(f'Prediction: {predictions[np.argmax(pred)]}')"
   ]
  },
  {
   "cell_type": "code",
   "execution_count": 13,
   "id": "0006cdaa",
   "metadata": {},
   "outputs": [
    {
     "name": "stdout",
     "output_type": "stream",
     "text": [
      "\u001b[1m1/1\u001b[0m \u001b[32m━━━━━━━━━━━━━━━━━━━━\u001b[0m\u001b[37m\u001b[0m \u001b[1m0s\u001b[0m 31ms/step\n",
      "\n",
      "Predictions for pepper_bacterial_spot.JPG:\n",
      "Pepper Bell Bacterial Spot:1.00\n",
      "Tomato Spider Mites:0.00\n",
      "Tomato Healthy:0.00\n",
      "\u001b[1m1/1\u001b[0m \u001b[32m━━━━━━━━━━━━━━━━━━━━\u001b[0m\u001b[37m\u001b[0m \u001b[1m0s\u001b[0m 30ms/step\n",
      "\n",
      "Predictions for potato_early_blight.JPG:\n",
      "Potato Late Blight:0.80\n",
      "Potato Healthy:0.08\n",
      "Pepper Bell Bacterial Spot:0.06\n",
      "\u001b[1m1/1\u001b[0m \u001b[32m━━━━━━━━━━━━━━━━━━━━\u001b[0m\u001b[37m\u001b[0m \u001b[1m0s\u001b[0m 32ms/step\n",
      "\n",
      "Predictions for tomato_target_spot.JPG:\n",
      "Tomato Spider Mites:1.00\n",
      "Tomato Healthy:0.00\n",
      "Tomato Yellow Leaf Curl Virus:0.00\n"
     ]
    }
   ],
   "source": [
    "# prediction using MobileNet Architecture\n",
    "\n",
    "for img_file in predict_img_path.iterdir():\n",
    "    if img_file.suffix.lower() in ['.jpg', '.png']:\n",
    "        # Run through your pipeline (wrap in list or array)\n",
    "        pred = pipeline_mobile_net.predict([str(img_file)])\n",
    "        top3_idx = np.argsort(pred[0])[::-1][:3] # descend and take top 3\n",
    "        print(f'\\nPredictions for {img_file.name}:')\n",
    "        for i in top3_idx:\n",
    "            print(f'{predictions[i]}:{pred[0][i]:.2f}')"
   ]
  },
  {
   "cell_type": "markdown",
   "id": "3e3f1307",
   "metadata": {},
   "source": [
    "## Saving MobileNet Pipeline"
   ]
  },
  {
   "cell_type": "code",
   "execution_count": 16,
   "id": "82930cb2",
   "metadata": {},
   "outputs": [
    {
     "data": {
      "text/plain": [
       "['./saved_models/crop_disease_pipeline.pkl']"
      ]
     },
     "execution_count": 16,
     "metadata": {},
     "output_type": "execute_result"
    }
   ],
   "source": [
    "joblib.dump(pipeline_mobile_net, \"./saved_models/crop_disease_pipeline.pkl\")"
   ]
  },
  {
   "cell_type": "code",
   "execution_count": null,
   "id": "016bbd00",
   "metadata": {},
   "outputs": [],
   "source": []
  }
 ],
 "metadata": {
  "kernelspec": {
   "display_name": "tf",
   "language": "python",
   "name": "python3"
  },
  "language_info": {
   "codemirror_mode": {
    "name": "ipython",
    "version": 3
   },
   "file_extension": ".py",
   "mimetype": "text/x-python",
   "name": "python",
   "nbconvert_exporter": "python",
   "pygments_lexer": "ipython3",
   "version": "3.10.12"
  }
 },
 "nbformat": 4,
 "nbformat_minor": 5
}

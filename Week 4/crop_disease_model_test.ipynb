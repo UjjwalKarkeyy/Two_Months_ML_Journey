{
 "cells": [
  {
   "cell_type": "code",
   "execution_count": 1,
   "id": "2f0d0a70",
   "metadata": {},
   "outputs": [
    {
     "name": "stderr",
     "output_type": "stream",
     "text": [
      "2025-10-25 12:30:39.442008: I tensorflow/core/util/port.cc:153] oneDNN custom operations are on. You may see slightly different numerical results due to floating-point round-off errors from different computation orders. To turn them off, set the environment variable `TF_ENABLE_ONEDNN_OPTS=0`.\n",
      "2025-10-25 12:30:39.601265: I tensorflow/core/platform/cpu_feature_guard.cc:210] This TensorFlow binary is optimized to use available CPU instructions in performance-critical operations.\n",
      "To enable the following instructions: AVX2 AVX512F AVX512_VNNI FMA, in other operations, rebuild TensorFlow with the appropriate compiler flags.\n",
      "2025-10-25 12:30:42.528639: I tensorflow/core/util/port.cc:153] oneDNN custom operations are on. You may see slightly different numerical results due to floating-point round-off errors from different computation orders. To turn them off, set the environment variable `TF_ENABLE_ONEDNN_OPTS=0`.\n"
     ]
    }
   ],
   "source": [
    "import numpy as np\n",
    "import os\n",
    "from sklearn.preprocessing import FunctionTransformer\n",
    "from sklearn.pipeline import Pipeline\n",
    "from skimage import color, transform\n",
    "from pathlib import Path\n",
    "import keras\n",
    "from PIL import Image\n",
    "import tensorflow as tf\n",
    "from sklearn.base import BaseEstimator, TransformerMixin"
   ]
  },
  {
   "cell_type": "markdown",
   "id": "de9556f8",
   "metadata": {},
   "source": [
    "## Loading Saved Model"
   ]
  },
  {
   "cell_type": "code",
   "execution_count": 2,
   "id": "843ab892",
   "metadata": {},
   "outputs": [
    {
     "data": {
      "text/plain": [
       "'/home/root123/GitHub/Two_Months_ML_Journey/Week 4'"
      ]
     },
     "execution_count": 2,
     "metadata": {},
     "output_type": "execute_result"
    }
   ],
   "source": [
    "curr_dir = os.getcwd()\n",
    "curr_dir"
   ]
  },
  {
   "cell_type": "code",
   "execution_count": 3,
   "id": "83b531e7",
   "metadata": {},
   "outputs": [
    {
     "name": "stderr",
     "output_type": "stream",
     "text": [
      "WARNING: All log messages before absl::InitializeLog() is called are written to STDERR\n",
      "I0000 00:00:1761374744.561317   40502 gpu_device.cc:2020] Created device /job:localhost/replica:0/task:0/device:GPU:0 with 1767 MB memory:  -> device: 0, name: NVIDIA GeForce RTX 3050 Laptop GPU, pci bus id: 0000:01:00.0, compute capability: 8.6\n"
     ]
    }
   ],
   "source": [
    "cnn = keras.saving.load_model(f'{curr_dir}/saved_models/cnn_scratch_model.keras')"
   ]
  },
  {
   "cell_type": "markdown",
   "id": "e0b6b15f",
   "metadata": {},
   "source": [
    "## Creating Pipeline"
   ]
  },
  {
   "cell_type": "code",
   "execution_count": 4,
   "id": "de4727e4",
   "metadata": {},
   "outputs": [],
   "source": [
    "# # creating a function transformer to pass it to pipeline\n",
    "\n",
    "# def preprocess(img):\n",
    "#     # Convert PIL Image → NumPy array\n",
    "#     if isinstance(img, Image.Image):\n",
    "#         img = np.array(img)\n",
    "#     # grayscale (no channel dimension)\n",
    "#     if img.ndim == 2:\n",
    "#         img = color.gray2rgb(img)\n",
    "#         print('Gray to RGB')\n",
    "#     # RGBA (4 channels)\n",
    "#     elif img.shape[2] == 4:\n",
    "#         img = color.rgba2rgb(img)\n",
    "#         print('RGBA to RGB')\n",
    "\n",
    "#     # Resize to 128x128\n",
    "#     resized_img = transform.resize(img, (128, 128), anti_aliasing=True) # anti_aliasing makes img smoother when shrinked\n",
    "#     resized_img = resized_img.astype('float32')\n",
    "#     norm_resized_img = resized_img / 255.0\n",
    "#     return norm_resized_img\n",
    "\n",
    "# # converting our function to 'Function Transformer' for compatibility with Sklearn's pipeline\n",
    "# rgb_resize_transformer = FunctionTransformer(\n",
    "#     lambda imgs: np.array([preprocess(img) for img in imgs])\n",
    "# )"
   ]
  },
  {
   "cell_type": "code",
   "execution_count": 5,
   "id": "c6769fe3",
   "metadata": {},
   "outputs": [],
   "source": [
    "class KerasPreprocessorWrapper(BaseEstimator, TransformerMixin):\n",
    "    def __init__(self, target_size=(128, 128)):\n",
    "        self.target_size = target_size\n",
    "\n",
    "    def fit(self, X, y=None):\n",
    "        # no learning from data here, but required by sklearn's API\n",
    "        return self\n",
    "\n",
    "    def transform(self, X):\n",
    "        \n",
    "            # Convert PIL images to numpy arrays if needed\n",
    "        if isinstance(X, list):\n",
    "            X = [np.array(img) if hasattr(img, 'size') else img for img in X]\n",
    "            X = np.stack(X, axis=0)  # shape: (batch, H, W, C)\n",
    "        elif isinstance(X, Image.Image):  # single image\n",
    "            X = np.expand_dims(np.array(X), axis=0)\n",
    "        # Ensure the input is a TensorFlow tensor\n",
    "        X = tf.convert_to_tensor(X)\n",
    "\n",
    "        # Normalize dtype and scale to [0,1]\n",
    "        X = tf.image.convert_image_dtype(X, tf.float32)\n",
    "\n",
    "        # Handle grayscale (1 channel) or RGBA (4 channels)\n",
    "        num_channels = tf.shape(X)[-1]\n",
    "\n",
    "        def to_rgb_if_grayscale():\n",
    "            return tf.image.grayscale_to_rgb(X)\n",
    "\n",
    "        def to_rgb_if_rgba():\n",
    "            return X[..., :3]\n",
    "\n",
    "        def identity():\n",
    "            return X\n",
    "\n",
    "        X = tf.case(\n",
    "            [\n",
    "                (tf.equal(num_channels, 1), to_rgb_if_grayscale),\n",
    "                (tf.equal(num_channels, 4), to_rgb_if_rgba)\n",
    "            ],\n",
    "            default=identity,\n",
    "            exclusive=True\n",
    "        )\n",
    "\n",
    "        # Resize to target size\n",
    "        X = tf.image.resize(X, self.target_size)\n",
    "\n",
    "        # Return a TensorFlow tensor (not NumPy)\n",
    "        return X"
   ]
  },
  {
   "cell_type": "code",
   "execution_count": 6,
   "id": "923177a3",
   "metadata": {},
   "outputs": [],
   "source": [
    "pipeline = Pipeline(steps=[\n",
    "    ('preprocess', KerasPreprocessorWrapper()),\n",
    "    ('model', cnn),\n",
    "])"
   ]
  },
  {
   "cell_type": "code",
   "execution_count": 7,
   "id": "db4d975b",
   "metadata": {},
   "outputs": [],
   "source": [
    "destination_path = 'test_data'\n",
    "predict_img_path = curr_dir/Path(destination_path)\n",
    "predictions = [\n",
    "    'Pepper Bell Bacterial Spot',\n",
    "    'Pepper Bell Healthy',\n",
    "    'Potato Early Blight',\n",
    "    'Potato Healthy',\n",
    "    'Potato Late Blight',\n",
    "    'Tomato Target Spot',\n",
    "    'Tomato Mosaic Virus',\n",
    "    'Tomato Yellow Leaf Curl Virus',\n",
    "    'Tomato Bacterial Spot',\n",
    "    'Tomato Early Blight',\n",
    "    'Tomato Healthy',\n",
    "    'Tomato Late Blight',\n",
    "    'Tomato Leaf Mold',\n",
    "    'Tomato Septoria Leaf Spot',\n",
    "    'Tomato Spider Mites',\n",
    "]   \n"
   ]
  },
  {
   "cell_type": "code",
   "execution_count": 9,
   "id": "67bda040",
   "metadata": {},
   "outputs": [
    {
     "name": "stdout",
     "output_type": "stream",
     "text": [
      "\u001b[1m1/1\u001b[0m \u001b[32m━━━━━━━━━━━━━━━━━━━━\u001b[0m\u001b[37m\u001b[0m \u001b[1m0s\u001b[0m 37ms/step\n",
      "[2.9700295e-06 2.1409370e-09 9.1675460e-01 7.7063903e-02 4.7425615e-09\n",
      " 1.1051750e-17 7.5241063e-05 6.1033675e-03 2.8543194e-13 2.8005352e-11\n",
      " 3.3696212e-15 3.1860172e-12 3.9067681e-17 5.8525017e-26 1.0914473e-10]\n",
      "Prediction: Potato Early Blight\n",
      "\u001b[1m1/1\u001b[0m \u001b[32m━━━━━━━━━━━━━━━━━━━━\u001b[0m\u001b[37m\u001b[0m \u001b[1m0s\u001b[0m 36ms/step\n",
      "[2.22441016e-16 1.41301196e-13 2.41514961e-20 9.11008790e-13\n",
      " 1.02097015e-13 8.18089116e-04 1.39774192e-08 6.76087138e-12\n",
      " 3.21232704e-07 7.22444895e-07 1.81133203e-07 9.99180496e-01\n",
      " 1.00546371e-09 1.71021902e-15 2.25368439e-07]\n",
      "Prediction: Tomato Late Blight\n",
      "\u001b[1m1/1\u001b[0m \u001b[32m━━━━━━━━━━━━━━━━━━━━\u001b[0m\u001b[37m\u001b[0m \u001b[1m0s\u001b[0m 34ms/step\n",
      "[9.99998927e-01 1.08403901e-06 3.90078899e-14 6.01822966e-11\n",
      " 2.42632723e-14 1.99905483e-17 2.87295517e-14 1.28303694e-12\n",
      " 1.22091205e-17 8.88851145e-12 7.85472886e-27 5.75513641e-18\n",
      " 2.33248550e-22 5.34651416e-41 6.67183516e-22]\n",
      "Prediction: Pepper Bell Bacterial Spot\n"
     ]
    }
   ],
   "source": [
    "for img_file in predict_img_path.iterdir():\n",
    "    if img_file.suffix.lower() in ['.jpg', '.png']:\n",
    "        # Open image\n",
    "        img = Image.open(img_file)\n",
    "        \n",
    "        # Run through your pipeline (wrap in list or array)\n",
    "        pred = pipeline.predict([img])\n",
    "        print(pred[0])\n",
    "        print(f'Prediction: {predictions[np.argmax(pred)]}')"
   ]
  }
 ],
 "metadata": {
  "kernelspec": {
   "display_name": "tf",
   "language": "python",
   "name": "python3"
  },
  "language_info": {
   "codemirror_mode": {
    "name": "ipython",
    "version": 3
   },
   "file_extension": ".py",
   "mimetype": "text/x-python",
   "name": "python",
   "nbconvert_exporter": "python",
   "pygments_lexer": "ipython3",
   "version": "3.10.12"
  }
 },
 "nbformat": 4,
 "nbformat_minor": 5
}

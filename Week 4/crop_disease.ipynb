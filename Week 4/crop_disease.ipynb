{
 "cells": [
  {
   "cell_type": "code",
   "execution_count": 1,
   "id": "c2d4d45f",
   "metadata": {},
   "outputs": [],
   "source": [
    "import numpy as np\n",
    "import pandas as pd\n",
    "import os\n",
    "from PIL import Image\n",
    "from check_image_prop import CheckImgProp"
   ]
  },
  {
   "cell_type": "code",
   "execution_count": 4,
   "id": "f148590a",
   "metadata": {},
   "outputs": [
    {
     "data": {
      "text/plain": [
       "'/home/root123/GitHub/Two_Months_ML_Journey/Week 4'"
      ]
     },
     "execution_count": 4,
     "metadata": {},
     "output_type": "execute_result"
    }
   ],
   "source": [
    "curr_dir = os.getcwd()\n",
    "curr_dir"
   ]
  },
  {
   "cell_type": "code",
   "execution_count": 7,
   "id": "a636cd33",
   "metadata": {},
   "outputs": [],
   "source": [
    "destination_dir = 'data/PlantVillage'"
   ]
  },
  {
   "cell_type": "code",
   "execution_count": 8,
   "id": "c5c4581f",
   "metadata": {},
   "outputs": [],
   "source": [
    "img = CheckImgProp(curr_dir=curr_dir, destination_dir=destination_dir, img_size=(256,256), img_format='RGB')"
   ]
  },
  {
   "cell_type": "code",
   "execution_count": 9,
   "id": "2c4c10d6",
   "metadata": {},
   "outputs": [],
   "source": [
    "img.check_size()"
   ]
  },
  {
   "cell_type": "code",
   "execution_count": 10,
   "id": "e8e03125",
   "metadata": {},
   "outputs": [],
   "source": [
    "img.change_format()"
   ]
  },
  {
   "cell_type": "code",
   "execution_count": null,
   "id": "2d572f45",
   "metadata": {},
   "outputs": [],
   "source": []
  }
 ],
 "metadata": {
  "kernelspec": {
   "display_name": "Python 3",
   "language": "python",
   "name": "python3"
  },
  "language_info": {
   "codemirror_mode": {
    "name": "ipython",
    "version": 3
   },
   "file_extension": ".py",
   "mimetype": "text/x-python",
   "name": "python",
   "nbconvert_exporter": "python",
   "pygments_lexer": "ipython3",
   "version": "3.10.12"
  }
 },
 "nbformat": 4,
 "nbformat_minor": 5
}

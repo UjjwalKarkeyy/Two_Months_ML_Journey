{
 "cells": [
  {
   "cell_type": "markdown",
   "id": "96207753",
   "metadata": {},
   "source": [
    "# **Crop Disease EDA**"
   ]
  },
  {
   "cell_type": "markdown",
   "id": "e3699827",
   "metadata": {},
   "source": [
    "## **Overview of Dataset Diseases**"
   ]
  },
  {
   "cell_type": "markdown",
   "id": "14f4860c",
   "metadata": {},
   "source": [
    "# Disease Reference\n",
    "\n",
    "## 1. Tomato Target Spot  \n",
    "**Pathogen:** *Corynespora cassiicola*  \n",
    "**Symptoms:** Small brown or tan necrotic spots with darker “rings” (concentric pattern). Leaves may yellow, collapse, or drop.  \n",
    "**Key notes:** Spots often start on older leaves and spread upward; under humid, wet conditions, progression is fast.  \n",
    "<p align=\"center\"><img src=\"https://apps.lucidcentral.org/pppw_v10/images/entities/tomato_target_spot_163/thumbs/img_4795_sml.jpg\" alt=\"Tomato Target Spot\" height=\"300\" width=\"300\"/></p>\n",
    "\n",
    "---\n",
    "\n",
    "## 2. Tomato Mosaic Virus (ToMV)  \n",
    "**Pathogen:** *Tobamovirus* (virus)  \n",
    "**Symptoms:** Mottled (“mosaic”) pattern of light and dark green, leaf deformation, sometimes stunting.  \n",
    "**Transmission:** Mechanical (tools, hands, infected debris).  \n",
    "<p align=\"center\"><img src=\"https://blogs.ifas.ufl.edu/stlucieco/files/2023/03/4-22-768x576.png\" alt=\"Tomato Mosaic Virus\" height=\"300\" width=\"300\"/></p>\n",
    "---\n",
    "\n",
    "## 3. Tomato Yellow Leaf Curl Virus (TYLCV)  \n",
    "**Pathogen:** *Begomovirus*  \n",
    "**Symptoms:** Upward curling of leaves, yellowing (interveinal chlorosis), stunted growth.  \n",
    "**Vector:** Whiteflies (*Bemisia tabaci*).  \n",
    "<p align=\"center\"><img src=\"https://agriculture.vic.gov.au/biosecurity/plant-diseases/vegetable-diseases/tomato-yellow-leaf-curl-virus/IU-TYLCV_img_1.jpg\" alt=\"Tomato Yellow Leaf Curl Virus (TYLCV)\" height=\"300\" width=\"300\"/></p>\n",
    "---\n",
    "\n",
    "## 4. Tomato Bacterial Spot  \n",
    "**Pathogen:** *Xanthomonas campestris* pv. *vesicatoria*  \n",
    "**Symptoms:** Water-soaked, dark, scabby spots on leaves, stems, and fruits; sometimes a “shot-hole” look.  \n",
    "**Spread:** Splashing water, rain, tools, seeds, transplants.  \n",
    "<p align=\"center\"><img src=\"https://ag.purdue.edu/department/arge/swpap/_media/bacterial-spot-of-tomato-1-original.jpg\" width=\"300\"/></p>\n",
    "\n",
    "---\n",
    "\n",
    "## 5. Tomato Early Blight  \n",
    "**Pathogen:** *Alternaria solani* (fungus)  \n",
    "**Symptoms:** Dark lesions often with concentric rings (“bull’s-eye”), yellowing around spots, can appear on leaves, stems, fruits.  \n",
    "**Favorable conditions:** Warm and wet or humid.  \n",
    "<p align=\"center\"><img src=\"https://plantpath.ifas.ufl.edu/u-scout/tomato/images/early-blight/22161DD2C3964DF39A98F053EB87FBF3/1-36.png\" width=\"300\"/></p>\n",
    "\n",
    "---\n",
    "\n",
    "## 6. Tomato (Healthy)  \n",
    "**Description:** No disease symptoms. Uniform green leaves, no spots, no discoloration, no deformation.  \n",
    "<p align=\"center\"><img src=\"https://media.istockphoto.com/id/450481469/photo/natural-tomato-greenhouse.jpg?s=2048x2048&w=is&k=20&c=82QFmzsoDWTyt84CAE8cInwXFx5bGq7IgljF-MNbCk0=\" alt=\"Healthy Tomato\" height=\"300\" width=\"300\"/></p>\n",
    "---\n",
    "\n",
    "## 7. Tomato Late Blight  \n",
    "**Pathogen:** *Phytophthora infestans* (an oomycete)  \n",
    "**Symptoms:** Large, rapidly spreading dark patches; often white fuzzy growth on leaf undersides (sporangia), rapid tissue death.  \n",
    "**Severity:** Very aggressive under cool wet weather.  \n",
    "<p align=\"center\"><img src=\"https://vegpath.plantpath.wisc.edu/wp-content/uploads/sites/210/2021/02/tomato-blight-leaf-lesions-1024x805.png\" alt=\"Tomato Late Blight\" height=\"300\" width=\"300\"/></p>\n",
    "---\n",
    "\n",
    "## 8. Tomato Leaf Mold  \n",
    "**Pathogen:** *Passalora fulva* (a fungus)  \n",
    "**Symptoms:** Yellow patches on upper leaf surfaces; olive-green fuzzy fungal growth (mold) on **underside** of leaves.  \n",
    "**Environment:** High humidity, low light, poor ventilation (e.g. in greenhouses).  \n",
    "<p align=\"center\"><img src=\"https://extension.umn.edu/sites/extension.umn.edu/files/styles/caption_medium/public/tomato-leaf-mold.jpg?itok=uvEhJlKM\" alt=\"Tomato Leaf Mold\" height=\"300\" width=\"300\"/></p>\n",
    "---\n",
    "\n",
    "## 9. Tomato Septoria Leaf Spot  \n",
    "**Pathogen:** *Septoria lycopersici* (fungus)  \n",
    "**Symptoms:** Small circular spots (~1–5 mm) with dark margins and light centers, often with tiny black fruiting bodies (pycnidia). Primarily affects lower leaves first.  \n",
    "**Progression:** Spots may coalesce; leaves turn yellow and drop.  \n",
    "<p align=\"center\"><img src=\"https://www.missouribotanicalgarden.org/Portals/0/Gardening/Gardening%20Help/images/Pests/Septoria_Leaf_Spot_of_Tomato186.jpg\" alt=\"Septoria Leaf Spot\" width=\"300\"/></p>\n",
    "\n",
    "---\n",
    "\n",
    "## 10. Tomato Spider Mites / Two-Spotted Spider Mite  \n",
    "**Organism:** *Tetranychus urticae* (arachnid, pest)  \n",
    "**Symptoms:** Tiny speckling (chlorotic or whitish dots) on leaves, especially on upper surfaces; fine webbing, leaf bronzing, leaf drop under heavy pressure.  \n",
    "**Conditions:** Hot, dry weather favors outbreak. \n",
    "<p align=\"center\"><img src=\"https://growtomatoeseasily.com/wp-content/uploads/2022/12/spidermites.jpg\" alt=\"Tomato Spider Mites\" height=\"300\" width=\"300\"/></p> "
   ]
  },
  {
   "cell_type": "markdown",
   "id": "3e70aaad",
   "metadata": {},
   "source": [
    "## All the Imports"
   ]
  },
  {
   "cell_type": "code",
   "execution_count": 94,
   "id": "c2d4d45f",
   "metadata": {},
   "outputs": [],
   "source": [
    "import numpy as np\n",
    "import pandas as pd\n",
    "import os\n",
    "from PIL import Image, ImageOps\n",
    "from check_image_prop import CheckImgProp\n",
    "from pathlib import Path\n",
    "import seaborn as sns\n",
    "from matplotlib import pyplot as plt\n",
    "import cv2\n",
    "# used for img augmentation\n",
    "import albumentations as A\n",
    "import math"
   ]
  },
  {
   "cell_type": "markdown",
   "id": "7b100182",
   "metadata": {},
   "source": [
    "## Using Self-made CheckImgProp Class"
   ]
  },
  {
   "cell_type": "code",
   "execution_count": 95,
   "id": "f148590a",
   "metadata": {},
   "outputs": [
    {
     "data": {
      "text/plain": [
       "'/home/root123/GitHub/Two_Months_ML_Journey/Week 4'"
      ]
     },
     "execution_count": 95,
     "metadata": {},
     "output_type": "execute_result"
    }
   ],
   "source": [
    "curr_dir = os.getcwd()\n",
    "curr_dir"
   ]
  },
  {
   "cell_type": "code",
   "execution_count": 96,
   "id": "a636cd33",
   "metadata": {},
   "outputs": [],
   "source": [
    "destination_dir = 'data/PlantVillage'"
   ]
  },
  {
   "cell_type": "code",
   "execution_count": 97,
   "id": "c5c4581f",
   "metadata": {},
   "outputs": [],
   "source": [
    "img = CheckImgProp(curr_dir=curr_dir, destination_dir=destination_dir, img_size=(256,256), img_format='RGB', healthy_class='healthy')"
   ]
  },
  {
   "cell_type": "markdown",
   "id": "6c71ea50",
   "metadata": {},
   "source": [
    "### *Checking and formatting size*"
   ]
  },
  {
   "cell_type": "code",
   "execution_count": 98,
   "id": "2c4c10d6",
   "metadata": {},
   "outputs": [],
   "source": [
    "img.check_size()"
   ]
  },
  {
   "cell_type": "markdown",
   "id": "3fe8f457",
   "metadata": {},
   "source": [
    "### *Checking and changing format to 'RGB'*"
   ]
  },
  {
   "cell_type": "code",
   "execution_count": 99,
   "id": "e8e03125",
   "metadata": {},
   "outputs": [],
   "source": [
    "img.change_format()"
   ]
  },
  {
   "cell_type": "markdown",
   "id": "434b2b45",
   "metadata": {},
   "source": [
    "### *Checking class distribution*"
   ]
  },
  {
   "cell_type": "code",
   "execution_count": 100,
   "id": "2d572f45",
   "metadata": {},
   "outputs": [],
   "source": [
    "class_dist_df = pd.DataFrame()\n",
    "class_dist_df= img.class_dist()"
   ]
  },
  {
   "cell_type": "code",
   "execution_count": 101,
   "id": "7b01ed4f",
   "metadata": {},
   "outputs": [
    {
     "data": {
      "text/html": [
       "<div>\n",
       "<style scoped>\n",
       "    .dataframe tbody tr th:only-of-type {\n",
       "        vertical-align: middle;\n",
       "    }\n",
       "\n",
       "    .dataframe tbody tr th {\n",
       "        vertical-align: top;\n",
       "    }\n",
       "\n",
       "    .dataframe thead th {\n",
       "        text-align: right;\n",
       "    }\n",
       "</style>\n",
       "<table border=\"1\" class=\"dataframe\">\n",
       "  <thead>\n",
       "    <tr style=\"text-align: right;\">\n",
       "      <th></th>\n",
       "      <th>veg_name</th>\n",
       "      <th>disease_classes</th>\n",
       "      <th>healthy_classes</th>\n",
       "      <th>disease_files</th>\n",
       "      <th>healthy_files</th>\n",
       "      <th>total_files</th>\n",
       "    </tr>\n",
       "  </thead>\n",
       "  <tbody>\n",
       "    <tr>\n",
       "      <th>0</th>\n",
       "      <td>Tomato</td>\n",
       "      <td>10</td>\n",
       "      <td>1</td>\n",
       "      <td>16011</td>\n",
       "      <td>1591</td>\n",
       "      <td>17602</td>\n",
       "    </tr>\n",
       "    <tr>\n",
       "      <th>1</th>\n",
       "      <td>Pepper</td>\n",
       "      <td>1</td>\n",
       "      <td>1</td>\n",
       "      <td>997</td>\n",
       "      <td>1478</td>\n",
       "      <td>2475</td>\n",
       "    </tr>\n",
       "    <tr>\n",
       "      <th>2</th>\n",
       "      <td>Potato</td>\n",
       "      <td>3</td>\n",
       "      <td>1</td>\n",
       "      <td>2152</td>\n",
       "      <td>152</td>\n",
       "      <td>2304</td>\n",
       "    </tr>\n",
       "  </tbody>\n",
       "</table>\n",
       "</div>"
      ],
      "text/plain": [
       "  veg_name  disease_classes  healthy_classes  disease_files  healthy_files  \\\n",
       "0   Tomato               10                1          16011           1591   \n",
       "1   Pepper                1                1            997           1478   \n",
       "2   Potato                3                1           2152            152   \n",
       "\n",
       "   total_files  \n",
       "0        17602  \n",
       "1         2475  \n",
       "2         2304  "
      ]
     },
     "execution_count": 101,
     "metadata": {},
     "output_type": "execute_result"
    }
   ],
   "source": [
    "class_dist_df.head()"
   ]
  },
  {
   "cell_type": "code",
   "execution_count": 102,
   "id": "668657f1",
   "metadata": {},
   "outputs": [],
   "source": [
    "# Result: The data is imbalanced for Tomato and Potato class"
   ]
  },
  {
   "cell_type": "markdown",
   "id": "ae299501",
   "metadata": {},
   "source": [
    "## Checking RGB Composition and Contrast (Brightness/Darkness)"
   ]
  },
  {
   "cell_type": "code",
   "execution_count": 103,
   "id": "a34aa025",
   "metadata": {},
   "outputs": [
    {
     "name": "stdout",
     "output_type": "stream",
     "text": [
      "Average per channel:\n",
      "Red:   120.90\n",
      "Green: 129.80\n",
      "Blue:  107.61\n",
      "\n",
      "GrayScale values:[np.float32(135.35376), np.float32(130.68765), np.float32(181.76147), np.float32(130.70444), np.float32(130.3841), np.float32(117.69461), np.float32(153.01778), np.float32(122.756485), np.float32(110.096146), np.float32(160.89594), np.float32(119.8994), np.float32(124.76912), np.float32(131.78499), np.float32(122.12387), np.float32(108.81987), np.float32(104.75119), np.float32(113.975815), np.float32(147.9673), np.float32(143.19632), np.float32(124.775055), np.float32(113.018936), np.float32(150.16231), np.float32(132.33391), np.float32(128.90395), np.float32(119.200485), np.float32(123.94777), np.float32(172.40125), np.float32(133.56155), np.float32(116.26677), np.float32(132.55614), np.float32(125.16513), np.float32(120.45276), np.float32(124.12959), np.float32(111.55083), np.float32(140.32433), np.float32(117.15372), np.float32(122.86383), np.float32(130.84537), np.float32(143.80226), np.float32(125.31363), np.float32(139.11331), np.float32(131.88005), np.float32(140.58139), np.float32(129.23175), np.float32(158.36057), np.float32(111.3398), np.float32(118.647415), np.float32(127.08043), np.float32(142.9851), np.float32(134.76598), np.float32(114.53253), np.float32(146.11575), np.float32(126.311676), np.float32(133.66727), np.float32(135.15634), np.float32(138.36287), np.float32(129.56973), np.float32(125.739136), np.float32(156.65128), np.float32(108.2206), np.float32(150.75652), np.float32(138.74426), np.float32(146.15295), np.float32(136.87984), np.float32(141.17438), np.float32(126.50705), np.float32(136.47865), np.float32(130.88878), np.float32(143.68817), np.float32(136.13815), np.float32(113.04663), np.float32(130.58777), np.float32(101.403885), np.float32(136.73557), np.float32(119.88612), np.float32(120.39903), np.float32(122.26442), np.float32(157.60483), np.float32(130.92943), np.float32(116.85901), np.float32(102.87216), np.float32(105.89795), np.float32(125.29639), np.float32(139.47366), np.float32(128.92567), np.float32(109.627045), np.float32(151.38625), np.float32(145.20836), np.float32(113.96069), np.float32(87.89058), np.float32(121.44002), np.float32(157.62273), np.float32(124.7359), np.float32(107.61455), np.float32(92.7473), np.float32(116.81433), np.float32(122.54794), np.float32(116.99173), np.float32(123.00955), np.float32(129.26141), np.float32(128.25749), np.float32(143.65038), np.float32(118.33258), np.float32(154.47427), np.float32(130.18936), np.float32(121.54256), np.float32(125.891815), np.float32(110.952194), np.float32(119.65941), np.float32(135.51477), np.float32(123.055374), np.float32(145.02791), np.float32(131.3329), np.float32(95.72682), np.float32(90.71777), np.float32(116.6243), np.float32(138.72589), np.float32(86.299286), np.float32(106.09746), np.float32(123.16292), np.float32(119.46863), np.float32(137.08542), np.float32(156.97403), np.float32(135.34178), np.float32(117.533066), np.float32(117.3302), np.float32(139.49135), np.float32(121.4104), np.float32(137.46834), np.float32(116.520706), np.float32(126.366516), np.float32(112.25391), np.float32(121.76718), np.float32(112.14114), np.float32(117.03247), np.float32(119.12436), np.float32(162.13704), np.float32(119.74049), np.float32(115.71884), np.float32(134.67429), np.float32(119.645035), np.float32(127.26929), np.float32(119.46562), np.float32(142.77585), np.float32(133.65437), np.float32(136.93752), np.float32(100.32591), np.float32(150.05035), np.float32(122.86873), np.float32(120.13515), np.float32(121.78978), np.float32(163.07614), np.float32(126.677414), np.float32(116.10957), np.float32(120.47279), np.float32(176.92767), np.float32(108.91084), np.float32(123.22769), np.float32(124.59378), np.float32(110.53235), np.float32(129.8656), np.float32(135.09187), np.float32(130.29727), np.float32(132.36366), np.float32(114.69232), np.float32(116.56682), np.float32(119.829346), np.float32(126.55754), np.float32(146.82518), np.float32(126.16583), np.float32(159.752), np.float32(127.49892), np.float32(145.43105), np.float32(136.31999), np.float32(135.55022), np.float32(127.455475), np.float32(115.83084), np.float32(131.43819), np.float32(97.24667), np.float32(129.38528), np.float32(133.83199), np.float32(132.20372), np.float32(149.56702), np.float32(116.461975), np.float32(114.38541), np.float32(115.61258), np.float32(125.718124), np.float32(130.50182), np.float32(117.33975), np.float32(116.329834), np.float32(112.394714), np.float32(122.485275), np.float32(127.18521), np.float32(135.2445), np.float32(132.2856), np.float32(126.51857), np.float32(118.91464), np.float32(131.76213), np.float32(136.40594), np.float32(140.57224), np.float32(135.80196), np.float32(115.50873), np.float32(140.02594), np.float32(119.75331), np.float32(121.1673), np.float32(135.14359), np.float32(126.76547), np.float32(130.28592), np.float32(132.8544), np.float32(99.102295), np.float32(153.70949), np.float32(124.899734), np.float32(116.757), np.float32(135.14252), np.float32(148.82307), np.float32(103.796585), np.float32(116.278854), np.float32(117.173386), np.float32(124.71939), np.float32(133.47682), np.float32(102.36981), np.float32(130.61272), np.float32(114.67598), np.float32(131.93622), np.float32(144.22594), np.float32(118.34367), np.float32(118.970184), np.float32(116.00777), np.float32(123.59721), np.float32(131.40463), np.float32(126.26376), np.float32(129.02272), np.float32(130.22324), np.float32(116.41766), np.float32(160.72154), np.float32(116.33867), np.float32(113.348434), np.float32(117.58534), np.float32(135.92642), np.float32(89.01628), np.float32(127.55606), np.float32(127.153076), np.float32(107.13776), np.float32(118.21739), np.float32(152.62837), np.float32(112.22119), np.float32(127.687164), np.float32(130.35304), np.float32(130.12932), np.float32(125.48593), np.float32(123.12201), np.float32(131.22241), np.float32(120.02928), np.float32(125.573944), np.float32(141.00044), np.float32(126.43909), np.float32(143.4123), np.float32(120.29884), np.float32(126.23587), np.float32(116.63286), np.float32(142.22346), np.float32(123.810074), np.float32(137.94571), np.float32(120.98927), np.float32(134.72218), np.float32(135.73834), np.float32(107.0695), np.float32(154.28606), np.float32(141.11772), np.float32(154.86607), np.float32(158.47668), np.float32(152.17598), np.float32(154.92714), np.float32(151.77771), np.float32(114.45549), np.float32(123.34717), np.float32(110.66145), np.float32(115.656494), np.float32(115.55316), np.float32(124.141785), np.float32(131.7549), np.float32(158.66975), np.float32(105.36482), np.float32(114.04378), np.float32(123.78694), np.float32(128.28351), np.float32(129.481), np.float32(118.72621), np.float32(122.45924), np.float32(122.421875), np.float32(158.44849), np.float32(146.09843), np.float32(137.10693), np.float32(129.00981), np.float32(122.739105), np.float32(116.73865), np.float32(129.58626), np.float32(132.4955), np.float32(121.201065), np.float32(157.51741), np.float32(112.660446), np.float32(144.06169), np.float32(120.02519), np.float32(172.43846), np.float32(129.79988), np.float32(107.65085), np.float32(123.36827), np.float32(154.70886), np.float32(113.06912), np.float32(126.90134), np.float32(131.00009), np.float32(151.32695), np.float32(116.07451), np.float32(124.74452), np.float32(127.171875), np.float32(143.01558), np.float32(114.4406), np.float32(151.18185), np.float32(118.05574), np.float32(111.92912), np.float32(111.62544), np.float32(128.66293), np.float32(116.759445), np.float32(150.84682), np.float32(132.4825), np.float32(139.4452), np.float32(125.28812), np.float32(126.98169), np.float32(121.06218), np.float32(122.153625), np.float32(143.02394), np.float32(140.27193), np.float32(123.74568), np.float32(192.0917), np.float32(137.32071), np.float32(145.83672), np.float32(115.25604), np.float32(115.11014), np.float32(138.38937), np.float32(129.42204), np.float32(111.11243), np.float32(136.25012), np.float32(134.43488), np.float32(133.4422), np.float32(142.55783), np.float32(148.32846), np.float32(140.03563), np.float32(115.31192), np.float32(140.93141), np.float32(120.688), np.float32(114.82446), np.float32(127.00386), np.float32(164.08295), np.float32(125.173096), np.float32(160.97702), np.float32(122.0858), np.float32(148.08456), np.float32(120.64659), np.float32(142.50735), np.float32(119.801575), np.float32(155.375), np.float32(124.502304), np.float32(117.23419), np.float32(129.1361), np.float32(129.8176), np.float32(121.72148), np.float32(143.65529), np.float32(120.0777), np.float32(130.05411), np.float32(120.01155), np.float32(122.40213), np.float32(149.053), np.float32(124.42308), np.float32(114.09314), np.float32(113.93347), np.float32(108.642334), np.float32(138.33919), np.float32(126.425064), np.float32(131.02753), np.float32(109.4987), np.float32(149.29115), np.float32(127.75696), np.float32(121.682205), np.float32(113.19321), np.float32(121.358215), np.float32(126.46973), np.float32(121.10721), np.float32(112.4642), np.float32(120.81015), np.float32(125.19684), np.float32(118.66185), np.float32(145.13736), np.float32(154.17856), np.float32(126.82355), np.float32(129.1574), np.float32(123.022), np.float32(106.53766), np.float32(118.28229), np.float32(148.78397), np.float32(117.55734), np.float32(116.1158), np.float32(127.09767), np.float32(90.97803), np.float32(139.28334), np.float32(123.486145), np.float32(118.31065), np.float32(125.49373), np.float32(123.746124), np.float32(133.1283), np.float32(136.97377), np.float32(114.25586), np.float32(115.86806), np.float32(120.738266), np.float32(139.91138), np.float32(132.04013), np.float32(114.578995), np.float32(110.41164), np.float32(128.52863), np.float32(124.012726), np.float32(136.47076), np.float32(132.66972), np.float32(144.83798), np.float32(113.625046), np.float32(134.14919), np.float32(135.37267), np.float32(124.0654), np.float32(125.86702), np.float32(146.81277), np.float32(147.96358), np.float32(125.64766), np.float32(115.58002), np.float32(119.35799), np.float32(118.95746), np.float32(107.044235), np.float32(123.69391), np.float32(126.49562), np.float32(106.291016), np.float32(150.50827), np.float32(148.31445), np.float32(113.79646), np.float32(118.78311), np.float32(170.14545), np.float32(117.99182), np.float32(157.80685), np.float32(131.16985), np.float32(122.888016), np.float32(156.86479), np.float32(106.09468), np.float32(114.21178), np.float32(163.64789), np.float32(137.51395), np.float32(111.30467), np.float32(129.34074), np.float32(120.190765), np.float32(130.30156), np.float32(122.65393), np.float32(123.01642), np.float32(127.207), np.float32(132.2474), np.float32(113.37204), np.float32(139.8429), np.float32(127.553955), np.float32(130.45961), np.float32(128.63277), np.float32(122.23189), np.float32(129.56898), np.float32(139.92805), np.float32(151.44672), np.float32(112.88011), np.float32(113.33128), np.float32(129.24211), np.float32(131.26425), np.float32(125.68068), np.float32(115.99924), np.float32(132.27252), np.float32(130.12878), np.float32(121.1655), np.float32(139.95067), np.float32(131.59506), np.float32(119.59825), np.float32(129.89774), np.float32(138.57631), np.float32(115.74893), np.float32(126.56146), np.float32(126.23425), np.float32(124.337296), np.float32(134.48894), np.float32(116.27707), np.float32(136.17883), np.float32(132.87836), np.float32(154.21597), np.float32(137.96936), np.float32(136.40201), np.float32(117.56053), np.float32(107.80377), np.float32(135.2373), np.float32(132.96562), np.float32(161.1602), np.float32(116.66815), np.float32(155.63791), np.float32(122.97102), np.float32(131.08362), np.float32(114.38144), np.float32(117.64513), np.float32(174.13467), np.float32(119.169464), np.float32(127.167175), np.float32(124.10733), np.float32(109.34387), np.float32(130.39282), np.float32(137.42323), np.float32(124.7112), np.float32(124.54587), np.float32(152.15343), np.float32(135.03574), np.float32(128.99535), np.float32(120.04614), np.float32(129.581), np.float32(119.633545), np.float32(130.53476), np.float32(140.12625), np.float32(113.60498), np.float32(114.331055), np.float32(155.55708), np.float32(122.79532), np.float32(172.94958), np.float32(117.6638), np.float32(121.31712), np.float32(120.978806), np.float32(127.63069), np.float32(124.08327), np.float32(154.65593), np.float32(118.261185), np.float32(118.12392), np.float32(128.61037), np.float32(114.884094), np.float32(120.571335), np.float32(115.62956), np.float32(115.58157), np.float32(159.51921), np.float32(133.54762), np.float32(141.76262), np.float32(115.368805), np.float32(126.77759), np.float32(151.14732), np.float32(123.19646), np.float32(124.558044), np.float32(127.10878), np.float32(134.64581), np.float32(121.256454), np.float32(145.84644), np.float32(151.71445), np.float32(121.74713), np.float32(142.52852), np.float32(120.57422), np.float32(122.94104), np.float32(152.97401), np.float32(115.29851), np.float32(126.99271), np.float32(126.409164), np.float32(123.7007), np.float32(174.30106), np.float32(110.32999), np.float32(135.52058), np.float32(122.11594), np.float32(129.37297), np.float32(132.74635), np.float32(126.849945), np.float32(130.00052), np.float32(157.75456), np.float32(116.47627), np.float32(120.21567), np.float32(150.73076), np.float32(122.62167), np.float32(121.89012), np.float32(117.57324), np.float32(117.27623), np.float32(120.58186), np.float32(125.547226), np.float32(118.36145), np.float32(163.1802), np.float32(135.23155), np.float32(127.16974), np.float32(121.591125), np.float32(122.62512), np.float32(126.14848), np.float32(116.6447), np.float32(108.916916), np.float32(131.17522), np.float32(141.2978), np.float32(137.43192), np.float32(111.252045), np.float32(121.93567), np.float32(121.61629), np.float32(134.63857), np.float32(120.270096), np.float32(104.265396), np.float32(112.15146), np.float32(136.62291), np.float32(152.72968), np.float32(155.4276), np.float32(124.881134), np.float32(147.38565), np.float32(114.06102), np.float32(114.37596), np.float32(144.80156), np.float32(135.83858), np.float32(118.62973), np.float32(131.42728), np.float32(126.87045), np.float32(142.55075), np.float32(107.995895), np.float32(120.8338), np.float32(137.31075), np.float32(124.12862), np.float32(121.85892), np.float32(115.83046), np.float32(124.40875), np.float32(123.999176), np.float32(121.60005), np.float32(116.47266), np.float32(165.08557), np.float32(122.99068), np.float32(112.789505), np.float32(127.41333), np.float32(146.35979), np.float32(105.017456), np.float32(80.42949), np.float32(120.76561), np.float32(133.1097), np.float32(162.93169), np.float32(125.42915), np.float32(136.84966), np.float32(159.9377), np.float32(144.57047), np.float32(123.18039), np.float32(162.42557), np.float32(186.47594), np.float32(121.553406), np.float32(160.39099), np.float32(125.34949), np.float32(119.22751), np.float32(97.08017), np.float32(106.48511), np.float32(116.50493), np.float32(134.22664), np.float32(127.37474), np.float32(135.16081), np.float32(124.95868), np.float32(110.569626), np.float32(127.6142), np.float32(135.97324), np.float32(133.81189), np.float32(114.92755), np.float32(89.0311), np.float32(101.53082), np.float32(148.53569), np.float32(137.8766), np.float32(110.050354), np.float32(118.860016), np.float32(134.632), np.float32(131.78987), np.float32(130.46658), np.float32(127.050476), np.float32(155.06805), np.float32(111.02971), np.float32(124.125046), np.float32(135.38974), np.float32(118.17958), np.float32(149.7855), np.float32(139.03993), np.float32(112.35161), np.float32(136.34221), np.float32(154.43481), np.float32(131.73174), np.float32(147.0868), np.float32(126.9229), np.float32(120.69539), np.float32(119.088165), np.float32(114.55296), np.float32(109.065796), np.float32(125.50668), np.float32(132.01042), np.float32(113.01715), np.float32(130.35857), np.float32(165.36803), np.float32(101.47542), np.float32(112.37793), np.float32(132.82178), np.float32(147.38057), np.float32(124.55299), np.float32(131.95914), np.float32(144.36137), np.float32(115.324615), np.float32(117.762634), np.float32(162.54842), np.float32(129.93625), np.float32(118.51218), np.float32(131.12102), np.float32(108.516174), np.float32(125.34195), np.float32(117.07648), np.float32(127.26239), np.float32(116.07321), np.float32(128.87906), np.float32(143.25008), np.float32(147.63254), np.float32(116.54443), np.float32(167.72229), np.float32(132.02052), np.float32(129.4523), np.float32(131.71457), np.float32(122.29158), np.float32(146.7617), np.float32(141.33572), np.float32(88.99156), np.float32(142.32031), np.float32(124.88281), np.float32(147.3288), np.float32(116.84363), np.float32(146.63194), np.float32(155.6797), np.float32(145.66527), np.float32(122.582214), np.float32(114.51863), np.float32(155.54857), np.float32(122.694595), np.float32(134.59244), np.float32(120.26784), np.float32(127.11461), np.float32(126.11183), np.float32(121.828735), np.float32(128.12164), np.float32(111.81235), np.float32(127.08156), np.float32(133.5858), np.float32(121.760574), np.float32(121.31842), np.float32(129.8663), np.float32(127.73343), np.float32(131.90697), np.float32(132.74657), np.float32(149.46162), np.float32(135.91603), np.float32(132.4515), np.float32(116.90152), np.float32(151.4274), np.float32(155.27908), np.float32(117.74483), np.float32(151.48517), np.float32(123.1642), np.float32(127.3103), np.float32(125.69174), np.float32(120.54381), np.float32(125.961044), np.float32(132.06625), np.float32(128.2728), np.float32(139.19888), np.float32(131.54465), np.float32(122.97885), np.float32(121.16797), np.float32(118.086945), np.float32(157.58694), np.float32(116.79407), np.float32(113.41321), np.float32(135.36092), np.float32(147.36557), np.float32(118.29628), np.float32(128.3404), np.float32(114.75067), np.float32(122.49104), np.float32(144.15517), np.float32(113.95967), np.float32(126.25949), np.float32(118.34474), np.float32(115.51439), np.float32(124.01819), np.float32(131.60017), np.float32(113.76398), np.float32(129.82376), np.float32(129.99399), np.float32(124.95328), np.float32(174.87434), np.float32(121.503876), np.float32(148.44412), np.float32(112.090805), np.float32(151.13705), np.float32(117.04407), np.float32(115.79848), np.float32(117.22658), np.float32(114.6086), np.float32(119.94838), np.float32(135.6411), np.float32(135.49168), np.float32(105.520645), np.float32(146.86464), np.float32(121.368774), np.float32(107.38716), np.float32(113.1729), np.float32(123.34224), np.float32(115.58223), np.float32(118.2303), np.float32(127.60379), np.float32(149.28497), np.float32(135.47571), np.float32(137.09991), np.float32(142.28638), np.float32(148.46022), np.float32(108.64197), np.float32(122.70044), np.float32(125.18727), np.float32(117.64438), np.float32(123.31886), np.float32(125.13953), np.float32(125.311554), np.float32(126.96974), np.float32(153.35329), np.float32(126.11046), np.float32(137.32489), np.float32(145.7993), np.float32(142.50533), np.float32(150.48294), np.float32(132.42696), np.float32(139.21704), np.float32(139.7733), np.float32(124.875626), np.float32(158.54378), np.float32(125.506424), np.float32(116.501114), np.float32(124.128235), np.float32(128.6905), np.float32(135.06789), np.float32(157.29865), np.float32(114.540695), np.float32(120.329666), np.float32(136.33598), np.float32(110.550964), np.float32(114.122894), np.float32(143.6125), np.float32(126.35147), np.float32(117.995255), np.float32(124.51688), np.float32(121.65689), np.float32(111.381485), np.float32(131.87051), np.float32(121.21063), np.float32(151.35547), np.float32(111.49214), np.float32(115.13646), np.float32(114.033936), np.float32(120.01457), np.float32(121.42923), np.float32(137.32991), np.float32(160.51073), np.float32(122.6044), np.float32(104.75217), np.float32(132.30069), np.float32(131.32324), np.float32(92.28563), np.float32(159.67975), np.float32(121.120255), np.float32(153.22636), np.float32(132.28304), np.float32(139.87604), np.float32(117.80847), np.float32(130.55934), np.float32(111.632095), np.float32(134.22498), np.float32(130.21), np.float32(122.6758), np.float32(117.913025), np.float32(124.628586), np.float32(130.37125), np.float32(118.43938), np.float32(129.93167), np.float32(117.18309), np.float32(119.40132), np.float32(121.022446), np.float32(104.320465), np.float32(118.62871), np.float32(122.66998), np.float32(135.63531), np.float32(128.49423), np.float32(117.27817), np.float32(128.2967), np.float32(125.8546), np.float32(135.12766), np.float32(98.41028), np.float32(125.85704), np.float32(126.33432), np.float32(119.804535), np.float32(156.17934), np.float32(119.84128), np.float32(119.49672), np.float32(151.56586), np.float32(112.7486), np.float32(114.33685), np.float32(124.0114), np.float32(120.70993), np.float32(128.02759), np.float32(148.18166), np.float32(164.48465), np.float32(114.36914), np.float32(125.66362), np.float32(161.47548), np.float32(144.82216), np.float32(148.09494), np.float32(125.503204), np.float32(147.1889), np.float32(119.70534), np.float32(118.45888), np.float32(145.73582), np.float32(129.81604), np.float32(133.49104), np.float32(127.14601), np.float32(125.26691), np.float32(121.21741), np.float32(129.81537), np.float32(125.13544), np.float32(134.3798), np.float32(132.54053), np.float32(127.78166), np.float32(112.14244), np.float32(152.9857), np.float32(122.67679), np.float32(146.02647), np.float32(132.95738), np.float32(121.620285), np.float32(158.63919), np.float32(102.022446), np.float32(140.78899), np.float32(145.69287), np.float32(167.03947), np.float32(119.16612), np.float32(126.298996), np.float32(99.19623), np.float32(153.84814), np.float32(113.62979), np.float32(120.9792), np.float32(119.88109), np.float32(127.17319), np.float32(150.93402), np.float32(127.21411), np.float32(114.099014), np.float32(138.93289), np.float32(114.4857), np.float32(145.39555), np.float32(128.58562), np.float32(118.27721), np.float32(138.78867), np.float32(147.55934), np.float32(88.15555), np.float32(112.01445), np.float32(152.80573), np.float32(129.49101), np.float32(140.0195), np.float32(129.65114), np.float32(127.920654), np.float32(122.30328), np.float32(110.82387), np.float32(153.35619), np.float32(150.35342), np.float32(139.50888), np.float32(102.62103), np.float32(104.11769), np.float32(150.97331), np.float32(168.96083), np.float32(132.59775), np.float32(121.46843), np.float32(117.68736), np.float32(168.28586), np.float32(191.70319), np.float32(128.49756), np.float32(123.91385), np.float32(124.69644), np.float32(147.99744), np.float32(151.29282), np.float32(128.39813), np.float32(152.77391), np.float32(125.98741), np.float32(138.12749), np.float32(145.42783), np.float32(134.73416), np.float32(113.6734), np.float32(134.66321), np.float32(141.1636), np.float32(118.25037), np.float32(132.09032), np.float32(153.42902), np.float32(125.55), np.float32(106.65654), np.float32(118.00835), np.float32(139.9067), np.float32(143.76067), np.float32(131.80011), np.float32(111.51315), np.float32(128.57013), np.float32(123.63199), np.float32(110.88582), np.float32(129.13742), np.float32(126.10986), np.float32(135.55264), np.float32(129.39749), np.float32(142.2748), np.float32(119.79942), np.float32(125.91347), np.float32(114.18269), np.float32(113.61755), np.float32(110.54706), np.float32(122.16928), np.float32(133.7282), np.float32(121.06601), np.float32(154.23601), np.float32(114.117294), np.float32(141.66699), np.float32(166.70381), np.float32(146.69084), np.float32(126.92601), np.float32(124.42136), np.float32(130.16667), np.float32(142.41591), np.float32(127.003204), np.float32(118.032364), np.float32(131.65747), np.float32(114.82907), np.float32(134.15396), np.float32(116.83673), np.float32(110.67432), np.float32(124.50168), np.float32(124.8931), np.float32(127.892075), np.float32(111.547516), np.float32(129.02652), np.float32(117.09306), np.float32(116.645294), np.float32(130.41422), np.float32(130.16891), np.float32(120.74242), np.float32(115.9727), np.float32(139.87366), np.float32(120.80229), np.float32(100.27692), np.float32(126.125946), np.float32(131.20946), np.float32(141.86522), np.float32(113.30426), np.float32(114.992615), np.float32(123.78027), np.float32(132.92796), np.float32(126.55606), np.float32(165.68376), np.float32(139.9249), np.float32(144.02753), np.float32(156.13647), np.float32(134.41705), np.float32(148.63889), np.float32(130.0033), np.float32(105.924576), np.float32(123.76294), np.float32(118.795746), np.float32(137.74283), np.float32(122.12283), np.float32(117.07004), np.float32(152.87558), np.float32(118.11081), np.float32(134.53603), np.float32(155.33539), np.float32(120.708206), np.float32(121.493), np.float32(118.11403), np.float32(128.62848), np.float32(115.36557), np.float32(117.88835), np.float32(115.10513), np.float32(119.18176), np.float32(121.301346), np.float32(125.30037), np.float32(128.83475), np.float32(119.68617), np.float32(118.843735), np.float32(175.32237), np.float32(125.37375), np.float32(138.8198), np.float32(117.02106), np.float32(151.72783), np.float32(140.40096), np.float32(121.481705), np.float32(110.40155), np.float32(116.14371), np.float32(115.34451), np.float32(125.98161), np.float32(126.875275), np.float32(128.58496), np.float32(114.88422), np.float32(134.21663), np.float32(116.478424), np.float32(127.431046), np.float32(129.4415), np.float32(130.3858), np.float32(118.0797), np.float32(134.08203), np.float32(121.26918), np.float32(128.07648), np.float32(113.52199), np.float32(138.27777), np.float32(157.3903), np.float32(123.39549), np.float32(129.19426), np.float32(107.06619), np.float32(160.75607), np.float32(116.28197), np.float32(116.750854), np.float32(116.37572), np.float32(129.36018), np.float32(126.208405), np.float32(122.21863), np.float32(108.07315), np.float32(135.13911), np.float32(105.74126), np.float32(138.79245), np.float32(120.19833), np.float32(107.797195), np.float32(119.60193), np.float32(124.38945), np.float32(152.82603), np.float32(135.75014), np.float32(120.79146), np.float32(139.02707), np.float32(123.88684), np.float32(130.89168), np.float32(129.7091), np.float32(115.64909), np.float32(120.804794), np.float32(149.04945), np.float32(151.58192), np.float32(121.13832), np.float32(135.25061), np.float32(111.078674), np.float32(156.33151), np.float32(117.82184), np.float32(137.71422), np.float32(140.37352), np.float32(127.07616), np.float32(123.201416), np.float32(121.21393), np.float32(113.507), np.float32(145.26926), np.float32(117.386185), np.float32(127.42395), np.float32(133.41261), np.float32(129.3135), np.float32(128.62463), np.float32(130.81627), np.float32(123.698), np.float32(128.02382), np.float32(106.69757), np.float32(113.53314), np.float32(118.35989), np.float32(129.76985), np.float32(138.20503), np.float32(130.93718), np.float32(152.32181), np.float32(127.65314), np.float32(109.78227), np.float32(129.94992), np.float32(134.06741), np.float32(129.17912), np.float32(134.44623), np.float32(128.03235), np.float32(116.374054), np.float32(123.72812), np.float32(121.24858), np.float32(119.21805), np.float32(158.00731), np.float32(125.859055), np.float32(92.232376), np.float32(142.08456), np.float32(116.124176), np.float32(167.18936), np.float32(117.95122), np.float32(119.00966), np.float32(130.62398), np.float32(90.990036), np.float32(118.31102), np.float32(128.56044), np.float32(115.40466), np.float32(165.60597), np.float32(124.52583), np.float32(139.03241), np.float32(109.71942), np.float32(143.87146), np.float32(124.86806), np.float32(147.15263), np.float32(155.86502), np.float32(132.15799), np.float32(116.40234), np.float32(121.87497), np.float32(128.34796), np.float32(109.961), np.float32(143.85248), np.float32(103.5777), np.float32(154.0546), np.float32(118.713684), np.float32(149.36044), np.float32(120.14993), np.float32(131.38113), np.float32(125.115845), np.float32(127.7583), np.float32(114.318115), np.float32(138.47388), np.float32(126.80011), np.float32(156.18027), np.float32(115.994736), np.float32(138.03073), np.float32(148.4253), np.float32(121.19591), np.float32(143.13756), np.float32(116.98616), np.float32(155.79654), np.float32(126.96425), np.float32(129.96722), np.float32(124.10869), np.float32(132.5675), np.float32(122.48891), np.float32(114.97136), np.float32(119.60849), np.float32(106.863205), np.float32(128.35812), np.float32(111.45241), np.float32(130.5815), np.float32(125.52544), np.float32(129.36966), np.float32(122.55252), np.float32(109.087204), np.float32(147.03632), np.float32(124.65889), np.float32(113.480484), np.float32(125.57295), np.float32(113.19998), np.float32(136.43915), np.float32(121.18347), np.float32(152.76105), np.float32(125.43004), np.float32(120.22911), np.float32(137.89427), np.float32(129.70848), np.float32(145.7895), np.float32(152.60345), np.float32(163.00932), np.float32(152.77911), np.float32(137.10298), np.float32(119.05702), np.float32(112.30733), np.float32(136.46095), np.float32(136.34435), np.float32(123.49138), np.float32(118.61095), np.float32(127.24274), np.float32(156.90025), np.float32(127.28766), np.float32(133.33942), np.float32(122.44043), np.float32(130.93604), np.float32(125.05284), np.float32(151.70335), np.float32(154.28104), np.float32(121.63623), np.float32(121.98294), np.float32(124.26228), np.float32(122.30292), np.float32(138.52466), np.float32(106.456726), np.float32(127.191635), np.float32(130.06432), np.float32(176.01204), np.float32(149.85611), np.float32(116.961365), np.float32(137.30386), np.float32(138.02364), np.float32(130.87122), np.float32(155.0751), np.float32(138.52803), np.float32(95.729004), np.float32(139.67677), np.float32(146.59041), np.float32(130.06055), np.float32(144.03737), np.float32(129.36699), np.float32(131.34383), np.float32(146.09058), np.float32(161.17372), np.float32(140.0048), np.float32(133.90573), np.float32(134.40938), np.float32(120.41019), np.float32(119.651886), np.float32(158.20438), np.float32(131.06503), np.float32(115.46013), np.float32(131.35704), np.float32(107.97687), np.float32(119.84863), np.float32(144.7663), np.float32(116.7988), np.float32(120.66342), np.float32(123.532166), np.float32(142.57333), np.float32(110.62242), np.float32(116.33609), np.float32(117.510376), np.float32(139.07643), np.float32(128.63593), np.float32(122.661285), np.float32(115.63068), np.float32(133.79094), np.float32(116.46846), np.float32(121.02287), np.float32(149.66272), np.float32(124.96396), np.float32(104.84668), np.float32(125.976456), np.float32(107.03464), np.float32(137.16368), np.float32(115.33885), np.float32(85.59532), np.float32(118.951385), np.float32(114.971725), np.float32(119.50612), np.float32(119.737076), np.float32(123.56416), np.float32(138.03867), np.float32(113.30109), np.float32(124.347824), np.float32(115.830505), np.float32(110.9899), np.float32(132.59734), np.float32(120.67418), np.float32(114.40987), np.float32(112.3013), np.float32(132.53712), np.float32(105.520584), np.float32(129.99161), np.float32(122.556946), np.float32(117.28824), np.float32(162.43983), np.float32(114.45792), np.float32(126.19209), np.float32(143.71922), np.float32(116.29433), np.float32(129.74425), np.float32(165.14404), np.float32(146.23117), np.float32(124.85382), np.float32(126.93082), np.float32(133.39565), np.float32(126.0788), np.float32(134.99869), np.float32(121.77002), np.float32(135.24443), np.float32(130.62721), np.float32(123.64456), np.float32(147.02531), np.float32(129.89282), np.float32(132.09393), np.float32(151.50836), np.float32(101.52556), np.float32(144.80797), np.float32(153.50551), np.float32(119.46002), np.float32(109.27571), np.float32(109.85791), np.float32(113.87892), np.float32(105.04292), np.float32(113.08171), np.float32(123.951935), np.float32(117.312256), np.float32(157.67389), np.float32(118.91438), np.float32(122.3802), np.float32(138.25458), np.float32(112.0795), np.float32(141.95393), np.float32(119.01433), np.float32(126.29965), np.float32(149.4221), np.float32(131.01588), np.float32(138.5194), np.float32(101.87984), np.float32(129.45633), np.float32(153.38187), np.float32(134.89201), np.float32(128.94899), np.float32(126.38312), np.float32(135.71654), np.float32(115.289566), np.float32(123.233826), np.float32(141.85228), np.float32(135.77344), np.float32(141.32523), np.float32(159.04405), np.float32(116.39761), np.float32(120.836105), np.float32(122.824356), np.float32(120.010315), np.float32(135.08124), np.float32(135.58212), np.float32(119.789795), np.float32(133.72148), np.float32(119.5806), np.float32(121.884125), np.float32(115.9057), np.float32(131.15134), np.float32(132.48634), np.float32(138.16331), np.float32(162.2702), np.float32(147.6278), np.float32(144.58446), np.float32(130.95638), np.float32(118.30319), np.float32(120.375275), np.float32(117.962616), np.float32(152.97668), np.float32(119.62015), np.float32(131.89476), np.float32(135.98587), np.float32(119.433136), np.float32(104.92355), np.float32(140.17361), np.float32(127.15756), np.float32(118.65288), np.float32(113.01445), np.float32(126.69777), np.float32(144.22353), np.float32(134.07501), np.float32(140.3477), np.float32(131.86598), np.float32(137.93048), np.float32(125.74057), np.float32(109.12567), np.float32(105.042725), np.float32(154.55026), np.float32(135.56636), np.float32(120.08786), np.float32(165.09903), np.float32(137.09384), np.float32(124.73839), np.float32(122.197235), np.float32(108.02739), np.float32(117.48134), np.float32(140.5947), np.float32(130.68062), np.float32(116.674515), np.float32(131.71861), np.float32(143.20749), np.float32(176.41905), np.float32(118.44066), np.float32(121.12575), np.float32(143.00746), np.float32(117.8519), np.float32(118.05167), np.float32(129.67241), np.float32(127.40457), np.float32(123.814896), np.float32(120.252106), np.float32(144.82265), np.float32(112.29405), np.float32(116.11243), np.float32(160.4557), np.float32(116.3262), np.float32(138.22662), np.float32(120.330475), np.float32(91.59682), np.float32(131.46246), np.float32(128.72627), np.float32(129.8817), np.float32(138.1071), np.float32(117.32863), np.float32(132.85806), np.float32(116.31369), np.float32(133.29703), np.float32(117.86058), np.float32(121.86476), np.float32(113.12555), np.float32(122.051285), np.float32(120.89868), np.float32(109.241104), np.float32(118.62967), np.float32(119.95392), np.float32(114.677124), np.float32(108.74837), np.float32(146.00882), np.float32(121.35347), np.float32(122.68445), np.float32(107.50554), np.float32(94.8851), np.float32(108.82912), np.float32(119.475815), np.float32(120.30792), np.float32(129.74106), np.float32(124.39157), np.float32(117.52173), np.float32(115.94722), np.float32(140.51591), np.float32(121.42221), np.float32(117.29408), np.float32(103.33446), np.float32(110.51941), np.float32(107.62459), np.float32(112.62787), np.float32(117.19734), np.float32(131.93613), np.float32(106.0405), np.float32(107.31778), np.float32(129.93726), np.float32(124.56973), np.float32(117.808975), np.float32(105.14075), np.float32(112.0457), np.float32(139.2846), np.float32(115.68881), np.float32(111.99031), np.float32(112.24126), np.float32(114.1702), np.float32(117.81758), np.float32(125.672745), np.float32(122.997314), np.float32(108.529465), np.float32(126.45787), np.float32(124.61049), np.float32(89.39546), np.float32(125.357376), np.float32(110.63504), np.float32(122.71437), np.float32(111.492325), np.float32(131.2363), np.float32(107.96503), np.float32(115.39099), np.float32(140.58118), np.float32(114.10326), np.float32(121.43756), np.float32(112.433975), np.float32(112.79176), np.float32(102.83278), np.float32(113.774216), np.float32(116.540146), np.float32(109.1183), np.float32(176.26941), np.float32(118.16577), np.float32(125.838425), np.float32(104.65982), np.float32(96.59361), np.float32(114.42906), np.float32(113.925095), np.float32(121.91438), np.float32(96.86656), np.float32(135.94505), np.float32(97.80223), np.float32(121.2672), np.float32(103.4194), np.float32(122.786255), np.float32(126.36168), np.float32(117.63928), np.float32(132.08852), np.float32(98.4781), np.float32(154.4099), np.float32(141.45816), np.float32(114.68103), np.float32(116.164215), np.float32(129.76167), np.float32(122.839005), np.float32(123.589966), np.float32(104.045166), np.float32(103.4718), np.float32(111.89729), np.float32(106.75836), np.float32(116.26903), np.float32(113.565216), np.float32(134.5432), np.float32(105.42186), np.float32(117.59035), np.float32(127.65462), np.float32(116.58339), np.float32(133.45471), np.float32(105.423676), np.float32(112.3566), np.float32(112.32492), np.float32(102.900375), np.float32(125.87384), np.float32(144.57281), np.float32(127.66246), np.float32(115.445526), np.float32(116.59598), np.float32(109.196014), np.float32(100.46184), np.float32(109.439926), np.float32(104.72157), np.float32(110.14075), np.float32(156.95158), np.float32(128.07329), np.float32(114.57385), np.float32(129.03214), np.float32(139.2713), np.float32(124.89172), np.float32(108.93724), np.float32(116.27171), np.float32(103.65161), np.float32(106.295715), np.float32(133.35114), np.float32(120.62822), np.float32(107.57674), np.float32(120.04143), np.float32(108.07051), np.float32(105.93715), np.float32(119.85547), np.float32(119.782684), np.float32(103.37111), np.float32(131.58847), np.float32(104.31282), np.float32(117.81323), np.float32(111.67908), np.float32(119.15907), np.float32(104.15056), np.float32(124.45775), np.float32(134.25432), np.float32(112.96011), np.float32(116.60368), np.float32(107.90459), np.float32(140.66609), np.float32(143.60028), np.float32(132.47728), np.float32(108.28262), np.float32(111.335785), np.float32(111.97145), np.float32(108.53851), np.float32(108.45001), np.float32(125.56253), np.float32(108.55299), np.float32(113.41507), np.float32(124.561844), np.float32(109.62413), np.float32(111.255066), np.float32(105.743164), np.float32(121.807556), np.float32(122.096054), np.float32(120.78848), np.float32(108.636505), np.float32(120.31375), np.float32(125.99678), np.float32(117.472824), np.float32(118.18202), np.float32(111.920044), np.float32(117.466354), np.float32(110.03706), np.float32(103.43831), np.float32(108.344666), np.float32(109.8201), np.float32(134.47583), np.float32(106.714005), np.float32(147.36095), np.float32(118.29608), np.float32(114.57214), np.float32(110.036835), np.float32(128.53137), np.float32(107.30171), np.float32(135.61292), np.float32(120.03938), np.float32(113.67436), np.float32(112.170715), np.float32(111.113754), np.float32(118.90233), np.float32(127.55293), np.float32(132.17418), np.float32(109.92833), np.float32(106.35727), np.float32(112.79692), np.float32(127.8822), np.float32(118.21942), np.float32(99.115814), np.float32(131.23672), np.float32(116.89325), np.float32(112.99005), np.float32(117.91089), np.float32(127.399124), np.float32(118.24936), np.float32(114.20662), np.float32(107.291504), np.float32(111.306), np.float32(124.68622), np.float32(131.68832), np.float32(114.48682), np.float32(142.00102), np.float32(139.56534), np.float32(114.936584), np.float32(117.53906), np.float32(115.54901), np.float32(125.97633), np.float32(119.805466), np.float32(106.64014), np.float32(112.90126), np.float32(119.47533), np.float32(118.7415), np.float32(126.79021), np.float32(122.590775), np.float32(124.98793), np.float32(114.94597), np.float32(102.10628), np.float32(112.56827), np.float32(118.57103), np.float32(112.75134), np.float32(107.12245), np.float32(123.098404), np.float32(122.36116), np.float32(110.380264), np.float32(112.47897), np.float32(194.54723), np.float32(98.11151), np.float32(130.65466), np.float32(126.02182), np.float32(115.25394), np.float32(109.02576), np.float32(129.24078), np.float32(119.46112), np.float32(111.77902), np.float32(132.22028), np.float32(105.61517), np.float32(111.289246), np.float32(110.62732), np.float32(102.83699), np.float32(120.16905), np.float32(130.99751), np.float32(133.52336), np.float32(117.44104), np.float32(121.581314), np.float32(105.739975), np.float32(121.85031), np.float32(116.865295), np.float32(151.90352), np.float32(105.686844), np.float32(104.07062), np.float32(109.82712), np.float32(99.94949), np.float32(104.36011), np.float32(99.82091), np.float32(113.08589), np.float32(104.86272), np.float32(120.761246), np.float32(114.61725), np.float32(111.390274), np.float32(116.34268), np.float32(124.97533), np.float32(125.79022), np.float32(108.523224), np.float32(116.40547), np.float32(125.051865), np.float32(115.06845), np.float32(113.01291), np.float32(111.135864), np.float32(134.19096), np.float32(118.86131), np.float32(134.2192), np.float32(115.495285), np.float32(130.80219), np.float32(135.35905), np.float32(146.94609), np.float32(139.63895), np.float32(114.53644), np.float32(125.74226), np.float32(110.98506), np.float32(100.22435), np.float32(117.33989), np.float32(153.86949), np.float32(131.37823), np.float32(102.28615), np.float32(111.93593), np.float32(122.19176), np.float32(124.26482), np.float32(126.59732), np.float32(118.910965), np.float32(134.53181), np.float32(122.660065), np.float32(115.36824), np.float32(135.24277), np.float32(98.94881), np.float32(121.50371), np.float32(138.47116), np.float32(116.5939), np.float32(101.28296), np.float32(129.33044), np.float32(109.094864), np.float32(109.38066), np.float32(110.93378), np.float32(119.42174), np.float32(107.599655), np.float32(117.27763), np.float32(123.5229), np.float32(114.67485), np.float32(113.09927), np.float32(130.32005), np.float32(107.851456), np.float32(121.54439), np.float32(91.62152), np.float32(120.30838), np.float32(115.196304), np.float32(128.60818), np.float32(129.03322), np.float32(131.0025), np.float32(123.92906), np.float32(104.09892), np.float32(112.15526), np.float32(114.60326), np.float32(113.46353), np.float32(102.596695), np.float32(145.73671), np.float32(102.51404), np.float32(157.60922), np.float32(135.6569), np.float32(133.21931), np.float32(122.999435), np.float32(120.95546), np.float32(123.91048), np.float32(88.16048), np.float32(134.34169), np.float32(131.32893), np.float32(111.246765), np.float32(122.85164), np.float32(111.175156), np.float32(150.92427), np.float32(112.208145), np.float32(101.39606), np.float32(132.58586), np.float32(126.9818), np.float32(122.02382), np.float32(156.91522), np.float32(114.81171), np.float32(113.7784), np.float32(131.02722), np.float32(121.42346), np.float32(117.75923), np.float32(127.655106), np.float32(122.43089), np.float32(134.92082), np.float32(119.08969), np.float32(116.52814), np.float32(115.536285), np.float32(123.81473), np.float32(111.34581), np.float32(104.67383), np.float32(108.40109), np.float32(129.71216), np.float32(122.5654), np.float32(102.818985), np.float32(127.76068), np.float32(111.076935), np.float32(117.805084), np.float32(115.00717), np.float32(135.6364), np.float32(113.39963), np.float32(127.09596), np.float32(140.1307), np.float32(115.78775), np.float32(115.72304), np.float32(121.10777), np.float32(112.29051), np.float32(116.838425), np.float32(92.39522), np.float32(123.18796), np.float32(95.70055), np.float32(118.07318), np.float32(135.50212), np.float32(136.7087), np.float32(122.23926), np.float32(116.81528), np.float32(119.057526), np.float32(115.319885), np.float32(159.2881), np.float32(122.75041), np.float32(104.45412), np.float32(104.14525), np.float32(123.018036), np.float32(131.01373), np.float32(130.88057), np.float32(118.540665), np.float32(104.832245), np.float32(129.01862), np.float32(104.104126), np.float32(118.63188), np.float32(127.815765), np.float32(119.31372), np.float32(124.4492), np.float32(124.276505), np.float32(132.48244), np.float32(132.16951), np.float32(115.51477), np.float32(114.36182), np.float32(100.582504), np.float32(106.85913), np.float32(126.60983), np.float32(118.97687), np.float32(117.053085), np.float32(113.33995), np.float32(119.62192), np.float32(131.93925), np.float32(94.2856), np.float32(136.14697), np.float32(114.579834), np.float32(110.7516), np.float32(121.825806), np.float32(121.28563), np.float32(132.17378), np.float32(128.23318), np.float32(107.880554), np.float32(125.774216), np.float32(162.20613), np.float32(110.93239), np.float32(112.19403), np.float32(99.24577), np.float32(102.347946), np.float32(115.83615), np.float32(112.644516), np.float32(116.068085), np.float32(110.96689), np.float32(115.080765), np.float32(110.8416), np.float32(121.93469), np.float32(111.179184), np.float32(112.25246), np.float32(129.91109), np.float32(132.36887), np.float32(127.92381), np.float32(118.52765), np.float32(107.156876), np.float32(100.54297), np.float32(128.87056), np.float32(126.56575), np.float32(113.0741), np.float32(115.424484), np.float32(110.79344), np.float32(111.164474), np.float32(133.07726), np.float32(121.53177), np.float32(103.52704), np.float32(115.606), np.float32(121.40167), np.float32(106.37698), np.float32(124.34982), np.float32(139.65677), np.float32(113.24173), np.float32(120.6362), np.float32(142.22125), np.float32(112.13832), np.float32(112.48984), np.float32(106.87889), np.float32(116.10019), np.float32(105.88483), np.float32(122.56105), np.float32(128.51929), np.float32(128.92091), np.float32(109.816605), np.float32(136.33414), np.float32(123.433044), np.float32(114.913315), np.float32(126.607574), np.float32(109.365036), np.float32(107.8114), np.float32(113.12843), np.float32(126.25748), np.float32(102.76593), np.float32(110.98155), np.float32(115.38109), np.float32(112.60037), np.float32(111.463165), np.float32(108.45262), np.float32(111.37999), np.float32(123.859085), np.float32(119.88226), np.float32(108.993835), np.float32(120.68414), np.float32(120.506226), np.float32(110.2603), np.float32(112.105865), np.float32(135.58446), np.float32(112.115234), np.float32(121.22809), np.float32(114.41406), np.float32(131.2294), np.float32(107.53549), np.float32(115.315125), np.float32(118.265915), np.float32(121.8699), np.float32(108.699326), np.float32(130.11594), np.float32(110.3819), np.float32(116.6525), np.float32(113.64026), np.float32(122.730606), np.float32(114.8044), np.float32(115.16252), np.float32(108.19838), np.float32(114.095764), np.float32(125.214584), np.float32(140.25558), np.float32(120.66986), np.float32(133.0247), np.float32(120.50893), np.float32(125.05188), np.float32(120.91043), np.float32(143.38744), np.float32(117.5854), np.float32(108.84744), np.float32(115.77545), np.float32(108.32645), np.float32(118.236694), np.float32(142.27863), np.float32(104.94916), np.float32(110.912186), np.float32(136.18019), np.float32(107.77081), np.float32(112.12326), np.float32(138.6394), np.float32(115.41142), np.float32(121.51643), np.float32(118.67317), np.float32(118.45424), np.float32(116.39664), np.float32(135.88106), np.float32(139.03763), np.float32(129.40245), np.float32(130.99966), np.float32(118.57617), np.float32(111.98212), np.float32(97.57156), np.float32(112.85092), np.float32(121.12045), np.float32(99.6819), np.float32(110.13118), np.float32(112.03058), np.float32(113.934494), np.float32(134.25145), np.float32(107.57593), np.float32(102.51883), np.float32(111.408646), np.float32(114.471085), np.float32(114.21152), np.float32(109.07381), np.float32(93.274704), np.float32(104.52702), np.float32(116.49425), np.float32(109.35469), np.float32(97.75583), np.float32(187.34738), np.float32(119.40044), np.float32(120.600204), np.float32(134.16093), np.float32(113.836075), np.float32(119.44101), np.float32(120.08249), np.float32(108.58475), np.float32(138.73299), np.float32(129.77878), np.float32(132.21745), np.float32(124.552826), np.float32(103.87729), np.float32(108.14949), np.float32(135.13655), np.float32(106.34859), np.float32(123.24103), np.float32(98.90387), np.float32(114.22386), np.float32(113.7451), np.float32(100.00874), np.float32(110.23955), np.float32(113.765945), np.float32(111.65262), np.float32(110.89107), np.float32(153.39372), np.float32(99.51839), np.float32(115.17677), np.float32(105.31943), np.float32(107.17998), np.float32(127.13966), np.float32(127.9487), np.float32(118.47482), np.float32(114.107376), np.float32(126.57915), np.float32(120.0625), np.float32(125.02644), np.float32(98.94389), np.float32(122.437), np.float32(128.3548), np.float32(130.61554), np.float32(114.30698), np.float32(112.20703), np.float32(116.5085), np.float32(123.471405), np.float32(116.74477), np.float32(122.19357), np.float32(115.636475), np.float32(109.423294), np.float32(129.81221), np.float32(113.454956), np.float32(121.56819), np.float32(117.17409), np.float32(125.96924), np.float32(108.571655), np.float32(103.10994), np.float32(124.949875), np.float32(106.07539), np.float32(120.22427), np.float32(109.123), np.float32(90.50313), np.float32(133.47238), np.float32(104.71286), np.float32(129.40862), np.float32(129.6883), np.float32(118.317535), np.float32(111.51564), np.float32(181.14745), np.float32(111.81282), np.float32(112.47984), np.float32(97.973114), np.float32(103.73268), np.float32(107.801056), np.float32(132.2328), np.float32(110.62285), np.float32(153.08838), np.float32(110.58188), np.float32(121.190094), np.float32(104.549164), np.float32(130.64331), np.float32(110.40497), np.float32(124.11191), np.float32(106.94345), np.float32(115.22963), np.float32(138.37665), np.float32(134.9585), np.float32(123.43848), np.float32(117.27301), np.float32(116.10242), np.float32(108.73233), np.float32(109.312485), np.float32(137.50409), np.float32(115.12718), np.float32(106.73453), np.float32(121.8009), np.float32(108.04166), np.float32(132.91011), np.float32(110.43785), np.float32(107.64305), np.float32(101.258514), np.float32(109.596344), np.float32(104.71182), np.float32(129.96643), np.float32(116.245575), np.float32(118.66728), np.float32(113.96777), np.float32(145.6037), np.float32(119.16498), np.float32(133.13556), np.float32(122.95061), np.float32(118.6967), np.float32(121.30716), np.float32(134.3493), np.float32(111.18103), np.float32(122.81871), np.float32(133.09865), np.float32(109.783356), np.float32(105.57214), np.float32(123.71506), np.float32(138.4172), np.float32(115.82904), np.float32(109.598465), np.float32(115.66106), np.float32(108.9212), np.float32(121.24794), np.float32(142.75163), np.float32(145.94289), np.float32(120.289856), np.float32(146.30724), np.float32(137.39268), np.float32(119.66051), np.float32(112.9272), np.float32(109.45776), np.float32(138.55385), np.float32(118.262955), np.float32(106.277115), np.float32(137.43163), np.float32(145.1248), np.float32(108.96829), np.float32(107.41397), np.float32(120.04959), np.float32(105.4861), np.float32(108.7325), np.float32(115.5807), np.float32(110.82863), np.float32(128.38374), np.float32(114.687805), np.float32(142.31552), np.float32(114.83096), np.float32(109.42996), np.float32(124.44847), np.float32(106.46065), np.float32(111.75513), np.float32(113.90608), np.float32(117.37987), np.float32(122.86229), np.float32(133.73297), np.float32(108.87799), np.float32(112.487625), np.float32(114.30376), np.float32(135.32428), np.float32(117.077255), np.float32(144.94542), np.float32(112.37193), np.float32(94.28198), np.float32(119.71721), np.float32(103.83931), np.float32(131.16978), np.float32(113.170425), np.float32(116.60269), np.float32(107.12712), np.float32(148.34583), np.float32(146.27979), np.float32(98.77333), np.float32(122.710556), np.float32(121.05568), np.float32(114.532), np.float32(128.09747), np.float32(132.16402), np.float32(105.53511), np.float32(108.831055), np.float32(112.96118), np.float32(114.02528), np.float32(110.953354), np.float32(137.37662), np.float32(111.30524), np.float32(107.42171), np.float32(122.142365), np.float32(121.769714), np.float32(106.00214), np.float32(123.88699), np.float32(115.82968), np.float32(113.56131), np.float32(109.90265), np.float32(113.27998), np.float32(107.92575), np.float32(116.28998), np.float32(141.52397), np.float32(103.62573), np.float32(120.63904), np.float32(111.01288), np.float32(118.94385), np.float32(125.72342), np.float32(137.37636), np.float32(119.57236), np.float32(106.69417), np.float32(105.61195), np.float32(126.15112), np.float32(114.418625), np.float32(113.25624), np.float32(109.11519), np.float32(114.856674), np.float32(140.4125), np.float32(121.19116), np.float32(128.72003), np.float32(123.792404), np.float32(117.83029), np.float32(99.848755), np.float32(112.863266), np.float32(126.50453), np.float32(113.61757), np.float32(115.65999), np.float32(106.69791), np.float32(121.94679), np.float32(115.657455), np.float32(95.64728), np.float32(120.34108), np.float32(129.90837), np.float32(106.829865), np.float32(112.036545), np.float32(109.32651), np.float32(121.46254), np.float32(109.27936), np.float32(113.85066), np.float32(102.27171), np.float32(107.00423), np.float32(111.653), np.float32(105.08121), np.float32(120.83307), np.float32(103.12152), np.float32(103.589005), np.float32(115.78769), np.float32(129.2935), np.float32(138.08446), np.float32(118.760284), np.float32(127.10916), np.float32(113.82585), np.float32(116.32135), np.float32(111.780045), np.float32(136.54128), np.float32(114.04164), np.float32(117.8587), np.float32(105.92566), np.float32(116.47862), np.float32(112.44182), np.float32(113.90338), np.float32(133.32034), np.float32(132.44936), np.float32(108.95964), np.float32(112.06891), np.float32(118.81827), np.float32(125.01573), np.float32(117.771225), np.float32(97.198364), np.float32(137.9677), np.float32(123.946014), np.float32(121.521454), np.float32(120.028595), np.float32(109.865204), np.float32(109.92529), np.float32(120.73282), np.float32(114.81003), np.float32(121.91928), np.float32(118.66826), np.float32(117.19963), np.float32(116.05319), np.float32(117.72456), np.float32(115.33501), np.float32(156.66205), np.float32(120.59529), np.float32(108.20273), np.float32(116.95439), np.float32(106.52768), np.float32(101.98375), np.float32(119.54166), np.float32(104.36037), np.float32(132.08763), np.float32(125.96033), np.float32(116.34668), np.float32(119.52295), np.float32(99.25816), np.float32(118.8898), np.float32(109.38747), np.float32(115.0647), np.float32(115.91312), np.float32(121.928665), np.float32(121.49077), np.float32(121.870514), np.float32(117.90489), np.float32(116.13129), np.float32(115.67709), np.float32(105.90605), np.float32(130.2956), np.float32(122.58902), np.float32(127.45564), np.float32(105.27054), np.float32(132.53024), np.float32(116.75206), np.float32(107.49588), np.float32(116.80618), np.float32(118.08458), np.float32(145.607), np.float32(124.1828), np.float32(112.808), np.float32(122.92973), np.float32(116.46452), np.float32(109.46178), np.float32(112.35826), np.float32(114.464264), np.float32(112.1781), np.float32(107.26196), np.float32(107.63202), np.float32(129.12004), np.float32(138.49776), np.float32(115.2729), np.float32(110.905365), np.float32(115.40199), np.float32(113.946), np.float32(112.62865), np.float32(98.228195), np.float32(111.283905), np.float32(117.088486), np.float32(100.691635), np.float32(105.14665), np.float32(126.53923), np.float32(120.23802), np.float32(107.16695), np.float32(115.12123), np.float32(124.91727), np.float32(109.29793), np.float32(114.49051), np.float32(119.51027), np.float32(141.54047), np.float32(107.786575), np.float32(123.35942), np.float32(112.246506), np.float32(107.77098), np.float32(118.85269), np.float32(140.47191), np.float32(118.61777), np.float32(115.31749), np.float32(125.08684), np.float32(114.65286), np.float32(134.39235), np.float32(115.025894), np.float32(132.94695), np.float32(115.47078), np.float32(127.638855), np.float32(112.593155), np.float32(109.61885), np.float32(124.88629), np.float32(117.20586), np.float32(102.78143), np.float32(111.2984), np.float32(117.621), np.float32(149.13583), np.float32(126.275955), np.float32(131.09077), np.float32(104.999466), np.float32(122.43289), np.float32(120.309006), np.float32(122.938736), np.float32(106.73007), np.float32(98.6651), np.float32(131.36745), np.float32(123.71788), np.float32(119.06409), np.float32(128.9404), np.float32(119.76692), np.float32(116.1384), np.float32(105.4406), np.float32(104.17122), np.float32(122.47212), np.float32(131.69418), np.float32(109.888245), np.float32(104.341324), np.float32(124.53049), np.float32(121.98352), np.float32(145.80345), np.float32(127.29979), np.float32(152.46866), np.float32(111.76242), np.float32(110.05644), np.float32(100.12685), np.float32(132.466), np.float32(127.42624), np.float32(119.37746), np.float32(122.30081), np.float32(116.85268), np.float32(121.638596), np.float32(115.43935), np.float32(116.83679), np.float32(146.33311), np.float32(125.7995), np.float32(114.33908), np.float32(136.22154), np.float32(125.240814), np.float32(112.96715), np.float32(106.992874), np.float32(117.504), np.float32(105.15436), np.float32(130.63754), np.float32(116.5092), np.float32(102.440994), np.float32(112.34161), np.float32(127.79787), np.float32(111.95178), np.float32(111.23892), np.float32(100.26416), np.float32(113.51573), np.float32(127.44624), np.float32(108.47644), np.float32(107.21431), np.float32(123.51338), np.float32(119.46051), np.float32(117.80505)]\n",
      "GrayScale values mean:124.6111831665039\n"
     ]
    }
   ],
   "source": [
    "# checking the channel composition of the images\n",
    "# using only the pepper folder for an estimate\n",
    "pepper_path = ['Pepper/Pepper__bell___healthy', 'Pepper/Pepper__bell___Bacterial_spot']\n",
    "mean_per_channel = [0.0, 0.0, 0.0]\n",
    "grayScale_val = []\n",
    "counter = 0\n",
    "for cls in pepper_path:\n",
    "    in_path = Path(curr_dir)/destination_dir/cls\n",
    "    for file in os.listdir(in_path):\n",
    "        if file.lower().endswith(('.jpg', '.png')):\n",
    "            with Image.open(in_path/file) as image:\n",
    "                # respect EXIF orientation; then work on the transposed image\n",
    "                img = ImageOps.exif_transpose(image)\n",
    "                counter += 1\n",
    "                img_array_rgb = np.asarray(img)\n",
    "                # convert to grayScale\n",
    "                img_gray = img.convert('L')\n",
    "                img_array_gray = np.asarray(img_gray).astype('float32')\n",
    "                grayScale_val.append(img_array_gray.mean())\n",
    "                mean_per_channel += img_array_rgb.mean(axis = (0,1))\n",
    "\n",
    "mean_per_channel /= counter\n",
    "print(\"Average per channel:\")\n",
    "print(f\"Red:   {mean_per_channel[0]:.2f}\")\n",
    "print(f\"Green: {mean_per_channel[1]:.2f}\")\n",
    "print(f\"Blue:  {mean_per_channel[2]:.2f}\\n\")\n",
    "print(f\"GrayScale values:{grayScale_val}\")\n",
    "print(f\"GrayScale values mean:{sum(grayScale_val)/counter}\")"
   ]
  },
  {
   "cell_type": "markdown",
   "id": "6d48b128",
   "metadata": {},
   "source": [
    "## Plotting Pixel Intensity (GrayScale distribution)"
   ]
  },
  {
   "cell_type": "code",
   "execution_count": 104,
   "id": "4abdc1b8",
   "metadata": {},
   "outputs": [
    {
     "name": "stderr",
     "output_type": "stream",
     "text": [
      "/tmp/ipykernel_1447/3211469656.py:3: UserWarning: No artists with labels found to put in legend.  Note that artists whose label start with an underscore are ignored when legend() is called with no argument.\n",
      "  histogram.legend().set_title('Pixel Intensity Histogram')\n"
     ]
    },
    {
     "data": {
      "text/plain": [
       "Text(0, 0.5, 'No. of Images')"
      ]
     },
     "execution_count": 104,
     "metadata": {},
     "output_type": "execute_result"
    },
    {
     "data": {
      "image/png": "[encoded data removed]",
      "text/plain": [
       "<Figure size 640x480 with 1 Axes>"
      ]
     },
     "metadata": {},
     "output_type": "display_data"
    }
   ],
   "source": [
    "grayScale_val_arr = np.array(grayScale_val)\n",
    "histogram = sns.histplot(grayScale_val_arr, bins=30, color='skyblue', edgecolor='black')\n",
    "histogram.legend().set_title('Pixel Intensity Histogram')\n",
    "plt.xlabel('Pixel Intensity')\n",
    "plt.ylabel('No. of Images')"
   ]
  },
  {
   "cell_type": "markdown",
   "id": "2cd563ad",
   "metadata": {},
   "source": [
    "## Tackling Data Imbalance Issue"
   ]
  },
  {
   "cell_type": "code",
   "execution_count": 105,
   "id": "63e92fb3",
   "metadata": {},
   "outputs": [
    {
     "data": {
      "image/png": "[encoded data removed]",
      "text/plain": [
       "<Figure size 800x500 with 1 Axes>"
      ]
     },
     "metadata": {},
     "output_type": "display_data"
    }
   ],
   "source": [
    "# Plotting the current imbalance\n",
    "class_dist_df.plot(\n",
    "    kind='bar',\n",
    "    x='veg_name',\n",
    "    y=['healthy_files', 'disease_files'],\n",
    "    figsize=(8,5),\n",
    "    title='Barplot of Class Distribution',\n",
    ")\n",
    "plt.xlabel('Vegetable Type')\n",
    "plt.ylabel('Number of Images')\n",
    "plt.xticks(rotation = 0)\n",
    "plt.tight_layout()\n",
    "plt.show()"
   ]
  },
  {
   "cell_type": "code",
   "execution_count": 106,
   "id": "104ee312",
   "metadata": {},
   "outputs": [],
   "source": [
    "# test image for augmentation\n",
    "# test_img = Image.open(f'{curr_dir}/test_data/test_img.JPG')\n",
    "# test_img.size"
   ]
  },
  {
   "cell_type": "code",
   "execution_count": 107,
   "id": "d6a34678",
   "metadata": {},
   "outputs": [
    {
     "name": "stderr",
     "output_type": "stream",
     "text": [
      "/home/root123/.local/lib/python3.10/site-packages/albumentations/core/validation.py:114: UserWarning: ShiftScaleRotate is a special case of Affine transform. Please use Affine transform instead.\n",
      "  original_init(self, **validated_kwargs)\n",
      "/tmp/ipykernel_1447/4164632610.py:36: UserWarning: Argument(s) 'var_limit' are not valid for transform GaussNoise\n",
      "  A.GaussNoise(var_limit=(10.0, 50.0), p=0.3), # var limit is the range of variance that aids select random noise values\n"
     ]
    }
   ],
   "source": [
    "# define tranformation\n",
    "transform = A.Compose([\n",
    "        \n",
    "        # GEOMETRIC TRANSFORMATION\n",
    "        # p=0.5, rotate images randomly 50% of the time\n",
    "        #leaves can appear mirrored\n",
    "        A.RandomRotate90(p=0.5),\n",
    "        A.HorizontalFlip(p=0.5),\n",
    "        A.VerticalFlip(p=0.3),\n",
    "        A.ShiftScaleRotate(\n",
    "                            shift_limit=0.05, # image can move +-5% of original width/height in any direction \n",
    "                            scale_limit=0.1, # random scaling between 90% (zoom-out) and 110%(zoom-in)\n",
    "                            rotate_limit=30, # rotation limit: -30 to +30\n",
    "                            p=0.7 # applied 70% of times\n",
    "                        ),\n",
    "        # COLOR AND LIGHTING \n",
    "        A.RandomBrightnessContrast(\n",
    "                            brightness_limit=0.2, # change +-20% brightness of the original \n",
    "                            contrast_limit=0.2, # same as brightness but for contrast\n",
    "                            p=0.6),\n",
    "        A.HueSaturationValue(\n",
    "                            hue_shift_limit=10, # change hue angle by +-10 degrees\n",
    "                            sat_shift_limit=15, # change saturation val by +-15 units\n",
    "                            val_shift_limit=10, # change brightness val by +-10 units\n",
    "                            p=0.5),\n",
    "        # Contrast Limited Adaptive Histogram Equalization\n",
    "        # Enhances local contrast by equalizing brightness in small regions.\n",
    "        # Useful for images where lighting is uneven.\n",
    "        A.CLAHE(clip_limit=4.0, p=0.3),  # 'clip_limit' controls how strong equalization is. Stronger val can introduce visible noise\n",
    "        \n",
    "        # NOISE AND BLUR\n",
    "        # blur_limit (3,5): Either 3x3 or 5x5 kernel selection at random\n",
    "        # kernel: A small window of pixel i.e., say 3x3 matrix sliding through the image. Combines those pixels to get a new one\n",
    "        A.GaussianBlur(blur_limit=(3,5), p=0.3),\n",
    "        \n",
    "        A.GaussNoise(var_limit=(10.0, 50.0), p=0.3), # var limit is the range of variance that aids select random noise values\n",
    "        \n",
    "        # SPATIAL RANDOMNESS\n",
    "        A.RandomSizedCrop(\n",
    "                            min_max_height=(256,256),\n",
    "                            size=(256,256),\n",
    "                            # scale=(0.8,1.0) # random crop area between 80% to 100%\n",
    "                            # ratio=(0.9,1.1) # control aspect ratio (w/h). 0.9: h greater than 2, 1.1: w greater than h\n",
    "                            p=0.5), \n",
    "\n",
    "        A.PadIfNeeded(min_height=256, min_width=256, p=1),  \n",
    "    ])"
   ]
  },
  {
   "cell_type": "code",
   "execution_count": 108,
   "id": "374de513",
   "metadata": {},
   "outputs": [],
   "source": [
    "# checking test images\n",
    "# img_list = [test_img]\n",
    "# test_img_arr = np.array(test_img)\n",
    "# for i in range(5):\n",
    "#     augmentations = transform(image=test_img_arr)\n",
    "#     augmented_img = augmentations['image']\n",
    "#     img_list.append(augmented_img)\n",
    "\n",
    "# for i, img in enumerate(img_list):\n",
    "#     plt.subplot(1, len(img_list), i+1)\n",
    "#     plt.imshow(img)\n",
    "#     plt.axis('off')\n",
    "# plt.show()\n"
   ]
  },
  {
   "cell_type": "code",
   "execution_count": 109,
   "id": "8e9ed861",
   "metadata": {},
   "outputs": [
    {
     "data": {
      "text/html": [
       "<div>\n",
       "<style scoped>\n",
       "    .dataframe tbody tr th:only-of-type {\n",
       "        vertical-align: middle;\n",
       "    }\n",
       "\n",
       "    .dataframe tbody tr th {\n",
       "        vertical-align: top;\n",
       "    }\n",
       "\n",
       "    .dataframe thead th {\n",
       "        text-align: right;\n",
       "    }\n",
       "</style>\n",
       "<table border=\"1\" class=\"dataframe\">\n",
       "  <thead>\n",
       "    <tr style=\"text-align: right;\">\n",
       "      <th></th>\n",
       "      <th>veg_name</th>\n",
       "      <th>disease_classes</th>\n",
       "      <th>healthy_classes</th>\n",
       "      <th>disease_files</th>\n",
       "      <th>healthy_files</th>\n",
       "      <th>total_files</th>\n",
       "    </tr>\n",
       "  </thead>\n",
       "  <tbody>\n",
       "    <tr>\n",
       "      <th>0</th>\n",
       "      <td>Tomato</td>\n",
       "      <td>10</td>\n",
       "      <td>1</td>\n",
       "      <td>16011</td>\n",
       "      <td>1591</td>\n",
       "      <td>17602</td>\n",
       "    </tr>\n",
       "    <tr>\n",
       "      <th>1</th>\n",
       "      <td>Pepper</td>\n",
       "      <td>1</td>\n",
       "      <td>1</td>\n",
       "      <td>997</td>\n",
       "      <td>1478</td>\n",
       "      <td>2475</td>\n",
       "    </tr>\n",
       "    <tr>\n",
       "      <th>2</th>\n",
       "      <td>Potato</td>\n",
       "      <td>3</td>\n",
       "      <td>1</td>\n",
       "      <td>2152</td>\n",
       "      <td>152</td>\n",
       "      <td>2304</td>\n",
       "    </tr>\n",
       "  </tbody>\n",
       "</table>\n",
       "</div>"
      ],
      "text/plain": [
       "  veg_name  disease_classes  healthy_classes  disease_files  healthy_files  \\\n",
       "0   Tomato               10                1          16011           1591   \n",
       "1   Pepper                1                1            997           1478   \n",
       "2   Potato                3                1           2152            152   \n",
       "\n",
       "   total_files  \n",
       "0        17602  \n",
       "1         2475  \n",
       "2         2304  "
      ]
     },
     "execution_count": 109,
     "metadata": {},
     "output_type": "execute_result"
    }
   ],
   "source": [
    "class_dist_df.head()"
   ]
  },
  {
   "cell_type": "code",
   "execution_count": 110,
   "id": "005a60c1",
   "metadata": {},
   "outputs": [],
   "source": [
    "img_paths = [Path(curr_dir)/destination_dir/'Potato/Potato_train', \n",
    "             Path(curr_dir)/destination_dir/'Tomato/Tomato_train']"
   ]
  },
  {
   "cell_type": "code",
   "execution_count": 111,
   "id": "bb7355fa",
   "metadata": {},
   "outputs": [
    {
     "name": "stdout",
     "output_type": "stream",
     "text": [
      "[np.int64(1785), np.int64(12819)]\n"
     ]
    }
   ],
   "source": [
    "# keeping healthy files 90% of disease files\n",
    "healthy_file_amount = [\n",
    "    math.ceil(0.9 * class_dist_df.loc[2, 'disease_files']) - class_dist_df.loc[2, 'healthy_files'], # potato\n",
    "    math.ceil(0.9 * class_dist_df.loc[0, 'disease_files']) - class_dist_df.loc[0, 'healthy_files'], # tomato\n",
    "]\n",
    "\n",
    "print(healthy_file_amount)"
   ]
  },
  {
   "cell_type": "code",
   "execution_count": 112,
   "id": "e0150778",
   "metadata": {},
   "outputs": [
    {
     "data": {
      "text/plain": [
       "[11, 8]"
      ]
     },
     "execution_count": 112,
     "metadata": {},
     "output_type": "execute_result"
    }
   ],
   "source": [
    "# augment per original image\n",
    "aug_per_img = [\n",
    "    math.floor(healthy_file_amount[0]/class_dist_df.loc[2, 'healthy_files']), # potato\n",
    "    math.floor(healthy_file_amount[1]/class_dist_df.loc[0, 'healthy_files']), # tomato\n",
    "]\n",
    "\n",
    "aug_per_img"
   ]
  },
  {
   "cell_type": "code",
   "execution_count": 113,
   "id": "a5c739e5",
   "metadata": {},
   "outputs": [],
   "source": [
    "def augment_images(img_paths, aug_per_img = [1,1], num_ori_img = [-1,-1]):   \n",
    "    for curr_veg, img_path in enumerate(img_paths):\n",
    "        for counter, image in enumerate(os.listdir(img_path)):\n",
    "            if image.lower().endswith(('.jpg', '.png')):\n",
    "                img = Image.open(img_path/image)\n",
    "                img_arr = np.array(img)\n",
    "                for i in range(aug_per_img[curr_veg]):\n",
    "                    augmentations = transform(image = img_arr)\n",
    "                    augmented_img = Image.fromarray(augmentations['image'])\n",
    "                    save_path = img_path/f'augmented_image_{aug_per_img[curr_veg]}_{counter}_{i}.jpg'\n",
    "                    augmented_img.save(save_path)\n",
    "            if counter == num_ori_img[curr_veg]:\n",
    "                break"
   ]
  },
  {
   "cell_type": "code",
   "execution_count": null,
   "id": "d51d7545",
   "metadata": {},
   "outputs": [],
   "source": [
    "# augment_images(img_paths=img_paths, aug_per_img=aug_per_img)"
   ]
  },
  {
   "cell_type": "code",
   "execution_count": 115,
   "id": "8d5b9ff5",
   "metadata": {},
   "outputs": [],
   "source": [
    "# remaining files\n",
    "remaining_files = [\n",
    "    (healthy_file_amount[0] - (aug_per_img[0] * class_dist_df.loc[2, 'healthy_files'])) - 1, # adjusting for counter in function\n",
    "    (healthy_file_amount[1] - (aug_per_img[1] * class_dist_df.loc[0, 'healthy_files'])) - 1, \n",
    "]"
   ]
  },
  {
   "cell_type": "code",
   "execution_count": null,
   "id": "e4371705",
   "metadata": {},
   "outputs": [],
   "source": [
    "# augment_images(img_paths=img_paths, num_ori_img=remaining_files)"
   ]
  },
  {
   "cell_type": "code",
   "execution_count": 117,
   "id": "db069b6c",
   "metadata": {},
   "outputs": [
    {
     "name": "stdout",
     "output_type": "stream",
     "text": [
      "Number of new healthy files:\n",
      "Potato:1928\n",
      "Tomato:14403\n",
      "\n"
     ]
    }
   ],
   "source": [
    "# check number of healthy files\n",
    "potato_train = 0\n",
    "tomato_train = 0\n",
    "\n",
    "for veg_indx, img_path in enumerate(img_paths):\n",
    "    num_images = len([img for img in os.listdir(img_path) if img.lower().endswith(('.jpg', '.png'))])\n",
    "    if veg_indx == 0: potato_train = num_images\n",
    "    else: tomato_train = num_images\n",
    "    \n",
    "print(f'Number of new healthy files:\\nPotato:{potato_train}\\nTomato:{tomato_train}\\n')    "
   ]
  },
  {
   "cell_type": "code",
   "execution_count": 118,
   "id": "9677379f",
   "metadata": {},
   "outputs": [],
   "source": [
    "aug_class_dist_df = class_dist_df.copy()\n",
    "aug_class_dist_df.loc[0, 'healthy_files'] = tomato_train \n",
    "aug_class_dist_df.loc[2, 'healthy_files'] = potato_train\n",
    "aug_class_dist_df.loc[0, 'total_files'] = aug_class_dist_df.loc[0, 'disease_files'] + tomato_train\n",
    "aug_class_dist_df.loc[2, 'total_files'] = aug_class_dist_df.loc[2, 'disease_files'] + potato_train"
   ]
  },
  {
   "cell_type": "code",
   "execution_count": 119,
   "id": "5c275e07",
   "metadata": {},
   "outputs": [
    {
     "data": {
      "text/html": [
       "<div>\n",
       "<style scoped>\n",
       "    .dataframe tbody tr th:only-of-type {\n",
       "        vertical-align: middle;\n",
       "    }\n",
       "\n",
       "    .dataframe tbody tr th {\n",
       "        vertical-align: top;\n",
       "    }\n",
       "\n",
       "    .dataframe thead th {\n",
       "        text-align: right;\n",
       "    }\n",
       "</style>\n",
       "<table border=\"1\" class=\"dataframe\">\n",
       "  <thead>\n",
       "    <tr style=\"text-align: right;\">\n",
       "      <th></th>\n",
       "      <th>veg_name</th>\n",
       "      <th>disease_classes</th>\n",
       "      <th>healthy_classes</th>\n",
       "      <th>disease_files</th>\n",
       "      <th>healthy_files</th>\n",
       "      <th>total_files</th>\n",
       "    </tr>\n",
       "  </thead>\n",
       "  <tbody>\n",
       "    <tr>\n",
       "      <th>0</th>\n",
       "      <td>Tomato</td>\n",
       "      <td>10</td>\n",
       "      <td>1</td>\n",
       "      <td>16011</td>\n",
       "      <td>1591</td>\n",
       "      <td>17602</td>\n",
       "    </tr>\n",
       "    <tr>\n",
       "      <th>1</th>\n",
       "      <td>Pepper</td>\n",
       "      <td>1</td>\n",
       "      <td>1</td>\n",
       "      <td>997</td>\n",
       "      <td>1478</td>\n",
       "      <td>2475</td>\n",
       "    </tr>\n",
       "    <tr>\n",
       "      <th>2</th>\n",
       "      <td>Potato</td>\n",
       "      <td>3</td>\n",
       "      <td>1</td>\n",
       "      <td>2152</td>\n",
       "      <td>152</td>\n",
       "      <td>2304</td>\n",
       "    </tr>\n",
       "  </tbody>\n",
       "</table>\n",
       "</div>"
      ],
      "text/plain": [
       "  veg_name  disease_classes  healthy_classes  disease_files  healthy_files  \\\n",
       "0   Tomato               10                1          16011           1591   \n",
       "1   Pepper                1                1            997           1478   \n",
       "2   Potato                3                1           2152            152   \n",
       "\n",
       "   total_files  \n",
       "0        17602  \n",
       "1         2475  \n",
       "2         2304  "
      ]
     },
     "execution_count": 119,
     "metadata": {},
     "output_type": "execute_result"
    }
   ],
   "source": [
    "class_dist_df"
   ]
  },
  {
   "cell_type": "code",
   "execution_count": 120,
   "id": "46fb968f",
   "metadata": {},
   "outputs": [
    {
     "data": {
      "text/html": [
       "<div>\n",
       "<style scoped>\n",
       "    .dataframe tbody tr th:only-of-type {\n",
       "        vertical-align: middle;\n",
       "    }\n",
       "\n",
       "    .dataframe tbody tr th {\n",
       "        vertical-align: top;\n",
       "    }\n",
       "\n",
       "    .dataframe thead th {\n",
       "        text-align: right;\n",
       "    }\n",
       "</style>\n",
       "<table border=\"1\" class=\"dataframe\">\n",
       "  <thead>\n",
       "    <tr style=\"text-align: right;\">\n",
       "      <th></th>\n",
       "      <th>veg_name</th>\n",
       "      <th>disease_classes</th>\n",
       "      <th>healthy_classes</th>\n",
       "      <th>disease_files</th>\n",
       "      <th>healthy_files</th>\n",
       "      <th>total_files</th>\n",
       "    </tr>\n",
       "  </thead>\n",
       "  <tbody>\n",
       "    <tr>\n",
       "      <th>0</th>\n",
       "      <td>Tomato</td>\n",
       "      <td>10</td>\n",
       "      <td>1</td>\n",
       "      <td>16011</td>\n",
       "      <td>14403</td>\n",
       "      <td>30414</td>\n",
       "    </tr>\n",
       "    <tr>\n",
       "      <th>1</th>\n",
       "      <td>Pepper</td>\n",
       "      <td>1</td>\n",
       "      <td>1</td>\n",
       "      <td>997</td>\n",
       "      <td>1478</td>\n",
       "      <td>2475</td>\n",
       "    </tr>\n",
       "    <tr>\n",
       "      <th>2</th>\n",
       "      <td>Potato</td>\n",
       "      <td>3</td>\n",
       "      <td>1</td>\n",
       "      <td>2152</td>\n",
       "      <td>1928</td>\n",
       "      <td>4080</td>\n",
       "    </tr>\n",
       "  </tbody>\n",
       "</table>\n",
       "</div>"
      ],
      "text/plain": [
       "  veg_name  disease_classes  healthy_classes  disease_files  healthy_files  \\\n",
       "0   Tomato               10                1          16011          14403   \n",
       "1   Pepper                1                1            997           1478   \n",
       "2   Potato                3                1           2152           1928   \n",
       "\n",
       "   total_files  \n",
       "0        30414  \n",
       "1         2475  \n",
       "2         4080  "
      ]
     },
     "execution_count": 120,
     "metadata": {},
     "output_type": "execute_result"
    }
   ],
   "source": [
    "aug_class_dist_df"
   ]
  },
  {
   "cell_type": "code",
   "execution_count": 121,
   "id": "edff021c",
   "metadata": {},
   "outputs": [
    {
     "data": {
      "image/png": "[encoded data removed]",
      "text/plain": [
       "<Figure size 800x500 with 1 Axes>"
      ]
     },
     "metadata": {},
     "output_type": "display_data"
    }
   ],
   "source": [
    "# Plotting the current balanced dataset\n",
    "aug_class_dist_df.plot(\n",
    "    kind='bar',\n",
    "    x='veg_name',\n",
    "    y=['healthy_files', 'disease_files'],\n",
    "    figsize=(8,5),\n",
    "    title='Barplot of Balanced Class Distribution',\n",
    ")\n",
    "plt.xlabel('Vegetable Type')\n",
    "plt.ylabel('Number of Images')\n",
    "plt.xticks(rotation = 0)\n",
    "plt.tight_layout()\n",
    "plt.show()"
   ]
  }
 ],
 "metadata": {
  "kernelspec": {
   "display_name": "Python 3",
   "language": "python",
   "name": "python3"
  },
  "language_info": {
   "codemirror_mode": {
    "name": "ipython",
    "version": 3
   },
   "file_extension": ".py",
   "mimetype": "text/x-python",
   "name": "python",
   "nbconvert_exporter": "python",
   "pygments_lexer": "ipython3",
   "version": "3.10.12"
  }
 },
 "nbformat": 4,
 "nbformat_minor": 5
}

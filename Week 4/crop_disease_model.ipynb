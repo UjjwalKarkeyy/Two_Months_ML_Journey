{
 "cells": [
  {
   "cell_type": "markdown",
   "id": "363fd7f7",
   "metadata": {},
   "source": [
    "## **Importing libraries**"
   ]
  },
  {
   "cell_type": "code",
   "execution_count": 1,
   "id": "0efa06b9",
   "metadata": {},
   "outputs": [
    {
     "name": "stderr",
     "output_type": "stream",
     "text": [
      "2025-10-20 17:18:38.806729: I tensorflow/core/util/port.cc:153] oneDNN custom operations are on. You may see slightly different numerical results due to floating-point round-off errors from different computation orders. To turn them off, set the environment variable `TF_ENABLE_ONEDNN_OPTS=0`.\n",
      "2025-10-20 17:18:38.918769: I tensorflow/core/platform/cpu_feature_guard.cc:210] This TensorFlow binary is optimized to use available CPU instructions in performance-critical operations.\n",
      "To enable the following instructions: AVX2 AVX512F AVX512_VNNI FMA, in other operations, rebuild TensorFlow with the appropriate compiler flags.\n",
      "2025-10-20 17:18:42.027447: I tensorflow/core/util/port.cc:153] oneDNN custom operations are on. You may see slightly different numerical results due to floating-point round-off errors from different computation orders. To turn them off, set the environment variable `TF_ENABLE_ONEDNN_OPTS=0`.\n"
     ]
    }
   ],
   "source": [
    "import tensorflow as tf\n",
    "from tensorflow.keras.models import Sequential\n",
    "from tensorflow.keras.layers import Dense, Conv2D, MaxPool2D, Flatten\n",
    "import matplotlib.pyplot as plt\n",
    "import pandas as pd\n",
    "import seaborn as sns\n",
    "import os"
   ]
  },
  {
   "cell_type": "markdown",
   "id": "aa2e4a26",
   "metadata": {},
   "source": [
    "## Verifying the GPU Setup [tensorflow + CUDA (Compute Unified Device Architecture) => Let's you use GPU for Computation other than Graphics]"
   ]
  },
  {
   "cell_type": "code",
   "execution_count": 2,
   "id": "781937c4",
   "metadata": {},
   "outputs": [
    {
     "name": "stdout",
     "output_type": "stream",
     "text": [
      "2025-10-20 17:18:44.197046: I tensorflow/core/util/port.cc:153] oneDNN custom operations are on. You may see slightly different numerical results due to floating-point round-off errors from different computation orders. To turn them off, set the environment variable `TF_ENABLE_ONEDNN_OPTS=0`.\n",
      "2025-10-20 17:18:44.285834: I tensorflow/core/platform/cpu_feature_guard.cc:210] This TensorFlow binary is optimized to use available CPU instructions in performance-critical operations.\n",
      "To enable the following instructions: AVX2 AVX512F AVX512_VNNI FMA, in other operations, rebuild TensorFlow with the appropriate compiler flags.\n",
      "2025-10-20 17:18:46.479449: I tensorflow/core/util/port.cc:153] oneDNN custom operations are on. You may see slightly different numerical results due to floating-point round-off errors from different computation orders. To turn them off, set the environment variable `TF_ENABLE_ONEDNN_OPTS=0`.\n",
      "[PhysicalDevice(name='/physical_device:GPU:0', device_type='GPU')]\n"
     ]
    }
   ],
   "source": [
    "!python3 -c \"import tensorflow as tf; print(tf.config.list_physical_devices('GPU'))\""
   ]
  },
  {
   "cell_type": "markdown",
   "id": "eaaa59ff",
   "metadata": {},
   "source": [
    "## **Data Preprocessing**\n",
    "#### Used *'https://youtube.com/playlist?list=PLvz5lCwTgdXDNcXEVwwHsb9DwjNXZGsoy&si=gPCwVkKpS63FVLAC'* for guidance"
   ]
  },
  {
   "cell_type": "markdown",
   "id": "865ed928",
   "metadata": {},
   "source": [
    "# Training Image Preprocessing"
   ]
  },
  {
   "cell_type": "code",
   "execution_count": 3,
   "id": "2b686a58",
   "metadata": {},
   "outputs": [
    {
     "data": {
      "text/plain": [
       "'/home/root123/GitHub/Two_Months_ML_Journey/Week 4'"
      ]
     },
     "execution_count": 3,
     "metadata": {},
     "output_type": "execute_result"
    }
   ],
   "source": [
    "os.getcwd()"
   ]
  },
  {
   "cell_type": "code",
   "execution_count": 4,
   "id": "abab9437",
   "metadata": {},
   "outputs": [
    {
     "name": "stdout",
     "output_type": "stream",
     "text": [
      "Found 24652 files belonging to 15 classes.\n"
     ]
    },
    {
     "name": "stderr",
     "output_type": "stream",
     "text": [
      "WARNING: All log messages before absl::InitializeLog() is called are written to STDERR\n",
      "I0000 00:00:1760960031.408355  190601 gpu_device.cc:2020] Created device /job:localhost/replica:0/task:0/device:GPU:0 with 1767 MB memory:  -> device: 0, name: NVIDIA GeForce RTX 3050 Laptop GPU, pci bus id: 0000:01:00.0, compute capability: 8.6\n"
     ]
    }
   ],
   "source": [
    "training_set = tf.keras.utils.image_dataset_from_directory(\n",
    "    './data/PlantVillage_Cleaned/split_data/train',\n",
    "    labels=\"inferred\", # leaving inferred, keras generates labels and class name automatically i.e.,\n",
    "    # [Pepper_mold, Potato_healthy, Tomato_healthy, ...] alphabetically, where labels [0, 1, 2, ...]\n",
    "    label_mode=\"categorical\",\n",
    "    class_names=None,\n",
    "    color_mode=\"rgb\",\n",
    "    batch_size=32,\n",
    "    image_size=(256, 256),\n",
    "    shuffle=True,\n",
    "    seed=40,\n",
    "    validation_split=None,\n",
    "    subset=None,\n",
    "    interpolation=\"bilinear\",\n",
    "    follow_links=False,\n",
    "    crop_to_aspect_ratio=False,\n",
    "    pad_to_aspect_ratio=False,\n",
    "    data_format=None,\n",
    "    verbose=True,\n",
    ")"
   ]
  },
  {
   "cell_type": "markdown",
   "id": "30f299cb",
   "metadata": {},
   "source": [
    "## Validation Image Preprocessing"
   ]
  },
  {
   "cell_type": "code",
   "execution_count": 5,
   "id": "a41367da",
   "metadata": {},
   "outputs": [
    {
     "name": "stdout",
     "output_type": "stream",
     "text": [
      "Found 5278 files belonging to 15 classes.\n"
     ]
    }
   ],
   "source": [
    "validation_set = tf.keras.utils.image_dataset_from_directory(\n",
    "    './data/PlantVillage_Cleaned/split_data/valid',\n",
    "    labels=\"inferred\", \n",
    "    label_mode=\"categorical\",\n",
    "    class_names=None,\n",
    "    color_mode=\"rgb\",\n",
    "    batch_size=32,\n",
    "    image_size=(256, 256),\n",
    "    shuffle=True,\n",
    "    seed=40,\n",
    "    validation_split=None,\n",
    "    subset=None,\n",
    "    interpolation=\"bilinear\",\n",
    "    follow_links=False,\n",
    "    crop_to_aspect_ratio=False,\n",
    "    pad_to_aspect_ratio=False,\n",
    "    data_format=None,\n",
    "    verbose=True,\n",
    ")"
   ]
  },
  {
   "cell_type": "code",
   "execution_count": 6,
   "id": "11b565fb",
   "metadata": {},
   "outputs": [
    {
     "name": "stdout",
     "output_type": "stream",
     "text": [
      "tf.Tensor(\n",
      "[[[[  0.   0.   0.]\n",
      "   [  0.   0.   0.]\n",
      "   [  0.   0.   0.]\n",
      "   ...\n",
      "   [  0.   0.   0.]\n",
      "   [  0.   0.   0.]\n",
      "   [  0.   0.   0.]]\n",
      "\n",
      "  [[  0.   0.   0.]\n",
      "   [  0.   0.   0.]\n",
      "   [  0.   0.   0.]\n",
      "   ...\n",
      "   [  0.   0.   0.]\n",
      "   [  0.   0.   0.]\n",
      "   [  0.   0.   0.]]\n",
      "\n",
      "  [[  0.   0.   0.]\n",
      "   [  0.   0.   0.]\n",
      "   [  0.   0.   0.]\n",
      "   ...\n",
      "   [  0.   0.   0.]\n",
      "   [  0.   0.   0.]\n",
      "   [  0.   0.   0.]]\n",
      "\n",
      "  ...\n",
      "\n",
      "  [[  0.   0.   0.]\n",
      "   [  0.   0.   0.]\n",
      "   [  0.   0.   0.]\n",
      "   ...\n",
      "   [  0.   0.   0.]\n",
      "   [  0.   0.   0.]\n",
      "   [  0.   0.   0.]]\n",
      "\n",
      "  [[  0.   0.   0.]\n",
      "   [  0.   0.   0.]\n",
      "   [  0.   0.   0.]\n",
      "   ...\n",
      "   [  0.   0.   0.]\n",
      "   [  0.   0.   0.]\n",
      "   [  0.   0.   0.]]\n",
      "\n",
      "  [[  0.   0.   0.]\n",
      "   [  0.   0.   0.]\n",
      "   [  0.   0.   0.]\n",
      "   ...\n",
      "   [  0.   0.   0.]\n",
      "   [  0.   0.   0.]\n",
      "   [  0.   0.   0.]]]\n",
      "\n",
      "\n",
      " [[[111. 102. 107.]\n",
      "   [ 97.  88.  93.]\n",
      "   [111. 102. 107.]\n",
      "   ...\n",
      "   [111. 102. 107.]\n",
      "   [105.  96. 101.]\n",
      "   [ 82.  73.  78.]]\n",
      "\n",
      "  [[123. 114. 119.]\n",
      "   [108.  99. 104.]\n",
      "   [115. 106. 111.]\n",
      "   ...\n",
      "   [124. 115. 120.]\n",
      "   [105.  96. 101.]\n",
      "   [ 86.  77.  82.]]\n",
      "\n",
      "  [[123. 114. 119.]\n",
      "   [111. 102. 107.]\n",
      "   [115. 106. 111.]\n",
      "   ...\n",
      "   [114. 105. 110.]\n",
      "   [100.  91.  96.]\n",
      "   [111. 102. 107.]]\n",
      "\n",
      "  ...\n",
      "\n",
      "  [[168. 163. 169.]\n",
      "   [165. 160. 166.]\n",
      "   [161. 156. 162.]\n",
      "   ...\n",
      "   [161. 154. 161.]\n",
      "   [159. 152. 159.]\n",
      "   [156. 149. 156.]]\n",
      "\n",
      "  [[163. 158. 164.]\n",
      "   [160. 155. 161.]\n",
      "   [157. 152. 158.]\n",
      "   ...\n",
      "   [161. 154. 161.]\n",
      "   [161. 154. 161.]\n",
      "   [160. 153. 160.]]\n",
      "\n",
      "  [[152. 147. 153.]\n",
      "   [151. 146. 152.]\n",
      "   [152. 147. 153.]\n",
      "   ...\n",
      "   [160. 153. 160.]\n",
      "   [162. 155. 162.]\n",
      "   [164. 157. 164.]]]\n",
      "\n",
      "\n",
      " [[[  3.   3.   3.]\n",
      "   [  3.   3.   3.]\n",
      "   [  3.   3.   3.]\n",
      "   ...\n",
      "   [  3.   3.   3.]\n",
      "   [  3.   3.   3.]\n",
      "   [  3.   3.   3.]]\n",
      "\n",
      "  [[  3.   3.   3.]\n",
      "   [  3.   3.   3.]\n",
      "   [  3.   3.   3.]\n",
      "   ...\n",
      "   [  3.   3.   3.]\n",
      "   [  3.   3.   3.]\n",
      "   [  3.   3.   3.]]\n",
      "\n",
      "  [[  3.   3.   3.]\n",
      "   [  3.   3.   3.]\n",
      "   [  3.   3.   3.]\n",
      "   ...\n",
      "   [  3.   3.   3.]\n",
      "   [  3.   3.   3.]\n",
      "   [  3.   3.   3.]]\n",
      "\n",
      "  ...\n",
      "\n",
      "  [[  3.   3.   3.]\n",
      "   [  3.   3.   3.]\n",
      "   [  3.   3.   3.]\n",
      "   ...\n",
      "   [  3.   3.   3.]\n",
      "   [  3.   3.   3.]\n",
      "   [  3.   3.   3.]]\n",
      "\n",
      "  [[  3.   3.   3.]\n",
      "   [  3.   3.   3.]\n",
      "   [  3.   3.   3.]\n",
      "   ...\n",
      "   [  3.   3.   3.]\n",
      "   [  3.   3.   3.]\n",
      "   [  3.   3.   3.]]\n",
      "\n",
      "  [[  3.   3.   3.]\n",
      "   [  3.   3.   3.]\n",
      "   [  3.   3.   3.]\n",
      "   ...\n",
      "   [  3.   3.   3.]\n",
      "   [  3.   3.   3.]\n",
      "   [  3.   3.   3.]]]\n",
      "\n",
      "\n",
      " ...\n",
      "\n",
      "\n",
      " [[[ 15.   0.   0.]\n",
      "   [ 96. 103.  95.]\n",
      "   [105. 161. 148.]\n",
      "   ...\n",
      "   [187. 195. 206.]\n",
      "   [ 13.   7.  21.]\n",
      "   [121. 107. 122.]]\n",
      "\n",
      "  [[113.  87.  86.]\n",
      "   [ 36.  33.  28.]\n",
      "   [ 10.  50.  41.]\n",
      "   ...\n",
      "   [143. 164. 157.]\n",
      "   [ 17.  17.  19.]\n",
      "   [ 15.   4.  10.]]\n",
      "\n",
      "  [[ 84.  44.  52.]\n",
      "   [ 82.  57.  61.]\n",
      "   [ 42.  48.  46.]\n",
      "   ...\n",
      "   [107. 153. 107.]\n",
      "   [ 61.  75.  52.]\n",
      "   [183. 181. 169.]]\n",
      "\n",
      "  ...\n",
      "\n",
      "  [[ 49.  25.  77.]\n",
      "   [ 39.  25.  50.]\n",
      "   [ 24.  31.   0.]\n",
      "   ...\n",
      "   [ 22.   6.   0.]\n",
      "   [ 49.  80.  49.]\n",
      "   [ 15.  71.  44.]]\n",
      "\n",
      "  [[ 96.  67.  87.]\n",
      "   [  3.   0.   9.]\n",
      "   [ 64. 107. 100.]\n",
      "   ...\n",
      "   [  0.  18.   0.]\n",
      "   [ 36. 106.  46.]\n",
      "   [  0.  74.   6.]]\n",
      "\n",
      "  [[ 25.   0.   0.]\n",
      "   [ 28.  27.  32.]\n",
      "   [ 66. 127. 132.]\n",
      "   ...\n",
      "   [ 99. 160. 118.]\n",
      "   [ 71. 161.  87.]\n",
      "   [ 41. 145.  56.]]]\n",
      "\n",
      "\n",
      " [[[132. 130. 135.]\n",
      "   [130. 128. 133.]\n",
      "   [128. 126. 131.]\n",
      "   ...\n",
      "   [129. 127. 130.]\n",
      "   [128. 126. 129.]\n",
      "   [127. 125. 128.]]\n",
      "\n",
      "  [[130. 128. 133.]\n",
      "   [128. 126. 131.]\n",
      "   [127. 125. 130.]\n",
      "   ...\n",
      "   [130. 128. 131.]\n",
      "   [129. 127. 130.]\n",
      "   [129. 127. 130.]]\n",
      "\n",
      "  [[127. 125. 130.]\n",
      "   [126. 124. 129.]\n",
      "   [126. 124. 129.]\n",
      "   ...\n",
      "   [129. 127. 130.]\n",
      "   [130. 128. 131.]\n",
      "   [129. 127. 130.]]\n",
      "\n",
      "  ...\n",
      "\n",
      "  [[ 83.  87.  90.]\n",
      "   [ 83.  87.  90.]\n",
      "   [ 83.  87.  90.]\n",
      "   ...\n",
      "   [ 78.  83.  86.]\n",
      "   [ 78.  83.  86.]\n",
      "   [ 80.  85.  88.]]\n",
      "\n",
      "  [[ 82.  86.  89.]\n",
      "   [ 83.  87.  90.]\n",
      "   [ 83.  87.  90.]\n",
      "   ...\n",
      "   [ 78.  83.  86.]\n",
      "   [ 78.  83.  86.]\n",
      "   [ 80.  85.  88.]]\n",
      "\n",
      "  [[ 82.  86.  89.]\n",
      "   [ 82.  86.  89.]\n",
      "   [ 83.  87.  90.]\n",
      "   ...\n",
      "   [ 78.  83.  86.]\n",
      "   [ 78.  83.  86.]\n",
      "   [ 80.  85.  88.]]]\n",
      "\n",
      "\n",
      " [[[172. 170. 171.]\n",
      "   [159. 157. 158.]\n",
      "   [153. 151. 152.]\n",
      "   ...\n",
      "   [136. 134. 137.]\n",
      "   [137. 135. 138.]\n",
      "   [142. 140. 143.]]\n",
      "\n",
      "  [[167. 165. 166.]\n",
      "   [161. 159. 160.]\n",
      "   [161. 159. 160.]\n",
      "   ...\n",
      "   [149. 147. 150.]\n",
      "   [153. 151. 154.]\n",
      "   [160. 158. 161.]]\n",
      "\n",
      "  [[167. 165. 166.]\n",
      "   [165. 163. 164.]\n",
      "   [168. 166. 167.]\n",
      "   ...\n",
      "   [151. 149. 152.]\n",
      "   [159. 157. 160.]\n",
      "   [168. 166. 169.]]\n",
      "\n",
      "  ...\n",
      "\n",
      "  [[111. 107. 104.]\n",
      "   [113. 109. 106.]\n",
      "   [115. 111. 108.]\n",
      "   ...\n",
      "   [124. 120. 117.]\n",
      "   [113. 109. 106.]\n",
      "   [125. 121. 118.]]\n",
      "\n",
      "  [[118. 114. 111.]\n",
      "   [112. 108. 105.]\n",
      "   [113. 109. 106.]\n",
      "   ...\n",
      "   [125. 121. 118.]\n",
      "   [118. 114. 111.]\n",
      "   [134. 130. 127.]]\n",
      "\n",
      "  [[115. 111. 108.]\n",
      "   [103.  99.  96.]\n",
      "   [105. 101.  98.]\n",
      "   ...\n",
      "   [119. 115. 112.]\n",
      "   [112. 108. 105.]\n",
      "   [130. 126. 123.]]]], shape=(32, 256, 256, 3), dtype=float32) (32, 256, 256, 3)\n",
      "tf.Tensor(\n",
      "[[0. 0. 0. 0. 0. 0. 0. 0. 0. 0. 0. 0. 0. 0. 1.]\n",
      " [0. 0. 0. 0. 0. 0. 0. 0. 0. 0. 0. 0. 1. 0. 0.]\n",
      " [0. 0. 0. 0. 0. 0. 0. 0. 0. 0. 0. 0. 0. 0. 1.]\n",
      " [0. 0. 0. 0. 0. 0. 0. 0. 0. 0. 0. 0. 0. 0. 1.]\n",
      " [0. 0. 0. 0. 0. 1. 0. 0. 0. 0. 0. 0. 0. 0. 0.]\n",
      " [0. 0. 0. 0. 1. 0. 0. 0. 0. 0. 0. 0. 0. 0. 0.]\n",
      " [0. 0. 0. 0. 0. 0. 0. 0. 0. 0. 0. 0. 0. 0. 1.]\n",
      " [0. 0. 0. 0. 0. 0. 0. 0. 0. 0. 1. 0. 0. 0. 0.]\n",
      " [0. 0. 0. 0. 0. 0. 0. 0. 0. 0. 0. 0. 0. 0. 1.]\n",
      " [0. 0. 0. 0. 0. 0. 0. 1. 0. 0. 0. 0. 0. 0. 0.]\n",
      " [0. 0. 0. 0. 0. 0. 1. 0. 0. 0. 0. 0. 0. 0. 0.]\n",
      " [0. 0. 0. 0. 0. 0. 0. 1. 0. 0. 0. 0. 0. 0. 0.]\n",
      " [0. 0. 0. 0. 0. 0. 0. 0. 0. 0. 0. 0. 0. 0. 1.]\n",
      " [0. 0. 0. 0. 0. 0. 0. 0. 0. 0. 0. 0. 0. 0. 1.]\n",
      " [0. 0. 0. 0. 0. 0. 0. 0. 0. 0. 0. 0. 0. 0. 1.]\n",
      " [0. 0. 0. 0. 0. 1. 0. 0. 0. 0. 0. 0. 0. 0. 0.]\n",
      " [0. 0. 0. 0. 0. 0. 0. 0. 0. 0. 0. 0. 0. 0. 1.]\n",
      " [0. 0. 0. 0. 0. 0. 0. 0. 0. 0. 0. 0. 0. 0. 1.]\n",
      " [0. 0. 0. 0. 0. 0. 1. 0. 0. 0. 0. 0. 0. 0. 0.]\n",
      " [0. 0. 0. 0. 0. 0. 0. 0. 0. 0. 0. 1. 0. 0. 0.]\n",
      " [0. 0. 0. 0. 0. 0. 0. 0. 1. 0. 0. 0. 0. 0. 0.]\n",
      " [0. 0. 0. 0. 0. 0. 0. 1. 0. 0. 0. 0. 0. 0. 0.]\n",
      " [0. 0. 0. 0. 0. 0. 0. 0. 0. 0. 0. 0. 0. 0. 1.]\n",
      " [0. 0. 0. 0. 0. 0. 0. 0. 0. 0. 0. 0. 0. 0. 1.]\n",
      " [0. 0. 0. 0. 0. 0. 0. 0. 0. 0. 0. 0. 0. 0. 1.]\n",
      " [0. 0. 0. 0. 0. 0. 0. 0. 0. 0. 0. 0. 0. 0. 1.]\n",
      " [0. 1. 0. 0. 0. 0. 0. 0. 0. 0. 0. 0. 0. 0. 0.]\n",
      " [0. 1. 0. 0. 0. 0. 0. 0. 0. 0. 0. 0. 0. 0. 0.]\n",
      " [0. 0. 0. 0. 1. 0. 0. 0. 0. 0. 0. 0. 0. 0. 0.]\n",
      " [0. 0. 0. 0. 0. 0. 0. 0. 0. 0. 0. 0. 0. 0. 1.]\n",
      " [0. 0. 0. 0. 0. 0. 0. 0. 0. 0. 0. 0. 0. 0. 1.]\n",
      " [0. 0. 0. 0. 0. 1. 0. 0. 0. 0. 0. 0. 0. 0. 0.]], shape=(32, 15), dtype=float32) (32, 15)\n"
     ]
    }
   ],
   "source": [
    "for x, y in training_set:\n",
    "    print(x, x.shape)\n",
    "    print(y, y.shape)\n",
    "    break"
   ]
  },
  {
   "cell_type": "markdown",
   "id": "0ea5dda8",
   "metadata": {},
   "source": [
    "# **Building Model**"
   ]
  },
  {
   "cell_type": "code",
   "execution_count": 7,
   "id": "2c8686b6",
   "metadata": {},
   "outputs": [],
   "source": [
    "cnn = Sequential()"
   ]
  },
  {
   "cell_type": "markdown",
   "id": "cfe39a7a",
   "metadata": {},
   "source": [
    "## Building Convolution Layers (Architecture)"
   ]
  },
  {
   "cell_type": "code",
   "execution_count": 8,
   "id": "8e0d8b48",
   "metadata": {},
   "outputs": [],
   "source": [
    "# 🧠 CNN Concept Summary:\n",
    "\n",
    "# 1️⃣ Each cnn.add() = one layer (Conv, Pool, etc.)\n",
    "#     → Conv2D = learns features (edges → textures → shapes)\n",
    "#     → MaxPool2D = downsamples feature maps (keeps strongest features)\n",
    "\n",
    "# 2️⃣ Repeated Conv+Pool blocks = deeper understanding:\n",
    "#     Block1: basic edges/colors\n",
    "#     Block2: shapes/textures\n",
    "#     Block3: complex leaf patterns\n",
    "#     Block4: disease regions\n",
    "\n",
    "# 3️⃣ Kernel (3x3): small filter sliding over input\n",
    "#     → detects local patterns (like edge fragments)\n",
    "\n",
    "# 4️⃣ padding='same': adds zero borders → output height & width stay same\n",
    "#     padding='valid': no padding → output shrinks\n",
    "\n",
    "# 5️⃣ input_shape: only needed in the first Conv2D layer\n",
    "#     → later layers infer input size automatically\n",
    "\n",
    "# 6️⃣ Max Pooling (2x2): reduces feature map size by half\n",
    "#     → keeps key activations, adds translation invariance\n",
    "\n",
    "# 7️⃣ Hierarchy summary:\n",
    "#     Input → Conv → Pool → Conv → Pool → Flatten → Dense → Output\n"
   ]
  },
  {
   "cell_type": "code",
   "execution_count": 9,
   "id": "a77009e5",
   "metadata": {},
   "outputs": [
    {
     "name": "stderr",
     "output_type": "stream",
     "text": [
      "/home/root123/GitHub/Two_Months_ML_Journey/Week 4/tf/lib/python3.10/site-packages/keras/src/layers/convolutional/base_conv.py:113: UserWarning: Do not pass an `input_shape`/`input_dim` argument to a layer. When using Sequential models, prefer using an `Input(shape)` object as the first layer in the model instead.\n",
      "  super().__init__(activity_regularizer=activity_regularizer, **kwargs)\n"
     ]
    }
   ],
   "source": [
    "cnn.add(Conv2D(filters=32, kernel_size = 3, padding = 'same', activation = 'relu', input_shape = [256,256, 3])) # input_size = [widht, height, input shape]\n",
    "cnn.add(Conv2D(filters=32, kernel_size = 3, padding = 'same', activation = 'relu'))\n",
    "cnn.add(MaxPool2D(pool_size = 2, strides = 2)) # pool size -> shape of pooling filter, strides -> movement of sliding window"
   ]
  },
  {
   "cell_type": "code",
   "execution_count": 10,
   "id": "11bfcf28",
   "metadata": {},
   "outputs": [],
   "source": [
    "cnn.add(Conv2D(filters=64, kernel_size = 3, padding = 'same', activation = 'relu')) \n",
    "cnn.add(Conv2D(filters=64, kernel_size = 3, padding = 'same', activation = 'relu'))\n",
    "cnn.add(MaxPool2D(pool_size = 2, strides = 2)) "
   ]
  },
  {
   "cell_type": "code",
   "execution_count": 11,
   "id": "ab5cebc5",
   "metadata": {},
   "outputs": [],
   "source": [
    "cnn.add(Conv2D(filters=128, kernel_size = 3, padding = 'same', activation = 'relu')) \n",
    "cnn.add(Conv2D(filters=128, kernel_size = 3, padding = 'same', activation = 'relu'))\n",
    "cnn.add(MaxPool2D(pool_size = 2, strides = 2)) "
   ]
  },
  {
   "cell_type": "code",
   "execution_count": 12,
   "id": "bde8f32a",
   "metadata": {},
   "outputs": [],
   "source": [
    "cnn.add(Conv2D(filters=256, kernel_size = 3, padding = 'same', activation = 'relu')) \n",
    "cnn.add(Conv2D(filters=256, kernel_size = 3, padding = 'same', activation = 'relu'))\n",
    "cnn.add(MaxPool2D(pool_size = 2, strides = 2)) "
   ]
  },
  {
   "cell_type": "code",
   "execution_count": 13,
   "id": "67c89c08",
   "metadata": {},
   "outputs": [],
   "source": [
    "# Flattening the results to pass to the dense layer\n",
    "cnn.add(Flatten())"
   ]
  },
  {
   "cell_type": "code",
   "execution_count": 14,
   "id": "e43db7dd",
   "metadata": {},
   "outputs": [],
   "source": [
    "cnn.add(Dense(units = 1024, activation = 'relu'))"
   ]
  },
  {
   "cell_type": "code",
   "execution_count": 15,
   "id": "99ef7925",
   "metadata": {},
   "outputs": [],
   "source": [
    "# output layer\n",
    "cnn.add(Dense(units = 38, activation = 'softmax'))"
   ]
  },
  {
   "cell_type": "markdown",
   "id": "b629a387",
   "metadata": {},
   "source": [
    "## Compiling Model"
   ]
  },
  {
   "cell_type": "code",
   "execution_count": 16,
   "id": "7fdc649e",
   "metadata": {},
   "outputs": [],
   "source": [
    "cnn.compile(optimizer = 'adam', loss = 'categorical_crossentropy', metrics = ['accuracy'])"
   ]
  },
  {
   "cell_type": "code",
   "execution_count": 17,
   "id": "6344a79e",
   "metadata": {},
   "outputs": [
    {
     "data": {
      "text/html": [
       "<pre style=\"white-space:pre;overflow-x:auto;line-height:normal;font-family:Menlo,'DejaVu Sans Mono',consolas,'Courier New',monospace\"><span style=\"font-weight: bold\">Model: \"sequential\"</span>\n",
       "</pre>\n"
      ],
      "text/plain": [
       "\u001b[1mModel: \"sequential\"\u001b[0m\n"
      ]
     },
     "metadata": {},
     "output_type": "display_data"
    },
    {
     "data": {
      "text/html": [
       "<pre style=\"white-space:pre;overflow-x:auto;line-height:normal;font-family:Menlo,'DejaVu Sans Mono',consolas,'Courier New',monospace\">┏━━━━━━━━━━━━━━━━━━━━━━━━━━━━━━━━━┳━━━━━━━━━━━━━━━━━━━━━━━━┳━━━━━━━━━━━━━━━┓\n",
       "┃<span style=\"font-weight: bold\"> Layer (type)                    </span>┃<span style=\"font-weight: bold\"> Output Shape           </span>┃<span style=\"font-weight: bold\">       Param # </span>┃\n",
       "┡━━━━━━━━━━━━━━━━━━━━━━━━━━━━━━━━━╇━━━━━━━━━━━━━━━━━━━━━━━━╇━━━━━━━━━━━━━━━┩\n",
       "│ conv2d (<span style=\"color: #0087ff; text-decoration-color: #0087ff\">Conv2D</span>)                 │ (<span style=\"color: #00d7ff; text-decoration-color: #00d7ff\">None</span>, <span style=\"color: #00af00; text-decoration-color: #00af00\">256</span>, <span style=\"color: #00af00; text-decoration-color: #00af00\">256</span>, <span style=\"color: #00af00; text-decoration-color: #00af00\">32</span>)   │           <span style=\"color: #00af00; text-decoration-color: #00af00\">896</span> │\n",
       "├─────────────────────────────────┼────────────────────────┼───────────────┤\n",
       "│ conv2d_1 (<span style=\"color: #0087ff; text-decoration-color: #0087ff\">Conv2D</span>)               │ (<span style=\"color: #00d7ff; text-decoration-color: #00d7ff\">None</span>, <span style=\"color: #00af00; text-decoration-color: #00af00\">256</span>, <span style=\"color: #00af00; text-decoration-color: #00af00\">256</span>, <span style=\"color: #00af00; text-decoration-color: #00af00\">32</span>)   │         <span style=\"color: #00af00; text-decoration-color: #00af00\">9,248</span> │\n",
       "├─────────────────────────────────┼────────────────────────┼───────────────┤\n",
       "│ max_pooling2d (<span style=\"color: #0087ff; text-decoration-color: #0087ff\">MaxPooling2D</span>)    │ (<span style=\"color: #00d7ff; text-decoration-color: #00d7ff\">None</span>, <span style=\"color: #00af00; text-decoration-color: #00af00\">128</span>, <span style=\"color: #00af00; text-decoration-color: #00af00\">128</span>, <span style=\"color: #00af00; text-decoration-color: #00af00\">32</span>)   │             <span style=\"color: #00af00; text-decoration-color: #00af00\">0</span> │\n",
       "├─────────────────────────────────┼────────────────────────┼───────────────┤\n",
       "│ conv2d_2 (<span style=\"color: #0087ff; text-decoration-color: #0087ff\">Conv2D</span>)               │ (<span style=\"color: #00d7ff; text-decoration-color: #00d7ff\">None</span>, <span style=\"color: #00af00; text-decoration-color: #00af00\">128</span>, <span style=\"color: #00af00; text-decoration-color: #00af00\">128</span>, <span style=\"color: #00af00; text-decoration-color: #00af00\">64</span>)   │        <span style=\"color: #00af00; text-decoration-color: #00af00\">18,496</span> │\n",
       "├─────────────────────────────────┼────────────────────────┼───────────────┤\n",
       "│ conv2d_3 (<span style=\"color: #0087ff; text-decoration-color: #0087ff\">Conv2D</span>)               │ (<span style=\"color: #00d7ff; text-decoration-color: #00d7ff\">None</span>, <span style=\"color: #00af00; text-decoration-color: #00af00\">128</span>, <span style=\"color: #00af00; text-decoration-color: #00af00\">128</span>, <span style=\"color: #00af00; text-decoration-color: #00af00\">64</span>)   │        <span style=\"color: #00af00; text-decoration-color: #00af00\">36,928</span> │\n",
       "├─────────────────────────────────┼────────────────────────┼───────────────┤\n",
       "│ max_pooling2d_1 (<span style=\"color: #0087ff; text-decoration-color: #0087ff\">MaxPooling2D</span>)  │ (<span style=\"color: #00d7ff; text-decoration-color: #00d7ff\">None</span>, <span style=\"color: #00af00; text-decoration-color: #00af00\">64</span>, <span style=\"color: #00af00; text-decoration-color: #00af00\">64</span>, <span style=\"color: #00af00; text-decoration-color: #00af00\">64</span>)     │             <span style=\"color: #00af00; text-decoration-color: #00af00\">0</span> │\n",
       "├─────────────────────────────────┼────────────────────────┼───────────────┤\n",
       "│ conv2d_4 (<span style=\"color: #0087ff; text-decoration-color: #0087ff\">Conv2D</span>)               │ (<span style=\"color: #00d7ff; text-decoration-color: #00d7ff\">None</span>, <span style=\"color: #00af00; text-decoration-color: #00af00\">64</span>, <span style=\"color: #00af00; text-decoration-color: #00af00\">64</span>, <span style=\"color: #00af00; text-decoration-color: #00af00\">128</span>)    │        <span style=\"color: #00af00; text-decoration-color: #00af00\">73,856</span> │\n",
       "├─────────────────────────────────┼────────────────────────┼───────────────┤\n",
       "│ conv2d_5 (<span style=\"color: #0087ff; text-decoration-color: #0087ff\">Conv2D</span>)               │ (<span style=\"color: #00d7ff; text-decoration-color: #00d7ff\">None</span>, <span style=\"color: #00af00; text-decoration-color: #00af00\">64</span>, <span style=\"color: #00af00; text-decoration-color: #00af00\">64</span>, <span style=\"color: #00af00; text-decoration-color: #00af00\">128</span>)    │       <span style=\"color: #00af00; text-decoration-color: #00af00\">147,584</span> │\n",
       "├─────────────────────────────────┼────────────────────────┼───────────────┤\n",
       "│ max_pooling2d_2 (<span style=\"color: #0087ff; text-decoration-color: #0087ff\">MaxPooling2D</span>)  │ (<span style=\"color: #00d7ff; text-decoration-color: #00d7ff\">None</span>, <span style=\"color: #00af00; text-decoration-color: #00af00\">32</span>, <span style=\"color: #00af00; text-decoration-color: #00af00\">32</span>, <span style=\"color: #00af00; text-decoration-color: #00af00\">128</span>)    │             <span style=\"color: #00af00; text-decoration-color: #00af00\">0</span> │\n",
       "├─────────────────────────────────┼────────────────────────┼───────────────┤\n",
       "│ conv2d_6 (<span style=\"color: #0087ff; text-decoration-color: #0087ff\">Conv2D</span>)               │ (<span style=\"color: #00d7ff; text-decoration-color: #00d7ff\">None</span>, <span style=\"color: #00af00; text-decoration-color: #00af00\">32</span>, <span style=\"color: #00af00; text-decoration-color: #00af00\">32</span>, <span style=\"color: #00af00; text-decoration-color: #00af00\">256</span>)    │       <span style=\"color: #00af00; text-decoration-color: #00af00\">295,168</span> │\n",
       "├─────────────────────────────────┼────────────────────────┼───────────────┤\n",
       "│ conv2d_7 (<span style=\"color: #0087ff; text-decoration-color: #0087ff\">Conv2D</span>)               │ (<span style=\"color: #00d7ff; text-decoration-color: #00d7ff\">None</span>, <span style=\"color: #00af00; text-decoration-color: #00af00\">32</span>, <span style=\"color: #00af00; text-decoration-color: #00af00\">32</span>, <span style=\"color: #00af00; text-decoration-color: #00af00\">256</span>)    │       <span style=\"color: #00af00; text-decoration-color: #00af00\">590,080</span> │\n",
       "├─────────────────────────────────┼────────────────────────┼───────────────┤\n",
       "│ max_pooling2d_3 (<span style=\"color: #0087ff; text-decoration-color: #0087ff\">MaxPooling2D</span>)  │ (<span style=\"color: #00d7ff; text-decoration-color: #00d7ff\">None</span>, <span style=\"color: #00af00; text-decoration-color: #00af00\">16</span>, <span style=\"color: #00af00; text-decoration-color: #00af00\">16</span>, <span style=\"color: #00af00; text-decoration-color: #00af00\">256</span>)    │             <span style=\"color: #00af00; text-decoration-color: #00af00\">0</span> │\n",
       "├─────────────────────────────────┼────────────────────────┼───────────────┤\n",
       "│ flatten (<span style=\"color: #0087ff; text-decoration-color: #0087ff\">Flatten</span>)               │ (<span style=\"color: #00d7ff; text-decoration-color: #00d7ff\">None</span>, <span style=\"color: #00af00; text-decoration-color: #00af00\">65536</span>)          │             <span style=\"color: #00af00; text-decoration-color: #00af00\">0</span> │\n",
       "├─────────────────────────────────┼────────────────────────┼───────────────┤\n",
       "│ dense (<span style=\"color: #0087ff; text-decoration-color: #0087ff\">Dense</span>)                   │ (<span style=\"color: #00d7ff; text-decoration-color: #00d7ff\">None</span>, <span style=\"color: #00af00; text-decoration-color: #00af00\">1024</span>)           │    <span style=\"color: #00af00; text-decoration-color: #00af00\">67,109,888</span> │\n",
       "├─────────────────────────────────┼────────────────────────┼───────────────┤\n",
       "│ dense_1 (<span style=\"color: #0087ff; text-decoration-color: #0087ff\">Dense</span>)                 │ (<span style=\"color: #00d7ff; text-decoration-color: #00d7ff\">None</span>, <span style=\"color: #00af00; text-decoration-color: #00af00\">38</span>)             │        <span style=\"color: #00af00; text-decoration-color: #00af00\">38,950</span> │\n",
       "└─────────────────────────────────┴────────────────────────┴───────────────┘\n",
       "</pre>\n"
      ],
      "text/plain": [
       "┏━━━━━━━━━━━━━━━━━━━━━━━━━━━━━━━━━┳━━━━━━━━━━━━━━━━━━━━━━━━┳━━━━━━━━━━━━━━━┓\n",
       "┃\u001b[1m \u001b[0m\u001b[1mLayer (type)                   \u001b[0m\u001b[1m \u001b[0m┃\u001b[1m \u001b[0m\u001b[1mOutput Shape          \u001b[0m\u001b[1m \u001b[0m┃\u001b[1m \u001b[0m\u001b[1m      Param #\u001b[0m\u001b[1m \u001b[0m┃\n",
       "┡━━━━━━━━━━━━━━━━━━━━━━━━━━━━━━━━━╇━━━━━━━━━━━━━━━━━━━━━━━━╇━━━━━━━━━━━━━━━┩\n",
       "│ conv2d (\u001b[38;5;33mConv2D\u001b[0m)                 │ (\u001b[38;5;45mNone\u001b[0m, \u001b[38;5;34m256\u001b[0m, \u001b[38;5;34m256\u001b[0m, \u001b[38;5;34m32\u001b[0m)   │           \u001b[38;5;34m896\u001b[0m │\n",
       "├─────────────────────────────────┼────────────────────────┼───────────────┤\n",
       "│ conv2d_1 (\u001b[38;5;33mConv2D\u001b[0m)               │ (\u001b[38;5;45mNone\u001b[0m, \u001b[38;5;34m256\u001b[0m, \u001b[38;5;34m256\u001b[0m, \u001b[38;5;34m32\u001b[0m)   │         \u001b[38;5;34m9,248\u001b[0m │\n",
       "├─────────────────────────────────┼────────────────────────┼───────────────┤\n",
       "│ max_pooling2d (\u001b[38;5;33mMaxPooling2D\u001b[0m)    │ (\u001b[38;5;45mNone\u001b[0m, \u001b[38;5;34m128\u001b[0m, \u001b[38;5;34m128\u001b[0m, \u001b[38;5;34m32\u001b[0m)   │             \u001b[38;5;34m0\u001b[0m │\n",
       "├─────────────────────────────────┼────────────────────────┼───────────────┤\n",
       "│ conv2d_2 (\u001b[38;5;33mConv2D\u001b[0m)               │ (\u001b[38;5;45mNone\u001b[0m, \u001b[38;5;34m128\u001b[0m, \u001b[38;5;34m128\u001b[0m, \u001b[38;5;34m64\u001b[0m)   │        \u001b[38;5;34m18,496\u001b[0m │\n",
       "├─────────────────────────────────┼────────────────────────┼───────────────┤\n",
       "│ conv2d_3 (\u001b[38;5;33mConv2D\u001b[0m)               │ (\u001b[38;5;45mNone\u001b[0m, \u001b[38;5;34m128\u001b[0m, \u001b[38;5;34m128\u001b[0m, \u001b[38;5;34m64\u001b[0m)   │        \u001b[38;5;34m36,928\u001b[0m │\n",
       "├─────────────────────────────────┼────────────────────────┼───────────────┤\n",
       "│ max_pooling2d_1 (\u001b[38;5;33mMaxPooling2D\u001b[0m)  │ (\u001b[38;5;45mNone\u001b[0m, \u001b[38;5;34m64\u001b[0m, \u001b[38;5;34m64\u001b[0m, \u001b[38;5;34m64\u001b[0m)     │             \u001b[38;5;34m0\u001b[0m │\n",
       "├─────────────────────────────────┼────────────────────────┼───────────────┤\n",
       "│ conv2d_4 (\u001b[38;5;33mConv2D\u001b[0m)               │ (\u001b[38;5;45mNone\u001b[0m, \u001b[38;5;34m64\u001b[0m, \u001b[38;5;34m64\u001b[0m, \u001b[38;5;34m128\u001b[0m)    │        \u001b[38;5;34m73,856\u001b[0m │\n",
       "├─────────────────────────────────┼────────────────────────┼───────────────┤\n",
       "│ conv2d_5 (\u001b[38;5;33mConv2D\u001b[0m)               │ (\u001b[38;5;45mNone\u001b[0m, \u001b[38;5;34m64\u001b[0m, \u001b[38;5;34m64\u001b[0m, \u001b[38;5;34m128\u001b[0m)    │       \u001b[38;5;34m147,584\u001b[0m │\n",
       "├─────────────────────────────────┼────────────────────────┼───────────────┤\n",
       "│ max_pooling2d_2 (\u001b[38;5;33mMaxPooling2D\u001b[0m)  │ (\u001b[38;5;45mNone\u001b[0m, \u001b[38;5;34m32\u001b[0m, \u001b[38;5;34m32\u001b[0m, \u001b[38;5;34m128\u001b[0m)    │             \u001b[38;5;34m0\u001b[0m │\n",
       "├─────────────────────────────────┼────────────────────────┼───────────────┤\n",
       "│ conv2d_6 (\u001b[38;5;33mConv2D\u001b[0m)               │ (\u001b[38;5;45mNone\u001b[0m, \u001b[38;5;34m32\u001b[0m, \u001b[38;5;34m32\u001b[0m, \u001b[38;5;34m256\u001b[0m)    │       \u001b[38;5;34m295,168\u001b[0m │\n",
       "├─────────────────────────────────┼────────────────────────┼───────────────┤\n",
       "│ conv2d_7 (\u001b[38;5;33mConv2D\u001b[0m)               │ (\u001b[38;5;45mNone\u001b[0m, \u001b[38;5;34m32\u001b[0m, \u001b[38;5;34m32\u001b[0m, \u001b[38;5;34m256\u001b[0m)    │       \u001b[38;5;34m590,080\u001b[0m │\n",
       "├─────────────────────────────────┼────────────────────────┼───────────────┤\n",
       "│ max_pooling2d_3 (\u001b[38;5;33mMaxPooling2D\u001b[0m)  │ (\u001b[38;5;45mNone\u001b[0m, \u001b[38;5;34m16\u001b[0m, \u001b[38;5;34m16\u001b[0m, \u001b[38;5;34m256\u001b[0m)    │             \u001b[38;5;34m0\u001b[0m │\n",
       "├─────────────────────────────────┼────────────────────────┼───────────────┤\n",
       "│ flatten (\u001b[38;5;33mFlatten\u001b[0m)               │ (\u001b[38;5;45mNone\u001b[0m, \u001b[38;5;34m65536\u001b[0m)          │             \u001b[38;5;34m0\u001b[0m │\n",
       "├─────────────────────────────────┼────────────────────────┼───────────────┤\n",
       "│ dense (\u001b[38;5;33mDense\u001b[0m)                   │ (\u001b[38;5;45mNone\u001b[0m, \u001b[38;5;34m1024\u001b[0m)           │    \u001b[38;5;34m67,109,888\u001b[0m │\n",
       "├─────────────────────────────────┼────────────────────────┼───────────────┤\n",
       "│ dense_1 (\u001b[38;5;33mDense\u001b[0m)                 │ (\u001b[38;5;45mNone\u001b[0m, \u001b[38;5;34m38\u001b[0m)             │        \u001b[38;5;34m38,950\u001b[0m │\n",
       "└─────────────────────────────────┴────────────────────────┴───────────────┘\n"
      ]
     },
     "metadata": {},
     "output_type": "display_data"
    },
    {
     "data": {
      "text/html": [
       "<pre style=\"white-space:pre;overflow-x:auto;line-height:normal;font-family:Menlo,'DejaVu Sans Mono',consolas,'Courier New',monospace\"><span style=\"font-weight: bold\"> Total params: </span><span style=\"color: #00af00; text-decoration-color: #00af00\">68,321,094</span> (260.62 MB)\n",
       "</pre>\n"
      ],
      "text/plain": [
       "\u001b[1m Total params: \u001b[0m\u001b[38;5;34m68,321,094\u001b[0m (260.62 MB)\n"
      ]
     },
     "metadata": {},
     "output_type": "display_data"
    },
    {
     "data": {
      "text/html": [
       "<pre style=\"white-space:pre;overflow-x:auto;line-height:normal;font-family:Menlo,'DejaVu Sans Mono',consolas,'Courier New',monospace\"><span style=\"font-weight: bold\"> Trainable params: </span><span style=\"color: #00af00; text-decoration-color: #00af00\">68,321,094</span> (260.62 MB)\n",
       "</pre>\n"
      ],
      "text/plain": [
       "\u001b[1m Trainable params: \u001b[0m\u001b[38;5;34m68,321,094\u001b[0m (260.62 MB)\n"
      ]
     },
     "metadata": {},
     "output_type": "display_data"
    },
    {
     "data": {
      "text/html": [
       "<pre style=\"white-space:pre;overflow-x:auto;line-height:normal;font-family:Menlo,'DejaVu Sans Mono',consolas,'Courier New',monospace\"><span style=\"font-weight: bold\"> Non-trainable params: </span><span style=\"color: #00af00; text-decoration-color: #00af00\">0</span> (0.00 B)\n",
       "</pre>\n"
      ],
      "text/plain": [
       "\u001b[1m Non-trainable params: \u001b[0m\u001b[38;5;34m0\u001b[0m (0.00 B)\n"
      ]
     },
     "metadata": {},
     "output_type": "display_data"
    }
   ],
   "source": [
    "cnn.summary()"
   ]
  },
  {
   "cell_type": "code",
   "execution_count": null,
   "id": "558beabc",
   "metadata": {},
   "outputs": [],
   "source": []
  }
 ],
 "metadata": {
  "kernelspec": {
   "display_name": "tf",
   "language": "python",
   "name": "python3"
  },
  "language_info": {
   "codemirror_mode": {
    "name": "ipython",
    "version": 3
   },
   "file_extension": ".py",
   "mimetype": "text/x-python",
   "name": "python",
   "nbconvert_exporter": "python",
   "pygments_lexer": "ipython3",
   "version": "3.10.12"
  }
 },
 "nbformat": 4,
 "nbformat_minor": 5
}

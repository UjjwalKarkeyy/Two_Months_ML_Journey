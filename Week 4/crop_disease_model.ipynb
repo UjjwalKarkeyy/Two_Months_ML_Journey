{
 "cells": [
  {
   "cell_type": "markdown",
   "id": "363fd7f7",
   "metadata": {
    "id": "363fd7f7"
   },
   "source": [
    "## **Importing libraries**"
   ]
  },
  {
   "cell_type": "code",
   "execution_count": 87,
   "id": "0efa06b9",
   "metadata": {
    "executionInfo": {
     "elapsed": 4803,
     "status": "ok",
     "timestamp": 1761287424232,
     "user": {
      "displayName": "Adam Fox",
      "userId": "15231053833354285105"
     },
     "user_tz": -345
    },
    "id": "0efa06b9"
   },
   "outputs": [],
   "source": [
    "import tensorflow as tf\n",
    "import numpy as np\n",
    "from tensorflow.keras.models import Sequential\n",
    "from tensorflow.keras.layers import Dense, Conv2D, MaxPool2D, Flatten\n",
    "from tensorflow.keras.metrics import Precision, Recall\n",
    "import matplotlib.pyplot as plt\n",
    "import pandas as pd\n",
    "import seaborn as sns\n",
    "import os\n",
    "from sklearn.pipeline import Pipeline\n",
    "from skimage import color, transform\n",
    "from sklearn.preprocessing import FunctionTransformer\n",
    "from PIL import Image\n",
    "from pathlib import Path"
   ]
  },
  {
   "cell_type": "markdown",
   "id": "aa2e4a26",
   "metadata": {
    "id": "aa2e4a26"
   },
   "source": [
    "## Verifying the GPU Setup [tensorflow + CUDA (Compute Unified Device Architecture) => Let's you use GPU for Computation other than Graphics]"
   ]
  },
  {
   "cell_type": "code",
   "execution_count": 88,
   "id": "781937c4",
   "metadata": {
    "executionInfo": {
     "elapsed": 6,
     "status": "ok",
     "timestamp": 1761287424240,
     "user": {
      "displayName": "Adam Fox",
      "userId": "15231053833354285105"
     },
     "user_tz": -345
    },
    "id": "781937c4"
   },
   "outputs": [],
   "source": [
    "# !python3 -c \"import tensorflow as tf; print(tf.config.list_physical_devices('GPU'))\""
   ]
  },
  {
   "cell_type": "markdown",
   "id": "eaaa59ff",
   "metadata": {
    "id": "eaaa59ff"
   },
   "source": [
    "## **Data Preprocessing**\n",
    "#### Used *'https://youtube.com/playlist?list=PLvz5lCwTgdXDNcXEVwwHsb9DwjNXZGsoy&si=gPCwVkKpS63FVLAC'* for guidance"
   ]
  },
  {
   "cell_type": "markdown",
   "id": "865ed928",
   "metadata": {
    "id": "865ed928"
   },
   "source": [
    "# Training Image Preprocessing"
   ]
  },
  {
   "cell_type": "code",
   "execution_count": 89,
   "id": "53194054",
   "metadata": {},
   "outputs": [],
   "source": [
    "curr_dir = os.getcwd()"
   ]
  },
  {
   "cell_type": "code",
   "execution_count": 90,
   "id": "abab9437",
   "metadata": {
    "colab": {
     "base_uri": "https://localhost:8080/"
    },
    "executionInfo": {
     "elapsed": 59276,
     "status": "ok",
     "timestamp": 1761287484023,
     "user": {
      "displayName": "Adam Fox",
      "userId": "15231053833354285105"
     },
     "user_tz": -345
    },
    "id": "abab9437",
    "outputId": "942ddbd2-18dc-484f-d0ee-01ea1be9040d"
   },
   "outputs": [
    {
     "name": "stdout",
     "output_type": "stream",
     "text": [
      "Found 24652 files belonging to 15 classes.\n"
     ]
    }
   ],
   "source": [
    "training_set = tf.keras.utils.image_dataset_from_directory(\n",
    "    './data/PlantVillage_Cleaned/split_data/train',\n",
    "    labels=\"inferred\", # leaving inferred, keras generates labels and class name automatically i.e.,\n",
    "    # [Pepper_mold, Potato_healthy, Tomato_healthy, ...] alphabetically, where labels [0, 1, 2, ...]\n",
    "    label_mode=\"categorical\",\n",
    "    class_names=None,\n",
    "    color_mode=\"rgb\",\n",
    "    batch_size=32,\n",
    "    image_size=(128, 128),\n",
    "    shuffle=True,\n",
    "    seed=40,\n",
    "    validation_split=None,\n",
    "    subset=None,\n",
    "    interpolation=\"bilinear\",\n",
    "    follow_links=False,\n",
    "    crop_to_aspect_ratio=False,\n",
    "    pad_to_aspect_ratio=False,\n",
    "    data_format=None,\n",
    "    verbose=True,\n",
    ")"
   ]
  },
  {
   "cell_type": "markdown",
   "id": "30f299cb",
   "metadata": {
    "id": "30f299cb"
   },
   "source": [
    "## Validation Image Preprocessing"
   ]
  },
  {
   "cell_type": "code",
   "execution_count": 91,
   "id": "a41367da",
   "metadata": {
    "colab": {
     "base_uri": "https://localhost:8080/"
    },
    "executionInfo": {
     "elapsed": 11757,
     "status": "ok",
     "timestamp": 1761287495782,
     "user": {
      "displayName": "Adam Fox",
      "userId": "15231053833354285105"
     },
     "user_tz": -345
    },
    "id": "a41367da",
    "outputId": "b5eccae2-8eea-442e-8ae6-aacaf40614d9"
   },
   "outputs": [
    {
     "name": "stdout",
     "output_type": "stream",
     "text": [
      "Found 5278 files belonging to 15 classes.\n"
     ]
    }
   ],
   "source": [
    "validation_set = tf.keras.utils.image_dataset_from_directory(\n",
    "    './data/PlantVillage_Cleaned/split_data/valid',\n",
    "    labels=\"inferred\",\n",
    "    label_mode=\"categorical\",\n",
    "    class_names=None,\n",
    "    color_mode=\"rgb\",\n",
    "    batch_size=32,\n",
    "    image_size=(128, 128),\n",
    "    shuffle=True,\n",
    "    seed=40,\n",
    "    validation_split=None,\n",
    "    subset=None,\n",
    "    interpolation=\"bilinear\",\n",
    "    follow_links=False,\n",
    "    crop_to_aspect_ratio=False,\n",
    "    pad_to_aspect_ratio=False,\n",
    "    data_format=None,\n",
    "    verbose=True,\n",
    ")"
   ]
  },
  {
   "cell_type": "code",
   "execution_count": 92,
   "id": "11b565fb",
   "metadata": {
    "colab": {
     "base_uri": "https://localhost:8080/"
    },
    "executionInfo": {
     "elapsed": 12190,
     "status": "ok",
     "timestamp": 1761287507978,
     "user": {
      "displayName": "Adam Fox",
      "userId": "15231053833354285105"
     },
     "user_tz": -345
    },
    "id": "11b565fb",
    "outputId": "d7b363b9-ccaa-4893-c00a-243659fef617"
   },
   "outputs": [
    {
     "name": "stdout",
     "output_type": "stream",
     "text": [
      "tf.Tensor(\n",
      "[[[[  0.     0.     0.  ]\n",
      "   [  0.     0.     0.  ]\n",
      "   [  0.     0.     0.  ]\n",
      "   ...\n",
      "   [  0.     0.     0.  ]\n",
      "   [  0.     0.     0.  ]\n",
      "   [  0.     0.     0.  ]]\n",
      "\n",
      "  [[  0.     0.     0.  ]\n",
      "   [  0.     0.     0.  ]\n",
      "   [  0.     0.     0.  ]\n",
      "   ...\n",
      "   [  0.     0.     0.  ]\n",
      "   [  0.     0.     0.  ]\n",
      "   [  0.     0.     0.  ]]\n",
      "\n",
      "  [[  0.     0.     0.  ]\n",
      "   [  0.     0.     0.  ]\n",
      "   [  0.     0.     0.  ]\n",
      "   ...\n",
      "   [  0.     0.     0.  ]\n",
      "   [  0.     0.     0.  ]\n",
      "   [  0.     0.     0.  ]]\n",
      "\n",
      "  ...\n",
      "\n",
      "  [[  0.     0.     0.  ]\n",
      "   [  0.     0.     0.  ]\n",
      "   [  0.     0.     0.  ]\n",
      "   ...\n",
      "   [  0.     0.     0.  ]\n",
      "   [  0.     0.     0.  ]\n",
      "   [  0.     0.     0.  ]]\n",
      "\n",
      "  [[  0.     0.     0.  ]\n",
      "   [  0.     0.     0.  ]\n",
      "   [  0.     0.     0.  ]\n",
      "   ...\n",
      "   [  0.     0.     0.  ]\n",
      "   [  0.     0.     0.  ]\n",
      "   [  0.     0.     0.  ]]\n",
      "\n",
      "  [[  0.     0.     0.  ]\n",
      "   [  0.     0.     0.  ]\n",
      "   [  0.     0.     0.  ]\n",
      "   ...\n",
      "   [  0.     0.     0.  ]\n",
      "   [  0.     0.     0.  ]\n",
      "   [  0.     0.     0.  ]]]\n",
      "\n",
      "\n",
      " [[[109.75 100.75 105.75]\n",
      "   [116.75 107.75 112.75]\n",
      "   [124.   115.   120.  ]\n",
      "   ...\n",
      "   [ 99.5   90.5   95.5 ]\n",
      "   [114.75 105.75 110.75]\n",
      "   [ 94.5   85.5   90.5 ]]\n",
      "\n",
      "  [[116.75 107.75 112.75]\n",
      "   [114.5  105.5  110.5 ]\n",
      "   [126.25 117.25 122.25]\n",
      "   ...\n",
      "   [ 96.5   87.5   92.5 ]\n",
      "   [109.5  100.5  105.5 ]\n",
      "   [104.5   95.5  100.5 ]]\n",
      "\n",
      "  [[120.   111.   116.  ]\n",
      "   [120.75 111.75 116.75]\n",
      "   [119.75 110.75 115.75]\n",
      "   ...\n",
      "   [ 98.25  89.25  94.25]\n",
      "   [112.   103.   108.  ]\n",
      "   [105.25  96.25 101.25]]\n",
      "\n",
      "  ...\n",
      "\n",
      "  [[163.25 158.25 164.25]\n",
      "   [165.5  160.5  166.5 ]\n",
      "   [164.   159.   165.  ]\n",
      "   ...\n",
      "   [163.   156.   163.  ]\n",
      "   [155.5  148.5  155.5 ]\n",
      "   [161.75 154.75 161.75]]\n",
      "\n",
      "  [[164.75 159.75 165.75]\n",
      "   [159.75 154.75 160.75]\n",
      "   [161.5  156.5  162.5 ]\n",
      "   ...\n",
      "   [156.5  149.5  156.5 ]\n",
      "   [159.   152.   159.  ]\n",
      "   [157.25 150.25 157.25]]\n",
      "\n",
      "  [[156.5  151.5  157.5 ]\n",
      "   [155.25 150.25 156.25]\n",
      "   [160.5  155.5  161.5 ]\n",
      "   ...\n",
      "   [156.75 149.75 156.75]\n",
      "   [159.5  152.5  159.5 ]\n",
      "   [161.75 154.75 161.75]]]\n",
      "\n",
      "\n",
      " [[[  3.     3.     3.  ]\n",
      "   [  3.     3.     3.  ]\n",
      "   [  3.     3.     3.  ]\n",
      "   ...\n",
      "   [  3.     3.     3.  ]\n",
      "   [  3.     3.     3.  ]\n",
      "   [  3.     3.     3.  ]]\n",
      "\n",
      "  [[  3.     3.     3.  ]\n",
      "   [  3.     3.     3.  ]\n",
      "   [  3.     3.     3.  ]\n",
      "   ...\n",
      "   [  3.     3.     3.  ]\n",
      "   [  3.     3.     3.  ]\n",
      "   [  3.     3.     3.  ]]\n",
      "\n",
      "  [[  3.     3.     3.  ]\n",
      "   [  3.     3.     3.  ]\n",
      "   [  3.     3.     3.  ]\n",
      "   ...\n",
      "   [  3.     3.     3.  ]\n",
      "   [  3.     3.     3.  ]\n",
      "   [  3.     3.     3.  ]]\n",
      "\n",
      "  ...\n",
      "\n",
      "  [[  3.     3.     3.  ]\n",
      "   [  3.     3.     3.  ]\n",
      "   [  3.     3.     3.  ]\n",
      "   ...\n",
      "   [  3.     3.     3.  ]\n",
      "   [  3.     3.     3.  ]\n",
      "   [  3.     3.     3.  ]]\n",
      "\n",
      "  [[  3.     3.     3.  ]\n",
      "   [  3.     3.     3.  ]\n",
      "   [  3.     3.     3.  ]\n",
      "   ...\n",
      "   [  3.     3.     3.  ]\n",
      "   [  3.     3.     3.  ]\n",
      "   [  3.     3.     3.  ]]\n",
      "\n",
      "  [[  3.     3.     3.  ]\n",
      "   [  3.     3.     3.  ]\n",
      "   [  3.     3.     3.  ]\n",
      "   ...\n",
      "   [  3.     3.     3.  ]\n",
      "   [  3.     3.     3.  ]\n",
      "   [  3.     3.     3.  ]]]\n",
      "\n",
      "\n",
      " ...\n",
      "\n",
      "\n",
      " [[[ 65.    55.75  52.25]\n",
      "   [ 49.5  102.5   81.75]\n",
      "   [ 38.25  56.    25.25]\n",
      "   ...\n",
      "   [139.25  72.    75.25]\n",
      "   [137.25 141.75 143.75]\n",
      "   [ 41.5   33.75  43.  ]]\n",
      "\n",
      "  [[ 90.25  58.25  74.5 ]\n",
      "   [ 77.5   91.75  83.  ]\n",
      "   [ 65.   102.75  43.5 ]\n",
      "   ...\n",
      "   [ 68.5   78.    66.  ]\n",
      "   [ 95.   129.25  98.25]\n",
      "   [145.75 138.75 138.25]]\n",
      "\n",
      "  [[ 70.75  69.   126.5 ]\n",
      "   [ 82.   122.   120.  ]\n",
      "   [ 75.75  68.5   60.25]\n",
      "   ...\n",
      "   [ 44.25  80.5   63.25]\n",
      "   [116.5   63.25 134.25]\n",
      "   [137.5   55.   163.25]]\n",
      "\n",
      "  ...\n",
      "\n",
      "  [[ 38.25  20.    78.75]\n",
      "   [ 75.25  69.5   22.5 ]\n",
      "   [ 64.    97.75  42.25]\n",
      "   ...\n",
      "   [ 81.5   82.5   51.5 ]\n",
      "   [ 83.25  50.5   41.  ]\n",
      "   [ 40.75  84.    70.75]]\n",
      "\n",
      "  [[ 36.25  18.5   62.75]\n",
      "   [ 70.5   62.5   24.25]\n",
      "   [ 72.75  28.5   42.  ]\n",
      "   ...\n",
      "   [ 60.75  74.5   52.5 ]\n",
      "   [ 70.25  39.75  17.25]\n",
      "   [ 39.25  77.    56.  ]]\n",
      "\n",
      "  [[ 38.    23.5   32.  ]\n",
      "   [ 40.    86.75  99.5 ]\n",
      "   [ 42.5   36.25 121.5 ]\n",
      "   ...\n",
      "   [ 13.5   20.5   69.5 ]\n",
      "   [ 24.75  52.75  36.75]\n",
      "   [ 37.   121.5   48.75]]]\n",
      "\n",
      "\n",
      " [[[130.   128.   133.  ]\n",
      "   [127.25 125.25 130.25]\n",
      "   [125.5  123.5  128.5 ]\n",
      "   ...\n",
      "   [124.   122.   125.  ]\n",
      "   [128.75 126.75 129.75]\n",
      "   [128.25 126.25 129.25]]\n",
      "\n",
      "  [[125.25 123.25 128.25]\n",
      "   [126.25 124.25 129.25]\n",
      "   [128.   126.   131.  ]\n",
      "   ...\n",
      "   [122.   120.   123.  ]\n",
      "   [127.5  125.5  128.5 ]\n",
      "   [128.5  126.5  129.5 ]]\n",
      "\n",
      "  [[121.25 119.25 124.25]\n",
      "   [125.5  123.5  128.5 ]\n",
      "   [129.75 127.75 132.75]\n",
      "   ...\n",
      "   [123.5  121.5  124.5 ]\n",
      "   [125.75 123.75 126.75]\n",
      "   [124.25 122.25 125.25]]\n",
      "\n",
      "  ...\n",
      "\n",
      "  [[ 85.5   89.5   92.5 ]\n",
      "   [ 85.25  89.25  92.25]\n",
      "   [ 85.    89.    92.  ]\n",
      "   ...\n",
      "   [ 81.5   86.5   89.5 ]\n",
      "   [ 78.5   83.5   86.5 ]\n",
      "   [ 79.    84.    87.  ]]\n",
      "\n",
      "  [[ 83.5   87.5   90.5 ]\n",
      "   [ 83.75  87.75  90.75]\n",
      "   [ 84.    88.    91.  ]\n",
      "   ...\n",
      "   [ 81.5   86.5   89.5 ]\n",
      "   [ 78.5   83.5   86.5 ]\n",
      "   [ 79.    84.    87.  ]]\n",
      "\n",
      "  [[ 82.25  86.25  89.25]\n",
      "   [ 83.    87.    90.  ]\n",
      "   [ 84.    88.    91.  ]\n",
      "   ...\n",
      "   [ 81.5   86.5   89.5 ]\n",
      "   [ 78.5   83.5   86.5 ]\n",
      "   [ 79.    84.    87.  ]]]\n",
      "\n",
      "\n",
      " [[[164.75 162.75 163.75]\n",
      "   [162.5  160.5  161.5 ]\n",
      "   [178.75 176.75 177.75]\n",
      "   ...\n",
      "   [157.   155.   158.  ]\n",
      "   [152.5  150.5  153.5 ]\n",
      "   [148.   146.   149.  ]]\n",
      "\n",
      "  [[167.5  165.5  166.5 ]\n",
      "   [169.25 167.25 168.25]\n",
      "   [167.5  165.5  166.5 ]\n",
      "   ...\n",
      "   [159.   157.   160.  ]\n",
      "   [157.5  155.5  158.5 ]\n",
      "   [162.   160.   163.  ]]\n",
      "\n",
      "  [[163.25 161.25 162.25]\n",
      "   [168.75 166.75 167.75]\n",
      "   [171.75 169.75 170.75]\n",
      "   ...\n",
      "   [160.5  158.5  161.5 ]\n",
      "   [158.   156.   159.  ]\n",
      "   [162.25 160.25 163.25]]\n",
      "\n",
      "  ...\n",
      "\n",
      "  [[130.75 126.75 123.75]\n",
      "   [115.5  111.5  108.5 ]\n",
      "   [122.5  118.5  115.5 ]\n",
      "   ...\n",
      "   [120.   116.   113.  ]\n",
      "   [123.25 119.25 116.25]\n",
      "   [120.5  116.5  113.5 ]]\n",
      "\n",
      "  [[114.   110.   107.  ]\n",
      "   [115.5  111.5  108.5 ]\n",
      "   [121.5  117.5  114.5 ]\n",
      "   ...\n",
      "   [113.5  109.5  106.5 ]\n",
      "   [120.25 116.25 113.25]\n",
      "   [117.   113.   110.  ]]\n",
      "\n",
      "  [[112.   108.   105.  ]\n",
      "   [114.75 110.75 107.75]\n",
      "   [118.   114.   111.  ]\n",
      "   ...\n",
      "   [118.   114.   111.  ]\n",
      "   [119.25 115.25 112.25]\n",
      "   [123.5  119.5  116.5 ]]]], shape=(32, 128, 128, 3), dtype=float32) (32, 128, 128, 3)\n",
      "tf.Tensor(\n",
      "[[0. 0. 0. 0. 0. 0. 0. 0. 0. 0. 0. 0. 0. 0. 1.]\n",
      " [0. 0. 0. 0. 0. 0. 0. 0. 0. 0. 0. 0. 1. 0. 0.]\n",
      " [0. 0. 0. 0. 0. 0. 0. 0. 0. 0. 0. 0. 0. 0. 1.]\n",
      " [0. 0. 0. 0. 0. 0. 0. 0. 0. 0. 0. 0. 0. 0. 1.]\n",
      " [0. 0. 0. 0. 0. 1. 0. 0. 0. 0. 0. 0. 0. 0. 0.]\n",
      " [0. 0. 0. 0. 1. 0. 0. 0. 0. 0. 0. 0. 0. 0. 0.]\n",
      " [0. 0. 0. 0. 0. 0. 0. 0. 0. 0. 0. 0. 0. 0. 1.]\n",
      " [0. 0. 0. 0. 0. 0. 0. 0. 0. 0. 1. 0. 0. 0. 0.]\n",
      " [0. 0. 0. 0. 0. 0. 0. 0. 0. 0. 0. 0. 0. 0. 1.]\n",
      " [0. 0. 0. 0. 0. 0. 0. 1. 0. 0. 0. 0. 0. 0. 0.]\n",
      " [0. 0. 0. 0. 0. 0. 1. 0. 0. 0. 0. 0. 0. 0. 0.]\n",
      " [0. 0. 0. 0. 0. 0. 0. 1. 0. 0. 0. 0. 0. 0. 0.]\n",
      " [0. 0. 0. 0. 0. 0. 0. 0. 0. 0. 0. 0. 0. 0. 1.]\n",
      " [0. 0. 0. 0. 0. 0. 0. 0. 0. 0. 0. 0. 0. 0. 1.]\n",
      " [0. 0. 0. 0. 0. 0. 0. 0. 0. 0. 0. 0. 0. 0. 1.]\n",
      " [0. 0. 0. 0. 0. 1. 0. 0. 0. 0. 0. 0. 0. 0. 0.]\n",
      " [0. 0. 0. 0. 0. 0. 0. 0. 0. 0. 0. 0. 0. 0. 1.]\n",
      " [0. 0. 0. 0. 0. 0. 0. 0. 0. 0. 0. 0. 0. 0. 1.]\n",
      " [0. 0. 0. 0. 0. 0. 1. 0. 0. 0. 0. 0. 0. 0. 0.]\n",
      " [0. 0. 0. 0. 0. 0. 0. 0. 0. 0. 0. 1. 0. 0. 0.]\n",
      " [0. 0. 0. 0. 0. 0. 0. 0. 1. 0. 0. 0. 0. 0. 0.]\n",
      " [0. 0. 0. 0. 0. 0. 0. 1. 0. 0. 0. 0. 0. 0. 0.]\n",
      " [0. 0. 0. 0. 0. 0. 0. 0. 0. 0. 0. 0. 0. 0. 1.]\n",
      " [0. 0. 0. 0. 0. 0. 0. 0. 0. 0. 0. 0. 0. 0. 1.]\n",
      " [0. 0. 0. 0. 0. 0. 0. 0. 0. 0. 0. 0. 0. 0. 1.]\n",
      " [0. 0. 0. 0. 0. 0. 0. 0. 0. 0. 0. 0. 0. 0. 1.]\n",
      " [0. 1. 0. 0. 0. 0. 0. 0. 0. 0. 0. 0. 0. 0. 0.]\n",
      " [0. 1. 0. 0. 0. 0. 0. 0. 0. 0. 0. 0. 0. 0. 0.]\n",
      " [0. 0. 0. 0. 1. 0. 0. 0. 0. 0. 0. 0. 0. 0. 0.]\n",
      " [0. 0. 0. 0. 0. 0. 0. 0. 0. 0. 0. 0. 0. 0. 1.]\n",
      " [0. 0. 0. 0. 0. 0. 0. 0. 0. 0. 0. 0. 0. 0. 1.]\n",
      " [0. 0. 0. 0. 0. 1. 0. 0. 0. 0. 0. 0. 0. 0. 0.]], shape=(32, 15), dtype=float32) (32, 15)\n"
     ]
    }
   ],
   "source": [
    "for x, y in training_set:\n",
    "    print(x, x.shape)\n",
    "    print(y, y.shape)\n",
    "    break"
   ]
  },
  {
   "cell_type": "markdown",
   "id": "0ea5dda8",
   "metadata": {
    "id": "0ea5dda8"
   },
   "source": [
    "# **Building Model**"
   ]
  },
  {
   "cell_type": "code",
   "execution_count": 93,
   "id": "2c8686b6",
   "metadata": {
    "executionInfo": {
     "elapsed": 4,
     "status": "ok",
     "timestamp": 1761287507984,
     "user": {
      "displayName": "Adam Fox",
      "userId": "15231053833354285105"
     },
     "user_tz": -345
    },
    "id": "2c8686b6"
   },
   "outputs": [],
   "source": [
    "cnn = Sequential()"
   ]
  },
  {
   "cell_type": "markdown",
   "id": "cfe39a7a",
   "metadata": {
    "id": "cfe39a7a"
   },
   "source": [
    "## Building Convolution Layers (Architecture)"
   ]
  },
  {
   "cell_type": "code",
   "execution_count": 94,
   "id": "8e0d8b48",
   "metadata": {
    "executionInfo": {
     "elapsed": 2,
     "status": "ok",
     "timestamp": 1761287507989,
     "user": {
      "displayName": "Adam Fox",
      "userId": "15231053833354285105"
     },
     "user_tz": -345
    },
    "id": "8e0d8b48"
   },
   "outputs": [],
   "source": [
    "# 🧠 CNN Concept Summary:\n",
    "\n",
    "# 1️⃣ Each cnn.add() = one layer (Conv, Pool, etc.)\n",
    "#     → Conv2D = learns features (edges → textures → shapes)\n",
    "#     → MaxPool2D = downsamples feature maps (keeps strongest features)\n",
    "\n",
    "# 2️⃣ Repeated Conv+Pool blocks = deeper understanding:\n",
    "#     Block1: basic edges/colors\n",
    "#     Block2: shapes/textures\n",
    "#     Block3: complex leaf patterns\n",
    "#     Block4: disease regions\n",
    "\n",
    "# 3️⃣ Kernel (3x3): small filter sliding over input\n",
    "#     → detects local patterns (like edge fragments)\n",
    "\n",
    "# 4️⃣ padding='same': adds zero borders → output height & width stay same\n",
    "#     padding='valid': no padding → output shrinks\n",
    "\n",
    "# 5️⃣ input_shape: only needed in the first Conv2D layer\n",
    "#     → later layers infer input size automatically\n",
    "\n",
    "# 6️⃣ Max Pooling (2x2): reduces feature map size by half\n",
    "#     → keeps key activations, adds translation invariance\n",
    "\n",
    "# 7️⃣ Hierarchy summary:\n",
    "#     Input → Conv → Pool → Conv → Pool → Flatten → Dense → Output\n"
   ]
  },
  {
   "cell_type": "code",
   "execution_count": 95,
   "id": "a77009e5",
   "metadata": {
    "colab": {
     "base_uri": "https://localhost:8080/"
    },
    "executionInfo": {
     "elapsed": 856,
     "status": "ok",
     "timestamp": 1761287508847,
     "user": {
      "displayName": "Adam Fox",
      "userId": "15231053833354285105"
     },
     "user_tz": -345
    },
    "id": "a77009e5",
    "outputId": "675def6f-000c-46ad-a3c4-45cc4bc75a9a"
   },
   "outputs": [
    {
     "name": "stderr",
     "output_type": "stream",
     "text": [
      "/home/root123/GitHub/Two_Months_ML_Journey/Week 4/tf/lib/python3.10/site-packages/keras/src/layers/convolutional/base_conv.py:113: UserWarning: Do not pass an `input_shape`/`input_dim` argument to a layer. When using Sequential models, prefer using an `Input(shape)` object as the first layer in the model instead.\n",
      "  super().__init__(activity_regularizer=activity_regularizer, **kwargs)\n"
     ]
    }
   ],
   "source": [
    "cnn.add(Conv2D(filters=32, kernel_size = 3, padding = 'same', activation = 'relu', input_shape = [128,128, 3])) # input_size = [widht, height, input shape]\n",
    "cnn.add(Conv2D(filters=32, kernel_size = 3, padding = 'same', activation = 'relu'))\n",
    "cnn.add(MaxPool2D(pool_size = 2, strides = 2)) # pool size -> shape of pooling filter, strides -> movement of sliding window"
   ]
  },
  {
   "cell_type": "code",
   "execution_count": 96,
   "id": "11bfcf28",
   "metadata": {
    "executionInfo": {
     "elapsed": 25,
     "status": "ok",
     "timestamp": 1761287508876,
     "user": {
      "displayName": "Adam Fox",
      "userId": "15231053833354285105"
     },
     "user_tz": -345
    },
    "id": "11bfcf28"
   },
   "outputs": [],
   "source": [
    "cnn.add(Conv2D(filters=64, kernel_size = 3, padding = 'same', activation = 'relu'))\n",
    "cnn.add(Conv2D(filters=64, kernel_size = 3, padding = 'same', activation = 'relu'))\n",
    "cnn.add(MaxPool2D(pool_size = 2, strides = 2))"
   ]
  },
  {
   "cell_type": "code",
   "execution_count": 97,
   "id": "ab5cebc5",
   "metadata": {
    "executionInfo": {
     "elapsed": 26,
     "status": "ok",
     "timestamp": 1761287508905,
     "user": {
      "displayName": "Adam Fox",
      "userId": "15231053833354285105"
     },
     "user_tz": -345
    },
    "id": "ab5cebc5"
   },
   "outputs": [],
   "source": [
    "cnn.add(Conv2D(filters=128, kernel_size = 3, padding = 'same', activation = 'relu'))\n",
    "cnn.add(Conv2D(filters=128, kernel_size = 3, padding = 'same', activation = 'relu'))\n",
    "cnn.add(MaxPool2D(pool_size = 2, strides = 2))"
   ]
  },
  {
   "cell_type": "code",
   "execution_count": 98,
   "id": "bde8f32a",
   "metadata": {
    "executionInfo": {
     "elapsed": 1,
     "status": "ok",
     "timestamp": 1761287508909,
     "user": {
      "displayName": "Adam Fox",
      "userId": "15231053833354285105"
     },
     "user_tz": -345
    },
    "id": "bde8f32a"
   },
   "outputs": [],
   "source": [
    "# cnn.add(Conv2D(filters=256, kernel_size = 3, padding = 'same', activation = 'relu'))\n",
    "# cnn.add(Conv2D(filters=256, kernel_size = 3, padding = 'same', activation = 'relu'))\n",
    "# cnn.add(MaxPool2D(pool_size = 2, strides = 2))"
   ]
  },
  {
   "cell_type": "code",
   "execution_count": 99,
   "id": "67c89c08",
   "metadata": {
    "executionInfo": {
     "elapsed": 4,
     "status": "ok",
     "timestamp": 1761287508920,
     "user": {
      "displayName": "Adam Fox",
      "userId": "15231053833354285105"
     },
     "user_tz": -345
    },
    "id": "67c89c08"
   },
   "outputs": [],
   "source": [
    "# Flattening the results to pass to the dense layer\n",
    "cnn.add(Flatten())"
   ]
  },
  {
   "cell_type": "code",
   "execution_count": 100,
   "id": "e43db7dd",
   "metadata": {
    "executionInfo": {
     "elapsed": 27,
     "status": "ok",
     "timestamp": 1761287508952,
     "user": {
      "displayName": "Adam Fox",
      "userId": "15231053833354285105"
     },
     "user_tz": -345
    },
    "id": "e43db7dd"
   },
   "outputs": [],
   "source": [
    "cnn.add(Dense(units = 64, activation = 'relu'))"
   ]
  },
  {
   "cell_type": "code",
   "execution_count": 101,
   "id": "99ef7925",
   "metadata": {
    "executionInfo": {
     "elapsed": 35,
     "status": "ok",
     "timestamp": 1761287508983,
     "user": {
      "displayName": "Adam Fox",
      "userId": "15231053833354285105"
     },
     "user_tz": -345
    },
    "id": "99ef7925"
   },
   "outputs": [],
   "source": [
    "# output layer\n",
    "cnn.add(Dense(units = 15, activation = 'softmax'))"
   ]
  },
  {
   "cell_type": "markdown",
   "id": "b629a387",
   "metadata": {
    "id": "b629a387"
   },
   "source": [
    "## Compiling Model"
   ]
  },
  {
   "cell_type": "code",
   "execution_count": 102,
   "id": "7fdc649e",
   "metadata": {
    "executionInfo": {
     "elapsed": 21,
     "status": "ok",
     "timestamp": 1761287509005,
     "user": {
      "displayName": "Adam Fox",
      "userId": "15231053833354285105"
     },
     "user_tz": -345
    },
    "id": "7fdc649e"
   },
   "outputs": [],
   "source": [
    "cnn.compile(\n",
    "    optimizer = 'adam',\n",
    "    loss = 'categorical_crossentropy',\n",
    "    metrics = ['accuracy', Precision(), Recall()])"
   ]
  },
  {
   "cell_type": "code",
   "execution_count": 103,
   "id": "6344a79e",
   "metadata": {
    "colab": {
     "base_uri": "https://localhost:8080/",
     "height": 513
    },
    "executionInfo": {
     "elapsed": 26,
     "status": "ok",
     "timestamp": 1761287509032,
     "user": {
      "displayName": "Adam Fox",
      "userId": "15231053833354285105"
     },
     "user_tz": -345
    },
    "id": "6344a79e",
    "outputId": "e87a9494-d252-4031-9d96-372d2683b243"
   },
   "outputs": [
    {
     "data": {
      "text/html": [
       "<pre style=\"white-space:pre;overflow-x:auto;line-height:normal;font-family:Menlo,'DejaVu Sans Mono',consolas,'Courier New',monospace\"><span style=\"font-weight: bold\">Model: \"sequential_1\"</span>\n",
       "</pre>\n"
      ],
      "text/plain": [
       "\u001b[1mModel: \"sequential_1\"\u001b[0m\n"
      ]
     },
     "metadata": {},
     "output_type": "display_data"
    },
    {
     "data": {
      "text/html": [
       "<pre style=\"white-space:pre;overflow-x:auto;line-height:normal;font-family:Menlo,'DejaVu Sans Mono',consolas,'Courier New',monospace\">┏━━━━━━━━━━━━━━━━━━━━━━━━━━━━━━━━━┳━━━━━━━━━━━━━━━━━━━━━━━━┳━━━━━━━━━━━━━━━┓\n",
       "┃<span style=\"font-weight: bold\"> Layer (type)                    </span>┃<span style=\"font-weight: bold\"> Output Shape           </span>┃<span style=\"font-weight: bold\">       Param # </span>┃\n",
       "┡━━━━━━━━━━━━━━━━━━━━━━━━━━━━━━━━━╇━━━━━━━━━━━━━━━━━━━━━━━━╇━━━━━━━━━━━━━━━┩\n",
       "│ conv2d_6 (<span style=\"color: #0087ff; text-decoration-color: #0087ff\">Conv2D</span>)               │ (<span style=\"color: #00d7ff; text-decoration-color: #00d7ff\">None</span>, <span style=\"color: #00af00; text-decoration-color: #00af00\">128</span>, <span style=\"color: #00af00; text-decoration-color: #00af00\">128</span>, <span style=\"color: #00af00; text-decoration-color: #00af00\">32</span>)   │           <span style=\"color: #00af00; text-decoration-color: #00af00\">896</span> │\n",
       "├─────────────────────────────────┼────────────────────────┼───────────────┤\n",
       "│ conv2d_7 (<span style=\"color: #0087ff; text-decoration-color: #0087ff\">Conv2D</span>)               │ (<span style=\"color: #00d7ff; text-decoration-color: #00d7ff\">None</span>, <span style=\"color: #00af00; text-decoration-color: #00af00\">128</span>, <span style=\"color: #00af00; text-decoration-color: #00af00\">128</span>, <span style=\"color: #00af00; text-decoration-color: #00af00\">32</span>)   │         <span style=\"color: #00af00; text-decoration-color: #00af00\">9,248</span> │\n",
       "├─────────────────────────────────┼────────────────────────┼───────────────┤\n",
       "│ max_pooling2d_3 (<span style=\"color: #0087ff; text-decoration-color: #0087ff\">MaxPooling2D</span>)  │ (<span style=\"color: #00d7ff; text-decoration-color: #00d7ff\">None</span>, <span style=\"color: #00af00; text-decoration-color: #00af00\">64</span>, <span style=\"color: #00af00; text-decoration-color: #00af00\">64</span>, <span style=\"color: #00af00; text-decoration-color: #00af00\">32</span>)     │             <span style=\"color: #00af00; text-decoration-color: #00af00\">0</span> │\n",
       "├─────────────────────────────────┼────────────────────────┼───────────────┤\n",
       "│ conv2d_8 (<span style=\"color: #0087ff; text-decoration-color: #0087ff\">Conv2D</span>)               │ (<span style=\"color: #00d7ff; text-decoration-color: #00d7ff\">None</span>, <span style=\"color: #00af00; text-decoration-color: #00af00\">64</span>, <span style=\"color: #00af00; text-decoration-color: #00af00\">64</span>, <span style=\"color: #00af00; text-decoration-color: #00af00\">64</span>)     │        <span style=\"color: #00af00; text-decoration-color: #00af00\">18,496</span> │\n",
       "├─────────────────────────────────┼────────────────────────┼───────────────┤\n",
       "│ conv2d_9 (<span style=\"color: #0087ff; text-decoration-color: #0087ff\">Conv2D</span>)               │ (<span style=\"color: #00d7ff; text-decoration-color: #00d7ff\">None</span>, <span style=\"color: #00af00; text-decoration-color: #00af00\">64</span>, <span style=\"color: #00af00; text-decoration-color: #00af00\">64</span>, <span style=\"color: #00af00; text-decoration-color: #00af00\">64</span>)     │        <span style=\"color: #00af00; text-decoration-color: #00af00\">36,928</span> │\n",
       "├─────────────────────────────────┼────────────────────────┼───────────────┤\n",
       "│ max_pooling2d_4 (<span style=\"color: #0087ff; text-decoration-color: #0087ff\">MaxPooling2D</span>)  │ (<span style=\"color: #00d7ff; text-decoration-color: #00d7ff\">None</span>, <span style=\"color: #00af00; text-decoration-color: #00af00\">32</span>, <span style=\"color: #00af00; text-decoration-color: #00af00\">32</span>, <span style=\"color: #00af00; text-decoration-color: #00af00\">64</span>)     │             <span style=\"color: #00af00; text-decoration-color: #00af00\">0</span> │\n",
       "├─────────────────────────────────┼────────────────────────┼───────────────┤\n",
       "│ conv2d_10 (<span style=\"color: #0087ff; text-decoration-color: #0087ff\">Conv2D</span>)              │ (<span style=\"color: #00d7ff; text-decoration-color: #00d7ff\">None</span>, <span style=\"color: #00af00; text-decoration-color: #00af00\">32</span>, <span style=\"color: #00af00; text-decoration-color: #00af00\">32</span>, <span style=\"color: #00af00; text-decoration-color: #00af00\">128</span>)    │        <span style=\"color: #00af00; text-decoration-color: #00af00\">73,856</span> │\n",
       "├─────────────────────────────────┼────────────────────────┼───────────────┤\n",
       "│ conv2d_11 (<span style=\"color: #0087ff; text-decoration-color: #0087ff\">Conv2D</span>)              │ (<span style=\"color: #00d7ff; text-decoration-color: #00d7ff\">None</span>, <span style=\"color: #00af00; text-decoration-color: #00af00\">32</span>, <span style=\"color: #00af00; text-decoration-color: #00af00\">32</span>, <span style=\"color: #00af00; text-decoration-color: #00af00\">128</span>)    │       <span style=\"color: #00af00; text-decoration-color: #00af00\">147,584</span> │\n",
       "├─────────────────────────────────┼────────────────────────┼───────────────┤\n",
       "│ max_pooling2d_5 (<span style=\"color: #0087ff; text-decoration-color: #0087ff\">MaxPooling2D</span>)  │ (<span style=\"color: #00d7ff; text-decoration-color: #00d7ff\">None</span>, <span style=\"color: #00af00; text-decoration-color: #00af00\">16</span>, <span style=\"color: #00af00; text-decoration-color: #00af00\">16</span>, <span style=\"color: #00af00; text-decoration-color: #00af00\">128</span>)    │             <span style=\"color: #00af00; text-decoration-color: #00af00\">0</span> │\n",
       "├─────────────────────────────────┼────────────────────────┼───────────────┤\n",
       "│ flatten_1 (<span style=\"color: #0087ff; text-decoration-color: #0087ff\">Flatten</span>)             │ (<span style=\"color: #00d7ff; text-decoration-color: #00d7ff\">None</span>, <span style=\"color: #00af00; text-decoration-color: #00af00\">32768</span>)          │             <span style=\"color: #00af00; text-decoration-color: #00af00\">0</span> │\n",
       "├─────────────────────────────────┼────────────────────────┼───────────────┤\n",
       "│ dense_2 (<span style=\"color: #0087ff; text-decoration-color: #0087ff\">Dense</span>)                 │ (<span style=\"color: #00d7ff; text-decoration-color: #00d7ff\">None</span>, <span style=\"color: #00af00; text-decoration-color: #00af00\">64</span>)             │     <span style=\"color: #00af00; text-decoration-color: #00af00\">2,097,216</span> │\n",
       "├─────────────────────────────────┼────────────────────────┼───────────────┤\n",
       "│ dense_3 (<span style=\"color: #0087ff; text-decoration-color: #0087ff\">Dense</span>)                 │ (<span style=\"color: #00d7ff; text-decoration-color: #00d7ff\">None</span>, <span style=\"color: #00af00; text-decoration-color: #00af00\">15</span>)             │           <span style=\"color: #00af00; text-decoration-color: #00af00\">975</span> │\n",
       "└─────────────────────────────────┴────────────────────────┴───────────────┘\n",
       "</pre>\n"
      ],
      "text/plain": [
       "┏━━━━━━━━━━━━━━━━━━━━━━━━━━━━━━━━━┳━━━━━━━━━━━━━━━━━━━━━━━━┳━━━━━━━━━━━━━━━┓\n",
       "┃\u001b[1m \u001b[0m\u001b[1mLayer (type)                   \u001b[0m\u001b[1m \u001b[0m┃\u001b[1m \u001b[0m\u001b[1mOutput Shape          \u001b[0m\u001b[1m \u001b[0m┃\u001b[1m \u001b[0m\u001b[1m      Param #\u001b[0m\u001b[1m \u001b[0m┃\n",
       "┡━━━━━━━━━━━━━━━━━━━━━━━━━━━━━━━━━╇━━━━━━━━━━━━━━━━━━━━━━━━╇━━━━━━━━━━━━━━━┩\n",
       "│ conv2d_6 (\u001b[38;5;33mConv2D\u001b[0m)               │ (\u001b[38;5;45mNone\u001b[0m, \u001b[38;5;34m128\u001b[0m, \u001b[38;5;34m128\u001b[0m, \u001b[38;5;34m32\u001b[0m)   │           \u001b[38;5;34m896\u001b[0m │\n",
       "├─────────────────────────────────┼────────────────────────┼───────────────┤\n",
       "│ conv2d_7 (\u001b[38;5;33mConv2D\u001b[0m)               │ (\u001b[38;5;45mNone\u001b[0m, \u001b[38;5;34m128\u001b[0m, \u001b[38;5;34m128\u001b[0m, \u001b[38;5;34m32\u001b[0m)   │         \u001b[38;5;34m9,248\u001b[0m │\n",
       "├─────────────────────────────────┼────────────────────────┼───────────────┤\n",
       "│ max_pooling2d_3 (\u001b[38;5;33mMaxPooling2D\u001b[0m)  │ (\u001b[38;5;45mNone\u001b[0m, \u001b[38;5;34m64\u001b[0m, \u001b[38;5;34m64\u001b[0m, \u001b[38;5;34m32\u001b[0m)     │             \u001b[38;5;34m0\u001b[0m │\n",
       "├─────────────────────────────────┼────────────────────────┼───────────────┤\n",
       "│ conv2d_8 (\u001b[38;5;33mConv2D\u001b[0m)               │ (\u001b[38;5;45mNone\u001b[0m, \u001b[38;5;34m64\u001b[0m, \u001b[38;5;34m64\u001b[0m, \u001b[38;5;34m64\u001b[0m)     │        \u001b[38;5;34m18,496\u001b[0m │\n",
       "├─────────────────────────────────┼────────────────────────┼───────────────┤\n",
       "│ conv2d_9 (\u001b[38;5;33mConv2D\u001b[0m)               │ (\u001b[38;5;45mNone\u001b[0m, \u001b[38;5;34m64\u001b[0m, \u001b[38;5;34m64\u001b[0m, \u001b[38;5;34m64\u001b[0m)     │        \u001b[38;5;34m36,928\u001b[0m │\n",
       "├─────────────────────────────────┼────────────────────────┼───────────────┤\n",
       "│ max_pooling2d_4 (\u001b[38;5;33mMaxPooling2D\u001b[0m)  │ (\u001b[38;5;45mNone\u001b[0m, \u001b[38;5;34m32\u001b[0m, \u001b[38;5;34m32\u001b[0m, \u001b[38;5;34m64\u001b[0m)     │             \u001b[38;5;34m0\u001b[0m │\n",
       "├─────────────────────────────────┼────────────────────────┼───────────────┤\n",
       "│ conv2d_10 (\u001b[38;5;33mConv2D\u001b[0m)              │ (\u001b[38;5;45mNone\u001b[0m, \u001b[38;5;34m32\u001b[0m, \u001b[38;5;34m32\u001b[0m, \u001b[38;5;34m128\u001b[0m)    │        \u001b[38;5;34m73,856\u001b[0m │\n",
       "├─────────────────────────────────┼────────────────────────┼───────────────┤\n",
       "│ conv2d_11 (\u001b[38;5;33mConv2D\u001b[0m)              │ (\u001b[38;5;45mNone\u001b[0m, \u001b[38;5;34m32\u001b[0m, \u001b[38;5;34m32\u001b[0m, \u001b[38;5;34m128\u001b[0m)    │       \u001b[38;5;34m147,584\u001b[0m │\n",
       "├─────────────────────────────────┼────────────────────────┼───────────────┤\n",
       "│ max_pooling2d_5 (\u001b[38;5;33mMaxPooling2D\u001b[0m)  │ (\u001b[38;5;45mNone\u001b[0m, \u001b[38;5;34m16\u001b[0m, \u001b[38;5;34m16\u001b[0m, \u001b[38;5;34m128\u001b[0m)    │             \u001b[38;5;34m0\u001b[0m │\n",
       "├─────────────────────────────────┼────────────────────────┼───────────────┤\n",
       "│ flatten_1 (\u001b[38;5;33mFlatten\u001b[0m)             │ (\u001b[38;5;45mNone\u001b[0m, \u001b[38;5;34m32768\u001b[0m)          │             \u001b[38;5;34m0\u001b[0m │\n",
       "├─────────────────────────────────┼────────────────────────┼───────────────┤\n",
       "│ dense_2 (\u001b[38;5;33mDense\u001b[0m)                 │ (\u001b[38;5;45mNone\u001b[0m, \u001b[38;5;34m64\u001b[0m)             │     \u001b[38;5;34m2,097,216\u001b[0m │\n",
       "├─────────────────────────────────┼────────────────────────┼───────────────┤\n",
       "│ dense_3 (\u001b[38;5;33mDense\u001b[0m)                 │ (\u001b[38;5;45mNone\u001b[0m, \u001b[38;5;34m15\u001b[0m)             │           \u001b[38;5;34m975\u001b[0m │\n",
       "└─────────────────────────────────┴────────────────────────┴───────────────┘\n"
      ]
     },
     "metadata": {},
     "output_type": "display_data"
    },
    {
     "data": {
      "text/html": [
       "<pre style=\"white-space:pre;overflow-x:auto;line-height:normal;font-family:Menlo,'DejaVu Sans Mono',consolas,'Courier New',monospace\"><span style=\"font-weight: bold\"> Total params: </span><span style=\"color: #00af00; text-decoration-color: #00af00\">2,385,199</span> (9.10 MB)\n",
       "</pre>\n"
      ],
      "text/plain": [
       "\u001b[1m Total params: \u001b[0m\u001b[38;5;34m2,385,199\u001b[0m (9.10 MB)\n"
      ]
     },
     "metadata": {},
     "output_type": "display_data"
    },
    {
     "data": {
      "text/html": [
       "<pre style=\"white-space:pre;overflow-x:auto;line-height:normal;font-family:Menlo,'DejaVu Sans Mono',consolas,'Courier New',monospace\"><span style=\"font-weight: bold\"> Trainable params: </span><span style=\"color: #00af00; text-decoration-color: #00af00\">2,385,199</span> (9.10 MB)\n",
       "</pre>\n"
      ],
      "text/plain": [
       "\u001b[1m Trainable params: \u001b[0m\u001b[38;5;34m2,385,199\u001b[0m (9.10 MB)\n"
      ]
     },
     "metadata": {},
     "output_type": "display_data"
    },
    {
     "data": {
      "text/html": [
       "<pre style=\"white-space:pre;overflow-x:auto;line-height:normal;font-family:Menlo,'DejaVu Sans Mono',consolas,'Courier New',monospace\"><span style=\"font-weight: bold\"> Non-trainable params: </span><span style=\"color: #00af00; text-decoration-color: #00af00\">0</span> (0.00 B)\n",
       "</pre>\n"
      ],
      "text/plain": [
       "\u001b[1m Non-trainable params: \u001b[0m\u001b[38;5;34m0\u001b[0m (0.00 B)\n"
      ]
     },
     "metadata": {},
     "output_type": "display_data"
    }
   ],
   "source": [
    "cnn.summary()"
   ]
  },
  {
   "cell_type": "markdown",
   "id": "6195d6af",
   "metadata": {
    "id": "6195d6af"
   },
   "source": [
    "## Training Model"
   ]
  },
  {
   "cell_type": "code",
   "execution_count": 104,
   "id": "558beabc",
   "metadata": {
    "colab": {
     "background_save": true,
     "base_uri": "https://localhost:8080/"
    },
    "id": "558beabc",
    "outputId": "ed1dfd5b-444d-4752-90b3-f9436d2ce92d"
   },
   "outputs": [
    {
     "name": "stdout",
     "output_type": "stream",
     "text": [
      "Epoch 1/20\n",
      "\u001b[1m771/771\u001b[0m \u001b[32m━━━━━━━━━━━━━━━━━━━━\u001b[0m\u001b[37m\u001b[0m \u001b[1m49s\u001b[0m 59ms/step - accuracy: 0.7155 - loss: 1.0485 - precision_1: 0.8585 - recall_1: 0.6152 - val_accuracy: 0.8189 - val_loss: 0.5696 - val_precision_1: 0.8654 - val_recall_1: 0.7895\n",
      "Epoch 2/20\n",
      "\u001b[1m771/771\u001b[0m \u001b[32m━━━━━━━━━━━━━━━━━━━━\u001b[0m\u001b[37m\u001b[0m \u001b[1m43s\u001b[0m 56ms/step - accuracy: 0.8728 - loss: 0.3881 - precision_1: 0.9099 - recall_1: 0.8398 - val_accuracy: 0.8757 - val_loss: 0.3694 - val_precision_1: 0.9034 - val_recall_1: 0.8558\n",
      "Epoch 3/20\n",
      "\u001b[1m771/771\u001b[0m \u001b[32m━━━━━━━━━━━━━━━━━━━━\u001b[0m\u001b[37m\u001b[0m \u001b[1m44s\u001b[0m 58ms/step - accuracy: 0.9136 - loss: 0.2616 - precision_1: 0.9333 - recall_1: 0.8965 - val_accuracy: 0.9034 - val_loss: 0.3003 - val_precision_1: 0.9254 - val_recall_1: 0.8882\n",
      "Epoch 4/20\n",
      "\u001b[1m771/771\u001b[0m \u001b[32m━━━━━━━━━━━━━━━━━━━━\u001b[0m\u001b[37m\u001b[0m \u001b[1m44s\u001b[0m 57ms/step - accuracy: 0.9414 - loss: 0.1736 - precision_1: 0.9515 - recall_1: 0.9333 - val_accuracy: 0.8666 - val_loss: 0.5263 - val_precision_1: 0.8753 - val_recall_1: 0.8594\n",
      "Epoch 5/20\n",
      "\u001b[1m771/771\u001b[0m \u001b[32m━━━━━━━━━━━━━━━━━━━━\u001b[0m\u001b[37m\u001b[0m \u001b[1m44s\u001b[0m 57ms/step - accuracy: 0.9481 - loss: 0.1531 - precision_1: 0.9545 - recall_1: 0.9416 - val_accuracy: 0.8969 - val_loss: 0.4039 - val_precision_1: 0.9080 - val_recall_1: 0.8882\n",
      "Epoch 6/20\n",
      "\u001b[1m771/771\u001b[0m \u001b[32m━━━━━━━━━━━━━━━━━━━━\u001b[0m\u001b[37m\u001b[0m \u001b[1m45s\u001b[0m 58ms/step - accuracy: 0.9586 - loss: 0.1283 - precision_1: 0.9636 - recall_1: 0.9534 - val_accuracy: 0.9146 - val_loss: 0.2976 - val_precision_1: 0.9233 - val_recall_1: 0.9094\n",
      "Epoch 7/20\n",
      "\u001b[1m771/771\u001b[0m \u001b[32m━━━━━━━━━━━━━━━━━━━━\u001b[0m\u001b[37m\u001b[0m \u001b[1m45s\u001b[0m 58ms/step - accuracy: 0.9663 - loss: 0.1052 - precision_1: 0.9697 - recall_1: 0.9629 - val_accuracy: 0.9026 - val_loss: 0.3772 - val_precision_1: 0.9107 - val_recall_1: 0.8983\n",
      "Epoch 8/20\n",
      "\u001b[1m771/771\u001b[0m \u001b[32m━━━━━━━━━━━━━━━━━━━━\u001b[0m\u001b[37m\u001b[0m \u001b[1m45s\u001b[0m 59ms/step - accuracy: 0.9690 - loss: 0.0930 - precision_1: 0.9719 - recall_1: 0.9666 - val_accuracy: 0.9147 - val_loss: 0.3353 - val_precision_1: 0.9215 - val_recall_1: 0.9077\n",
      "Epoch 9/20\n",
      "\u001b[1m771/771\u001b[0m \u001b[32m━━━━━━━━━━━━━━━━━━━━\u001b[0m\u001b[37m\u001b[0m \u001b[1m45s\u001b[0m 59ms/step - accuracy: 0.9750 - loss: 0.0783 - precision_1: 0.9772 - recall_1: 0.9733 - val_accuracy: 0.9166 - val_loss: 0.3409 - val_precision_1: 0.9222 - val_recall_1: 0.9136\n",
      "Epoch 10/20\n",
      "\u001b[1m771/771\u001b[0m \u001b[32m━━━━━━━━━━━━━━━━━━━━\u001b[0m\u001b[37m\u001b[0m \u001b[1m45s\u001b[0m 59ms/step - accuracy: 0.9738 - loss: 0.0825 - precision_1: 0.9760 - recall_1: 0.9721 - val_accuracy: 0.8804 - val_loss: 0.5071 - val_precision_1: 0.8885 - val_recall_1: 0.8768\n",
      "Epoch 11/20\n",
      "\u001b[1m771/771\u001b[0m \u001b[32m━━━━━━━━━━━━━━━━━━━━\u001b[0m\u001b[37m\u001b[0m \u001b[1m45s\u001b[0m 59ms/step - accuracy: 0.9750 - loss: 0.0792 - precision_1: 0.9770 - recall_1: 0.9733 - val_accuracy: 0.8795 - val_loss: 0.5057 - val_precision_1: 0.8879 - val_recall_1: 0.8736\n",
      "Epoch 12/20\n",
      "\u001b[1m771/771\u001b[0m \u001b[32m━━━━━━━━━━━━━━━━━━━━\u001b[0m\u001b[37m\u001b[0m \u001b[1m45s\u001b[0m 59ms/step - accuracy: 0.9758 - loss: 0.0744 - precision_1: 0.9783 - recall_1: 0.9741 - val_accuracy: 0.8996 - val_loss: 0.4398 - val_precision_1: 0.9073 - val_recall_1: 0.8958\n",
      "Epoch 13/20\n",
      "\u001b[1m771/771\u001b[0m \u001b[32m━━━━━━━━━━━━━━━━━━━━\u001b[0m\u001b[37m\u001b[0m \u001b[1m45s\u001b[0m 59ms/step - accuracy: 0.9796 - loss: 0.0678 - precision_1: 0.9806 - recall_1: 0.9784 - val_accuracy: 0.9011 - val_loss: 0.4830 - val_precision_1: 0.9054 - val_recall_1: 0.8990\n",
      "Epoch 14/20\n",
      "\u001b[1m771/771\u001b[0m \u001b[32m━━━━━━━━━━━━━━━━━━━━\u001b[0m\u001b[37m\u001b[0m \u001b[1m46s\u001b[0m 59ms/step - accuracy: 0.9784 - loss: 0.0698 - precision_1: 0.9795 - recall_1: 0.9775 - val_accuracy: 0.8937 - val_loss: 0.5000 - val_precision_1: 0.9018 - val_recall_1: 0.8894\n",
      "Epoch 15/20\n",
      "\u001b[1m771/771\u001b[0m \u001b[32m━━━━━━━━━━━━━━━━━━━━\u001b[0m\u001b[37m\u001b[0m \u001b[1m46s\u001b[0m 59ms/step - accuracy: 0.9799 - loss: 0.0634 - precision_1: 0.9814 - recall_1: 0.9790 - val_accuracy: 0.9053 - val_loss: 0.4156 - val_precision_1: 0.9127 - val_recall_1: 0.9011\n",
      "Epoch 16/20\n",
      "\u001b[1m771/771\u001b[0m \u001b[32m━━━━━━━━━━━━━━━━━━━━\u001b[0m\u001b[37m\u001b[0m \u001b[1m46s\u001b[0m 59ms/step - accuracy: 0.9832 - loss: 0.0543 - precision_1: 0.9844 - recall_1: 0.9824 - val_accuracy: 0.9159 - val_loss: 0.4282 - val_precision_1: 0.9203 - val_recall_1: 0.9142\n",
      "Epoch 17/20\n",
      "\u001b[1m771/771\u001b[0m \u001b[32m━━━━━━━━━━━━━━━━━━━━\u001b[0m\u001b[37m\u001b[0m \u001b[1m46s\u001b[0m 59ms/step - accuracy: 0.9867 - loss: 0.0440 - precision_1: 0.9875 - recall_1: 0.9863 - val_accuracy: 0.9092 - val_loss: 0.4381 - val_precision_1: 0.9149 - val_recall_1: 0.9064\n",
      "Epoch 18/20\n",
      "\u001b[1m771/771\u001b[0m \u001b[32m━━━━━━━━━━━━━━━━━━━━\u001b[0m\u001b[37m\u001b[0m \u001b[1m46s\u001b[0m 59ms/step - accuracy: 0.9878 - loss: 0.0366 - precision_1: 0.9883 - recall_1: 0.9875 - val_accuracy: 0.9091 - val_loss: 0.5222 - val_precision_1: 0.9137 - val_recall_1: 0.9066\n",
      "Epoch 19/20\n",
      "\u001b[1m771/771\u001b[0m \u001b[32m━━━━━━━━━━━━━━━━━━━━\u001b[0m\u001b[37m\u001b[0m \u001b[1m46s\u001b[0m 59ms/step - accuracy: 0.9832 - loss: 0.0579 - precision_1: 0.9840 - recall_1: 0.9826 - val_accuracy: 0.9089 - val_loss: 0.5825 - val_precision_1: 0.9126 - val_recall_1: 0.9077\n",
      "Epoch 20/20\n",
      "\u001b[1m771/771\u001b[0m \u001b[32m━━━━━━━━━━━━━━━━━━━━\u001b[0m\u001b[37m\u001b[0m \u001b[1m45s\u001b[0m 59ms/step - accuracy: 0.9858 - loss: 0.0430 - precision_1: 0.9863 - recall_1: 0.9854 - val_accuracy: 0.9110 - val_loss: 0.5233 - val_precision_1: 0.9142 - val_recall_1: 0.9085\n"
     ]
    }
   ],
   "source": [
    "training_history = cnn.fit(x = training_set, validation_data = validation_set, epochs = 20)"
   ]
  },
  {
   "cell_type": "markdown",
   "id": "OTghB8iIwGWD",
   "metadata": {
    "id": "OTghB8iIwGWD"
   },
   "source": [
    "## Model Evaluation"
   ]
  },
  {
   "cell_type": "code",
   "execution_count": 105,
   "id": "355372e1",
   "metadata": {
    "id": "355372e1"
   },
   "outputs": [
    {
     "name": "stdout",
     "output_type": "stream",
     "text": [
      "\u001b[1m771/771\u001b[0m \u001b[32m━━━━━━━━━━━━━━━━━━━━\u001b[0m\u001b[37m\u001b[0m \u001b[1m14s\u001b[0m 19ms/step - accuracy: 0.9937 - loss: 0.0203 - precision_1: 0.9939 - recall_1: 0.9936\n"
     ]
    }
   ],
   "source": [
    "train_loss, train_acc, train_pre, train_rec = cnn.evaluate(training_set)"
   ]
  },
  {
   "cell_type": "code",
   "execution_count": 106,
   "id": "0SV6JQir2kCC",
   "metadata": {
    "id": "0SV6JQir2kCC"
   },
   "outputs": [
    {
     "name": "stdout",
     "output_type": "stream",
     "text": [
      "0.020252598449587822 0.9937124848365784 0.9939135909080505 0.9936313629150391\n"
     ]
    }
   ],
   "source": [
    "print(train_loss, train_acc, train_pre, train_rec)"
   ]
  },
  {
   "cell_type": "code",
   "execution_count": 107,
   "id": "VXVnoWQC2pvu",
   "metadata": {
    "id": "VXVnoWQC2pvu"
   },
   "outputs": [
    {
     "name": "stdout",
     "output_type": "stream",
     "text": [
      "\u001b[1m165/165\u001b[0m \u001b[32m━━━━━━━━━━━━━━━━━━━━\u001b[0m\u001b[37m\u001b[0m \u001b[1m3s\u001b[0m 17ms/step - accuracy: 0.9110 - loss: 0.5233 - precision_1: 0.9142 - recall_1: 0.9085\n"
     ]
    }
   ],
   "source": [
    "valid_loss, valid_acc, valid_pre, valid_rec = cnn.evaluate(validation_set)"
   ]
  },
  {
   "cell_type": "code",
   "execution_count": 108,
   "id": "uix2GIK82zx0",
   "metadata": {
    "id": "uix2GIK82zx0"
   },
   "outputs": [
    {
     "name": "stdout",
     "output_type": "stream",
     "text": [
      "0.5232720375061035 0.9109511375427246 0.9142040014266968 0.9084880352020264\n"
     ]
    }
   ],
   "source": [
    "print(valid_loss, valid_acc, valid_pre, valid_rec)"
   ]
  },
  {
   "cell_type": "markdown",
   "id": "ujb25md34V7t",
   "metadata": {
    "id": "ujb25md34V7t"
   },
   "source": [
    "## Accuracy Visualization"
   ]
  },
  {
   "cell_type": "code",
   "execution_count": 109,
   "id": "8d9325c8",
   "metadata": {},
   "outputs": [
    {
     "name": "stdout",
     "output_type": "stream",
     "text": [
      "[0.7154794931411743, 0.872789204120636, 0.9135972857475281, 0.9413840770721436, 0.9481177926063538, 0.9585834741592407, 0.9662501811981201, 0.9690086245536804, 0.9750121831893921, 0.9738357663154602, 0.9749715924263, 0.9758234620094299, 0.9795554280281067, 0.9784196019172668, 0.979920506477356, 0.9832062125205994, 0.9867353439331055, 0.9878305792808533, 0.9831656813621521, 0.985761821269989]\n"
     ]
    }
   ],
   "source": [
    "print(training_history.history['accuracy'])"
   ]
  },
  {
   "cell_type": "code",
   "execution_count": 110,
   "id": "LphQmNQq4OSP",
   "metadata": {
    "id": "LphQmNQq4OSP"
   },
   "outputs": [
    {
     "data": {
      "image/png": "[encoded data removed]",
      "text/plain": [
       "<Figure size 640x480 with 1 Axes>"
      ]
     },
     "metadata": {},
     "output_type": "display_data"
    }
   ],
   "source": [
    "epochs = [i for i in range(1,21)]\n",
    "plt.plot(epochs, training_history.history['accuracy'], color='red', label ='Training Accuracy')\n",
    "plt.plot(epochs, training_history.history['val_accuracy'], color='blue', label ='Validation Accuracy')\n",
    "plt.xlabel('No. of Epochs')\n",
    "plt.ylabel('Accuracy Result')\n",
    "plt.title('Visualization of Accuracy Result')\n",
    "plt.legend()\n",
    "plt.show()"
   ]
  },
  {
   "cell_type": "markdown",
   "id": "f5058900",
   "metadata": {},
   "source": [
    "## Creating Pipeline"
   ]
  },
  {
   "cell_type": "code",
   "execution_count": 111,
   "id": "a27b1498",
   "metadata": {},
   "outputs": [],
   "source": [
    "# creating a function transformer to pass it to pipeline\n",
    "\n",
    "def preprocess(img):\n",
    "    # Convert PIL Image → NumPy array\n",
    "    if isinstance(img, Image.Image):\n",
    "        img = np.array(img)\n",
    "    # grayscale (no channel dimension)\n",
    "    if img.ndim == 2:\n",
    "        img = color.gray2rgb(img)\n",
    "    # RGBA (4 channels)\n",
    "    elif img.shape[2] == 4:\n",
    "        img = color.rgba2rgb(img)\n",
    "\n",
    "    # Resize to 128x128\n",
    "    resized_img = transform.resize(img, (128, 128), anti_aliasing=True) # anti_aliasing makes img smoother when shrinked\n",
    "    return resized_img\n",
    "\n",
    "# converting our function to 'Function Transformer' for compatibility with Sklearn's pipeline\n",
    "rgb_resize_transformer = FunctionTransformer(\n",
    "    lambda imgs: np.array([preprocess(img) for img in imgs])\n",
    ")"
   ]
  },
  {
   "cell_type": "code",
   "execution_count": 112,
   "id": "b10a8c2c",
   "metadata": {},
   "outputs": [],
   "source": [
    "pipeline = Pipeline(steps=[\n",
    "    ('preprocess', rgb_resize_transformer),\n",
    "    ('model', cnn),\n",
    "])"
   ]
  },
  {
   "cell_type": "code",
   "execution_count": 113,
   "id": "2ad9ae0a",
   "metadata": {},
   "outputs": [
    {
     "data": {
      "text/plain": [
       "'/home/root123/GitHub/Two_Months_ML_Journey/Week 4'"
      ]
     },
     "execution_count": 113,
     "metadata": {},
     "output_type": "execute_result"
    }
   ],
   "source": [
    "curr_dir"
   ]
  },
  {
   "cell_type": "code",
   "execution_count": 123,
   "id": "905df115",
   "metadata": {},
   "outputs": [],
   "source": [
    "destination_path = 'test_data'\n",
    "predict_img_path = curr_dir/Path(destination_path)\n",
    "predictions = [\n",
    "    'Pepper Bell Bacterial Spot',\n",
    "    'Pepper Bell Healthy',\n",
    "    'Potato Early Blight',\n",
    "    'Potato Healthy',\n",
    "    'Potato Late Blight',\n",
    "    'Tomato Target Spot',\n",
    "    'Tomato Mosaic Virus',\n",
    "    'Tomato Yellow Leaf Curl Virus',\n",
    "    'Tomato Bacterial Spot',\n",
    "    'Tomato Early Blight',\n",
    "    'Tomato Healthy',\n",
    "    'Tomato Late Blight',\n",
    "    'Tomato Leaf Mold',\n",
    "    'Tomato Septoria Leaf Spot',\n",
    "    'Tomato Spider Mites',\n",
    "]   \n"
   ]
  },
  {
   "cell_type": "code",
   "execution_count": 124,
   "id": "d6cf6ea7",
   "metadata": {},
   "outputs": [
    {
     "name": "stdout",
     "output_type": "stream",
     "text": [
      "\u001b[1m1/1\u001b[0m \u001b[32m━━━━━━━━━━━━━━━━━━━━\u001b[0m\u001b[37m\u001b[0m \u001b[1m0s\u001b[0m 29ms/step\n",
      "[0.0000000e+00 5.9113530e-22 0.0000000e+00 1.4408093e-28 6.4622232e-32\n",
      " 9.6151309e-19 4.2383204e-32 1.0000000e+00 3.4417856e-19 6.2207867e-37\n",
      " 8.2598352e-37 3.0041597e-39 2.8225648e-25 0.0000000e+00 3.5438731e-16]\n",
      "Prediction: Tomato Yellow Leaf Curl Virus\n",
      "\u001b[1m1/1\u001b[0m \u001b[32m━━━━━━━━━━━━━━━━━━━━\u001b[0m\u001b[37m\u001b[0m \u001b[1m0s\u001b[0m 31ms/step\n",
      "[0.0000000e+00 1.6951445e-21 1.4012985e-45 1.1818995e-28 8.6015153e-32\n",
      " 1.0248303e-18 3.8675107e-31 1.0000000e+00 2.3443479e-18 9.8652345e-37\n",
      " 7.4869785e-36 1.6955109e-39 6.9921273e-25 0.0000000e+00 2.6050348e-17]\n",
      "Prediction: Tomato Yellow Leaf Curl Virus\n",
      "\u001b[1m1/1\u001b[0m \u001b[32m━━━━━━━━━━━━━━━━━━━━\u001b[0m\u001b[37m\u001b[0m \u001b[1m0s\u001b[0m 29ms/step\n",
      "[0.0000000e+00 1.0841209e-21 1.4012985e-45 1.4117991e-28 5.9190408e-32\n",
      " 2.3640243e-18 2.4844534e-31 1.0000000e+00 1.4654501e-18 8.8025498e-37\n",
      " 4.3332963e-36 2.0525856e-39 6.4597818e-25 0.0000000e+00 6.3897631e-17]\n",
      "Prediction: Tomato Yellow Leaf Curl Virus\n",
      "\u001b[1m1/1\u001b[0m \u001b[32m━━━━━━━━━━━━━━━━━━━━\u001b[0m\u001b[37m\u001b[0m \u001b[1m0s\u001b[0m 31ms/step\n",
      "[0.0000000e+00 7.1016788e-22 1.4012985e-45 1.5522626e-28 3.8175692e-32\n",
      " 3.0676417e-18 1.1566305e-31 1.0000000e+00 1.6753150e-18 6.6818269e-37\n",
      " 1.8017480e-36 1.2879194e-39 7.9149614e-25 0.0000000e+00 7.4990269e-17]\n",
      "Prediction: Tomato Yellow Leaf Curl Virus\n"
     ]
    }
   ],
   "source": [
    "for img_file in predict_img_path.iterdir():\n",
    "    if img_file.suffix.lower() in ['.jpg', '.png']:\n",
    "        # Open image\n",
    "        img = Image.open(img_file)\n",
    "        \n",
    "        # Run through your pipeline (wrap in list or array)\n",
    "        pred = pipeline.predict([img])\n",
    "        print(pred[0])\n",
    "        print(f'Prediction: {predictions[np.argmax(pred)]}')"
   ]
  },
  {
   "cell_type": "markdown",
   "id": "oCPNwlGf24kh",
   "metadata": {
    "id": "oCPNwlGf24kh"
   },
   "source": [
    "## Saving Model"
   ]
  },
  {
   "cell_type": "code",
   "execution_count": 116,
   "id": "NHbenC8L262l",
   "metadata": {
    "id": "NHbenC8L262l"
   },
   "outputs": [],
   "source": [
    "cnn.save('trained_model.keras') # one extension of saving, not using h5 as keras takes less space"
   ]
  },
  {
   "cell_type": "code",
   "execution_count": 117,
   "id": "ssO8WVP43lNa",
   "metadata": {
    "id": "ssO8WVP43lNa"
   },
   "outputs": [
    {
     "data": {
      "text/plain": [
       "{'accuracy': [0.7154794931411743,\n",
       "  0.872789204120636,\n",
       "  0.9135972857475281,\n",
       "  0.9413840770721436,\n",
       "  0.9481177926063538,\n",
       "  0.9585834741592407,\n",
       "  0.9662501811981201,\n",
       "  0.9690086245536804,\n",
       "  0.9750121831893921,\n",
       "  0.9738357663154602,\n",
       "  0.9749715924263,\n",
       "  0.9758234620094299,\n",
       "  0.9795554280281067,\n",
       "  0.9784196019172668,\n",
       "  0.979920506477356,\n",
       "  0.9832062125205994,\n",
       "  0.9867353439331055,\n",
       "  0.9878305792808533,\n",
       "  0.9831656813621521,\n",
       "  0.985761821269989],\n",
       " 'loss': [1.0485488176345825,\n",
       "  0.3881295323371887,\n",
       "  0.26162806153297424,\n",
       "  0.1736411601305008,\n",
       "  0.1531120091676712,\n",
       "  0.12830619513988495,\n",
       "  0.1051756963133812,\n",
       "  0.0929870679974556,\n",
       "  0.07828057557344437,\n",
       "  0.0825379341840744,\n",
       "  0.07918426394462585,\n",
       "  0.07441031187772751,\n",
       "  0.06775248795747757,\n",
       "  0.06975366920232773,\n",
       "  0.0633891224861145,\n",
       "  0.05428723245859146,\n",
       "  0.044045526534318924,\n",
       "  0.03661167621612549,\n",
       "  0.05787675827741623,\n",
       "  0.04301149398088455],\n",
       " 'precision_1': [0.858485221862793,\n",
       "  0.9099380373954773,\n",
       "  0.9333164691925049,\n",
       "  0.9514514803886414,\n",
       "  0.9544800519943237,\n",
       "  0.9635521173477173,\n",
       "  0.9697279334068298,\n",
       "  0.9719378352165222,\n",
       "  0.97719407081604,\n",
       "  0.9759703278541565,\n",
       "  0.9769553542137146,\n",
       "  0.9782856702804565,\n",
       "  0.9806472659111023,\n",
       "  0.9794732332229614,\n",
       "  0.9814159870147705,\n",
       "  0.9844315052032471,\n",
       "  0.9874512553215027,\n",
       "  0.9883475303649902,\n",
       "  0.9839941263198853,\n",
       "  0.9862774610519409],\n",
       " 'recall_1': [0.6152036190032959,\n",
       "  0.8397696018218994,\n",
       "  0.8964790105819702,\n",
       "  0.9333117008209229,\n",
       "  0.9415869116783142,\n",
       "  0.9533506631851196,\n",
       "  0.9628833532333374,\n",
       "  0.9666152596473694,\n",
       "  0.9733490347862244,\n",
       "  0.9720509648323059,\n",
       "  0.9733490347862244,\n",
       "  0.9740791916847229,\n",
       "  0.9784196019172668,\n",
       "  0.9774866104125977,\n",
       "  0.9789875149726868,\n",
       "  0.9823949337005615,\n",
       "  0.9863297343254089,\n",
       "  0.987465500831604,\n",
       "  0.9825571775436401,\n",
       "  0.985437273979187],\n",
       " 'val_accuracy': [0.8188707828521729,\n",
       "  0.8757104873657227,\n",
       "  0.9033724665641785,\n",
       "  0.8666161298751831,\n",
       "  0.8969306349754333,\n",
       "  0.9145509600639343,\n",
       "  0.9026146531105042,\n",
       "  0.9147404432296753,\n",
       "  0.9166350960731506,\n",
       "  0.8804471492767334,\n",
       "  0.8794997930526733,\n",
       "  0.8995831608772278,\n",
       "  0.901098906993866,\n",
       "  0.8937097191810608,\n",
       "  0.9052671194076538,\n",
       "  0.9158772230148315,\n",
       "  0.9092459082603455,\n",
       "  0.9090564846992493,\n",
       "  0.9088670015335083,\n",
       "  0.9109511375427246],\n",
       " 'val_loss': [0.5695720314979553,\n",
       "  0.3693997859954834,\n",
       "  0.3002772331237793,\n",
       "  0.5262582898139954,\n",
       "  0.4038960039615631,\n",
       "  0.297590434551239,\n",
       "  0.3771554231643677,\n",
       "  0.33526161313056946,\n",
       "  0.3409265875816345,\n",
       "  0.5070711374282837,\n",
       "  0.5056702494621277,\n",
       "  0.4398449957370758,\n",
       "  0.48302432894706726,\n",
       "  0.4999944865703583,\n",
       "  0.4156367778778076,\n",
       "  0.428202360868454,\n",
       "  0.4381203055381775,\n",
       "  0.5222102999687195,\n",
       "  0.5825397372245789,\n",
       "  0.5232720375061035],\n",
       " 'val_precision_1': [0.8654205799102783,\n",
       "  0.9034000039100647,\n",
       "  0.9253849387168884,\n",
       "  0.8753377199172974,\n",
       "  0.9079992175102234,\n",
       "  0.9232544898986816,\n",
       "  0.9106799960136414,\n",
       "  0.92152339220047,\n",
       "  0.9221648573875427,\n",
       "  0.8884623050689697,\n",
       "  0.8879260420799255,\n",
       "  0.9073114395141602,\n",
       "  0.9053615927696228,\n",
       "  0.9018251895904541,\n",
       "  0.9126846790313721,\n",
       "  0.9202746748924255,\n",
       "  0.9148976802825928,\n",
       "  0.9136910438537598,\n",
       "  0.9125714302062988,\n",
       "  0.9142040014266968],\n",
       " 'val_recall_1': [0.7895035743713379,\n",
       "  0.8558166027069092,\n",
       "  0.8882152438163757,\n",
       "  0.8594164252281189,\n",
       "  0.8882152438163757,\n",
       "  0.9094353914260864,\n",
       "  0.8982568979263306,\n",
       "  0.907730221748352,\n",
       "  0.913603663444519,\n",
       "  0.8768472671508789,\n",
       "  0.8736263513565063,\n",
       "  0.8957938551902771,\n",
       "  0.8990147709846497,\n",
       "  0.889352023601532,\n",
       "  0.901098906993866,\n",
       "  0.9141720533370972,\n",
       "  0.9064039587974548,\n",
       "  0.906593382358551,\n",
       "  0.907730221748352,\n",
       "  0.9084880352020264]}"
      ]
     },
     "execution_count": 117,
     "metadata": {},
     "output_type": "execute_result"
    }
   ],
   "source": [
    "training_history.history"
   ]
  },
  {
   "cell_type": "code",
   "execution_count": 125,
   "id": "9IQoFW7f30oX",
   "metadata": {
    "id": "9IQoFW7f30oX"
   },
   "outputs": [],
   "source": [
    "# storing history in json format\n",
    "import json\n",
    "with open('training_hist.json', 'w') as f:\n",
    "  json.dump(training_history.history, f)"
   ]
  },
  {
   "cell_type": "code",
   "execution_count": null,
   "id": "ShpqUBL04iSS",
   "metadata": {
    "id": "ShpqUBL04iSS"
   },
   "outputs": [],
   "source": []
  }
 ],
 "metadata": {
  "accelerator": "GPU",
  "colab": {
   "gpuType": "T4",
   "provenance": []
  },
  "kernelspec": {
   "display_name": "tf",
   "language": "python",
   "name": "python3"
  },
  "language_info": {
   "codemirror_mode": {
    "name": "ipython",
    "version": 3
   },
   "file_extension": ".py",
   "mimetype": "text/x-python",
   "name": "python",
   "nbconvert_exporter": "python",
   "pygments_lexer": "ipython3",
   "version": "3.10.12"
  }
 },
 "nbformat": 4,
 "nbformat_minor": 5
}

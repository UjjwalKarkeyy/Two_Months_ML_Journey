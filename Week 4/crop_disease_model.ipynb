{
 "cells": [
  {
   "cell_type": "markdown",
   "id": "363fd7f7",
   "metadata": {
    "id": "363fd7f7"
   },
   "source": [
    "## **Importing libraries**"
   ]
  },
  {
   "cell_type": "code",
   "execution_count": 1,
   "id": "0efa06b9",
   "metadata": {
    "executionInfo": {
     "elapsed": 4803,
     "status": "ok",
     "timestamp": 1761287424232,
     "user": {
      "displayName": "Adam Fox",
      "userId": "15231053833354285105"
     },
     "user_tz": -345
    },
    "id": "0efa06b9"
   },
   "outputs": [
    {
     "name": "stderr",
     "output_type": "stream",
     "text": [
      "2025-10-25 15:34:22.444464: I tensorflow/core/util/port.cc:153] oneDNN custom operations are on. You may see slightly different numerical results due to floating-point round-off errors from different computation orders. To turn them off, set the environment variable `TF_ENABLE_ONEDNN_OPTS=0`.\n",
      "2025-10-25 15:34:23.097400: I tensorflow/core/platform/cpu_feature_guard.cc:210] This TensorFlow binary is optimized to use available CPU instructions in performance-critical operations.\n",
      "To enable the following instructions: AVX2 AVX512F AVX512_VNNI FMA, in other operations, rebuild TensorFlow with the appropriate compiler flags.\n",
      "2025-10-25 15:34:25.475797: I tensorflow/core/util/port.cc:153] oneDNN custom operations are on. You may see slightly different numerical results due to floating-point round-off errors from different computation orders. To turn them off, set the environment variable `TF_ENABLE_ONEDNN_OPTS=0`.\n"
     ]
    }
   ],
   "source": [
    "import tensorflow as tf\n",
    "import numpy as np\n",
    "from tensorflow.keras import layers\n",
    "from tensorflow.keras.models import Sequential\n",
    "from tensorflow.keras.layers import Dense, Conv2D, MaxPool2D, Flatten\n",
    "from tensorflow.keras.metrics import Precision, Recall\n",
    "import matplotlib.pyplot as plt\n",
    "import pandas as pd\n",
    "import seaborn as sns\n",
    "import os\n",
    "from PIL import Image\n",
    "from pathlib import Path"
   ]
  },
  {
   "cell_type": "markdown",
   "id": "aa2e4a26",
   "metadata": {
    "id": "aa2e4a26"
   },
   "source": [
    "## Verifying the GPU Setup [tensorflow + CUDA (Compute Unified Device Architecture) => Let's you use GPU for Computation other than Graphics]"
   ]
  },
  {
   "cell_type": "code",
   "execution_count": 2,
   "id": "781937c4",
   "metadata": {
    "executionInfo": {
     "elapsed": 6,
     "status": "ok",
     "timestamp": 1761287424240,
     "user": {
      "displayName": "Adam Fox",
      "userId": "15231053833354285105"
     },
     "user_tz": -345
    },
    "id": "781937c4"
   },
   "outputs": [],
   "source": [
    "# !python3 -c \"import tensorflow as tf; print(tf.config.list_physical_devices('GPU'))\""
   ]
  },
  {
   "cell_type": "markdown",
   "id": "eaaa59ff",
   "metadata": {
    "id": "eaaa59ff"
   },
   "source": [
    "## **Data Preprocessing**\n",
    "#### Used *'https://youtube.com/playlist?list=PLvz5lCwTgdXDNcXEVwwHsb9DwjNXZGsoy&si=gPCwVkKpS63FVLAC'* for guidance"
   ]
  },
  {
   "cell_type": "markdown",
   "id": "865ed928",
   "metadata": {
    "id": "865ed928"
   },
   "source": [
    "# Training Image Preprocessing"
   ]
  },
  {
   "cell_type": "code",
   "execution_count": 3,
   "id": "53194054",
   "metadata": {},
   "outputs": [],
   "source": [
    "curr_dir = os.getcwd()"
   ]
  },
  {
   "cell_type": "code",
   "execution_count": 4,
   "id": "abab9437",
   "metadata": {
    "colab": {
     "base_uri": "https://localhost:8080/"
    },
    "executionInfo": {
     "elapsed": 59276,
     "status": "ok",
     "timestamp": 1761287484023,
     "user": {
      "displayName": "Adam Fox",
      "userId": "15231053833354285105"
     },
     "user_tz": -345
    },
    "id": "abab9437",
    "outputId": "942ddbd2-18dc-484f-d0ee-01ea1be9040d"
   },
   "outputs": [
    {
     "name": "stdout",
     "output_type": "stream",
     "text": [
      "Found 24652 files belonging to 15 classes.\n"
     ]
    },
    {
     "name": "stderr",
     "output_type": "stream",
     "text": [
      "WARNING: All log messages before absl::InitializeLog() is called are written to STDERR\n",
      "I0000 00:00:1761385769.226564    1536 gpu_device.cc:2020] Created device /job:localhost/replica:0/task:0/device:GPU:0 with 1767 MB memory:  -> device: 0, name: NVIDIA GeForce RTX 3050 Laptop GPU, pci bus id: 0000:01:00.0, compute capability: 8.6\n"
     ]
    }
   ],
   "source": [
    "training_set = tf.keras.utils.image_dataset_from_directory(\n",
    "    './data/PlantVillage_Cleaned/split_data/train',\n",
    "    labels=\"inferred\", # leaving inferred, keras generates labels and class name automatically i.e.,\n",
    "    # [Pepper_mold, Potato_healthy, Tomato_healthy, ...] alphabetically, where labels [0, 1, 2, ...]\n",
    "    label_mode=\"categorical\",\n",
    "    class_names=None,\n",
    "    color_mode=\"rgb\",\n",
    "    batch_size=32,\n",
    "    image_size=(128, 128),\n",
    "    shuffle=True,\n",
    "    seed=40,\n",
    "    validation_split=None,\n",
    "    subset=None,\n",
    "    interpolation=\"bilinear\",\n",
    "    follow_links=False,\n",
    "    crop_to_aspect_ratio=False,\n",
    "    pad_to_aspect_ratio=False,\n",
    "    data_format=None,\n",
    "    verbose=True,\n",
    ")"
   ]
  },
  {
   "cell_type": "code",
   "execution_count": 5,
   "id": "9d73b013",
   "metadata": {},
   "outputs": [],
   "source": [
    "# normalizing training set\n",
    "normalization_layer = layers.Rescaling(1./255.0)\n",
    "training_set = training_set.map(lambda x, y: (normalization_layer(x), y))"
   ]
  },
  {
   "cell_type": "markdown",
   "id": "30f299cb",
   "metadata": {
    "id": "30f299cb"
   },
   "source": [
    "## Validation Image Preprocessing"
   ]
  },
  {
   "cell_type": "code",
   "execution_count": 6,
   "id": "a41367da",
   "metadata": {
    "colab": {
     "base_uri": "https://localhost:8080/"
    },
    "executionInfo": {
     "elapsed": 11757,
     "status": "ok",
     "timestamp": 1761287495782,
     "user": {
      "displayName": "Adam Fox",
      "userId": "15231053833354285105"
     },
     "user_tz": -345
    },
    "id": "a41367da",
    "outputId": "b5eccae2-8eea-442e-8ae6-aacaf40614d9"
   },
   "outputs": [
    {
     "name": "stdout",
     "output_type": "stream",
     "text": [
      "Found 5278 files belonging to 15 classes.\n"
     ]
    }
   ],
   "source": [
    "validation_set = tf.keras.utils.image_dataset_from_directory(\n",
    "    './data/PlantVillage_Cleaned/split_data/valid',\n",
    "    labels=\"inferred\",\n",
    "    label_mode=\"categorical\",\n",
    "    class_names=None,\n",
    "    color_mode=\"rgb\",\n",
    "    batch_size=32,\n",
    "    image_size=(128, 128),\n",
    "    shuffle=True,\n",
    "    seed=40,\n",
    "    validation_split=None,\n",
    "    subset=None,\n",
    "    interpolation=\"bilinear\",\n",
    "    follow_links=False,\n",
    "    crop_to_aspect_ratio=False,\n",
    "    pad_to_aspect_ratio=False,\n",
    "    data_format=None,\n",
    "    verbose=True,\n",
    ")"
   ]
  },
  {
   "cell_type": "code",
   "execution_count": 7,
   "id": "1b63d404",
   "metadata": {},
   "outputs": [],
   "source": [
    "# normalizing validation set\n",
    "validation_set = validation_set.map(lambda x, y: (normalization_layer(x), y))"
   ]
  },
  {
   "cell_type": "code",
   "execution_count": 8,
   "id": "11b565fb",
   "metadata": {
    "colab": {
     "base_uri": "https://localhost:8080/"
    },
    "executionInfo": {
     "elapsed": 12190,
     "status": "ok",
     "timestamp": 1761287507978,
     "user": {
      "displayName": "Adam Fox",
      "userId": "15231053833354285105"
     },
     "user_tz": -345
    },
    "id": "11b565fb",
    "outputId": "d7b363b9-ccaa-4893-c00a-243659fef617"
   },
   "outputs": [
    {
     "name": "stdout",
     "output_type": "stream",
     "text": [
      "tf.Tensor(\n",
      "[[[[0.         0.         0.        ]\n",
      "   [0.         0.         0.        ]\n",
      "   [0.         0.         0.        ]\n",
      "   ...\n",
      "   [0.         0.         0.        ]\n",
      "   [0.         0.         0.        ]\n",
      "   [0.         0.         0.        ]]\n",
      "\n",
      "  [[0.         0.         0.        ]\n",
      "   [0.         0.         0.        ]\n",
      "   [0.         0.         0.        ]\n",
      "   ...\n",
      "   [0.         0.         0.        ]\n",
      "   [0.         0.         0.        ]\n",
      "   [0.         0.         0.        ]]\n",
      "\n",
      "  [[0.         0.         0.        ]\n",
      "   [0.         0.         0.        ]\n",
      "   [0.         0.         0.        ]\n",
      "   ...\n",
      "   [0.         0.         0.        ]\n",
      "   [0.         0.         0.        ]\n",
      "   [0.         0.         0.        ]]\n",
      "\n",
      "  ...\n",
      "\n",
      "  [[0.         0.         0.        ]\n",
      "   [0.         0.         0.        ]\n",
      "   [0.         0.         0.        ]\n",
      "   ...\n",
      "   [0.         0.         0.        ]\n",
      "   [0.         0.         0.        ]\n",
      "   [0.         0.         0.        ]]\n",
      "\n",
      "  [[0.         0.         0.        ]\n",
      "   [0.         0.         0.        ]\n",
      "   [0.         0.         0.        ]\n",
      "   ...\n",
      "   [0.         0.         0.        ]\n",
      "   [0.         0.         0.        ]\n",
      "   [0.         0.         0.        ]]\n",
      "\n",
      "  [[0.         0.         0.        ]\n",
      "   [0.         0.         0.        ]\n",
      "   [0.         0.         0.        ]\n",
      "   ...\n",
      "   [0.         0.         0.        ]\n",
      "   [0.         0.         0.        ]\n",
      "   [0.         0.         0.        ]]]\n",
      "\n",
      "\n",
      " [[[0.43039218 0.39509806 0.4147059 ]\n",
      "   [0.45784315 0.42254904 0.44215688]\n",
      "   [0.48627454 0.45098042 0.47058827]\n",
      "   ...\n",
      "   [0.3901961  0.35490197 0.3745098 ]\n",
      "   [0.45000002 0.4147059  0.43431374]\n",
      "   [0.37058824 0.33529413 0.35490197]]\n",
      "\n",
      "  [[0.45784315 0.42254904 0.44215688]\n",
      "   [0.44901964 0.41372553 0.43333337]\n",
      "   [0.49509805 0.45980394 0.47941178]\n",
      "   ...\n",
      "   [0.3784314  0.34313726 0.3627451 ]\n",
      "   [0.4294118  0.39411768 0.41372553]\n",
      "   [0.40980396 0.3745098  0.39411768]]\n",
      "\n",
      "  [[0.47058827 0.43529415 0.454902  ]\n",
      "   [0.47352943 0.4382353  0.45784315]\n",
      "   [0.46960786 0.43431374 0.4539216 ]\n",
      "   ...\n",
      "   [0.38529414 0.35000002 0.36960787]\n",
      "   [0.43921572 0.4039216  0.42352945]\n",
      "   [0.41274512 0.377451   0.39705884]]\n",
      "\n",
      "  ...\n",
      "\n",
      "  [[0.64019614 0.62058824 0.6441177 ]\n",
      "   [0.64901966 0.6294118  0.6529412 ]\n",
      "   [0.6431373  0.62352943 0.64705884]\n",
      "   ...\n",
      "   [0.6392157  0.6117647  0.6392157 ]\n",
      "   [0.609804   0.582353   0.609804  ]\n",
      "   [0.63431376 0.6068628  0.63431376]]\n",
      "\n",
      "  [[0.64607847 0.6264706  0.65000004]\n",
      "   [0.6264706  0.6068628  0.6303922 ]\n",
      "   [0.6333334  0.61372554 0.63725495]\n",
      "   ...\n",
      "   [0.61372554 0.58627456 0.61372554]\n",
      "   [0.62352943 0.59607846 0.62352943]\n",
      "   [0.6166667  0.5892157  0.6166667 ]]\n",
      "\n",
      "  [[0.61372554 0.5941177  0.6176471 ]\n",
      "   [0.60882354 0.5892157  0.6127451 ]\n",
      "   [0.6294118  0.609804   0.6333334 ]\n",
      "   ...\n",
      "   [0.6147059  0.58725494 0.6147059 ]\n",
      "   [0.62549025 0.59803927 0.62549025]\n",
      "   [0.63431376 0.6068628  0.63431376]]]\n",
      "\n",
      "\n",
      " [[[0.01176471 0.01176471 0.01176471]\n",
      "   [0.01176471 0.01176471 0.01176471]\n",
      "   [0.01176471 0.01176471 0.01176471]\n",
      "   ...\n",
      "   [0.01176471 0.01176471 0.01176471]\n",
      "   [0.01176471 0.01176471 0.01176471]\n",
      "   [0.01176471 0.01176471 0.01176471]]\n",
      "\n",
      "  [[0.01176471 0.01176471 0.01176471]\n",
      "   [0.01176471 0.01176471 0.01176471]\n",
      "   [0.01176471 0.01176471 0.01176471]\n",
      "   ...\n",
      "   [0.01176471 0.01176471 0.01176471]\n",
      "   [0.01176471 0.01176471 0.01176471]\n",
      "   [0.01176471 0.01176471 0.01176471]]\n",
      "\n",
      "  [[0.01176471 0.01176471 0.01176471]\n",
      "   [0.01176471 0.01176471 0.01176471]\n",
      "   [0.01176471 0.01176471 0.01176471]\n",
      "   ...\n",
      "   [0.01176471 0.01176471 0.01176471]\n",
      "   [0.01176471 0.01176471 0.01176471]\n",
      "   [0.01176471 0.01176471 0.01176471]]\n",
      "\n",
      "  ...\n",
      "\n",
      "  [[0.01176471 0.01176471 0.01176471]\n",
      "   [0.01176471 0.01176471 0.01176471]\n",
      "   [0.01176471 0.01176471 0.01176471]\n",
      "   ...\n",
      "   [0.01176471 0.01176471 0.01176471]\n",
      "   [0.01176471 0.01176471 0.01176471]\n",
      "   [0.01176471 0.01176471 0.01176471]]\n",
      "\n",
      "  [[0.01176471 0.01176471 0.01176471]\n",
      "   [0.01176471 0.01176471 0.01176471]\n",
      "   [0.01176471 0.01176471 0.01176471]\n",
      "   ...\n",
      "   [0.01176471 0.01176471 0.01176471]\n",
      "   [0.01176471 0.01176471 0.01176471]\n",
      "   [0.01176471 0.01176471 0.01176471]]\n",
      "\n",
      "  [[0.01176471 0.01176471 0.01176471]\n",
      "   [0.01176471 0.01176471 0.01176471]\n",
      "   [0.01176471 0.01176471 0.01176471]\n",
      "   ...\n",
      "   [0.01176471 0.01176471 0.01176471]\n",
      "   [0.01176471 0.01176471 0.01176471]\n",
      "   [0.01176471 0.01176471 0.01176471]]]\n",
      "\n",
      "\n",
      " ...\n",
      "\n",
      "\n",
      " [[[0.25490198 0.21862747 0.20490198]\n",
      "   [0.19411767 0.40196082 0.32058826]\n",
      "   [0.15       0.21960786 0.09901962]\n",
      "   ...\n",
      "   [0.54607844 0.28235295 0.29509807]\n",
      "   [0.5382353  0.5558824  0.56372553]\n",
      "   [0.1627451  0.13235295 0.16862746]]\n",
      "\n",
      "  [[0.3539216  0.22843139 0.29215688]\n",
      "   [0.30392158 0.35980394 0.3254902 ]\n",
      "   [0.25490198 0.4029412  0.17058824]\n",
      "   ...\n",
      "   [0.26862746 0.30588236 0.25882354]\n",
      "   [0.37254903 0.50686276 0.38529414]\n",
      "   [0.57156867 0.5441177  0.5421569 ]]\n",
      "\n",
      "  [[0.277451   0.27058825 0.49607846]\n",
      "   [0.32156864 0.4784314  0.47058827]\n",
      "   [0.29705885 0.26862746 0.23627453]\n",
      "   ...\n",
      "   [0.17352942 0.3156863  0.24803923]\n",
      "   [0.45686278 0.24803923 0.5264706 ]\n",
      "   [0.53921574 0.21568629 0.64019614]]\n",
      "\n",
      "  ...\n",
      "\n",
      "  [[0.15       0.07843138 0.30882356]\n",
      "   [0.29509807 0.27254903 0.0882353 ]\n",
      "   [0.2509804  0.38333336 0.16568628]\n",
      "   ...\n",
      "   [0.31960785 0.32352942 0.2019608 ]\n",
      "   [0.3264706  0.19803923 0.16078432]\n",
      "   [0.15980393 0.32941177 0.277451  ]]\n",
      "\n",
      "  [[0.14215687 0.07254902 0.24607845]\n",
      "   [0.2764706  0.24509805 0.09509805]\n",
      "   [0.28529415 0.11176471 0.16470589]\n",
      "   ...\n",
      "   [0.23823531 0.29215688 0.20588237]\n",
      "   [0.27549022 0.15588236 0.06764706]\n",
      "   [0.15392157 0.3019608  0.21960786]]\n",
      "\n",
      "  [[0.14901961 0.09215686 0.1254902 ]\n",
      "   [0.15686275 0.3401961  0.3901961 ]\n",
      "   [0.16666667 0.14215687 0.47647062]\n",
      "   ...\n",
      "   [0.05294118 0.08039216 0.27254903]\n",
      "   [0.09705883 0.20686276 0.14411765]\n",
      "   [0.14509805 0.47647062 0.19117649]]]\n",
      "\n",
      "\n",
      " [[[0.50980395 0.5019608  0.52156866]\n",
      "   [0.49901962 0.4911765  0.5107843 ]\n",
      "   [0.4921569  0.48431376 0.5039216 ]\n",
      "   ...\n",
      "   [0.48627454 0.4784314  0.4901961 ]\n",
      "   [0.504902   0.49705884 0.5088236 ]\n",
      "   [0.5029412  0.49509805 0.50686276]]\n",
      "\n",
      "  [[0.4911765  0.48333335 0.5029412 ]\n",
      "   [0.49509805 0.48725492 0.50686276]\n",
      "   [0.5019608  0.49411768 0.5137255 ]\n",
      "   ...\n",
      "   [0.4784314  0.47058827 0.48235297]\n",
      "   [0.5        0.4921569  0.5039216 ]\n",
      "   [0.5039216  0.49607846 0.5078432 ]]\n",
      "\n",
      "  [[0.4754902  0.46764708 0.48725492]\n",
      "   [0.4921569  0.48431376 0.5039216 ]\n",
      "   [0.5088236  0.50098044 0.5205883 ]\n",
      "   ...\n",
      "   [0.48431376 0.47647062 0.48823532]\n",
      "   [0.49313727 0.48529413 0.49705884]\n",
      "   [0.48725492 0.47941178 0.4911765 ]]\n",
      "\n",
      "  ...\n",
      "\n",
      "  [[0.33529413 0.3509804  0.3627451 ]\n",
      "   [0.33431375 0.35000002 0.36176473]\n",
      "   [0.33333334 0.34901962 0.36078432]\n",
      "   ...\n",
      "   [0.31960785 0.3392157  0.3509804 ]\n",
      "   [0.30784315 0.327451   0.3392157 ]\n",
      "   [0.30980393 0.32941177 0.34117648]]\n",
      "\n",
      "  [[0.327451   0.34313726 0.35490197]\n",
      "   [0.3284314  0.34411767 0.35588238]\n",
      "   [0.32941177 0.34509805 0.35686275]\n",
      "   ...\n",
      "   [0.31960785 0.3392157  0.3509804 ]\n",
      "   [0.30784315 0.327451   0.3392157 ]\n",
      "   [0.30980393 0.32941177 0.34117648]]\n",
      "\n",
      "  [[0.32254905 0.33823532 0.35000002]\n",
      "   [0.3254902  0.34117648 0.3529412 ]\n",
      "   [0.32941177 0.34509805 0.35686275]\n",
      "   ...\n",
      "   [0.31960785 0.3392157  0.3509804 ]\n",
      "   [0.30784315 0.327451   0.3392157 ]\n",
      "   [0.30980393 0.32941177 0.34117648]]]\n",
      "\n",
      "\n",
      " [[[0.64607847 0.63823533 0.6421569 ]\n",
      "   [0.63725495 0.6294118  0.6333334 ]\n",
      "   [0.7009804  0.6931373  0.69705886]\n",
      "   ...\n",
      "   [0.6156863  0.60784316 0.61960787]\n",
      "   [0.59803927 0.59019613 0.60196084]\n",
      "   [0.5803922  0.57254905 0.58431375]]\n",
      "\n",
      "  [[0.6568628  0.64901966 0.6529412 ]\n",
      "   [0.66372555 0.6558824  0.659804  ]\n",
      "   [0.6568628  0.64901966 0.6529412 ]\n",
      "   ...\n",
      "   [0.62352943 0.6156863  0.627451  ]\n",
      "   [0.6176471  0.609804   0.6215687 ]\n",
      "   [0.63529414 0.627451   0.6392157 ]]\n",
      "\n",
      "  [[0.64019614 0.632353   0.6362746 ]\n",
      "   [0.66176474 0.6539216  0.6578432 ]\n",
      "   [0.67352945 0.6656863  0.6696079 ]\n",
      "   ...\n",
      "   [0.6294118  0.6215687  0.6333334 ]\n",
      "   [0.61960787 0.6117647  0.62352943]\n",
      "   [0.6362746  0.62843144 0.64019614]]\n",
      "\n",
      "  ...\n",
      "\n",
      "  [[0.51274514 0.49705884 0.48529413]\n",
      "   [0.4529412  0.43725494 0.42549023]\n",
      "   [0.4803922  0.4647059  0.4529412 ]\n",
      "   ...\n",
      "   [0.47058827 0.454902   0.4431373 ]\n",
      "   [0.48333335 0.46764708 0.45588237]\n",
      "   [0.47254905 0.45686278 0.44509807]]\n",
      "\n",
      "  [[0.44705886 0.43137258 0.41960788]\n",
      "   [0.4529412  0.43725494 0.42549023]\n",
      "   [0.47647062 0.46078435 0.44901964]\n",
      "   ...\n",
      "   [0.44509807 0.4294118  0.4176471 ]\n",
      "   [0.47156864 0.45588237 0.44411767]\n",
      "   [0.45882356 0.4431373  0.43137258]]\n",
      "\n",
      "  [[0.43921572 0.42352945 0.41176474]\n",
      "   [0.45000002 0.43431374 0.42254904]\n",
      "   [0.46274513 0.44705886 0.43529415]\n",
      "   ...\n",
      "   [0.46274513 0.44705886 0.43529415]\n",
      "   [0.46764708 0.4519608  0.4401961 ]\n",
      "   [0.48431376 0.46862748 0.45686278]]]], shape=(32, 128, 128, 3), dtype=float32) (32, 128, 128, 3)\n",
      "tf.Tensor(\n",
      "[[0. 0. 0. 0. 0. 0. 0. 0. 0. 0. 0. 0. 0. 0. 1.]\n",
      " [0. 0. 0. 0. 0. 0. 0. 0. 0. 0. 0. 0. 1. 0. 0.]\n",
      " [0. 0. 0. 0. 0. 0. 0. 0. 0. 0. 0. 0. 0. 0. 1.]\n",
      " [0. 0. 0. 0. 0. 0. 0. 0. 0. 0. 0. 0. 0. 0. 1.]\n",
      " [0. 0. 0. 0. 0. 1. 0. 0. 0. 0. 0. 0. 0. 0. 0.]\n",
      " [0. 0. 0. 0. 1. 0. 0. 0. 0. 0. 0. 0. 0. 0. 0.]\n",
      " [0. 0. 0. 0. 0. 0. 0. 0. 0. 0. 0. 0. 0. 0. 1.]\n",
      " [0. 0. 0. 0. 0. 0. 0. 0. 0. 0. 1. 0. 0. 0. 0.]\n",
      " [0. 0. 0. 0. 0. 0. 0. 0. 0. 0. 0. 0. 0. 0. 1.]\n",
      " [0. 0. 0. 0. 0. 0. 0. 1. 0. 0. 0. 0. 0. 0. 0.]\n",
      " [0. 0. 0. 0. 0. 0. 1. 0. 0. 0. 0. 0. 0. 0. 0.]\n",
      " [0. 0. 0. 0. 0. 0. 0. 1. 0. 0. 0. 0. 0. 0. 0.]\n",
      " [0. 0. 0. 0. 0. 0. 0. 0. 0. 0. 0. 0. 0. 0. 1.]\n",
      " [0. 0. 0. 0. 0. 0. 0. 0. 0. 0. 0. 0. 0. 0. 1.]\n",
      " [0. 0. 0. 0. 0. 0. 0. 0. 0. 0. 0. 0. 0. 0. 1.]\n",
      " [0. 0. 0. 0. 0. 1. 0. 0. 0. 0. 0. 0. 0. 0. 0.]\n",
      " [0. 0. 0. 0. 0. 0. 0. 0. 0. 0. 0. 0. 0. 0. 1.]\n",
      " [0. 0. 0. 0. 0. 0. 0. 0. 0. 0. 0. 0. 0. 0. 1.]\n",
      " [0. 0. 0. 0. 0. 0. 1. 0. 0. 0. 0. 0. 0. 0. 0.]\n",
      " [0. 0. 0. 0. 0. 0. 0. 0. 0. 0. 0. 1. 0. 0. 0.]\n",
      " [0. 0. 0. 0. 0. 0. 0. 0. 1. 0. 0. 0. 0. 0. 0.]\n",
      " [0. 0. 0. 0. 0. 0. 0. 1. 0. 0. 0. 0. 0. 0. 0.]\n",
      " [0. 0. 0. 0. 0. 0. 0. 0. 0. 0. 0. 0. 0. 0. 1.]\n",
      " [0. 0. 0. 0. 0. 0. 0. 0. 0. 0. 0. 0. 0. 0. 1.]\n",
      " [0. 0. 0. 0. 0. 0. 0. 0. 0. 0. 0. 0. 0. 0. 1.]\n",
      " [0. 0. 0. 0. 0. 0. 0. 0. 0. 0. 0. 0. 0. 0. 1.]\n",
      " [0. 1. 0. 0. 0. 0. 0. 0. 0. 0. 0. 0. 0. 0. 0.]\n",
      " [0. 1. 0. 0. 0. 0. 0. 0. 0. 0. 0. 0. 0. 0. 0.]\n",
      " [0. 0. 0. 0. 1. 0. 0. 0. 0. 0. 0. 0. 0. 0. 0.]\n",
      " [0. 0. 0. 0. 0. 0. 0. 0. 0. 0. 0. 0. 0. 0. 1.]\n",
      " [0. 0. 0. 0. 0. 0. 0. 0. 0. 0. 0. 0. 0. 0. 1.]\n",
      " [0. 0. 0. 0. 0. 1. 0. 0. 0. 0. 0. 0. 0. 0. 0.]], shape=(32, 15), dtype=float32) (32, 15)\n"
     ]
    }
   ],
   "source": [
    "for x, y in training_set:\n",
    "    print(x, x.shape)\n",
    "    print(y, y.shape)\n",
    "    break"
   ]
  },
  {
   "cell_type": "markdown",
   "id": "0ea5dda8",
   "metadata": {
    "id": "0ea5dda8"
   },
   "source": [
    "# **Building Model**"
   ]
  },
  {
   "cell_type": "code",
   "execution_count": 9,
   "id": "2c8686b6",
   "metadata": {
    "executionInfo": {
     "elapsed": 4,
     "status": "ok",
     "timestamp": 1761287507984,
     "user": {
      "displayName": "Adam Fox",
      "userId": "15231053833354285105"
     },
     "user_tz": -345
    },
    "id": "2c8686b6"
   },
   "outputs": [],
   "source": [
    "cnn = Sequential()"
   ]
  },
  {
   "cell_type": "markdown",
   "id": "cfe39a7a",
   "metadata": {
    "id": "cfe39a7a"
   },
   "source": [
    "## Building Convolution Layers (Architecture)"
   ]
  },
  {
   "cell_type": "code",
   "execution_count": 10,
   "id": "8e0d8b48",
   "metadata": {
    "executionInfo": {
     "elapsed": 2,
     "status": "ok",
     "timestamp": 1761287507989,
     "user": {
      "displayName": "Adam Fox",
      "userId": "15231053833354285105"
     },
     "user_tz": -345
    },
    "id": "8e0d8b48"
   },
   "outputs": [],
   "source": [
    "# 🧠 CNN Concept Summary:\n",
    "\n",
    "# 1️⃣ Each cnn.add() = one layer (Conv, Pool, etc.)\n",
    "#     → Conv2D = learns features (edges → textures → shapes)\n",
    "#     → MaxPool2D = downsamples feature maps (keeps strongest features)\n",
    "\n",
    "# 2️⃣ Repeated Conv+Pool blocks = deeper understanding:\n",
    "#     Block1: basic edges/colors\n",
    "#     Block2: shapes/textures\n",
    "#     Block3: complex leaf patterns\n",
    "#     Block4: disease regions\n",
    "\n",
    "# 3️⃣ Kernel (3x3): small filter sliding over input\n",
    "#     → detects local patterns (like edge fragments)\n",
    "\n",
    "# 4️⃣ padding='same': adds zero borders → output height & width stay same\n",
    "#     padding='valid': no padding → output shrinks\n",
    "\n",
    "# 5️⃣ input_shape: only needed in the first Conv2D layer\n",
    "#     → later layers infer input size automatically\n",
    "\n",
    "# 6️⃣ Max Pooling (2x2): reduces feature map size by half\n",
    "#     → keeps key activations, adds translation invariance\n",
    "\n",
    "# 7️⃣ Hierarchy summary:\n",
    "#     Input → Conv → Pool → Conv → Pool → Flatten → Dense → Output\n"
   ]
  },
  {
   "cell_type": "code",
   "execution_count": 11,
   "id": "a77009e5",
   "metadata": {
    "colab": {
     "base_uri": "https://localhost:8080/"
    },
    "executionInfo": {
     "elapsed": 856,
     "status": "ok",
     "timestamp": 1761287508847,
     "user": {
      "displayName": "Adam Fox",
      "userId": "15231053833354285105"
     },
     "user_tz": -345
    },
    "id": "a77009e5",
    "outputId": "675def6f-000c-46ad-a3c4-45cc4bc75a9a"
   },
   "outputs": [
    {
     "name": "stderr",
     "output_type": "stream",
     "text": [
      "/home/root123/GitHub/Two_Months_ML_Journey/Week 4/tf/lib/python3.10/site-packages/keras/src/layers/convolutional/base_conv.py:113: UserWarning: Do not pass an `input_shape`/`input_dim` argument to a layer. When using Sequential models, prefer using an `Input(shape)` object as the first layer in the model instead.\n",
      "  super().__init__(activity_regularizer=activity_regularizer, **kwargs)\n"
     ]
    }
   ],
   "source": [
    "cnn.add(Conv2D(filters=32, kernel_size = 3, padding = 'same', activation = 'relu', input_shape = [128,128, 3])) # input_size = [widht, height, input shape]\n",
    "cnn.add(Conv2D(filters=32, kernel_size = 3, padding = 'same', activation = 'relu'))\n",
    "cnn.add(MaxPool2D(pool_size = 2, strides = 2)) # pool size -> shape of pooling filter, strides -> movement of sliding window"
   ]
  },
  {
   "cell_type": "code",
   "execution_count": 12,
   "id": "11bfcf28",
   "metadata": {
    "executionInfo": {
     "elapsed": 25,
     "status": "ok",
     "timestamp": 1761287508876,
     "user": {
      "displayName": "Adam Fox",
      "userId": "15231053833354285105"
     },
     "user_tz": -345
    },
    "id": "11bfcf28"
   },
   "outputs": [],
   "source": [
    "cnn.add(Conv2D(filters=64, kernel_size = 3, padding = 'same', activation = 'relu'))\n",
    "cnn.add(Conv2D(filters=64, kernel_size = 3, padding = 'same', activation = 'relu'))\n",
    "cnn.add(MaxPool2D(pool_size = 2, strides = 2))"
   ]
  },
  {
   "cell_type": "code",
   "execution_count": 13,
   "id": "ab5cebc5",
   "metadata": {
    "executionInfo": {
     "elapsed": 26,
     "status": "ok",
     "timestamp": 1761287508905,
     "user": {
      "displayName": "Adam Fox",
      "userId": "15231053833354285105"
     },
     "user_tz": -345
    },
    "id": "ab5cebc5"
   },
   "outputs": [],
   "source": [
    "cnn.add(Conv2D(filters=128, kernel_size = 3, padding = 'same', activation = 'relu'))\n",
    "cnn.add(Conv2D(filters=128, kernel_size = 3, padding = 'same', activation = 'relu'))\n",
    "cnn.add(MaxPool2D(pool_size = 2, strides = 2))"
   ]
  },
  {
   "cell_type": "code",
   "execution_count": 14,
   "id": "bde8f32a",
   "metadata": {
    "executionInfo": {
     "elapsed": 1,
     "status": "ok",
     "timestamp": 1761287508909,
     "user": {
      "displayName": "Adam Fox",
      "userId": "15231053833354285105"
     },
     "user_tz": -345
    },
    "id": "bde8f32a"
   },
   "outputs": [],
   "source": [
    "cnn.add(Conv2D(filters=256, kernel_size = 3, padding = 'same', activation = 'relu'))\n",
    "cnn.add(Conv2D(filters=256, kernel_size = 3, padding = 'same', activation = 'relu'))\n",
    "cnn.add(MaxPool2D(pool_size = 2, strides = 2))"
   ]
  },
  {
   "cell_type": "code",
   "execution_count": 15,
   "id": "67c89c08",
   "metadata": {
    "executionInfo": {
     "elapsed": 4,
     "status": "ok",
     "timestamp": 1761287508920,
     "user": {
      "displayName": "Adam Fox",
      "userId": "15231053833354285105"
     },
     "user_tz": -345
    },
    "id": "67c89c08"
   },
   "outputs": [],
   "source": [
    "# Flattening the results to pass to the dense layer\n",
    "cnn.add(Flatten())"
   ]
  },
  {
   "cell_type": "code",
   "execution_count": 16,
   "id": "e43db7dd",
   "metadata": {
    "executionInfo": {
     "elapsed": 27,
     "status": "ok",
     "timestamp": 1761287508952,
     "user": {
      "displayName": "Adam Fox",
      "userId": "15231053833354285105"
     },
     "user_tz": -345
    },
    "id": "e43db7dd"
   },
   "outputs": [],
   "source": [
    "cnn.add(Dense(units = 64, activation = 'relu'))"
   ]
  },
  {
   "cell_type": "code",
   "execution_count": 17,
   "id": "99ef7925",
   "metadata": {
    "executionInfo": {
     "elapsed": 35,
     "status": "ok",
     "timestamp": 1761287508983,
     "user": {
      "displayName": "Adam Fox",
      "userId": "15231053833354285105"
     },
     "user_tz": -345
    },
    "id": "99ef7925"
   },
   "outputs": [],
   "source": [
    "# output layer\n",
    "cnn.add(Dense(units = 15, activation = 'softmax'))"
   ]
  },
  {
   "cell_type": "markdown",
   "id": "b629a387",
   "metadata": {
    "id": "b629a387"
   },
   "source": [
    "## Compiling Model"
   ]
  },
  {
   "cell_type": "code",
   "execution_count": 18,
   "id": "7fdc649e",
   "metadata": {
    "executionInfo": {
     "elapsed": 21,
     "status": "ok",
     "timestamp": 1761287509005,
     "user": {
      "displayName": "Adam Fox",
      "userId": "15231053833354285105"
     },
     "user_tz": -345
    },
    "id": "7fdc649e"
   },
   "outputs": [],
   "source": [
    "cnn.compile(\n",
    "    optimizer = 'adam',\n",
    "    loss = 'categorical_crossentropy',\n",
    "    metrics = ['accuracy', Precision(), Recall()])"
   ]
  },
  {
   "cell_type": "code",
   "execution_count": 19,
   "id": "6344a79e",
   "metadata": {
    "colab": {
     "base_uri": "https://localhost:8080/",
     "height": 513
    },
    "executionInfo": {
     "elapsed": 26,
     "status": "ok",
     "timestamp": 1761287509032,
     "user": {
      "displayName": "Adam Fox",
      "userId": "15231053833354285105"
     },
     "user_tz": -345
    },
    "id": "6344a79e",
    "outputId": "e87a9494-d252-4031-9d96-372d2683b243"
   },
   "outputs": [
    {
     "data": {
      "text/html": [
       "<pre style=\"white-space:pre;overflow-x:auto;line-height:normal;font-family:Menlo,'DejaVu Sans Mono',consolas,'Courier New',monospace\"><span style=\"font-weight: bold\">Model: \"sequential\"</span>\n",
       "</pre>\n"
      ],
      "text/plain": [
       "\u001b[1mModel: \"sequential\"\u001b[0m\n"
      ]
     },
     "metadata": {},
     "output_type": "display_data"
    },
    {
     "data": {
      "text/html": [
       "<pre style=\"white-space:pre;overflow-x:auto;line-height:normal;font-family:Menlo,'DejaVu Sans Mono',consolas,'Courier New',monospace\">┏━━━━━━━━━━━━━━━━━━━━━━━━━━━━━━━━━┳━━━━━━━━━━━━━━━━━━━━━━━━┳━━━━━━━━━━━━━━━┓\n",
       "┃<span style=\"font-weight: bold\"> Layer (type)                    </span>┃<span style=\"font-weight: bold\"> Output Shape           </span>┃<span style=\"font-weight: bold\">       Param # </span>┃\n",
       "┡━━━━━━━━━━━━━━━━━━━━━━━━━━━━━━━━━╇━━━━━━━━━━━━━━━━━━━━━━━━╇━━━━━━━━━━━━━━━┩\n",
       "│ conv2d (<span style=\"color: #0087ff; text-decoration-color: #0087ff\">Conv2D</span>)                 │ (<span style=\"color: #00d7ff; text-decoration-color: #00d7ff\">None</span>, <span style=\"color: #00af00; text-decoration-color: #00af00\">128</span>, <span style=\"color: #00af00; text-decoration-color: #00af00\">128</span>, <span style=\"color: #00af00; text-decoration-color: #00af00\">32</span>)   │           <span style=\"color: #00af00; text-decoration-color: #00af00\">896</span> │\n",
       "├─────────────────────────────────┼────────────────────────┼───────────────┤\n",
       "│ conv2d_1 (<span style=\"color: #0087ff; text-decoration-color: #0087ff\">Conv2D</span>)               │ (<span style=\"color: #00d7ff; text-decoration-color: #00d7ff\">None</span>, <span style=\"color: #00af00; text-decoration-color: #00af00\">128</span>, <span style=\"color: #00af00; text-decoration-color: #00af00\">128</span>, <span style=\"color: #00af00; text-decoration-color: #00af00\">32</span>)   │         <span style=\"color: #00af00; text-decoration-color: #00af00\">9,248</span> │\n",
       "├─────────────────────────────────┼────────────────────────┼───────────────┤\n",
       "│ max_pooling2d (<span style=\"color: #0087ff; text-decoration-color: #0087ff\">MaxPooling2D</span>)    │ (<span style=\"color: #00d7ff; text-decoration-color: #00d7ff\">None</span>, <span style=\"color: #00af00; text-decoration-color: #00af00\">64</span>, <span style=\"color: #00af00; text-decoration-color: #00af00\">64</span>, <span style=\"color: #00af00; text-decoration-color: #00af00\">32</span>)     │             <span style=\"color: #00af00; text-decoration-color: #00af00\">0</span> │\n",
       "├─────────────────────────────────┼────────────────────────┼───────────────┤\n",
       "│ conv2d_2 (<span style=\"color: #0087ff; text-decoration-color: #0087ff\">Conv2D</span>)               │ (<span style=\"color: #00d7ff; text-decoration-color: #00d7ff\">None</span>, <span style=\"color: #00af00; text-decoration-color: #00af00\">64</span>, <span style=\"color: #00af00; text-decoration-color: #00af00\">64</span>, <span style=\"color: #00af00; text-decoration-color: #00af00\">64</span>)     │        <span style=\"color: #00af00; text-decoration-color: #00af00\">18,496</span> │\n",
       "├─────────────────────────────────┼────────────────────────┼───────────────┤\n",
       "│ conv2d_3 (<span style=\"color: #0087ff; text-decoration-color: #0087ff\">Conv2D</span>)               │ (<span style=\"color: #00d7ff; text-decoration-color: #00d7ff\">None</span>, <span style=\"color: #00af00; text-decoration-color: #00af00\">64</span>, <span style=\"color: #00af00; text-decoration-color: #00af00\">64</span>, <span style=\"color: #00af00; text-decoration-color: #00af00\">64</span>)     │        <span style=\"color: #00af00; text-decoration-color: #00af00\">36,928</span> │\n",
       "├─────────────────────────────────┼────────────────────────┼───────────────┤\n",
       "│ max_pooling2d_1 (<span style=\"color: #0087ff; text-decoration-color: #0087ff\">MaxPooling2D</span>)  │ (<span style=\"color: #00d7ff; text-decoration-color: #00d7ff\">None</span>, <span style=\"color: #00af00; text-decoration-color: #00af00\">32</span>, <span style=\"color: #00af00; text-decoration-color: #00af00\">32</span>, <span style=\"color: #00af00; text-decoration-color: #00af00\">64</span>)     │             <span style=\"color: #00af00; text-decoration-color: #00af00\">0</span> │\n",
       "├─────────────────────────────────┼────────────────────────┼───────────────┤\n",
       "│ conv2d_4 (<span style=\"color: #0087ff; text-decoration-color: #0087ff\">Conv2D</span>)               │ (<span style=\"color: #00d7ff; text-decoration-color: #00d7ff\">None</span>, <span style=\"color: #00af00; text-decoration-color: #00af00\">32</span>, <span style=\"color: #00af00; text-decoration-color: #00af00\">32</span>, <span style=\"color: #00af00; text-decoration-color: #00af00\">128</span>)    │        <span style=\"color: #00af00; text-decoration-color: #00af00\">73,856</span> │\n",
       "├─────────────────────────────────┼────────────────────────┼───────────────┤\n",
       "│ conv2d_5 (<span style=\"color: #0087ff; text-decoration-color: #0087ff\">Conv2D</span>)               │ (<span style=\"color: #00d7ff; text-decoration-color: #00d7ff\">None</span>, <span style=\"color: #00af00; text-decoration-color: #00af00\">32</span>, <span style=\"color: #00af00; text-decoration-color: #00af00\">32</span>, <span style=\"color: #00af00; text-decoration-color: #00af00\">128</span>)    │       <span style=\"color: #00af00; text-decoration-color: #00af00\">147,584</span> │\n",
       "├─────────────────────────────────┼────────────────────────┼───────────────┤\n",
       "│ max_pooling2d_2 (<span style=\"color: #0087ff; text-decoration-color: #0087ff\">MaxPooling2D</span>)  │ (<span style=\"color: #00d7ff; text-decoration-color: #00d7ff\">None</span>, <span style=\"color: #00af00; text-decoration-color: #00af00\">16</span>, <span style=\"color: #00af00; text-decoration-color: #00af00\">16</span>, <span style=\"color: #00af00; text-decoration-color: #00af00\">128</span>)    │             <span style=\"color: #00af00; text-decoration-color: #00af00\">0</span> │\n",
       "├─────────────────────────────────┼────────────────────────┼───────────────┤\n",
       "│ conv2d_6 (<span style=\"color: #0087ff; text-decoration-color: #0087ff\">Conv2D</span>)               │ (<span style=\"color: #00d7ff; text-decoration-color: #00d7ff\">None</span>, <span style=\"color: #00af00; text-decoration-color: #00af00\">16</span>, <span style=\"color: #00af00; text-decoration-color: #00af00\">16</span>, <span style=\"color: #00af00; text-decoration-color: #00af00\">256</span>)    │       <span style=\"color: #00af00; text-decoration-color: #00af00\">295,168</span> │\n",
       "├─────────────────────────────────┼────────────────────────┼───────────────┤\n",
       "│ conv2d_7 (<span style=\"color: #0087ff; text-decoration-color: #0087ff\">Conv2D</span>)               │ (<span style=\"color: #00d7ff; text-decoration-color: #00d7ff\">None</span>, <span style=\"color: #00af00; text-decoration-color: #00af00\">16</span>, <span style=\"color: #00af00; text-decoration-color: #00af00\">16</span>, <span style=\"color: #00af00; text-decoration-color: #00af00\">256</span>)    │       <span style=\"color: #00af00; text-decoration-color: #00af00\">590,080</span> │\n",
       "├─────────────────────────────────┼────────────────────────┼───────────────┤\n",
       "│ max_pooling2d_3 (<span style=\"color: #0087ff; text-decoration-color: #0087ff\">MaxPooling2D</span>)  │ (<span style=\"color: #00d7ff; text-decoration-color: #00d7ff\">None</span>, <span style=\"color: #00af00; text-decoration-color: #00af00\">8</span>, <span style=\"color: #00af00; text-decoration-color: #00af00\">8</span>, <span style=\"color: #00af00; text-decoration-color: #00af00\">256</span>)      │             <span style=\"color: #00af00; text-decoration-color: #00af00\">0</span> │\n",
       "├─────────────────────────────────┼────────────────────────┼───────────────┤\n",
       "│ flatten (<span style=\"color: #0087ff; text-decoration-color: #0087ff\">Flatten</span>)               │ (<span style=\"color: #00d7ff; text-decoration-color: #00d7ff\">None</span>, <span style=\"color: #00af00; text-decoration-color: #00af00\">16384</span>)          │             <span style=\"color: #00af00; text-decoration-color: #00af00\">0</span> │\n",
       "├─────────────────────────────────┼────────────────────────┼───────────────┤\n",
       "│ dense (<span style=\"color: #0087ff; text-decoration-color: #0087ff\">Dense</span>)                   │ (<span style=\"color: #00d7ff; text-decoration-color: #00d7ff\">None</span>, <span style=\"color: #00af00; text-decoration-color: #00af00\">64</span>)             │     <span style=\"color: #00af00; text-decoration-color: #00af00\">1,048,640</span> │\n",
       "├─────────────────────────────────┼────────────────────────┼───────────────┤\n",
       "│ dense_1 (<span style=\"color: #0087ff; text-decoration-color: #0087ff\">Dense</span>)                 │ (<span style=\"color: #00d7ff; text-decoration-color: #00d7ff\">None</span>, <span style=\"color: #00af00; text-decoration-color: #00af00\">15</span>)             │           <span style=\"color: #00af00; text-decoration-color: #00af00\">975</span> │\n",
       "└─────────────────────────────────┴────────────────────────┴───────────────┘\n",
       "</pre>\n"
      ],
      "text/plain": [
       "┏━━━━━━━━━━━━━━━━━━━━━━━━━━━━━━━━━┳━━━━━━━━━━━━━━━━━━━━━━━━┳━━━━━━━━━━━━━━━┓\n",
       "┃\u001b[1m \u001b[0m\u001b[1mLayer (type)                   \u001b[0m\u001b[1m \u001b[0m┃\u001b[1m \u001b[0m\u001b[1mOutput Shape          \u001b[0m\u001b[1m \u001b[0m┃\u001b[1m \u001b[0m\u001b[1m      Param #\u001b[0m\u001b[1m \u001b[0m┃\n",
       "┡━━━━━━━━━━━━━━━━━━━━━━━━━━━━━━━━━╇━━━━━━━━━━━━━━━━━━━━━━━━╇━━━━━━━━━━━━━━━┩\n",
       "│ conv2d (\u001b[38;5;33mConv2D\u001b[0m)                 │ (\u001b[38;5;45mNone\u001b[0m, \u001b[38;5;34m128\u001b[0m, \u001b[38;5;34m128\u001b[0m, \u001b[38;5;34m32\u001b[0m)   │           \u001b[38;5;34m896\u001b[0m │\n",
       "├─────────────────────────────────┼────────────────────────┼───────────────┤\n",
       "│ conv2d_1 (\u001b[38;5;33mConv2D\u001b[0m)               │ (\u001b[38;5;45mNone\u001b[0m, \u001b[38;5;34m128\u001b[0m, \u001b[38;5;34m128\u001b[0m, \u001b[38;5;34m32\u001b[0m)   │         \u001b[38;5;34m9,248\u001b[0m │\n",
       "├─────────────────────────────────┼────────────────────────┼───────────────┤\n",
       "│ max_pooling2d (\u001b[38;5;33mMaxPooling2D\u001b[0m)    │ (\u001b[38;5;45mNone\u001b[0m, \u001b[38;5;34m64\u001b[0m, \u001b[38;5;34m64\u001b[0m, \u001b[38;5;34m32\u001b[0m)     │             \u001b[38;5;34m0\u001b[0m │\n",
       "├─────────────────────────────────┼────────────────────────┼───────────────┤\n",
       "│ conv2d_2 (\u001b[38;5;33mConv2D\u001b[0m)               │ (\u001b[38;5;45mNone\u001b[0m, \u001b[38;5;34m64\u001b[0m, \u001b[38;5;34m64\u001b[0m, \u001b[38;5;34m64\u001b[0m)     │        \u001b[38;5;34m18,496\u001b[0m │\n",
       "├─────────────────────────────────┼────────────────────────┼───────────────┤\n",
       "│ conv2d_3 (\u001b[38;5;33mConv2D\u001b[0m)               │ (\u001b[38;5;45mNone\u001b[0m, \u001b[38;5;34m64\u001b[0m, \u001b[38;5;34m64\u001b[0m, \u001b[38;5;34m64\u001b[0m)     │        \u001b[38;5;34m36,928\u001b[0m │\n",
       "├─────────────────────────────────┼────────────────────────┼───────────────┤\n",
       "│ max_pooling2d_1 (\u001b[38;5;33mMaxPooling2D\u001b[0m)  │ (\u001b[38;5;45mNone\u001b[0m, \u001b[38;5;34m32\u001b[0m, \u001b[38;5;34m32\u001b[0m, \u001b[38;5;34m64\u001b[0m)     │             \u001b[38;5;34m0\u001b[0m │\n",
       "├─────────────────────────────────┼────────────────────────┼───────────────┤\n",
       "│ conv2d_4 (\u001b[38;5;33mConv2D\u001b[0m)               │ (\u001b[38;5;45mNone\u001b[0m, \u001b[38;5;34m32\u001b[0m, \u001b[38;5;34m32\u001b[0m, \u001b[38;5;34m128\u001b[0m)    │        \u001b[38;5;34m73,856\u001b[0m │\n",
       "├─────────────────────────────────┼────────────────────────┼───────────────┤\n",
       "│ conv2d_5 (\u001b[38;5;33mConv2D\u001b[0m)               │ (\u001b[38;5;45mNone\u001b[0m, \u001b[38;5;34m32\u001b[0m, \u001b[38;5;34m32\u001b[0m, \u001b[38;5;34m128\u001b[0m)    │       \u001b[38;5;34m147,584\u001b[0m │\n",
       "├─────────────────────────────────┼────────────────────────┼───────────────┤\n",
       "│ max_pooling2d_2 (\u001b[38;5;33mMaxPooling2D\u001b[0m)  │ (\u001b[38;5;45mNone\u001b[0m, \u001b[38;5;34m16\u001b[0m, \u001b[38;5;34m16\u001b[0m, \u001b[38;5;34m128\u001b[0m)    │             \u001b[38;5;34m0\u001b[0m │\n",
       "├─────────────────────────────────┼────────────────────────┼───────────────┤\n",
       "│ conv2d_6 (\u001b[38;5;33mConv2D\u001b[0m)               │ (\u001b[38;5;45mNone\u001b[0m, \u001b[38;5;34m16\u001b[0m, \u001b[38;5;34m16\u001b[0m, \u001b[38;5;34m256\u001b[0m)    │       \u001b[38;5;34m295,168\u001b[0m │\n",
       "├─────────────────────────────────┼────────────────────────┼───────────────┤\n",
       "│ conv2d_7 (\u001b[38;5;33mConv2D\u001b[0m)               │ (\u001b[38;5;45mNone\u001b[0m, \u001b[38;5;34m16\u001b[0m, \u001b[38;5;34m16\u001b[0m, \u001b[38;5;34m256\u001b[0m)    │       \u001b[38;5;34m590,080\u001b[0m │\n",
       "├─────────────────────────────────┼────────────────────────┼───────────────┤\n",
       "│ max_pooling2d_3 (\u001b[38;5;33mMaxPooling2D\u001b[0m)  │ (\u001b[38;5;45mNone\u001b[0m, \u001b[38;5;34m8\u001b[0m, \u001b[38;5;34m8\u001b[0m, \u001b[38;5;34m256\u001b[0m)      │             \u001b[38;5;34m0\u001b[0m │\n",
       "├─────────────────────────────────┼────────────────────────┼───────────────┤\n",
       "│ flatten (\u001b[38;5;33mFlatten\u001b[0m)               │ (\u001b[38;5;45mNone\u001b[0m, \u001b[38;5;34m16384\u001b[0m)          │             \u001b[38;5;34m0\u001b[0m │\n",
       "├─────────────────────────────────┼────────────────────────┼───────────────┤\n",
       "│ dense (\u001b[38;5;33mDense\u001b[0m)                   │ (\u001b[38;5;45mNone\u001b[0m, \u001b[38;5;34m64\u001b[0m)             │     \u001b[38;5;34m1,048,640\u001b[0m │\n",
       "├─────────────────────────────────┼────────────────────────┼───────────────┤\n",
       "│ dense_1 (\u001b[38;5;33mDense\u001b[0m)                 │ (\u001b[38;5;45mNone\u001b[0m, \u001b[38;5;34m15\u001b[0m)             │           \u001b[38;5;34m975\u001b[0m │\n",
       "└─────────────────────────────────┴────────────────────────┴───────────────┘\n"
      ]
     },
     "metadata": {},
     "output_type": "display_data"
    },
    {
     "data": {
      "text/html": [
       "<pre style=\"white-space:pre;overflow-x:auto;line-height:normal;font-family:Menlo,'DejaVu Sans Mono',consolas,'Courier New',monospace\"><span style=\"font-weight: bold\"> Total params: </span><span style=\"color: #00af00; text-decoration-color: #00af00\">2,221,871</span> (8.48 MB)\n",
       "</pre>\n"
      ],
      "text/plain": [
       "\u001b[1m Total params: \u001b[0m\u001b[38;5;34m2,221,871\u001b[0m (8.48 MB)\n"
      ]
     },
     "metadata": {},
     "output_type": "display_data"
    },
    {
     "data": {
      "text/html": [
       "<pre style=\"white-space:pre;overflow-x:auto;line-height:normal;font-family:Menlo,'DejaVu Sans Mono',consolas,'Courier New',monospace\"><span style=\"font-weight: bold\"> Trainable params: </span><span style=\"color: #00af00; text-decoration-color: #00af00\">2,221,871</span> (8.48 MB)\n",
       "</pre>\n"
      ],
      "text/plain": [
       "\u001b[1m Trainable params: \u001b[0m\u001b[38;5;34m2,221,871\u001b[0m (8.48 MB)\n"
      ]
     },
     "metadata": {},
     "output_type": "display_data"
    },
    {
     "data": {
      "text/html": [
       "<pre style=\"white-space:pre;overflow-x:auto;line-height:normal;font-family:Menlo,'DejaVu Sans Mono',consolas,'Courier New',monospace\"><span style=\"font-weight: bold\"> Non-trainable params: </span><span style=\"color: #00af00; text-decoration-color: #00af00\">0</span> (0.00 B)\n",
       "</pre>\n"
      ],
      "text/plain": [
       "\u001b[1m Non-trainable params: \u001b[0m\u001b[38;5;34m0\u001b[0m (0.00 B)\n"
      ]
     },
     "metadata": {},
     "output_type": "display_data"
    }
   ],
   "source": [
    "cnn.summary()"
   ]
  },
  {
   "cell_type": "markdown",
   "id": "6195d6af",
   "metadata": {
    "id": "6195d6af"
   },
   "source": [
    "## Training Model"
   ]
  },
  {
   "cell_type": "code",
   "execution_count": 20,
   "id": "558beabc",
   "metadata": {
    "colab": {
     "background_save": true,
     "base_uri": "https://localhost:8080/"
    },
    "id": "558beabc",
    "outputId": "ed1dfd5b-444d-4752-90b3-f9436d2ce92d"
   },
   "outputs": [
    {
     "name": "stdout",
     "output_type": "stream",
     "text": [
      "Epoch 1/20\n"
     ]
    },
    {
     "name": "stderr",
     "output_type": "stream",
     "text": [
      "2025-10-25 15:34:33.484025: I external/local_xla/xla/service/service.cc:163] XLA service 0x74b15c013430 initialized for platform CUDA (this does not guarantee that XLA will be used). Devices:\n",
      "2025-10-25 15:34:33.484080: I external/local_xla/xla/service/service.cc:171]   StreamExecutor device (0): NVIDIA GeForce RTX 3050 Laptop GPU, Compute Capability 8.6\n",
      "2025-10-25 15:34:33.634799: I tensorflow/compiler/mlir/tensorflow/utils/dump_mlir_util.cc:269] disabling MLIR crash reproducer, set env var `MLIR_CRASH_REPRODUCER_DIRECTORY` to enable.\n",
      "2025-10-25 15:34:34.248092: I external/local_xla/xla/stream_executor/cuda/cuda_dnn.cc:473] Loaded cuDNN version 91400\n",
      "2025-10-25 15:34:34.305942: I external/local_xla/xla/service/gpu/autotuning/dot_search_space.cc:208] All configs were filtered out because none of them sufficiently match the hints. Maybe the hints set does not contain a good representative set of valid configs? Working around this by using the full hints set instead.\n",
      "2025-10-25 15:34:36.414781: I external/local_xla/xla/stream_executor/cuda/subprocess_compilation.cc:346] ptxas warning : Registers are spilled to local memory in function 'gemm_fusion_dot_1111', 520 bytes spill stores, 520 bytes spill loads\n",
      "\n"
     ]
    },
    {
     "name": "stdout",
     "output_type": "stream",
     "text": [
      "\u001b[1m  2/771\u001b[0m \u001b[37m━━━━━━━━━━━━━━━━━━━━\u001b[0m \u001b[1m50s\u001b[0m 65ms/step - accuracy: 0.1094 - loss: 2.6438 - precision: 0.0000e+00 - recall: 0.0000e+00       "
     ]
    },
    {
     "name": "stderr",
     "output_type": "stream",
     "text": [
      "I0000 00:00:1761385786.890774    1907 device_compiler.h:196] Compiled cluster using XLA!  This line is logged at most once for the lifetime of the process.\n"
     ]
    },
    {
     "name": "stdout",
     "output_type": "stream",
     "text": [
      "\u001b[1m771/771\u001b[0m \u001b[32m━━━━━━━━━━━━━━━━━━━━\u001b[0m\u001b[37m\u001b[0m \u001b[1m0s\u001b[0m 71ms/step - accuracy: 0.4903 - loss: 1.7851 - precision: 0.7512 - recall: 0.2986"
     ]
    },
    {
     "name": "stderr",
     "output_type": "stream",
     "text": [
      "2025-10-25 15:35:47.582538: I external/local_xla/xla/stream_executor/cuda/subprocess_compilation.cc:346] ptxas warning : Registers are spilled to local memory in function 'gemm_fusion_dot_208', 8 bytes spill stores, 8 bytes spill loads\n",
      "\n"
     ]
    },
    {
     "name": "stdout",
     "output_type": "stream",
     "text": [
      "\u001b[1m771/771\u001b[0m \u001b[32m━━━━━━━━━━━━━━━━━━━━\u001b[0m\u001b[37m\u001b[0m \u001b[1m78s\u001b[0m 81ms/step - accuracy: 0.5956 - loss: 1.3318 - precision: 0.8239 - recall: 0.4511 - val_accuracy: 0.7514 - val_loss: 0.7616 - val_precision: 0.8692 - val_recall: 0.6582\n",
      "Epoch 2/20\n",
      "\u001b[1m771/771\u001b[0m \u001b[32m━━━━━━━━━━━━━━━━━━━━\u001b[0m\u001b[37m\u001b[0m \u001b[1m48s\u001b[0m 62ms/step - accuracy: 0.7884 - loss: 0.6353 - precision: 0.8738 - recall: 0.7231 - val_accuracy: 0.8463 - val_loss: 0.4677 - val_precision: 0.8928 - val_recall: 0.8092\n",
      "Epoch 3/20\n",
      "\u001b[1m771/771\u001b[0m \u001b[32m━━━━━━━━━━━━━━━━━━━━\u001b[0m\u001b[37m\u001b[0m \u001b[1m49s\u001b[0m 64ms/step - accuracy: 0.8512 - loss: 0.4406 - precision: 0.8975 - recall: 0.8115 - val_accuracy: 0.8679 - val_loss: 0.4063 - val_precision: 0.8997 - val_recall: 0.8431\n",
      "Epoch 4/20\n",
      "\u001b[1m771/771\u001b[0m \u001b[32m━━━━━━━━━━━━━━━━━━━━\u001b[0m\u001b[37m\u001b[0m \u001b[1m47s\u001b[0m 61ms/step - accuracy: 0.8860 - loss: 0.3315 - precision: 0.9169 - recall: 0.8611 - val_accuracy: 0.8833 - val_loss: 0.3697 - val_precision: 0.8988 - val_recall: 0.8698\n",
      "Epoch 5/20\n",
      "\u001b[1m771/771\u001b[0m \u001b[32m━━━━━━━━━━━━━━━━━━━━\u001b[0m\u001b[37m\u001b[0m \u001b[1m51s\u001b[0m 66ms/step - accuracy: 0.9136 - loss: 0.2514 - precision: 0.9322 - recall: 0.8984 - val_accuracy: 0.8812 - val_loss: 0.3876 - val_precision: 0.8976 - val_recall: 0.8704\n",
      "Epoch 6/20\n",
      "\u001b[1m771/771\u001b[0m \u001b[32m━━━━━━━━━━━━━━━━━━━━\u001b[0m\u001b[37m\u001b[0m \u001b[1m48s\u001b[0m 62ms/step - accuracy: 0.9372 - loss: 0.1818 - precision: 0.9486 - recall: 0.9282 - val_accuracy: 0.9060 - val_loss: 0.3170 - val_precision: 0.9150 - val_recall: 0.8990\n",
      "Epoch 7/20\n",
      "\u001b[1m771/771\u001b[0m \u001b[32m━━━━━━━━━━━━━━━━━━━━\u001b[0m\u001b[37m\u001b[0m \u001b[1m48s\u001b[0m 63ms/step - accuracy: 0.9510 - loss: 0.1416 - precision: 0.9587 - recall: 0.9449 - val_accuracy: 0.8884 - val_loss: 0.4515 - val_precision: 0.8959 - val_recall: 0.8842\n",
      "Epoch 8/20\n",
      "\u001b[1m771/771\u001b[0m \u001b[32m━━━━━━━━━━━━━━━━━━━━\u001b[0m\u001b[37m\u001b[0m \u001b[1m52s\u001b[0m 67ms/step - accuracy: 0.9551 - loss: 0.1342 - precision: 0.9608 - recall: 0.9501 - val_accuracy: 0.9039 - val_loss: 0.3077 - val_precision: 0.9152 - val_recall: 0.8973\n",
      "Epoch 9/20\n",
      "\u001b[1m771/771\u001b[0m \u001b[32m━━━━━━━━━━━━━━━━━━━━\u001b[0m\u001b[37m\u001b[0m \u001b[1m47s\u001b[0m 61ms/step - accuracy: 0.9635 - loss: 0.1057 - precision: 0.9674 - recall: 0.9601 - val_accuracy: 0.8945 - val_loss: 0.4202 - val_precision: 0.8993 - val_recall: 0.8884\n",
      "Epoch 10/20\n",
      "\u001b[1m771/771\u001b[0m \u001b[32m━━━━━━━━━━━━━━━━━━━━\u001b[0m\u001b[37m\u001b[0m \u001b[1m51s\u001b[0m 66ms/step - accuracy: 0.9705 - loss: 0.0866 - precision: 0.9736 - recall: 0.9680 - val_accuracy: 0.9091 - val_loss: 0.3793 - val_precision: 0.9154 - val_recall: 0.9056\n",
      "Epoch 11/20\n",
      "\u001b[1m771/771\u001b[0m \u001b[32m━━━━━━━━━━━━━━━━━━━━\u001b[0m\u001b[37m\u001b[0m \u001b[1m48s\u001b[0m 63ms/step - accuracy: 0.9746 - loss: 0.0731 - precision: 0.9763 - recall: 0.9732 - val_accuracy: 0.8736 - val_loss: 0.6397 - val_precision: 0.8797 - val_recall: 0.8717\n",
      "Epoch 12/20\n",
      "\u001b[1m771/771\u001b[0m \u001b[32m━━━━━━━━━━━━━━━━━━━━\u001b[0m\u001b[37m\u001b[0m \u001b[1m48s\u001b[0m 62ms/step - accuracy: 0.9740 - loss: 0.0762 - precision: 0.9758 - recall: 0.9727 - val_accuracy: 0.9075 - val_loss: 0.3373 - val_precision: 0.9141 - val_recall: 0.9049\n",
      "Epoch 13/20\n",
      "\u001b[1m771/771\u001b[0m \u001b[32m━━━━━━━━━━━━━━━━━━━━\u001b[0m\u001b[37m\u001b[0m \u001b[1m51s\u001b[0m 66ms/step - accuracy: 0.9791 - loss: 0.0626 - precision: 0.9805 - recall: 0.9778 - val_accuracy: 0.8513 - val_loss: 0.7066 - val_precision: 0.8589 - val_recall: 0.8479\n",
      "Epoch 14/20\n",
      "\u001b[1m771/771\u001b[0m \u001b[32m━━━━━━━━━━━━━━━━━━━━\u001b[0m\u001b[37m\u001b[0m \u001b[1m48s\u001b[0m 62ms/step - accuracy: 0.9768 - loss: 0.0705 - precision: 0.9790 - recall: 0.9755 - val_accuracy: 0.8894 - val_loss: 0.4595 - val_precision: 0.8953 - val_recall: 0.8861\n",
      "Epoch 15/20\n",
      "\u001b[1m771/771\u001b[0m \u001b[32m━━━━━━━━━━━━━━━━━━━━\u001b[0m\u001b[37m\u001b[0m \u001b[1m50s\u001b[0m 65ms/step - accuracy: 0.9822 - loss: 0.0548 - precision: 0.9832 - recall: 0.9813 - val_accuracy: 0.9199 - val_loss: 0.3494 - val_precision: 0.9256 - val_recall: 0.9174\n",
      "Epoch 16/20\n",
      "\u001b[1m771/771\u001b[0m \u001b[32m━━━━━━━━━━━━━━━━━━━━\u001b[0m\u001b[37m\u001b[0m \u001b[1m48s\u001b[0m 63ms/step - accuracy: 0.9823 - loss: 0.0557 - precision: 0.9833 - recall: 0.9815 - val_accuracy: 0.8994 - val_loss: 0.4350 - val_precision: 0.9038 - val_recall: 0.8971\n",
      "Epoch 17/20\n",
      "\u001b[1m771/771\u001b[0m \u001b[32m━━━━━━━━━━━━━━━━━━━━\u001b[0m\u001b[37m\u001b[0m \u001b[1m48s\u001b[0m 62ms/step - accuracy: 0.9823 - loss: 0.0536 - precision: 0.9832 - recall: 0.9815 - val_accuracy: 0.8945 - val_loss: 0.5127 - val_precision: 0.9008 - val_recall: 0.8909\n",
      "Epoch 18/20\n",
      "\u001b[1m771/771\u001b[0m \u001b[32m━━━━━━━━━━━━━━━━━━━━\u001b[0m\u001b[37m\u001b[0m \u001b[1m51s\u001b[0m 67ms/step - accuracy: 0.9834 - loss: 0.0530 - precision: 0.9844 - recall: 0.9827 - val_accuracy: 0.9074 - val_loss: 0.4204 - val_precision: 0.9114 - val_recall: 0.9043\n",
      "Epoch 19/20\n",
      "\u001b[1m771/771\u001b[0m \u001b[32m━━━━━━━━━━━━━━━━━━━━\u001b[0m\u001b[37m\u001b[0m \u001b[1m48s\u001b[0m 62ms/step - accuracy: 0.9845 - loss: 0.0476 - precision: 0.9853 - recall: 0.9839 - val_accuracy: 0.9094 - val_loss: 0.4157 - val_precision: 0.9142 - val_recall: 0.9066\n",
      "Epoch 20/20\n",
      "\u001b[1m771/771\u001b[0m \u001b[32m━━━━━━━━━━━━━━━━━━━━\u001b[0m\u001b[37m\u001b[0m \u001b[1m51s\u001b[0m 66ms/step - accuracy: 0.9867 - loss: 0.0410 - precision: 0.9872 - recall: 0.9863 - val_accuracy: 0.9072 - val_loss: 0.4982 - val_precision: 0.9098 - val_recall: 0.9056\n"
     ]
    }
   ],
   "source": [
    "training_history = cnn.fit(x = training_set, validation_data = validation_set, epochs = 20)"
   ]
  },
  {
   "cell_type": "markdown",
   "id": "OTghB8iIwGWD",
   "metadata": {
    "id": "OTghB8iIwGWD"
   },
   "source": [
    "## Model Evaluation"
   ]
  },
  {
   "cell_type": "code",
   "execution_count": 21,
   "id": "355372e1",
   "metadata": {
    "id": "355372e1"
   },
   "outputs": [
    {
     "name": "stdout",
     "output_type": "stream",
     "text": [
      "\u001b[1m  3/771\u001b[0m \u001b[37m━━━━━━━━━━━━━━━━━━━━\u001b[0m \u001b[1m23s\u001b[0m 31ms/step - accuracy: 1.0000 - loss: 0.0165 - precision: 1.0000 - recall: 1.0000"
     ]
    },
    {
     "name": "stdout",
     "output_type": "stream",
     "text": [
      "\u001b[1m771/771\u001b[0m \u001b[32m━━━━━━━━━━━━━━━━━━━━\u001b[0m\u001b[37m\u001b[0m \u001b[1m16s\u001b[0m 21ms/step - accuracy: 0.9789 - loss: 0.0684 - precision: 0.9797 - recall: 0.9784\n"
     ]
    }
   ],
   "source": [
    "train_loss, train_acc, train_pre, train_rec = cnn.evaluate(training_set)"
   ]
  },
  {
   "cell_type": "code",
   "execution_count": 22,
   "id": "0SV6JQir2kCC",
   "metadata": {
    "id": "0SV6JQir2kCC"
   },
   "outputs": [
    {
     "name": "stdout",
     "output_type": "stream",
     "text": [
      "0.0684342309832573 0.9789469242095947 0.9797303080558777 0.9783790111541748\n"
     ]
    }
   ],
   "source": [
    "print(train_loss, train_acc, train_pre, train_rec)"
   ]
  },
  {
   "cell_type": "code",
   "execution_count": 23,
   "id": "VXVnoWQC2pvu",
   "metadata": {
    "id": "VXVnoWQC2pvu"
   },
   "outputs": [
    {
     "name": "stdout",
     "output_type": "stream",
     "text": [
      "\u001b[1m 10/165\u001b[0m \u001b[32m━\u001b[0m\u001b[37m━━━━━━━━━━━━━━━━━━━\u001b[0m \u001b[1m3s\u001b[0m 20ms/step - accuracy: 0.9156 - loss: 0.4524 - precision: 0.9162 - recall: 0.9156"
     ]
    },
    {
     "name": "stdout",
     "output_type": "stream",
     "text": [
      "\u001b[1m165/165\u001b[0m \u001b[32m━━━━━━━━━━━━━━━━━━━━\u001b[0m\u001b[37m\u001b[0m \u001b[1m3s\u001b[0m 17ms/step - accuracy: 0.9072 - loss: 0.4982 - precision: 0.9098 - recall: 0.9056\n"
     ]
    }
   ],
   "source": [
    "valid_loss, valid_acc, valid_pre, valid_rec = cnn.evaluate(validation_set)"
   ]
  },
  {
   "cell_type": "code",
   "execution_count": 24,
   "id": "uix2GIK82zx0",
   "metadata": {
    "id": "uix2GIK82zx0"
   },
   "outputs": [
    {
     "name": "stdout",
     "output_type": "stream",
     "text": [
      "0.49821895360946655 0.9071618318557739 0.9097830057144165 0.9056460857391357\n"
     ]
    }
   ],
   "source": [
    "print(valid_loss, valid_acc, valid_pre, valid_rec)"
   ]
  },
  {
   "cell_type": "markdown",
   "id": "ujb25md34V7t",
   "metadata": {
    "id": "ujb25md34V7t"
   },
   "source": [
    "## Accuracy Visualization"
   ]
  },
  {
   "cell_type": "code",
   "execution_count": 25,
   "id": "8d9325c8",
   "metadata": {},
   "outputs": [
    {
     "name": "stdout",
     "output_type": "stream",
     "text": [
      "[0.5956109166145325, 0.7883741855621338, 0.8512088060379028, 0.8859727382659912, 0.9136378169059753, 0.9371653199195862, 0.9509572982788086, 0.9550543427467346, 0.9634917974472046, 0.9704689383506775, 0.9746471047401428, 0.9739980697631836, 0.9790686368942261, 0.9767969846725464, 0.9822326898574829, 0.9823138117790222, 0.9823138117790222, 0.9834496378898621, 0.9845448732376099, 0.9867353439331055]\n"
     ]
    }
   ],
   "source": [
    "print(training_history.history['accuracy'])"
   ]
  },
  {
   "cell_type": "code",
   "execution_count": 26,
   "id": "LphQmNQq4OSP",
   "metadata": {
    "id": "LphQmNQq4OSP"
   },
   "outputs": [
    {
     "data": {
      "image/png": "[encoded data removed]",
      "text/plain": [
       "<Figure size 640x480 with 1 Axes>"
      ]
     },
     "metadata": {},
     "output_type": "display_data"
    }
   ],
   "source": [
    "epochs = [i for i in range(1,21)]\n",
    "plt.plot(epochs, training_history.history['accuracy'], color='red', label ='Training Accuracy')\n",
    "plt.plot(epochs, training_history.history['val_accuracy'], color='blue', label ='Validation Accuracy')\n",
    "plt.xlabel('No. of Epochs')\n",
    "plt.ylabel('Accuracy Result')\n",
    "plt.title('Visualization of Accuracy Result')\n",
    "plt.legend()\n",
    "plt.show()"
   ]
  },
  {
   "cell_type": "markdown",
   "id": "oCPNwlGf24kh",
   "metadata": {
    "id": "oCPNwlGf24kh"
   },
   "source": [
    "## Saving Model"
   ]
  },
  {
   "cell_type": "code",
   "execution_count": 27,
   "id": "NHbenC8L262l",
   "metadata": {
    "id": "NHbenC8L262l"
   },
   "outputs": [],
   "source": [
    "cnn.save(f'{curr_dir}/saved_models/cnn_scratch_model.keras') # one extension of saving, not using h5 as keras takes less space"
   ]
  },
  {
   "cell_type": "code",
   "execution_count": 28,
   "id": "ssO8WVP43lNa",
   "metadata": {
    "id": "ssO8WVP43lNa"
   },
   "outputs": [
    {
     "data": {
      "text/plain": [
       "{'accuracy': [0.5956109166145325,\n",
       "  0.7883741855621338,\n",
       "  0.8512088060379028,\n",
       "  0.8859727382659912,\n",
       "  0.9136378169059753,\n",
       "  0.9371653199195862,\n",
       "  0.9509572982788086,\n",
       "  0.9550543427467346,\n",
       "  0.9634917974472046,\n",
       "  0.9704689383506775,\n",
       "  0.9746471047401428,\n",
       "  0.9739980697631836,\n",
       "  0.9790686368942261,\n",
       "  0.9767969846725464,\n",
       "  0.9822326898574829,\n",
       "  0.9823138117790222,\n",
       "  0.9823138117790222,\n",
       "  0.9834496378898621,\n",
       "  0.9845448732376099,\n",
       "  0.9867353439331055],\n",
       " 'loss': [1.3318217992782593,\n",
       "  0.6352676749229431,\n",
       "  0.4406126141548157,\n",
       "  0.3314562439918518,\n",
       "  0.25140735507011414,\n",
       "  0.1818358153104782,\n",
       "  0.14163267612457275,\n",
       "  0.13416746258735657,\n",
       "  0.10565174371004105,\n",
       "  0.08658692240715027,\n",
       "  0.07310675084590912,\n",
       "  0.07615260034799576,\n",
       "  0.06257069855928421,\n",
       "  0.07049184292554855,\n",
       "  0.05475460737943649,\n",
       "  0.05570035055279732,\n",
       "  0.05359196662902832,\n",
       "  0.05296376347541809,\n",
       "  0.047588035464286804,\n",
       "  0.04097727686166763],\n",
       " 'precision': [0.8239478468894958,\n",
       "  0.8737806677818298,\n",
       "  0.8974922895431519,\n",
       "  0.916900634765625,\n",
       "  0.9321520328521729,\n",
       "  0.9485967755317688,\n",
       "  0.958679735660553,\n",
       "  0.9607827067375183,\n",
       "  0.9673846364021301,\n",
       "  0.9735628962516785,\n",
       "  0.976315438747406,\n",
       "  0.9757864475250244,\n",
       "  0.9805157780647278,\n",
       "  0.9789537787437439,\n",
       "  0.983214795589447,\n",
       "  0.9832568168640137,\n",
       "  0.9832168221473694,\n",
       "  0.9844359755516052,\n",
       "  0.9853347539901733,\n",
       "  0.987210214138031],\n",
       " 'recall': [0.45107901096343994,\n",
       "  0.7231056094169617,\n",
       "  0.8115366101264954,\n",
       "  0.8611471652984619,\n",
       "  0.8983855247497559,\n",
       "  0.9282411336898804,\n",
       "  0.9449132084846497,\n",
       "  0.9500648975372314,\n",
       "  0.9601249098777771,\n",
       "  0.9679945111274719,\n",
       "  0.973186731338501,\n",
       "  0.9726594090461731,\n",
       "  0.9778111577033997,\n",
       "  0.9754989743232727,\n",
       "  0.981340229511261,\n",
       "  0.9814619421958923,\n",
       "  0.9814619421958923,\n",
       "  0.9826788902282715,\n",
       "  0.9838958382606506,\n",
       "  0.9862891435623169],\n",
       " 'val_accuracy': [0.7514209747314453,\n",
       "  0.8463433384895325,\n",
       "  0.8679423928260803,\n",
       "  0.883289098739624,\n",
       "  0.8812050223350525,\n",
       "  0.9060249924659729,\n",
       "  0.8884047269821167,\n",
       "  0.9039409160614014,\n",
       "  0.8944675922393799,\n",
       "  0.9090564846992493,\n",
       "  0.8736263513565063,\n",
       "  0.9075407385826111,\n",
       "  0.8512694239616394,\n",
       "  0.889352023601532,\n",
       "  0.9198560118675232,\n",
       "  0.8993937373161316,\n",
       "  0.8944675922393799,\n",
       "  0.9073512554168701,\n",
       "  0.9094353914260864,\n",
       "  0.9071618318557739],\n",
       " 'val_loss': [0.7615829706192017,\n",
       "  0.4677301347255707,\n",
       "  0.4062587022781372,\n",
       "  0.3696596026420593,\n",
       "  0.3876030743122101,\n",
       "  0.31701311469078064,\n",
       "  0.45145130157470703,\n",
       "  0.30772295594215393,\n",
       "  0.4201880693435669,\n",
       "  0.3792828917503357,\n",
       "  0.6396908760070801,\n",
       "  0.33732369542121887,\n",
       "  0.70658940076828,\n",
       "  0.45947501063346863,\n",
       "  0.34941402077674866,\n",
       "  0.4349709749221802,\n",
       "  0.5127419233322144,\n",
       "  0.42037302255630493,\n",
       "  0.41566330194473267,\n",
       "  0.49821895360946655],\n",
       " 'val_precision': [0.8691518902778625,\n",
       "  0.8927675485610962,\n",
       "  0.8997169137001038,\n",
       "  0.8987862467765808,\n",
       "  0.8976162672042847,\n",
       "  0.9149633646011353,\n",
       "  0.8959493041038513,\n",
       "  0.9151690602302551,\n",
       "  0.8993095755577087,\n",
       "  0.9153581261634827,\n",
       "  0.8797323107719421,\n",
       "  0.9140669703483582,\n",
       "  0.8589251637458801,\n",
       "  0.8952909708023071,\n",
       "  0.9256356358528137,\n",
       "  0.9037984609603882,\n",
       "  0.9007663130760193,\n",
       "  0.9113996624946594,\n",
       "  0.9142147302627563,\n",
       "  0.9097830057144165],\n",
       " 'val_recall': [0.6582038402557373,\n",
       "  0.8092080354690552,\n",
       "  0.8431224226951599,\n",
       "  0.8698370456695557,\n",
       "  0.8704054355621338,\n",
       "  0.8990147709846497,\n",
       "  0.8842364549636841,\n",
       "  0.8973096013069153,\n",
       "  0.8884047269821167,\n",
       "  0.9056460857391357,\n",
       "  0.871731698513031,\n",
       "  0.9048882126808167,\n",
       "  0.8478590250015259,\n",
       "  0.8861311078071594,\n",
       "  0.9173929691314697,\n",
       "  0.8971201181411743,\n",
       "  0.8908677697181702,\n",
       "  0.9043198227882385,\n",
       "  0.906593382358551,\n",
       "  0.9056460857391357]}"
      ]
     },
     "execution_count": 28,
     "metadata": {},
     "output_type": "execute_result"
    }
   ],
   "source": [
    "training_history.history"
   ]
  },
  {
   "cell_type": "code",
   "execution_count": 29,
   "id": "9IQoFW7f30oX",
   "metadata": {
    "id": "9IQoFW7f30oX"
   },
   "outputs": [],
   "source": [
    "# storing history in json format\n",
    "import json\n",
    "with open(f'{curr_dir}/training_history/cnn_scratch_training_hist.json', 'w') as f:\n",
    "  json.dump(training_history.history, f)"
   ]
  }
 ],
 "metadata": {
  "accelerator": "GPU",
  "colab": {
   "gpuType": "T4",
   "provenance": []
  },
  "kernelspec": {
   "display_name": "tf",
   "language": "python",
   "name": "python3"
  },
  "language_info": {
   "codemirror_mode": {
    "name": "ipython",
    "version": 3
   },
   "file_extension": ".py",
   "mimetype": "text/x-python",
   "name": "python",
   "nbconvert_exporter": "python",
   "pygments_lexer": "ipython3",
   "version": "3.10.12"
  }
 },
 "nbformat": 4,
 "nbformat_minor": 5
}

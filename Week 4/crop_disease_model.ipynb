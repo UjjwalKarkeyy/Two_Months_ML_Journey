{
 "cells": [
  {
   "cell_type": "markdown",
   "id": "363fd7f7",
   "metadata": {
    "id": "363fd7f7"
   },
   "source": [
    "## **Importing libraries**"
   ]
  },
  {
   "cell_type": "code",
   "execution_count": 1,
   "id": "0efa06b9",
   "metadata": {
    "executionInfo": {
     "elapsed": 4803,
     "status": "ok",
     "timestamp": 1761287424232,
     "user": {
      "displayName": "Adam Fox",
      "userId": "15231053833354285105"
     },
     "user_tz": -345
    },
    "id": "0efa06b9"
   },
   "outputs": [
    {
     "name": "stderr",
     "output_type": "stream",
     "text": [
      "2025-10-25 11:27:13.511563: I tensorflow/core/util/port.cc:153] oneDNN custom operations are on. You may see slightly different numerical results due to floating-point round-off errors from different computation orders. To turn them off, set the environment variable `TF_ENABLE_ONEDNN_OPTS=0`.\n",
      "2025-10-25 11:27:14.192259: I tensorflow/core/platform/cpu_feature_guard.cc:210] This TensorFlow binary is optimized to use available CPU instructions in performance-critical operations.\n",
      "To enable the following instructions: AVX2 AVX512F AVX512_VNNI FMA, in other operations, rebuild TensorFlow with the appropriate compiler flags.\n",
      "2025-10-25 11:27:17.701690: I tensorflow/core/util/port.cc:153] oneDNN custom operations are on. You may see slightly different numerical results due to floating-point round-off errors from different computation orders. To turn them off, set the environment variable `TF_ENABLE_ONEDNN_OPTS=0`.\n"
     ]
    }
   ],
   "source": [
    "import tensorflow as tf\n",
    "import numpy as np\n",
    "from tensorflow.keras import layers\n",
    "from tensorflow.keras.models import Sequential\n",
    "from tensorflow.keras.layers import Dense, Conv2D, MaxPool2D, Flatten\n",
    "from tensorflow.keras.metrics import Precision, Recall\n",
    "import matplotlib.pyplot as plt\n",
    "import pandas as pd\n",
    "import seaborn as sns\n",
    "import os\n",
    "from PIL import Image\n",
    "from pathlib import Path"
   ]
  },
  {
   "cell_type": "markdown",
   "id": "aa2e4a26",
   "metadata": {
    "id": "aa2e4a26"
   },
   "source": [
    "## Verifying the GPU Setup [tensorflow + CUDA (Compute Unified Device Architecture) => Let's you use GPU for Computation other than Graphics]"
   ]
  },
  {
   "cell_type": "code",
   "execution_count": 2,
   "id": "781937c4",
   "metadata": {
    "executionInfo": {
     "elapsed": 6,
     "status": "ok",
     "timestamp": 1761287424240,
     "user": {
      "displayName": "Adam Fox",
      "userId": "15231053833354285105"
     },
     "user_tz": -345
    },
    "id": "781937c4"
   },
   "outputs": [],
   "source": [
    "# !python3 -c \"import tensorflow as tf; print(tf.config.list_physical_devices('GPU'))\""
   ]
  },
  {
   "cell_type": "markdown",
   "id": "eaaa59ff",
   "metadata": {
    "id": "eaaa59ff"
   },
   "source": [
    "## **Data Preprocessing**\n",
    "#### Used *'https://youtube.com/playlist?list=PLvz5lCwTgdXDNcXEVwwHsb9DwjNXZGsoy&si=gPCwVkKpS63FVLAC'* for guidance"
   ]
  },
  {
   "cell_type": "markdown",
   "id": "865ed928",
   "metadata": {
    "id": "865ed928"
   },
   "source": [
    "# Training Image Preprocessing"
   ]
  },
  {
   "cell_type": "code",
   "execution_count": 3,
   "id": "53194054",
   "metadata": {},
   "outputs": [],
   "source": [
    "curr_dir = os.getcwd()"
   ]
  },
  {
   "cell_type": "code",
   "execution_count": 4,
   "id": "abab9437",
   "metadata": {
    "colab": {
     "base_uri": "https://localhost:8080/"
    },
    "executionInfo": {
     "elapsed": 59276,
     "status": "ok",
     "timestamp": 1761287484023,
     "user": {
      "displayName": "Adam Fox",
      "userId": "15231053833354285105"
     },
     "user_tz": -345
    },
    "id": "abab9437",
    "outputId": "942ddbd2-18dc-484f-d0ee-01ea1be9040d"
   },
   "outputs": [
    {
     "name": "stdout",
     "output_type": "stream",
     "text": [
      "Found 24652 files belonging to 15 classes.\n"
     ]
    },
    {
     "name": "stderr",
     "output_type": "stream",
     "text": [
      "WARNING: All log messages before absl::InitializeLog() is called are written to STDERR\n",
      "I0000 00:00:1761370943.328830   28044 gpu_device.cc:2020] Created device /job:localhost/replica:0/task:0/device:GPU:0 with 1767 MB memory:  -> device: 0, name: NVIDIA GeForce RTX 3050 Laptop GPU, pci bus id: 0000:01:00.0, compute capability: 8.6\n"
     ]
    }
   ],
   "source": [
    "training_set = tf.keras.utils.image_dataset_from_directory(\n",
    "    './data/PlantVillage_Cleaned/split_data/train',\n",
    "    labels=\"inferred\", # leaving inferred, keras generates labels and class name automatically i.e.,\n",
    "    # [Pepper_mold, Potato_healthy, Tomato_healthy, ...] alphabetically, where labels [0, 1, 2, ...]\n",
    "    label_mode=\"categorical\",\n",
    "    class_names=None,\n",
    "    color_mode=\"rgb\",\n",
    "    batch_size=32,\n",
    "    image_size=(128, 128),\n",
    "    shuffle=True,\n",
    "    seed=40,\n",
    "    validation_split=None,\n",
    "    subset=None,\n",
    "    interpolation=\"bilinear\",\n",
    "    follow_links=False,\n",
    "    crop_to_aspect_ratio=False,\n",
    "    pad_to_aspect_ratio=False,\n",
    "    data_format=None,\n",
    "    verbose=True,\n",
    ")"
   ]
  },
  {
   "cell_type": "code",
   "execution_count": 5,
   "id": "9d73b013",
   "metadata": {},
   "outputs": [],
   "source": [
    "# normalizing training set\n",
    "normalization_layer = layers.Rescaling(1./255.0)\n",
    "training_set = training_set.map(lambda x, y: (normalization_layer(x), y))"
   ]
  },
  {
   "cell_type": "markdown",
   "id": "30f299cb",
   "metadata": {
    "id": "30f299cb"
   },
   "source": [
    "## Validation Image Preprocessing"
   ]
  },
  {
   "cell_type": "code",
   "execution_count": 6,
   "id": "a41367da",
   "metadata": {
    "colab": {
     "base_uri": "https://localhost:8080/"
    },
    "executionInfo": {
     "elapsed": 11757,
     "status": "ok",
     "timestamp": 1761287495782,
     "user": {
      "displayName": "Adam Fox",
      "userId": "15231053833354285105"
     },
     "user_tz": -345
    },
    "id": "a41367da",
    "outputId": "b5eccae2-8eea-442e-8ae6-aacaf40614d9"
   },
   "outputs": [
    {
     "name": "stdout",
     "output_type": "stream",
     "text": [
      "Found 5278 files belonging to 15 classes.\n"
     ]
    }
   ],
   "source": [
    "validation_set = tf.keras.utils.image_dataset_from_directory(\n",
    "    './data/PlantVillage_Cleaned/split_data/valid',\n",
    "    labels=\"inferred\",\n",
    "    label_mode=\"categorical\",\n",
    "    class_names=None,\n",
    "    color_mode=\"rgb\",\n",
    "    batch_size=32,\n",
    "    image_size=(128, 128),\n",
    "    shuffle=True,\n",
    "    seed=40,\n",
    "    validation_split=None,\n",
    "    subset=None,\n",
    "    interpolation=\"bilinear\",\n",
    "    follow_links=False,\n",
    "    crop_to_aspect_ratio=False,\n",
    "    pad_to_aspect_ratio=False,\n",
    "    data_format=None,\n",
    "    verbose=True,\n",
    ")"
   ]
  },
  {
   "cell_type": "code",
   "execution_count": 7,
   "id": "1b63d404",
   "metadata": {},
   "outputs": [],
   "source": [
    "# normalizing validation set\n",
    "validation_set = validation_set.map(lambda x, y: (normalization_layer(x), y))"
   ]
  },
  {
   "cell_type": "code",
   "execution_count": 8,
   "id": "11b565fb",
   "metadata": {
    "colab": {
     "base_uri": "https://localhost:8080/"
    },
    "executionInfo": {
     "elapsed": 12190,
     "status": "ok",
     "timestamp": 1761287507978,
     "user": {
      "displayName": "Adam Fox",
      "userId": "15231053833354285105"
     },
     "user_tz": -345
    },
    "id": "11b565fb",
    "outputId": "d7b363b9-ccaa-4893-c00a-243659fef617"
   },
   "outputs": [
    {
     "name": "stdout",
     "output_type": "stream",
     "text": [
      "tf.Tensor(\n",
      "[[[[0.         0.         0.        ]\n",
      "   [0.         0.         0.        ]\n",
      "   [0.         0.         0.        ]\n",
      "   ...\n",
      "   [0.         0.         0.        ]\n",
      "   [0.         0.         0.        ]\n",
      "   [0.         0.         0.        ]]\n",
      "\n",
      "  [[0.         0.         0.        ]\n",
      "   [0.         0.         0.        ]\n",
      "   [0.         0.         0.        ]\n",
      "   ...\n",
      "   [0.         0.         0.        ]\n",
      "   [0.         0.         0.        ]\n",
      "   [0.         0.         0.        ]]\n",
      "\n",
      "  [[0.         0.         0.        ]\n",
      "   [0.         0.         0.        ]\n",
      "   [0.         0.         0.        ]\n",
      "   ...\n",
      "   [0.         0.         0.        ]\n",
      "   [0.         0.         0.        ]\n",
      "   [0.         0.         0.        ]]\n",
      "\n",
      "  ...\n",
      "\n",
      "  [[0.         0.         0.        ]\n",
      "   [0.         0.         0.        ]\n",
      "   [0.         0.         0.        ]\n",
      "   ...\n",
      "   [0.         0.         0.        ]\n",
      "   [0.         0.         0.        ]\n",
      "   [0.         0.         0.        ]]\n",
      "\n",
      "  [[0.         0.         0.        ]\n",
      "   [0.         0.         0.        ]\n",
      "   [0.         0.         0.        ]\n",
      "   ...\n",
      "   [0.         0.         0.        ]\n",
      "   [0.         0.         0.        ]\n",
      "   [0.         0.         0.        ]]\n",
      "\n",
      "  [[0.         0.         0.        ]\n",
      "   [0.         0.         0.        ]\n",
      "   [0.         0.         0.        ]\n",
      "   ...\n",
      "   [0.         0.         0.        ]\n",
      "   [0.         0.         0.        ]\n",
      "   [0.         0.         0.        ]]]\n",
      "\n",
      "\n",
      " [[[0.43039218 0.39509806 0.4147059 ]\n",
      "   [0.45784315 0.42254904 0.44215688]\n",
      "   [0.48627454 0.45098042 0.47058827]\n",
      "   ...\n",
      "   [0.3901961  0.35490197 0.3745098 ]\n",
      "   [0.45000002 0.4147059  0.43431374]\n",
      "   [0.37058824 0.33529413 0.35490197]]\n",
      "\n",
      "  [[0.45784315 0.42254904 0.44215688]\n",
      "   [0.44901964 0.41372553 0.43333337]\n",
      "   [0.49509805 0.45980394 0.47941178]\n",
      "   ...\n",
      "   [0.3784314  0.34313726 0.3627451 ]\n",
      "   [0.4294118  0.39411768 0.41372553]\n",
      "   [0.40980396 0.3745098  0.39411768]]\n",
      "\n",
      "  [[0.47058827 0.43529415 0.454902  ]\n",
      "   [0.47352943 0.4382353  0.45784315]\n",
      "   [0.46960786 0.43431374 0.4539216 ]\n",
      "   ...\n",
      "   [0.38529414 0.35000002 0.36960787]\n",
      "   [0.43921572 0.4039216  0.42352945]\n",
      "   [0.41274512 0.377451   0.39705884]]\n",
      "\n",
      "  ...\n",
      "\n",
      "  [[0.64019614 0.62058824 0.6441177 ]\n",
      "   [0.64901966 0.6294118  0.6529412 ]\n",
      "   [0.6431373  0.62352943 0.64705884]\n",
      "   ...\n",
      "   [0.6392157  0.6117647  0.6392157 ]\n",
      "   [0.609804   0.582353   0.609804  ]\n",
      "   [0.63431376 0.6068628  0.63431376]]\n",
      "\n",
      "  [[0.64607847 0.6264706  0.65000004]\n",
      "   [0.6264706  0.6068628  0.6303922 ]\n",
      "   [0.6333334  0.61372554 0.63725495]\n",
      "   ...\n",
      "   [0.61372554 0.58627456 0.61372554]\n",
      "   [0.62352943 0.59607846 0.62352943]\n",
      "   [0.6166667  0.5892157  0.6166667 ]]\n",
      "\n",
      "  [[0.61372554 0.5941177  0.6176471 ]\n",
      "   [0.60882354 0.5892157  0.6127451 ]\n",
      "   [0.6294118  0.609804   0.6333334 ]\n",
      "   ...\n",
      "   [0.6147059  0.58725494 0.6147059 ]\n",
      "   [0.62549025 0.59803927 0.62549025]\n",
      "   [0.63431376 0.6068628  0.63431376]]]\n",
      "\n",
      "\n",
      " [[[0.01176471 0.01176471 0.01176471]\n",
      "   [0.01176471 0.01176471 0.01176471]\n",
      "   [0.01176471 0.01176471 0.01176471]\n",
      "   ...\n",
      "   [0.01176471 0.01176471 0.01176471]\n",
      "   [0.01176471 0.01176471 0.01176471]\n",
      "   [0.01176471 0.01176471 0.01176471]]\n",
      "\n",
      "  [[0.01176471 0.01176471 0.01176471]\n",
      "   [0.01176471 0.01176471 0.01176471]\n",
      "   [0.01176471 0.01176471 0.01176471]\n",
      "   ...\n",
      "   [0.01176471 0.01176471 0.01176471]\n",
      "   [0.01176471 0.01176471 0.01176471]\n",
      "   [0.01176471 0.01176471 0.01176471]]\n",
      "\n",
      "  [[0.01176471 0.01176471 0.01176471]\n",
      "   [0.01176471 0.01176471 0.01176471]\n",
      "   [0.01176471 0.01176471 0.01176471]\n",
      "   ...\n",
      "   [0.01176471 0.01176471 0.01176471]\n",
      "   [0.01176471 0.01176471 0.01176471]\n",
      "   [0.01176471 0.01176471 0.01176471]]\n",
      "\n",
      "  ...\n",
      "\n",
      "  [[0.01176471 0.01176471 0.01176471]\n",
      "   [0.01176471 0.01176471 0.01176471]\n",
      "   [0.01176471 0.01176471 0.01176471]\n",
      "   ...\n",
      "   [0.01176471 0.01176471 0.01176471]\n",
      "   [0.01176471 0.01176471 0.01176471]\n",
      "   [0.01176471 0.01176471 0.01176471]]\n",
      "\n",
      "  [[0.01176471 0.01176471 0.01176471]\n",
      "   [0.01176471 0.01176471 0.01176471]\n",
      "   [0.01176471 0.01176471 0.01176471]\n",
      "   ...\n",
      "   [0.01176471 0.01176471 0.01176471]\n",
      "   [0.01176471 0.01176471 0.01176471]\n",
      "   [0.01176471 0.01176471 0.01176471]]\n",
      "\n",
      "  [[0.01176471 0.01176471 0.01176471]\n",
      "   [0.01176471 0.01176471 0.01176471]\n",
      "   [0.01176471 0.01176471 0.01176471]\n",
      "   ...\n",
      "   [0.01176471 0.01176471 0.01176471]\n",
      "   [0.01176471 0.01176471 0.01176471]\n",
      "   [0.01176471 0.01176471 0.01176471]]]\n",
      "\n",
      "\n",
      " ...\n",
      "\n",
      "\n",
      " [[[0.25490198 0.21862747 0.20490198]\n",
      "   [0.19411767 0.40196082 0.32058826]\n",
      "   [0.15       0.21960786 0.09901962]\n",
      "   ...\n",
      "   [0.54607844 0.28235295 0.29509807]\n",
      "   [0.5382353  0.5558824  0.56372553]\n",
      "   [0.1627451  0.13235295 0.16862746]]\n",
      "\n",
      "  [[0.3539216  0.22843139 0.29215688]\n",
      "   [0.30392158 0.35980394 0.3254902 ]\n",
      "   [0.25490198 0.4029412  0.17058824]\n",
      "   ...\n",
      "   [0.26862746 0.30588236 0.25882354]\n",
      "   [0.37254903 0.50686276 0.38529414]\n",
      "   [0.57156867 0.5441177  0.5421569 ]]\n",
      "\n",
      "  [[0.277451   0.27058825 0.49607846]\n",
      "   [0.32156864 0.4784314  0.47058827]\n",
      "   [0.29705885 0.26862746 0.23627453]\n",
      "   ...\n",
      "   [0.17352942 0.3156863  0.24803923]\n",
      "   [0.45686278 0.24803923 0.5264706 ]\n",
      "   [0.53921574 0.21568629 0.64019614]]\n",
      "\n",
      "  ...\n",
      "\n",
      "  [[0.15       0.07843138 0.30882356]\n",
      "   [0.29509807 0.27254903 0.0882353 ]\n",
      "   [0.2509804  0.38333336 0.16568628]\n",
      "   ...\n",
      "   [0.31960785 0.32352942 0.2019608 ]\n",
      "   [0.3264706  0.19803923 0.16078432]\n",
      "   [0.15980393 0.32941177 0.277451  ]]\n",
      "\n",
      "  [[0.14215687 0.07254902 0.24607845]\n",
      "   [0.2764706  0.24509805 0.09509805]\n",
      "   [0.28529415 0.11176471 0.16470589]\n",
      "   ...\n",
      "   [0.23823531 0.29215688 0.20588237]\n",
      "   [0.27549022 0.15588236 0.06764706]\n",
      "   [0.15392157 0.3019608  0.21960786]]\n",
      "\n",
      "  [[0.14901961 0.09215686 0.1254902 ]\n",
      "   [0.15686275 0.3401961  0.3901961 ]\n",
      "   [0.16666667 0.14215687 0.47647062]\n",
      "   ...\n",
      "   [0.05294118 0.08039216 0.27254903]\n",
      "   [0.09705883 0.20686276 0.14411765]\n",
      "   [0.14509805 0.47647062 0.19117649]]]\n",
      "\n",
      "\n",
      " [[[0.50980395 0.5019608  0.52156866]\n",
      "   [0.49901962 0.4911765  0.5107843 ]\n",
      "   [0.4921569  0.48431376 0.5039216 ]\n",
      "   ...\n",
      "   [0.48627454 0.4784314  0.4901961 ]\n",
      "   [0.504902   0.49705884 0.5088236 ]\n",
      "   [0.5029412  0.49509805 0.50686276]]\n",
      "\n",
      "  [[0.4911765  0.48333335 0.5029412 ]\n",
      "   [0.49509805 0.48725492 0.50686276]\n",
      "   [0.5019608  0.49411768 0.5137255 ]\n",
      "   ...\n",
      "   [0.4784314  0.47058827 0.48235297]\n",
      "   [0.5        0.4921569  0.5039216 ]\n",
      "   [0.5039216  0.49607846 0.5078432 ]]\n",
      "\n",
      "  [[0.4754902  0.46764708 0.48725492]\n",
      "   [0.4921569  0.48431376 0.5039216 ]\n",
      "   [0.5088236  0.50098044 0.5205883 ]\n",
      "   ...\n",
      "   [0.48431376 0.47647062 0.48823532]\n",
      "   [0.49313727 0.48529413 0.49705884]\n",
      "   [0.48725492 0.47941178 0.4911765 ]]\n",
      "\n",
      "  ...\n",
      "\n",
      "  [[0.33529413 0.3509804  0.3627451 ]\n",
      "   [0.33431375 0.35000002 0.36176473]\n",
      "   [0.33333334 0.34901962 0.36078432]\n",
      "   ...\n",
      "   [0.31960785 0.3392157  0.3509804 ]\n",
      "   [0.30784315 0.327451   0.3392157 ]\n",
      "   [0.30980393 0.32941177 0.34117648]]\n",
      "\n",
      "  [[0.327451   0.34313726 0.35490197]\n",
      "   [0.3284314  0.34411767 0.35588238]\n",
      "   [0.32941177 0.34509805 0.35686275]\n",
      "   ...\n",
      "   [0.31960785 0.3392157  0.3509804 ]\n",
      "   [0.30784315 0.327451   0.3392157 ]\n",
      "   [0.30980393 0.32941177 0.34117648]]\n",
      "\n",
      "  [[0.32254905 0.33823532 0.35000002]\n",
      "   [0.3254902  0.34117648 0.3529412 ]\n",
      "   [0.32941177 0.34509805 0.35686275]\n",
      "   ...\n",
      "   [0.31960785 0.3392157  0.3509804 ]\n",
      "   [0.30784315 0.327451   0.3392157 ]\n",
      "   [0.30980393 0.32941177 0.34117648]]]\n",
      "\n",
      "\n",
      " [[[0.64607847 0.63823533 0.6421569 ]\n",
      "   [0.63725495 0.6294118  0.6333334 ]\n",
      "   [0.7009804  0.6931373  0.69705886]\n",
      "   ...\n",
      "   [0.6156863  0.60784316 0.61960787]\n",
      "   [0.59803927 0.59019613 0.60196084]\n",
      "   [0.5803922  0.57254905 0.58431375]]\n",
      "\n",
      "  [[0.6568628  0.64901966 0.6529412 ]\n",
      "   [0.66372555 0.6558824  0.659804  ]\n",
      "   [0.6568628  0.64901966 0.6529412 ]\n",
      "   ...\n",
      "   [0.62352943 0.6156863  0.627451  ]\n",
      "   [0.6176471  0.609804   0.6215687 ]\n",
      "   [0.63529414 0.627451   0.6392157 ]]\n",
      "\n",
      "  [[0.64019614 0.632353   0.6362746 ]\n",
      "   [0.66176474 0.6539216  0.6578432 ]\n",
      "   [0.67352945 0.6656863  0.6696079 ]\n",
      "   ...\n",
      "   [0.6294118  0.6215687  0.6333334 ]\n",
      "   [0.61960787 0.6117647  0.62352943]\n",
      "   [0.6362746  0.62843144 0.64019614]]\n",
      "\n",
      "  ...\n",
      "\n",
      "  [[0.51274514 0.49705884 0.48529413]\n",
      "   [0.4529412  0.43725494 0.42549023]\n",
      "   [0.4803922  0.4647059  0.4529412 ]\n",
      "   ...\n",
      "   [0.47058827 0.454902   0.4431373 ]\n",
      "   [0.48333335 0.46764708 0.45588237]\n",
      "   [0.47254905 0.45686278 0.44509807]]\n",
      "\n",
      "  [[0.44705886 0.43137258 0.41960788]\n",
      "   [0.4529412  0.43725494 0.42549023]\n",
      "   [0.47647062 0.46078435 0.44901964]\n",
      "   ...\n",
      "   [0.44509807 0.4294118  0.4176471 ]\n",
      "   [0.47156864 0.45588237 0.44411767]\n",
      "   [0.45882356 0.4431373  0.43137258]]\n",
      "\n",
      "  [[0.43921572 0.42352945 0.41176474]\n",
      "   [0.45000002 0.43431374 0.42254904]\n",
      "   [0.46274513 0.44705886 0.43529415]\n",
      "   ...\n",
      "   [0.46274513 0.44705886 0.43529415]\n",
      "   [0.46764708 0.4519608  0.4401961 ]\n",
      "   [0.48431376 0.46862748 0.45686278]]]], shape=(32, 128, 128, 3), dtype=float32) (32, 128, 128, 3)\n",
      "tf.Tensor(\n",
      "[[0. 0. 0. 0. 0. 0. 0. 0. 0. 0. 0. 0. 0. 0. 1.]\n",
      " [0. 0. 0. 0. 0. 0. 0. 0. 0. 0. 0. 0. 1. 0. 0.]\n",
      " [0. 0. 0. 0. 0. 0. 0. 0. 0. 0. 0. 0. 0. 0. 1.]\n",
      " [0. 0. 0. 0. 0. 0. 0. 0. 0. 0. 0. 0. 0. 0. 1.]\n",
      " [0. 0. 0. 0. 0. 1. 0. 0. 0. 0. 0. 0. 0. 0. 0.]\n",
      " [0. 0. 0. 0. 1. 0. 0. 0. 0. 0. 0. 0. 0. 0. 0.]\n",
      " [0. 0. 0. 0. 0. 0. 0. 0. 0. 0. 0. 0. 0. 0. 1.]\n",
      " [0. 0. 0. 0. 0. 0. 0. 0. 0. 0. 1. 0. 0. 0. 0.]\n",
      " [0. 0. 0. 0. 0. 0. 0. 0. 0. 0. 0. 0. 0. 0. 1.]\n",
      " [0. 0. 0. 0. 0. 0. 0. 1. 0. 0. 0. 0. 0. 0. 0.]\n",
      " [0. 0. 0. 0. 0. 0. 1. 0. 0. 0. 0. 0. 0. 0. 0.]\n",
      " [0. 0. 0. 0. 0. 0. 0. 1. 0. 0. 0. 0. 0. 0. 0.]\n",
      " [0. 0. 0. 0. 0. 0. 0. 0. 0. 0. 0. 0. 0. 0. 1.]\n",
      " [0. 0. 0. 0. 0. 0. 0. 0. 0. 0. 0. 0. 0. 0. 1.]\n",
      " [0. 0. 0. 0. 0. 0. 0. 0. 0. 0. 0. 0. 0. 0. 1.]\n",
      " [0. 0. 0. 0. 0. 1. 0. 0. 0. 0. 0. 0. 0. 0. 0.]\n",
      " [0. 0. 0. 0. 0. 0. 0. 0. 0. 0. 0. 0. 0. 0. 1.]\n",
      " [0. 0. 0. 0. 0. 0. 0. 0. 0. 0. 0. 0. 0. 0. 1.]\n",
      " [0. 0. 0. 0. 0. 0. 1. 0. 0. 0. 0. 0. 0. 0. 0.]\n",
      " [0. 0. 0. 0. 0. 0. 0. 0. 0. 0. 0. 1. 0. 0. 0.]\n",
      " [0. 0. 0. 0. 0. 0. 0. 0. 1. 0. 0. 0. 0. 0. 0.]\n",
      " [0. 0. 0. 0. 0. 0. 0. 1. 0. 0. 0. 0. 0. 0. 0.]\n",
      " [0. 0. 0. 0. 0. 0. 0. 0. 0. 0. 0. 0. 0. 0. 1.]\n",
      " [0. 0. 0. 0. 0. 0. 0. 0. 0. 0. 0. 0. 0. 0. 1.]\n",
      " [0. 0. 0. 0. 0. 0. 0. 0. 0. 0. 0. 0. 0. 0. 1.]\n",
      " [0. 0. 0. 0. 0. 0. 0. 0. 0. 0. 0. 0. 0. 0. 1.]\n",
      " [0. 1. 0. 0. 0. 0. 0. 0. 0. 0. 0. 0. 0. 0. 0.]\n",
      " [0. 1. 0. 0. 0. 0. 0. 0. 0. 0. 0. 0. 0. 0. 0.]\n",
      " [0. 0. 0. 0. 1. 0. 0. 0. 0. 0. 0. 0. 0. 0. 0.]\n",
      " [0. 0. 0. 0. 0. 0. 0. 0. 0. 0. 0. 0. 0. 0. 1.]\n",
      " [0. 0. 0. 0. 0. 0. 0. 0. 0. 0. 0. 0. 0. 0. 1.]\n",
      " [0. 0. 0. 0. 0. 1. 0. 0. 0. 0. 0. 0. 0. 0. 0.]], shape=(32, 15), dtype=float32) (32, 15)\n"
     ]
    }
   ],
   "source": [
    "for x, y in training_set:\n",
    "    print(x, x.shape)\n",
    "    print(y, y.shape)\n",
    "    break"
   ]
  },
  {
   "cell_type": "markdown",
   "id": "0ea5dda8",
   "metadata": {
    "id": "0ea5dda8"
   },
   "source": [
    "# **Building Model**"
   ]
  },
  {
   "cell_type": "code",
   "execution_count": 9,
   "id": "2c8686b6",
   "metadata": {
    "executionInfo": {
     "elapsed": 4,
     "status": "ok",
     "timestamp": 1761287507984,
     "user": {
      "displayName": "Adam Fox",
      "userId": "15231053833354285105"
     },
     "user_tz": -345
    },
    "id": "2c8686b6"
   },
   "outputs": [],
   "source": [
    "cnn = Sequential()"
   ]
  },
  {
   "cell_type": "markdown",
   "id": "cfe39a7a",
   "metadata": {
    "id": "cfe39a7a"
   },
   "source": [
    "## Building Convolution Layers (Architecture)"
   ]
  },
  {
   "cell_type": "code",
   "execution_count": 10,
   "id": "8e0d8b48",
   "metadata": {
    "executionInfo": {
     "elapsed": 2,
     "status": "ok",
     "timestamp": 1761287507989,
     "user": {
      "displayName": "Adam Fox",
      "userId": "15231053833354285105"
     },
     "user_tz": -345
    },
    "id": "8e0d8b48"
   },
   "outputs": [],
   "source": [
    "# 🧠 CNN Concept Summary:\n",
    "\n",
    "# 1️⃣ Each cnn.add() = one layer (Conv, Pool, etc.)\n",
    "#     → Conv2D = learns features (edges → textures → shapes)\n",
    "#     → MaxPool2D = downsamples feature maps (keeps strongest features)\n",
    "\n",
    "# 2️⃣ Repeated Conv+Pool blocks = deeper understanding:\n",
    "#     Block1: basic edges/colors\n",
    "#     Block2: shapes/textures\n",
    "#     Block3: complex leaf patterns\n",
    "#     Block4: disease regions\n",
    "\n",
    "# 3️⃣ Kernel (3x3): small filter sliding over input\n",
    "#     → detects local patterns (like edge fragments)\n",
    "\n",
    "# 4️⃣ padding='same': adds zero borders → output height & width stay same\n",
    "#     padding='valid': no padding → output shrinks\n",
    "\n",
    "# 5️⃣ input_shape: only needed in the first Conv2D layer\n",
    "#     → later layers infer input size automatically\n",
    "\n",
    "# 6️⃣ Max Pooling (2x2): reduces feature map size by half\n",
    "#     → keeps key activations, adds translation invariance\n",
    "\n",
    "# 7️⃣ Hierarchy summary:\n",
    "#     Input → Conv → Pool → Conv → Pool → Flatten → Dense → Output\n"
   ]
  },
  {
   "cell_type": "code",
   "execution_count": 11,
   "id": "a77009e5",
   "metadata": {
    "colab": {
     "base_uri": "https://localhost:8080/"
    },
    "executionInfo": {
     "elapsed": 856,
     "status": "ok",
     "timestamp": 1761287508847,
     "user": {
      "displayName": "Adam Fox",
      "userId": "15231053833354285105"
     },
     "user_tz": -345
    },
    "id": "a77009e5",
    "outputId": "675def6f-000c-46ad-a3c4-45cc4bc75a9a"
   },
   "outputs": [
    {
     "name": "stderr",
     "output_type": "stream",
     "text": [
      "/home/root123/GitHub/Two_Months_ML_Journey/Week 4/tf/lib/python3.10/site-packages/keras/src/layers/convolutional/base_conv.py:113: UserWarning: Do not pass an `input_shape`/`input_dim` argument to a layer. When using Sequential models, prefer using an `Input(shape)` object as the first layer in the model instead.\n",
      "  super().__init__(activity_regularizer=activity_regularizer, **kwargs)\n"
     ]
    }
   ],
   "source": [
    "cnn.add(Conv2D(filters=32, kernel_size = 3, padding = 'same', activation = 'relu', input_shape = [128,128, 3])) # input_size = [widht, height, input shape]\n",
    "cnn.add(Conv2D(filters=32, kernel_size = 3, padding = 'same', activation = 'relu'))\n",
    "cnn.add(MaxPool2D(pool_size = 2, strides = 2)) # pool size -> shape of pooling filter, strides -> movement of sliding window"
   ]
  },
  {
   "cell_type": "code",
   "execution_count": 12,
   "id": "11bfcf28",
   "metadata": {
    "executionInfo": {
     "elapsed": 25,
     "status": "ok",
     "timestamp": 1761287508876,
     "user": {
      "displayName": "Adam Fox",
      "userId": "15231053833354285105"
     },
     "user_tz": -345
    },
    "id": "11bfcf28"
   },
   "outputs": [],
   "source": [
    "cnn.add(Conv2D(filters=64, kernel_size = 3, padding = 'same', activation = 'relu'))\n",
    "cnn.add(Conv2D(filters=64, kernel_size = 3, padding = 'same', activation = 'relu'))\n",
    "cnn.add(MaxPool2D(pool_size = 2, strides = 2))"
   ]
  },
  {
   "cell_type": "code",
   "execution_count": 13,
   "id": "ab5cebc5",
   "metadata": {
    "executionInfo": {
     "elapsed": 26,
     "status": "ok",
     "timestamp": 1761287508905,
     "user": {
      "displayName": "Adam Fox",
      "userId": "15231053833354285105"
     },
     "user_tz": -345
    },
    "id": "ab5cebc5"
   },
   "outputs": [],
   "source": [
    "cnn.add(Conv2D(filters=128, kernel_size = 3, padding = 'same', activation = 'relu'))\n",
    "cnn.add(Conv2D(filters=128, kernel_size = 3, padding = 'same', activation = 'relu'))\n",
    "cnn.add(MaxPool2D(pool_size = 2, strides = 2))"
   ]
  },
  {
   "cell_type": "code",
   "execution_count": 14,
   "id": "bde8f32a",
   "metadata": {
    "executionInfo": {
     "elapsed": 1,
     "status": "ok",
     "timestamp": 1761287508909,
     "user": {
      "displayName": "Adam Fox",
      "userId": "15231053833354285105"
     },
     "user_tz": -345
    },
    "id": "bde8f32a"
   },
   "outputs": [],
   "source": [
    "# cnn.add(Conv2D(filters=256, kernel_size = 3, padding = 'same', activation = 'relu'))\n",
    "# cnn.add(Conv2D(filters=256, kernel_size = 3, padding = 'same', activation = 'relu'))\n",
    "# cnn.add(MaxPool2D(pool_size = 2, strides = 2))"
   ]
  },
  {
   "cell_type": "code",
   "execution_count": 15,
   "id": "67c89c08",
   "metadata": {
    "executionInfo": {
     "elapsed": 4,
     "status": "ok",
     "timestamp": 1761287508920,
     "user": {
      "displayName": "Adam Fox",
      "userId": "15231053833354285105"
     },
     "user_tz": -345
    },
    "id": "67c89c08"
   },
   "outputs": [],
   "source": [
    "# Flattening the results to pass to the dense layer\n",
    "cnn.add(Flatten())"
   ]
  },
  {
   "cell_type": "code",
   "execution_count": 16,
   "id": "e43db7dd",
   "metadata": {
    "executionInfo": {
     "elapsed": 27,
     "status": "ok",
     "timestamp": 1761287508952,
     "user": {
      "displayName": "Adam Fox",
      "userId": "15231053833354285105"
     },
     "user_tz": -345
    },
    "id": "e43db7dd"
   },
   "outputs": [],
   "source": [
    "cnn.add(Dense(units = 64, activation = 'relu'))"
   ]
  },
  {
   "cell_type": "code",
   "execution_count": 17,
   "id": "99ef7925",
   "metadata": {
    "executionInfo": {
     "elapsed": 35,
     "status": "ok",
     "timestamp": 1761287508983,
     "user": {
      "displayName": "Adam Fox",
      "userId": "15231053833354285105"
     },
     "user_tz": -345
    },
    "id": "99ef7925"
   },
   "outputs": [],
   "source": [
    "# output layer\n",
    "cnn.add(Dense(units = 15, activation = 'softmax'))"
   ]
  },
  {
   "cell_type": "markdown",
   "id": "b629a387",
   "metadata": {
    "id": "b629a387"
   },
   "source": [
    "## Compiling Model"
   ]
  },
  {
   "cell_type": "code",
   "execution_count": 18,
   "id": "7fdc649e",
   "metadata": {
    "executionInfo": {
     "elapsed": 21,
     "status": "ok",
     "timestamp": 1761287509005,
     "user": {
      "displayName": "Adam Fox",
      "userId": "15231053833354285105"
     },
     "user_tz": -345
    },
    "id": "7fdc649e"
   },
   "outputs": [],
   "source": [
    "cnn.compile(\n",
    "    optimizer = 'adam',\n",
    "    loss = 'categorical_crossentropy',\n",
    "    metrics = ['accuracy', Precision(), Recall()])"
   ]
  },
  {
   "cell_type": "code",
   "execution_count": 19,
   "id": "6344a79e",
   "metadata": {
    "colab": {
     "base_uri": "https://localhost:8080/",
     "height": 513
    },
    "executionInfo": {
     "elapsed": 26,
     "status": "ok",
     "timestamp": 1761287509032,
     "user": {
      "displayName": "Adam Fox",
      "userId": "15231053833354285105"
     },
     "user_tz": -345
    },
    "id": "6344a79e",
    "outputId": "e87a9494-d252-4031-9d96-372d2683b243"
   },
   "outputs": [
    {
     "data": {
      "text/html": [
       "<pre style=\"white-space:pre;overflow-x:auto;line-height:normal;font-family:Menlo,'DejaVu Sans Mono',consolas,'Courier New',monospace\"><span style=\"font-weight: bold\">Model: \"sequential\"</span>\n",
       "</pre>\n"
      ],
      "text/plain": [
       "\u001b[1mModel: \"sequential\"\u001b[0m\n"
      ]
     },
     "metadata": {},
     "output_type": "display_data"
    },
    {
     "data": {
      "text/html": [
       "<pre style=\"white-space:pre;overflow-x:auto;line-height:normal;font-family:Menlo,'DejaVu Sans Mono',consolas,'Courier New',monospace\">┏━━━━━━━━━━━━━━━━━━━━━━━━━━━━━━━━━┳━━━━━━━━━━━━━━━━━━━━━━━━┳━━━━━━━━━━━━━━━┓\n",
       "┃<span style=\"font-weight: bold\"> Layer (type)                    </span>┃<span style=\"font-weight: bold\"> Output Shape           </span>┃<span style=\"font-weight: bold\">       Param # </span>┃\n",
       "┡━━━━━━━━━━━━━━━━━━━━━━━━━━━━━━━━━╇━━━━━━━━━━━━━━━━━━━━━━━━╇━━━━━━━━━━━━━━━┩\n",
       "│ conv2d (<span style=\"color: #0087ff; text-decoration-color: #0087ff\">Conv2D</span>)                 │ (<span style=\"color: #00d7ff; text-decoration-color: #00d7ff\">None</span>, <span style=\"color: #00af00; text-decoration-color: #00af00\">128</span>, <span style=\"color: #00af00; text-decoration-color: #00af00\">128</span>, <span style=\"color: #00af00; text-decoration-color: #00af00\">32</span>)   │           <span style=\"color: #00af00; text-decoration-color: #00af00\">896</span> │\n",
       "├─────────────────────────────────┼────────────────────────┼───────────────┤\n",
       "│ conv2d_1 (<span style=\"color: #0087ff; text-decoration-color: #0087ff\">Conv2D</span>)               │ (<span style=\"color: #00d7ff; text-decoration-color: #00d7ff\">None</span>, <span style=\"color: #00af00; text-decoration-color: #00af00\">128</span>, <span style=\"color: #00af00; text-decoration-color: #00af00\">128</span>, <span style=\"color: #00af00; text-decoration-color: #00af00\">32</span>)   │         <span style=\"color: #00af00; text-decoration-color: #00af00\">9,248</span> │\n",
       "├─────────────────────────────────┼────────────────────────┼───────────────┤\n",
       "│ max_pooling2d (<span style=\"color: #0087ff; text-decoration-color: #0087ff\">MaxPooling2D</span>)    │ (<span style=\"color: #00d7ff; text-decoration-color: #00d7ff\">None</span>, <span style=\"color: #00af00; text-decoration-color: #00af00\">64</span>, <span style=\"color: #00af00; text-decoration-color: #00af00\">64</span>, <span style=\"color: #00af00; text-decoration-color: #00af00\">32</span>)     │             <span style=\"color: #00af00; text-decoration-color: #00af00\">0</span> │\n",
       "├─────────────────────────────────┼────────────────────────┼───────────────┤\n",
       "│ conv2d_2 (<span style=\"color: #0087ff; text-decoration-color: #0087ff\">Conv2D</span>)               │ (<span style=\"color: #00d7ff; text-decoration-color: #00d7ff\">None</span>, <span style=\"color: #00af00; text-decoration-color: #00af00\">64</span>, <span style=\"color: #00af00; text-decoration-color: #00af00\">64</span>, <span style=\"color: #00af00; text-decoration-color: #00af00\">64</span>)     │        <span style=\"color: #00af00; text-decoration-color: #00af00\">18,496</span> │\n",
       "├─────────────────────────────────┼────────────────────────┼───────────────┤\n",
       "│ conv2d_3 (<span style=\"color: #0087ff; text-decoration-color: #0087ff\">Conv2D</span>)               │ (<span style=\"color: #00d7ff; text-decoration-color: #00d7ff\">None</span>, <span style=\"color: #00af00; text-decoration-color: #00af00\">64</span>, <span style=\"color: #00af00; text-decoration-color: #00af00\">64</span>, <span style=\"color: #00af00; text-decoration-color: #00af00\">64</span>)     │        <span style=\"color: #00af00; text-decoration-color: #00af00\">36,928</span> │\n",
       "├─────────────────────────────────┼────────────────────────┼───────────────┤\n",
       "│ max_pooling2d_1 (<span style=\"color: #0087ff; text-decoration-color: #0087ff\">MaxPooling2D</span>)  │ (<span style=\"color: #00d7ff; text-decoration-color: #00d7ff\">None</span>, <span style=\"color: #00af00; text-decoration-color: #00af00\">32</span>, <span style=\"color: #00af00; text-decoration-color: #00af00\">32</span>, <span style=\"color: #00af00; text-decoration-color: #00af00\">64</span>)     │             <span style=\"color: #00af00; text-decoration-color: #00af00\">0</span> │\n",
       "├─────────────────────────────────┼────────────────────────┼───────────────┤\n",
       "│ conv2d_4 (<span style=\"color: #0087ff; text-decoration-color: #0087ff\">Conv2D</span>)               │ (<span style=\"color: #00d7ff; text-decoration-color: #00d7ff\">None</span>, <span style=\"color: #00af00; text-decoration-color: #00af00\">32</span>, <span style=\"color: #00af00; text-decoration-color: #00af00\">32</span>, <span style=\"color: #00af00; text-decoration-color: #00af00\">128</span>)    │        <span style=\"color: #00af00; text-decoration-color: #00af00\">73,856</span> │\n",
       "├─────────────────────────────────┼────────────────────────┼───────────────┤\n",
       "│ conv2d_5 (<span style=\"color: #0087ff; text-decoration-color: #0087ff\">Conv2D</span>)               │ (<span style=\"color: #00d7ff; text-decoration-color: #00d7ff\">None</span>, <span style=\"color: #00af00; text-decoration-color: #00af00\">32</span>, <span style=\"color: #00af00; text-decoration-color: #00af00\">32</span>, <span style=\"color: #00af00; text-decoration-color: #00af00\">128</span>)    │       <span style=\"color: #00af00; text-decoration-color: #00af00\">147,584</span> │\n",
       "├─────────────────────────────────┼────────────────────────┼───────────────┤\n",
       "│ max_pooling2d_2 (<span style=\"color: #0087ff; text-decoration-color: #0087ff\">MaxPooling2D</span>)  │ (<span style=\"color: #00d7ff; text-decoration-color: #00d7ff\">None</span>, <span style=\"color: #00af00; text-decoration-color: #00af00\">16</span>, <span style=\"color: #00af00; text-decoration-color: #00af00\">16</span>, <span style=\"color: #00af00; text-decoration-color: #00af00\">128</span>)    │             <span style=\"color: #00af00; text-decoration-color: #00af00\">0</span> │\n",
       "├─────────────────────────────────┼────────────────────────┼───────────────┤\n",
       "│ flatten (<span style=\"color: #0087ff; text-decoration-color: #0087ff\">Flatten</span>)               │ (<span style=\"color: #00d7ff; text-decoration-color: #00d7ff\">None</span>, <span style=\"color: #00af00; text-decoration-color: #00af00\">32768</span>)          │             <span style=\"color: #00af00; text-decoration-color: #00af00\">0</span> │\n",
       "├─────────────────────────────────┼────────────────────────┼───────────────┤\n",
       "│ dense (<span style=\"color: #0087ff; text-decoration-color: #0087ff\">Dense</span>)                   │ (<span style=\"color: #00d7ff; text-decoration-color: #00d7ff\">None</span>, <span style=\"color: #00af00; text-decoration-color: #00af00\">64</span>)             │     <span style=\"color: #00af00; text-decoration-color: #00af00\">2,097,216</span> │\n",
       "├─────────────────────────────────┼────────────────────────┼───────────────┤\n",
       "│ dense_1 (<span style=\"color: #0087ff; text-decoration-color: #0087ff\">Dense</span>)                 │ (<span style=\"color: #00d7ff; text-decoration-color: #00d7ff\">None</span>, <span style=\"color: #00af00; text-decoration-color: #00af00\">15</span>)             │           <span style=\"color: #00af00; text-decoration-color: #00af00\">975</span> │\n",
       "└─────────────────────────────────┴────────────────────────┴───────────────┘\n",
       "</pre>\n"
      ],
      "text/plain": [
       "┏━━━━━━━━━━━━━━━━━━━━━━━━━━━━━━━━━┳━━━━━━━━━━━━━━━━━━━━━━━━┳━━━━━━━━━━━━━━━┓\n",
       "┃\u001b[1m \u001b[0m\u001b[1mLayer (type)                   \u001b[0m\u001b[1m \u001b[0m┃\u001b[1m \u001b[0m\u001b[1mOutput Shape          \u001b[0m\u001b[1m \u001b[0m┃\u001b[1m \u001b[0m\u001b[1m      Param #\u001b[0m\u001b[1m \u001b[0m┃\n",
       "┡━━━━━━━━━━━━━━━━━━━━━━━━━━━━━━━━━╇━━━━━━━━━━━━━━━━━━━━━━━━╇━━━━━━━━━━━━━━━┩\n",
       "│ conv2d (\u001b[38;5;33mConv2D\u001b[0m)                 │ (\u001b[38;5;45mNone\u001b[0m, \u001b[38;5;34m128\u001b[0m, \u001b[38;5;34m128\u001b[0m, \u001b[38;5;34m32\u001b[0m)   │           \u001b[38;5;34m896\u001b[0m │\n",
       "├─────────────────────────────────┼────────────────────────┼───────────────┤\n",
       "│ conv2d_1 (\u001b[38;5;33mConv2D\u001b[0m)               │ (\u001b[38;5;45mNone\u001b[0m, \u001b[38;5;34m128\u001b[0m, \u001b[38;5;34m128\u001b[0m, \u001b[38;5;34m32\u001b[0m)   │         \u001b[38;5;34m9,248\u001b[0m │\n",
       "├─────────────────────────────────┼────────────────────────┼───────────────┤\n",
       "│ max_pooling2d (\u001b[38;5;33mMaxPooling2D\u001b[0m)    │ (\u001b[38;5;45mNone\u001b[0m, \u001b[38;5;34m64\u001b[0m, \u001b[38;5;34m64\u001b[0m, \u001b[38;5;34m32\u001b[0m)     │             \u001b[38;5;34m0\u001b[0m │\n",
       "├─────────────────────────────────┼────────────────────────┼───────────────┤\n",
       "│ conv2d_2 (\u001b[38;5;33mConv2D\u001b[0m)               │ (\u001b[38;5;45mNone\u001b[0m, \u001b[38;5;34m64\u001b[0m, \u001b[38;5;34m64\u001b[0m, \u001b[38;5;34m64\u001b[0m)     │        \u001b[38;5;34m18,496\u001b[0m │\n",
       "├─────────────────────────────────┼────────────────────────┼───────────────┤\n",
       "│ conv2d_3 (\u001b[38;5;33mConv2D\u001b[0m)               │ (\u001b[38;5;45mNone\u001b[0m, \u001b[38;5;34m64\u001b[0m, \u001b[38;5;34m64\u001b[0m, \u001b[38;5;34m64\u001b[0m)     │        \u001b[38;5;34m36,928\u001b[0m │\n",
       "├─────────────────────────────────┼────────────────────────┼───────────────┤\n",
       "│ max_pooling2d_1 (\u001b[38;5;33mMaxPooling2D\u001b[0m)  │ (\u001b[38;5;45mNone\u001b[0m, \u001b[38;5;34m32\u001b[0m, \u001b[38;5;34m32\u001b[0m, \u001b[38;5;34m64\u001b[0m)     │             \u001b[38;5;34m0\u001b[0m │\n",
       "├─────────────────────────────────┼────────────────────────┼───────────────┤\n",
       "│ conv2d_4 (\u001b[38;5;33mConv2D\u001b[0m)               │ (\u001b[38;5;45mNone\u001b[0m, \u001b[38;5;34m32\u001b[0m, \u001b[38;5;34m32\u001b[0m, \u001b[38;5;34m128\u001b[0m)    │        \u001b[38;5;34m73,856\u001b[0m │\n",
       "├─────────────────────────────────┼────────────────────────┼───────────────┤\n",
       "│ conv2d_5 (\u001b[38;5;33mConv2D\u001b[0m)               │ (\u001b[38;5;45mNone\u001b[0m, \u001b[38;5;34m32\u001b[0m, \u001b[38;5;34m32\u001b[0m, \u001b[38;5;34m128\u001b[0m)    │       \u001b[38;5;34m147,584\u001b[0m │\n",
       "├─────────────────────────────────┼────────────────────────┼───────────────┤\n",
       "│ max_pooling2d_2 (\u001b[38;5;33mMaxPooling2D\u001b[0m)  │ (\u001b[38;5;45mNone\u001b[0m, \u001b[38;5;34m16\u001b[0m, \u001b[38;5;34m16\u001b[0m, \u001b[38;5;34m128\u001b[0m)    │             \u001b[38;5;34m0\u001b[0m │\n",
       "├─────────────────────────────────┼────────────────────────┼───────────────┤\n",
       "│ flatten (\u001b[38;5;33mFlatten\u001b[0m)               │ (\u001b[38;5;45mNone\u001b[0m, \u001b[38;5;34m32768\u001b[0m)          │             \u001b[38;5;34m0\u001b[0m │\n",
       "├─────────────────────────────────┼────────────────────────┼───────────────┤\n",
       "│ dense (\u001b[38;5;33mDense\u001b[0m)                   │ (\u001b[38;5;45mNone\u001b[0m, \u001b[38;5;34m64\u001b[0m)             │     \u001b[38;5;34m2,097,216\u001b[0m │\n",
       "├─────────────────────────────────┼────────────────────────┼───────────────┤\n",
       "│ dense_1 (\u001b[38;5;33mDense\u001b[0m)                 │ (\u001b[38;5;45mNone\u001b[0m, \u001b[38;5;34m15\u001b[0m)             │           \u001b[38;5;34m975\u001b[0m │\n",
       "└─────────────────────────────────┴────────────────────────┴───────────────┘\n"
      ]
     },
     "metadata": {},
     "output_type": "display_data"
    },
    {
     "data": {
      "text/html": [
       "<pre style=\"white-space:pre;overflow-x:auto;line-height:normal;font-family:Menlo,'DejaVu Sans Mono',consolas,'Courier New',monospace\"><span style=\"font-weight: bold\"> Total params: </span><span style=\"color: #00af00; text-decoration-color: #00af00\">2,385,199</span> (9.10 MB)\n",
       "</pre>\n"
      ],
      "text/plain": [
       "\u001b[1m Total params: \u001b[0m\u001b[38;5;34m2,385,199\u001b[0m (9.10 MB)\n"
      ]
     },
     "metadata": {},
     "output_type": "display_data"
    },
    {
     "data": {
      "text/html": [
       "<pre style=\"white-space:pre;overflow-x:auto;line-height:normal;font-family:Menlo,'DejaVu Sans Mono',consolas,'Courier New',monospace\"><span style=\"font-weight: bold\"> Trainable params: </span><span style=\"color: #00af00; text-decoration-color: #00af00\">2,385,199</span> (9.10 MB)\n",
       "</pre>\n"
      ],
      "text/plain": [
       "\u001b[1m Trainable params: \u001b[0m\u001b[38;5;34m2,385,199\u001b[0m (9.10 MB)\n"
      ]
     },
     "metadata": {},
     "output_type": "display_data"
    },
    {
     "data": {
      "text/html": [
       "<pre style=\"white-space:pre;overflow-x:auto;line-height:normal;font-family:Menlo,'DejaVu Sans Mono',consolas,'Courier New',monospace\"><span style=\"font-weight: bold\"> Non-trainable params: </span><span style=\"color: #00af00; text-decoration-color: #00af00\">0</span> (0.00 B)\n",
       "</pre>\n"
      ],
      "text/plain": [
       "\u001b[1m Non-trainable params: \u001b[0m\u001b[38;5;34m0\u001b[0m (0.00 B)\n"
      ]
     },
     "metadata": {},
     "output_type": "display_data"
    }
   ],
   "source": [
    "cnn.summary()"
   ]
  },
  {
   "cell_type": "markdown",
   "id": "6195d6af",
   "metadata": {
    "id": "6195d6af"
   },
   "source": [
    "## Training Model"
   ]
  },
  {
   "cell_type": "code",
   "execution_count": 20,
   "id": "558beabc",
   "metadata": {
    "colab": {
     "background_save": true,
     "base_uri": "https://localhost:8080/"
    },
    "id": "558beabc",
    "outputId": "ed1dfd5b-444d-4752-90b3-f9436d2ce92d"
   },
   "outputs": [
    {
     "name": "stdout",
     "output_type": "stream",
     "text": [
      "Epoch 1/20\n"
     ]
    },
    {
     "name": "stderr",
     "output_type": "stream",
     "text": [
      "2025-10-25 11:27:28.260658: I external/local_xla/xla/service/service.cc:163] XLA service 0x74c62c008e90 initialized for platform CUDA (this does not guarantee that XLA will be used). Devices:\n",
      "2025-10-25 11:27:28.260709: I external/local_xla/xla/service/service.cc:171]   StreamExecutor device (0): NVIDIA GeForce RTX 3050 Laptop GPU, Compute Capability 8.6\n",
      "2025-10-25 11:27:28.406618: I tensorflow/compiler/mlir/tensorflow/utils/dump_mlir_util.cc:269] disabling MLIR crash reproducer, set env var `MLIR_CRASH_REPRODUCER_DIRECTORY` to enable.\n",
      "2025-10-25 11:27:28.725954: I external/local_xla/xla/stream_executor/cuda/cuda_dnn.cc:473] Loaded cuDNN version 91400\n",
      "2025-10-25 11:27:28.776645: I external/local_xla/xla/service/gpu/autotuning/dot_search_space.cc:208] All configs were filtered out because none of them sufficiently match the hints. Maybe the hints set does not contain a good representative set of valid configs? Working around this by using the full hints set instead.\n",
      "2025-10-25 11:27:30.388215: I external/local_xla/xla/stream_executor/cuda/subprocess_compilation.cc:346] ptxas warning : Registers are spilled to local memory in function 'gemm_fusion_dot_907', 520 bytes spill stores, 520 bytes spill loads\n",
      "\n"
     ]
    },
    {
     "name": "stdout",
     "output_type": "stream",
     "text": [
      "\u001b[1m  1/771\u001b[0m \u001b[37m━━━━━━━━━━━━━━━━━━━━\u001b[0m \u001b[1m2:44:41\u001b[0m 13s/step - accuracy: 0.0312 - loss: 2.7128 - precision: 0.0000e+00 - recall: 0.0000e+00"
     ]
    },
    {
     "name": "stderr",
     "output_type": "stream",
     "text": [
      "I0000 00:00:1761370959.190246   28166 device_compiler.h:196] Compiled cluster using XLA!  This line is logged at most once for the lifetime of the process.\n"
     ]
    },
    {
     "name": "stdout",
     "output_type": "stream",
     "text": [
      "\u001b[1m769/771\u001b[0m \u001b[32m━━━━━━━━━━━━━━━━━━━\u001b[0m\u001b[37m━\u001b[0m \u001b[1m0s\u001b[0m 52ms/step - accuracy: 0.5526 - loss: 1.5152 - precision: 0.8128 - recall: 0.3920"
     ]
    },
    {
     "name": "stderr",
     "output_type": "stream",
     "text": [
      "2025-10-25 11:28:24.341573: E external/local_xla/xla/service/slow_operation_alarm.cc:73] Trying algorithm eng13{} for conv (f32[12,32,128,128]{3,2,1,0}, u8[0]{0}) custom-call(f32[12,3,128,128]{3,2,1,0}, f32[32,3,3,3]{3,2,1,0}, f32[32]{0}), window={size=3x3 pad=1_1x1_1}, dim_labels=bf01_oi01->bf01, custom_call_target=\"__cudnn$convBiasActivationForward\", backend_config={\"operation_queue_id\":\"0\",\"wait_on_operation_queues\":[],\"cudnn_conv_backend_config\":{\"activation_mode\":\"kNone\",\"conv_result_scale\":1,\"side_input_scale\":0,\"leakyrelu_alpha\":0},\"force_earliest_schedule\":false,\"reification_cost\":[]} is taking a while...\n",
      "2025-10-25 11:28:24.345401: E external/local_xla/xla/service/slow_operation_alarm.cc:140] The operation took 3.505653573s\n",
      "Trying algorithm eng13{} for conv (f32[12,32,128,128]{3,2,1,0}, u8[0]{0}) custom-call(f32[12,3,128,128]{3,2,1,0}, f32[32,3,3,3]{3,2,1,0}, f32[32]{0}), window={size=3x3 pad=1_1x1_1}, dim_labels=bf01_oi01->bf01, custom_call_target=\"__cudnn$convBiasActivationForward\", backend_config={\"operation_queue_id\":\"0\",\"wait_on_operation_queues\":[],\"cudnn_conv_backend_config\":{\"activation_mode\":\"kNone\",\"conv_result_scale\":1,\"side_input_scale\":0,\"leakyrelu_alpha\":0},\"force_earliest_schedule\":false,\"reification_cost\":[]} is taking a while...\n"
     ]
    },
    {
     "name": "stdout",
     "output_type": "stream",
     "text": [
      "\u001b[1m771/771\u001b[0m \u001b[32m━━━━━━━━━━━━━━━━━━━━\u001b[0m\u001b[37m\u001b[0m \u001b[1m0s\u001b[0m 65ms/step - accuracy: 0.5528 - loss: 1.5141 - precision: 0.8129 - recall: 0.3924"
     ]
    },
    {
     "name": "stderr",
     "output_type": "stream",
     "text": [
      "2025-10-25 11:28:37.425302: I external/local_xla/xla/stream_executor/cuda/subprocess_compilation.cc:346] ptxas warning : Registers are spilled to local memory in function 'gemm_fusion_dot_178', 4 bytes spill stores, 4 bytes spill loads\n",
      "\n",
      "2025-10-25 11:28:37.474244: I external/local_xla/xla/stream_executor/cuda/subprocess_compilation.cc:346] ptxas warning : Registers are spilled to local memory in function 'gemm_fusion_dot_178', 8 bytes spill stores, 8 bytes spill loads\n",
      "\n"
     ]
    },
    {
     "name": "stdout",
     "output_type": "stream",
     "text": [
      "\u001b[1m771/771\u001b[0m \u001b[32m━━━━━━━━━━━━━━━━━━━━\u001b[0m\u001b[37m\u001b[0m \u001b[1m73s\u001b[0m 78ms/step - accuracy: 0.6565 - loss: 1.1134 - precision: 0.8480 - recall: 0.5371 - val_accuracy: 0.7878 - val_loss: 0.6486 - val_precision: 0.8656 - val_recall: 0.7078\n",
      "Epoch 2/20\n",
      "\u001b[1m771/771\u001b[0m \u001b[32m━━━━━━━━━━━━━━━━━━━━\u001b[0m\u001b[37m\u001b[0m \u001b[1m43s\u001b[0m 56ms/step - accuracy: 0.8448 - loss: 0.4707 - precision: 0.8951 - recall: 0.8022 - val_accuracy: 0.8856 - val_loss: 0.3480 - val_precision: 0.9168 - val_recall: 0.8585\n",
      "Epoch 3/20\n",
      "\u001b[1m771/771\u001b[0m \u001b[32m━━━━━━━━━━━━━━━━━━━━\u001b[0m\u001b[37m\u001b[0m \u001b[1m44s\u001b[0m 57ms/step - accuracy: 0.8977 - loss: 0.3027 - precision: 0.9231 - recall: 0.8761 - val_accuracy: 0.8958 - val_loss: 0.3370 - val_precision: 0.9111 - val_recall: 0.8820\n",
      "Epoch 4/20\n",
      "\u001b[1m771/771\u001b[0m \u001b[32m━━━━━━━━━━━━━━━━━━━━\u001b[0m\u001b[37m\u001b[0m \u001b[1m48s\u001b[0m 62ms/step - accuracy: 0.9312 - loss: 0.2016 - precision: 0.9437 - recall: 0.9215 - val_accuracy: 0.8924 - val_loss: 0.3357 - val_precision: 0.9065 - val_recall: 0.8854\n",
      "Epoch 5/20\n",
      "\u001b[1m771/771\u001b[0m \u001b[32m━━━━━━━━━━━━━━━━━━━━\u001b[0m\u001b[37m\u001b[0m \u001b[1m45s\u001b[0m 59ms/step - accuracy: 0.9521 - loss: 0.1394 - precision: 0.9591 - recall: 0.9463 - val_accuracy: 0.9189 - val_loss: 0.2656 - val_precision: 0.9285 - val_recall: 0.9130\n",
      "Epoch 6/20\n",
      "\u001b[1m771/771\u001b[0m \u001b[32m━━━━━━━━━━━━━━━━━━━━\u001b[0m\u001b[37m\u001b[0m \u001b[1m46s\u001b[0m 59ms/step - accuracy: 0.9637 - loss: 0.1048 - precision: 0.9678 - recall: 0.9604 - val_accuracy: 0.9019 - val_loss: 0.3497 - val_precision: 0.9121 - val_recall: 0.8983\n",
      "Epoch 7/20\n",
      "\u001b[1m771/771\u001b[0m \u001b[32m━━━━━━━━━━━━━━━━━━━━\u001b[0m\u001b[37m\u001b[0m \u001b[1m49s\u001b[0m 64ms/step - accuracy: 0.9704 - loss: 0.0869 - precision: 0.9736 - recall: 0.9678 - val_accuracy: 0.9072 - val_loss: 0.3496 - val_precision: 0.9126 - val_recall: 0.9036\n",
      "Epoch 8/20\n",
      "\u001b[1m771/771\u001b[0m \u001b[32m━━━━━━━━━━━━━━━━━━━━\u001b[0m\u001b[37m\u001b[0m \u001b[1m45s\u001b[0m 59ms/step - accuracy: 0.9732 - loss: 0.0773 - precision: 0.9759 - recall: 0.9713 - val_accuracy: 0.9367 - val_loss: 0.2640 - val_precision: 0.9410 - val_recall: 0.9339\n",
      "Epoch 9/20\n",
      "\u001b[1m771/771\u001b[0m \u001b[32m━━━━━━━━━━━━━━━━━━━━\u001b[0m\u001b[37m\u001b[0m \u001b[1m46s\u001b[0m 59ms/step - accuracy: 0.9792 - loss: 0.0644 - precision: 0.9810 - recall: 0.9777 - val_accuracy: 0.9102 - val_loss: 0.3582 - val_precision: 0.9148 - val_recall: 0.9058\n",
      "Epoch 10/20\n",
      "\u001b[1m771/771\u001b[0m \u001b[32m━━━━━━━━━━━━━━━━━━━━\u001b[0m\u001b[37m\u001b[0m \u001b[1m49s\u001b[0m 64ms/step - accuracy: 0.9819 - loss: 0.0521 - precision: 0.9828 - recall: 0.9810 - val_accuracy: 0.9299 - val_loss: 0.3095 - val_precision: 0.9331 - val_recall: 0.9271\n",
      "Epoch 11/20\n",
      "\u001b[1m771/771\u001b[0m \u001b[32m━━━━━━━━━━━━━━━━━━━━\u001b[0m\u001b[37m\u001b[0m \u001b[1m46s\u001b[0m 59ms/step - accuracy: 0.9817 - loss: 0.0575 - precision: 0.9828 - recall: 0.9805 - val_accuracy: 0.9053 - val_loss: 0.4310 - val_precision: 0.9090 - val_recall: 0.9030\n",
      "Epoch 12/20\n",
      "\u001b[1m771/771\u001b[0m \u001b[32m━━━━━━━━━━━━━━━━━━━━\u001b[0m\u001b[37m\u001b[0m \u001b[1m46s\u001b[0m 60ms/step - accuracy: 0.9844 - loss: 0.0492 - precision: 0.9853 - recall: 0.9836 - val_accuracy: 0.9064 - val_loss: 0.3861 - val_precision: 0.9102 - val_recall: 0.9028\n",
      "Epoch 13/20\n",
      "\u001b[1m771/771\u001b[0m \u001b[32m━━━━━━━━━━━━━━━━━━━━\u001b[0m\u001b[37m\u001b[0m \u001b[1m47s\u001b[0m 61ms/step - accuracy: 0.9852 - loss: 0.0467 - precision: 0.9862 - recall: 0.9845 - val_accuracy: 0.9164 - val_loss: 0.4405 - val_precision: 0.9193 - val_recall: 0.9147\n",
      "Epoch 14/20\n",
      "\u001b[1m771/771\u001b[0m \u001b[32m━━━━━━━━━━━━━━━━━━━━\u001b[0m\u001b[37m\u001b[0m \u001b[1m50s\u001b[0m 65ms/step - accuracy: 0.9862 - loss: 0.0421 - precision: 0.9870 - recall: 0.9857 - val_accuracy: 0.9174 - val_loss: 0.3312 - val_precision: 0.9229 - val_recall: 0.9157\n",
      "Epoch 15/20\n",
      "\u001b[1m771/771\u001b[0m \u001b[32m━━━━━━━━━━━━━━━━━━━━\u001b[0m\u001b[37m\u001b[0m \u001b[1m47s\u001b[0m 60ms/step - accuracy: 0.9877 - loss: 0.0357 - precision: 0.9883 - recall: 0.9873 - val_accuracy: 0.9320 - val_loss: 0.3126 - val_precision: 0.9343 - val_recall: 0.9290\n",
      "Epoch 16/20\n",
      "\u001b[1m771/771\u001b[0m \u001b[32m━━━━━━━━━━━━━━━━━━━━\u001b[0m\u001b[37m\u001b[0m \u001b[1m47s\u001b[0m 61ms/step - accuracy: 0.9877 - loss: 0.0350 - precision: 0.9886 - recall: 0.9872 - val_accuracy: 0.9147 - val_loss: 0.4616 - val_precision: 0.9174 - val_recall: 0.9134\n",
      "Epoch 17/20\n",
      "\u001b[1m771/771\u001b[0m \u001b[32m━━━━━━━━━━━━━━━━━━━━\u001b[0m\u001b[37m\u001b[0m \u001b[1m51s\u001b[0m 66ms/step - accuracy: 0.9856 - loss: 0.0433 - precision: 0.9863 - recall: 0.9850 - val_accuracy: 0.9276 - val_loss: 0.3375 - val_precision: 0.9296 - val_recall: 0.9254\n",
      "Epoch 18/20\n",
      "\u001b[1m771/771\u001b[0m \u001b[32m━━━━━━━━━━━━━━━━━━━━\u001b[0m\u001b[37m\u001b[0m \u001b[1m47s\u001b[0m 60ms/step - accuracy: 0.9903 - loss: 0.0316 - precision: 0.9906 - recall: 0.9902 - val_accuracy: 0.8952 - val_loss: 0.5577 - val_precision: 0.8986 - val_recall: 0.8933\n",
      "Epoch 19/20\n",
      "\u001b[1m771/771\u001b[0m \u001b[32m━━━━━━━━━━━━━━━━━━━━\u001b[0m\u001b[37m\u001b[0m \u001b[1m46s\u001b[0m 60ms/step - accuracy: 0.9903 - loss: 0.0308 - precision: 0.9908 - recall: 0.9899 - val_accuracy: 0.9134 - val_loss: 0.4717 - val_precision: 0.9156 - val_recall: 0.9123\n",
      "Epoch 20/20\n",
      "\u001b[1m771/771\u001b[0m \u001b[32m━━━━━━━━━━━━━━━━━━━━\u001b[0m\u001b[37m\u001b[0m \u001b[1m50s\u001b[0m 65ms/step - accuracy: 0.9876 - loss: 0.0383 - precision: 0.9880 - recall: 0.9874 - val_accuracy: 0.9380 - val_loss: 0.3231 - val_precision: 0.9401 - val_recall: 0.9373\n"
     ]
    }
   ],
   "source": [
    "training_history = cnn.fit(x = training_set, validation_data = validation_set, epochs = 20)"
   ]
  },
  {
   "cell_type": "markdown",
   "id": "OTghB8iIwGWD",
   "metadata": {
    "id": "OTghB8iIwGWD"
   },
   "source": [
    "## Model Evaluation"
   ]
  },
  {
   "cell_type": "code",
   "execution_count": 21,
   "id": "355372e1",
   "metadata": {
    "id": "355372e1"
   },
   "outputs": [
    {
     "name": "stdout",
     "output_type": "stream",
     "text": [
      "\u001b[1m771/771\u001b[0m \u001b[32m━━━━━━━━━━━━━━━━━━━━\u001b[0m\u001b[37m\u001b[0m \u001b[1m16s\u001b[0m 21ms/step - accuracy: 0.9978 - loss: 0.0071 - precision: 0.9978 - recall: 0.9978\n"
     ]
    }
   ],
   "source": [
    "train_loss, train_acc, train_pre, train_rec = cnn.evaluate(training_set)"
   ]
  },
  {
   "cell_type": "code",
   "execution_count": 22,
   "id": "0SV6JQir2kCC",
   "metadata": {
    "id": "0SV6JQir2kCC"
   },
   "outputs": [
    {
     "name": "stdout",
     "output_type": "stream",
     "text": [
      "0.007066245656460524 0.9977689385414124 0.9978498816490173 0.9977689385414124\n"
     ]
    }
   ],
   "source": [
    "print(train_loss, train_acc, train_pre, train_rec)"
   ]
  },
  {
   "cell_type": "code",
   "execution_count": 23,
   "id": "VXVnoWQC2pvu",
   "metadata": {
    "id": "VXVnoWQC2pvu"
   },
   "outputs": [
    {
     "name": "stdout",
     "output_type": "stream",
     "text": [
      "\u001b[1m165/165\u001b[0m \u001b[32m━━━━━━━━━━━━━━━━━━━━\u001b[0m\u001b[37m\u001b[0m \u001b[1m3s\u001b[0m 18ms/step - accuracy: 0.9380 - loss: 0.3231 - precision: 0.9401 - recall: 0.9373\n"
     ]
    }
   ],
   "source": [
    "valid_loss, valid_acc, valid_pre, valid_rec = cnn.evaluate(validation_set)"
   ]
  },
  {
   "cell_type": "code",
   "execution_count": 24,
   "id": "uix2GIK82zx0",
   "metadata": {
    "id": "uix2GIK82zx0"
   },
   "outputs": [
    {
     "name": "stdout",
     "output_type": "stream",
     "text": [
      "0.3231140673160553 0.9380447268486023 0.9401368498802185 0.9372868537902832\n"
     ]
    }
   ],
   "source": [
    "print(valid_loss, valid_acc, valid_pre, valid_rec)"
   ]
  },
  {
   "cell_type": "markdown",
   "id": "ujb25md34V7t",
   "metadata": {
    "id": "ujb25md34V7t"
   },
   "source": [
    "## Accuracy Visualization"
   ]
  },
  {
   "cell_type": "code",
   "execution_count": 25,
   "id": "8d9325c8",
   "metadata": {},
   "outputs": [
    {
     "name": "stdout",
     "output_type": "stream",
     "text": [
      "[0.6564579010009766, 0.8448401689529419, 0.8976553678512573, 0.9312428832054138, 0.9520931243896484, 0.9637352228164673, 0.9704283475875854, 0.973227322101593, 0.9792308807373047, 0.9819081425666809, 0.981705367565155, 0.9843826293945312, 0.9852344393730164, 0.9862485527992249, 0.9877089262008667, 0.9876683354377747, 0.9855995178222656, 0.9903455972671509, 0.9903455972671509, 0.9875872135162354]\n"
     ]
    }
   ],
   "source": [
    "print(training_history.history['accuracy'])"
   ]
  },
  {
   "cell_type": "code",
   "execution_count": 26,
   "id": "LphQmNQq4OSP",
   "metadata": {
    "id": "LphQmNQq4OSP"
   },
   "outputs": [
    {
     "data": {
      "image/png": "[encoded data removed]",
      "text/plain": [
       "<Figure size 640x480 with 1 Axes>"
      ]
     },
     "metadata": {},
     "output_type": "display_data"
    }
   ],
   "source": [
    "epochs = [i for i in range(1,21)]\n",
    "plt.plot(epochs, training_history.history['accuracy'], color='red', label ='Training Accuracy')\n",
    "plt.plot(epochs, training_history.history['val_accuracy'], color='blue', label ='Validation Accuracy')\n",
    "plt.xlabel('No. of Epochs')\n",
    "plt.ylabel('Accuracy Result')\n",
    "plt.title('Visualization of Accuracy Result')\n",
    "plt.legend()\n",
    "plt.show()"
   ]
  },
  {
   "cell_type": "markdown",
   "id": "oCPNwlGf24kh",
   "metadata": {
    "id": "oCPNwlGf24kh"
   },
   "source": [
    "## Saving Model"
   ]
  },
  {
   "cell_type": "code",
   "execution_count": 27,
   "id": "NHbenC8L262l",
   "metadata": {
    "id": "NHbenC8L262l"
   },
   "outputs": [],
   "source": [
    "cnn.save(f'{curr_dir}/saved_models/cnn_scratch_model.keras') # one extension of saving, not using h5 as keras takes less space"
   ]
  },
  {
   "cell_type": "code",
   "execution_count": 28,
   "id": "ssO8WVP43lNa",
   "metadata": {
    "id": "ssO8WVP43lNa"
   },
   "outputs": [
    {
     "data": {
      "text/plain": [
       "{'accuracy': [0.6564579010009766,\n",
       "  0.8448401689529419,\n",
       "  0.8976553678512573,\n",
       "  0.9312428832054138,\n",
       "  0.9520931243896484,\n",
       "  0.9637352228164673,\n",
       "  0.9704283475875854,\n",
       "  0.973227322101593,\n",
       "  0.9792308807373047,\n",
       "  0.9819081425666809,\n",
       "  0.981705367565155,\n",
       "  0.9843826293945312,\n",
       "  0.9852344393730164,\n",
       "  0.9862485527992249,\n",
       "  0.9877089262008667,\n",
       "  0.9876683354377747,\n",
       "  0.9855995178222656,\n",
       "  0.9903455972671509,\n",
       "  0.9903455972671509,\n",
       "  0.9875872135162354],\n",
       " 'loss': [1.11342191696167,\n",
       "  0.4707005023956299,\n",
       "  0.30273914337158203,\n",
       "  0.20163024961948395,\n",
       "  0.1394302397966385,\n",
       "  0.10478397458791733,\n",
       "  0.08686921000480652,\n",
       "  0.07729388773441315,\n",
       "  0.06438928842544556,\n",
       "  0.052116408944129944,\n",
       "  0.05750173702836037,\n",
       "  0.04915724694728851,\n",
       "  0.04672279208898544,\n",
       "  0.04206666350364685,\n",
       "  0.035654425621032715,\n",
       "  0.03499694913625717,\n",
       "  0.043262213468551636,\n",
       "  0.03157257288694382,\n",
       "  0.03084174543619156,\n",
       "  0.038344427943229675],\n",
       " 'precision': [0.8479666709899902,\n",
       "  0.8950893878936768,\n",
       "  0.9231098294258118,\n",
       "  0.943749725818634,\n",
       "  0.9590544700622559,\n",
       "  0.9677907228469849,\n",
       "  0.9736358523368835,\n",
       "  0.9758721590042114,\n",
       "  0.980992317199707,\n",
       "  0.9828490018844604,\n",
       "  0.9828006625175476,\n",
       "  0.9853299856185913,\n",
       "  0.9861844778060913,\n",
       "  0.986961841583252,\n",
       "  0.9883055090904236,\n",
       "  0.9886257648468018,\n",
       "  0.9863113760948181,\n",
       "  0.9906253814697266,\n",
       "  0.9907835721969604,\n",
       "  0.9880261421203613],\n",
       " 'recall': [0.5371166467666626,\n",
       "  0.8022472858428955,\n",
       "  0.8761155009269714,\n",
       "  0.9215073585510254,\n",
       "  0.9463329315185547,\n",
       "  0.9604494571685791,\n",
       "  0.9677510857582092,\n",
       "  0.9712802171707153,\n",
       "  0.9776894450187683,\n",
       "  0.9809751510620117,\n",
       "  0.9804884195327759,\n",
       "  0.9835712909698486,\n",
       "  0.9845042824745178,\n",
       "  0.9856806993484497,\n",
       "  0.9873032569885254,\n",
       "  0.9872221350669861,\n",
       "  0.9849910736083984,\n",
       "  0.9901833534240723,\n",
       "  0.9898993968963623,\n",
       "  0.9874249696731567],\n",
       " 'val_accuracy': [0.7877984046936035,\n",
       "  0.8855627179145813,\n",
       "  0.8957938551902771,\n",
       "  0.8923834562301636,\n",
       "  0.9189086556434631,\n",
       "  0.9018567800521851,\n",
       "  0.9071618318557739,\n",
       "  0.9367184638977051,\n",
       "  0.9101932644844055,\n",
       "  0.929897665977478,\n",
       "  0.9052671194076538,\n",
       "  0.9064039587974548,\n",
       "  0.9164456129074097,\n",
       "  0.9173929691314697,\n",
       "  0.9319818019866943,\n",
       "  0.9147404432296753,\n",
       "  0.9276241064071655,\n",
       "  0.895225465297699,\n",
       "  0.9134141802787781,\n",
       "  0.9380447268486023],\n",
       " 'val_loss': [0.6485727429389954,\n",
       "  0.3480449616909027,\n",
       "  0.3369812071323395,\n",
       "  0.3357268273830414,\n",
       "  0.26555031538009644,\n",
       "  0.34972742199897766,\n",
       "  0.34962791204452515,\n",
       "  0.2639663815498352,\n",
       "  0.35820698738098145,\n",
       "  0.3095042407512665,\n",
       "  0.43102186918258667,\n",
       "  0.3860813081264496,\n",
       "  0.4404735863208771,\n",
       "  0.3312378525733948,\n",
       "  0.3125786781311035,\n",
       "  0.4616159498691559,\n",
       "  0.3375251889228821,\n",
       "  0.5576907396316528,\n",
       "  0.47170430421829224,\n",
       "  0.32311397790908813],\n",
       " 'val_precision': [0.8656163215637207,\n",
       "  0.9168353080749512,\n",
       "  0.9111372232437134,\n",
       "  0.9064985513687134,\n",
       "  0.9285163879394531,\n",
       "  0.9120815992355347,\n",
       "  0.9125525951385498,\n",
       "  0.9410080313682556,\n",
       "  0.914848804473877,\n",
       "  0.9330663681030273,\n",
       "  0.9090215563774109,\n",
       "  0.910219669342041,\n",
       "  0.9192688465118408,\n",
       "  0.9228565692901611,\n",
       "  0.9342606663703918,\n",
       "  0.9174119830131531,\n",
       "  0.9295774698257446,\n",
       "  0.8986087441444397,\n",
       "  0.9155732989311218,\n",
       "  0.9401368498802185],\n",
       " 'val_recall': [0.7078438997268677,\n",
       "  0.8584691286087036,\n",
       "  0.8819628357887268,\n",
       "  0.8853732347488403,\n",
       "  0.9130352139472961,\n",
       "  0.8982568979263306,\n",
       "  0.9035619497299194,\n",
       "  0.9338764548301697,\n",
       "  0.9058355689048767,\n",
       "  0.9270557165145874,\n",
       "  0.9029935598373413,\n",
       "  0.9028040766716003,\n",
       "  0.9147404432296753,\n",
       "  0.9156877398490906,\n",
       "  0.9289503693580627,\n",
       "  0.9134141802787781,\n",
       "  0.9253504872322083,\n",
       "  0.8933308124542236,\n",
       "  0.9122774004936218,\n",
       "  0.9372868537902832]}"
      ]
     },
     "execution_count": 28,
     "metadata": {},
     "output_type": "execute_result"
    }
   ],
   "source": [
    "training_history.history"
   ]
  },
  {
   "cell_type": "code",
   "execution_count": 29,
   "id": "9IQoFW7f30oX",
   "metadata": {
    "id": "9IQoFW7f30oX"
   },
   "outputs": [],
   "source": [
    "# storing history in json format\n",
    "import json\n",
    "with open(f'{curr_dir}/training_history/cnn_scratch_training_hist.json', 'w') as f:\n",
    "  json.dump(training_history.history, f)"
   ]
  }
 ],
 "metadata": {
  "accelerator": "GPU",
  "colab": {
   "gpuType": "T4",
   "provenance": []
  },
  "kernelspec": {
   "display_name": "tf",
   "language": "python",
   "name": "python3"
  },
  "language_info": {
   "codemirror_mode": {
    "name": "ipython",
    "version": 3
   },
   "file_extension": ".py",
   "mimetype": "text/x-python",
   "name": "python",
   "nbconvert_exporter": "python",
   "pygments_lexer": "ipython3",
   "version": "3.10.12"
  }
 },
 "nbformat": 4,
 "nbformat_minor": 5
}

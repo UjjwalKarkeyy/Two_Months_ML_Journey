{
 "cells": [
  {
   "cell_type": "markdown",
   "id": "363fd7f7",
   "metadata": {
    "id": "363fd7f7"
   },
   "source": [
    "## **Importing libraries**"
   ]
  },
  {
   "cell_type": "code",
   "execution_count": 1,
   "id": "0efa06b9",
   "metadata": {
    "executionInfo": {
     "elapsed": 4803,
     "status": "ok",
     "timestamp": 1761287424232,
     "user": {
      "displayName": "Adam Fox",
      "userId": "15231053833354285105"
     },
     "user_tz": -345
    },
    "id": "0efa06b9"
   },
   "outputs": [
    {
     "name": "stderr",
     "output_type": "stream",
     "text": [
      "2025-10-24 13:21:21.057366: I tensorflow/core/util/port.cc:153] oneDNN custom operations are on. You may see slightly different numerical results due to floating-point round-off errors from different computation orders. To turn them off, set the environment variable `TF_ENABLE_ONEDNN_OPTS=0`.\n",
      "2025-10-24 13:21:21.861236: I tensorflow/core/platform/cpu_feature_guard.cc:210] This TensorFlow binary is optimized to use available CPU instructions in performance-critical operations.\n",
      "To enable the following instructions: AVX2 AVX512F AVX512_VNNI FMA, in other operations, rebuild TensorFlow with the appropriate compiler flags.\n",
      "2025-10-24 13:21:24.076663: I tensorflow/core/util/port.cc:153] oneDNN custom operations are on. You may see slightly different numerical results due to floating-point round-off errors from different computation orders. To turn them off, set the environment variable `TF_ENABLE_ONEDNN_OPTS=0`.\n"
     ]
    }
   ],
   "source": [
    "import tensorflow as tf\n",
    "from tensorflow.keras.models import Sequential\n",
    "from tensorflow.keras.layers import Dense, Conv2D, MaxPool2D, Flatten\n",
    "from tensorflow.keras.metrics import Precision, Recall\n",
    "import matplotlib.pyplot as plt\n",
    "import pandas as pd\n",
    "import seaborn as sns\n",
    "import os"
   ]
  },
  {
   "cell_type": "markdown",
   "id": "aa2e4a26",
   "metadata": {
    "id": "aa2e4a26"
   },
   "source": [
    "## Verifying the GPU Setup [tensorflow + CUDA (Compute Unified Device Architecture) => Let's you use GPU for Computation other than Graphics]"
   ]
  },
  {
   "cell_type": "code",
   "execution_count": 2,
   "id": "781937c4",
   "metadata": {
    "executionInfo": {
     "elapsed": 6,
     "status": "ok",
     "timestamp": 1761287424240,
     "user": {
      "displayName": "Adam Fox",
      "userId": "15231053833354285105"
     },
     "user_tz": -345
    },
    "id": "781937c4"
   },
   "outputs": [],
   "source": [
    "# !python3 -c \"import tensorflow as tf; print(tf.config.list_physical_devices('GPU'))\""
   ]
  },
  {
   "cell_type": "markdown",
   "id": "eaaa59ff",
   "metadata": {
    "id": "eaaa59ff"
   },
   "source": [
    "## **Data Preprocessing**\n",
    "#### Used *'https://youtube.com/playlist?list=PLvz5lCwTgdXDNcXEVwwHsb9DwjNXZGsoy&si=gPCwVkKpS63FVLAC'* for guidance"
   ]
  },
  {
   "cell_type": "markdown",
   "id": "865ed928",
   "metadata": {
    "id": "865ed928"
   },
   "source": [
    "# Training Image Preprocessing"
   ]
  },
  {
   "cell_type": "code",
   "execution_count": 3,
   "id": "53194054",
   "metadata": {},
   "outputs": [
    {
     "data": {
      "text/plain": [
       "'/home/root123/GitHub/Two_Months_ML_Journey/Week 4'"
      ]
     },
     "execution_count": 3,
     "metadata": {},
     "output_type": "execute_result"
    }
   ],
   "source": [
    "os.getcwd()"
   ]
  },
  {
   "cell_type": "code",
   "execution_count": 4,
   "id": "abab9437",
   "metadata": {
    "colab": {
     "base_uri": "https://localhost:8080/"
    },
    "executionInfo": {
     "elapsed": 59276,
     "status": "ok",
     "timestamp": 1761287484023,
     "user": {
      "displayName": "Adam Fox",
      "userId": "15231053833354285105"
     },
     "user_tz": -345
    },
    "id": "abab9437",
    "outputId": "942ddbd2-18dc-484f-d0ee-01ea1be9040d"
   },
   "outputs": [
    {
     "name": "stdout",
     "output_type": "stream",
     "text": [
      "Found 24652 files belonging to 15 classes.\n"
     ]
    },
    {
     "name": "stderr",
     "output_type": "stream",
     "text": [
      "WARNING: All log messages before absl::InitializeLog() is called are written to STDERR\n",
      "I0000 00:00:1761291458.348740    1556 gpu_device.cc:2020] Created device /job:localhost/replica:0/task:0/device:GPU:0 with 1767 MB memory:  -> device: 0, name: NVIDIA GeForce RTX 3050 Laptop GPU, pci bus id: 0000:01:00.0, compute capability: 8.6\n"
     ]
    }
   ],
   "source": [
    "training_set = tf.keras.utils.image_dataset_from_directory(\n",
    "    './data/PlantVillage_Cleaned/split_data/train',\n",
    "    labels=\"inferred\", # leaving inferred, keras generates labels and class name automatically i.e.,\n",
    "    # [Pepper_mold, Potato_healthy, Tomato_healthy, ...] alphabetically, where labels [0, 1, 2, ...]\n",
    "    label_mode=\"categorical\",\n",
    "    class_names=None,\n",
    "    color_mode=\"rgb\",\n",
    "    batch_size=32,\n",
    "    image_size=(128, 128),\n",
    "    shuffle=True,\n",
    "    seed=40,\n",
    "    validation_split=None,\n",
    "    subset=None,\n",
    "    interpolation=\"bilinear\",\n",
    "    follow_links=False,\n",
    "    crop_to_aspect_ratio=False,\n",
    "    pad_to_aspect_ratio=False,\n",
    "    data_format=None,\n",
    "    verbose=True,\n",
    ")"
   ]
  },
  {
   "cell_type": "markdown",
   "id": "30f299cb",
   "metadata": {
    "id": "30f299cb"
   },
   "source": [
    "## Validation Image Preprocessing"
   ]
  },
  {
   "cell_type": "code",
   "execution_count": 5,
   "id": "a41367da",
   "metadata": {
    "colab": {
     "base_uri": "https://localhost:8080/"
    },
    "executionInfo": {
     "elapsed": 11757,
     "status": "ok",
     "timestamp": 1761287495782,
     "user": {
      "displayName": "Adam Fox",
      "userId": "15231053833354285105"
     },
     "user_tz": -345
    },
    "id": "a41367da",
    "outputId": "b5eccae2-8eea-442e-8ae6-aacaf40614d9"
   },
   "outputs": [
    {
     "name": "stdout",
     "output_type": "stream",
     "text": [
      "Found 5278 files belonging to 15 classes.\n"
     ]
    }
   ],
   "source": [
    "validation_set = tf.keras.utils.image_dataset_from_directory(\n",
    "    './data/PlantVillage_Cleaned/split_data/valid',\n",
    "    labels=\"inferred\",\n",
    "    label_mode=\"categorical\",\n",
    "    class_names=None,\n",
    "    color_mode=\"rgb\",\n",
    "    batch_size=32,\n",
    "    image_size=(128, 128),\n",
    "    shuffle=True,\n",
    "    seed=40,\n",
    "    validation_split=None,\n",
    "    subset=None,\n",
    "    interpolation=\"bilinear\",\n",
    "    follow_links=False,\n",
    "    crop_to_aspect_ratio=False,\n",
    "    pad_to_aspect_ratio=False,\n",
    "    data_format=None,\n",
    "    verbose=True,\n",
    ")"
   ]
  },
  {
   "cell_type": "code",
   "execution_count": 6,
   "id": "11b565fb",
   "metadata": {
    "colab": {
     "base_uri": "https://localhost:8080/"
    },
    "executionInfo": {
     "elapsed": 12190,
     "status": "ok",
     "timestamp": 1761287507978,
     "user": {
      "displayName": "Adam Fox",
      "userId": "15231053833354285105"
     },
     "user_tz": -345
    },
    "id": "11b565fb",
    "outputId": "d7b363b9-ccaa-4893-c00a-243659fef617"
   },
   "outputs": [
    {
     "name": "stdout",
     "output_type": "stream",
     "text": [
      "tf.Tensor(\n",
      "[[[[  0.     0.     0.  ]\n",
      "   [  0.     0.     0.  ]\n",
      "   [  0.     0.     0.  ]\n",
      "   ...\n",
      "   [  0.     0.     0.  ]\n",
      "   [  0.     0.     0.  ]\n",
      "   [  0.     0.     0.  ]]\n",
      "\n",
      "  [[  0.     0.     0.  ]\n",
      "   [  0.     0.     0.  ]\n",
      "   [  0.     0.     0.  ]\n",
      "   ...\n",
      "   [  0.     0.     0.  ]\n",
      "   [  0.     0.     0.  ]\n",
      "   [  0.     0.     0.  ]]\n",
      "\n",
      "  [[  0.     0.     0.  ]\n",
      "   [  0.     0.     0.  ]\n",
      "   [  0.     0.     0.  ]\n",
      "   ...\n",
      "   [  0.     0.     0.  ]\n",
      "   [  0.     0.     0.  ]\n",
      "   [  0.     0.     0.  ]]\n",
      "\n",
      "  ...\n",
      "\n",
      "  [[  0.     0.     0.  ]\n",
      "   [  0.     0.     0.  ]\n",
      "   [  0.     0.     0.  ]\n",
      "   ...\n",
      "   [  0.     0.     0.  ]\n",
      "   [  0.     0.     0.  ]\n",
      "   [  0.     0.     0.  ]]\n",
      "\n",
      "  [[  0.     0.     0.  ]\n",
      "   [  0.     0.     0.  ]\n",
      "   [  0.     0.     0.  ]\n",
      "   ...\n",
      "   [  0.     0.     0.  ]\n",
      "   [  0.     0.     0.  ]\n",
      "   [  0.     0.     0.  ]]\n",
      "\n",
      "  [[  0.     0.     0.  ]\n",
      "   [  0.     0.     0.  ]\n",
      "   [  0.     0.     0.  ]\n",
      "   ...\n",
      "   [  0.     0.     0.  ]\n",
      "   [  0.     0.     0.  ]\n",
      "   [  0.     0.     0.  ]]]\n",
      "\n",
      "\n",
      " [[[109.75 100.75 105.75]\n",
      "   [116.75 107.75 112.75]\n",
      "   [124.   115.   120.  ]\n",
      "   ...\n",
      "   [ 99.5   90.5   95.5 ]\n",
      "   [114.75 105.75 110.75]\n",
      "   [ 94.5   85.5   90.5 ]]\n",
      "\n",
      "  [[116.75 107.75 112.75]\n",
      "   [114.5  105.5  110.5 ]\n",
      "   [126.25 117.25 122.25]\n",
      "   ...\n",
      "   [ 96.5   87.5   92.5 ]\n",
      "   [109.5  100.5  105.5 ]\n",
      "   [104.5   95.5  100.5 ]]\n",
      "\n",
      "  [[120.   111.   116.  ]\n",
      "   [120.75 111.75 116.75]\n",
      "   [119.75 110.75 115.75]\n",
      "   ...\n",
      "   [ 98.25  89.25  94.25]\n",
      "   [112.   103.   108.  ]\n",
      "   [105.25  96.25 101.25]]\n",
      "\n",
      "  ...\n",
      "\n",
      "  [[163.25 158.25 164.25]\n",
      "   [165.5  160.5  166.5 ]\n",
      "   [164.   159.   165.  ]\n",
      "   ...\n",
      "   [163.   156.   163.  ]\n",
      "   [155.5  148.5  155.5 ]\n",
      "   [161.75 154.75 161.75]]\n",
      "\n",
      "  [[164.75 159.75 165.75]\n",
      "   [159.75 154.75 160.75]\n",
      "   [161.5  156.5  162.5 ]\n",
      "   ...\n",
      "   [156.5  149.5  156.5 ]\n",
      "   [159.   152.   159.  ]\n",
      "   [157.25 150.25 157.25]]\n",
      "\n",
      "  [[156.5  151.5  157.5 ]\n",
      "   [155.25 150.25 156.25]\n",
      "   [160.5  155.5  161.5 ]\n",
      "   ...\n",
      "   [156.75 149.75 156.75]\n",
      "   [159.5  152.5  159.5 ]\n",
      "   [161.75 154.75 161.75]]]\n",
      "\n",
      "\n",
      " [[[  3.     3.     3.  ]\n",
      "   [  3.     3.     3.  ]\n",
      "   [  3.     3.     3.  ]\n",
      "   ...\n",
      "   [  3.     3.     3.  ]\n",
      "   [  3.     3.     3.  ]\n",
      "   [  3.     3.     3.  ]]\n",
      "\n",
      "  [[  3.     3.     3.  ]\n",
      "   [  3.     3.     3.  ]\n",
      "   [  3.     3.     3.  ]\n",
      "   ...\n",
      "   [  3.     3.     3.  ]\n",
      "   [  3.     3.     3.  ]\n",
      "   [  3.     3.     3.  ]]\n",
      "\n",
      "  [[  3.     3.     3.  ]\n",
      "   [  3.     3.     3.  ]\n",
      "   [  3.     3.     3.  ]\n",
      "   ...\n",
      "   [  3.     3.     3.  ]\n",
      "   [  3.     3.     3.  ]\n",
      "   [  3.     3.     3.  ]]\n",
      "\n",
      "  ...\n",
      "\n",
      "  [[  3.     3.     3.  ]\n",
      "   [  3.     3.     3.  ]\n",
      "   [  3.     3.     3.  ]\n",
      "   ...\n",
      "   [  3.     3.     3.  ]\n",
      "   [  3.     3.     3.  ]\n",
      "   [  3.     3.     3.  ]]\n",
      "\n",
      "  [[  3.     3.     3.  ]\n",
      "   [  3.     3.     3.  ]\n",
      "   [  3.     3.     3.  ]\n",
      "   ...\n",
      "   [  3.     3.     3.  ]\n",
      "   [  3.     3.     3.  ]\n",
      "   [  3.     3.     3.  ]]\n",
      "\n",
      "  [[  3.     3.     3.  ]\n",
      "   [  3.     3.     3.  ]\n",
      "   [  3.     3.     3.  ]\n",
      "   ...\n",
      "   [  3.     3.     3.  ]\n",
      "   [  3.     3.     3.  ]\n",
      "   [  3.     3.     3.  ]]]\n",
      "\n",
      "\n",
      " ...\n",
      "\n",
      "\n",
      " [[[ 65.    55.75  52.25]\n",
      "   [ 49.5  102.5   81.75]\n",
      "   [ 38.25  56.    25.25]\n",
      "   ...\n",
      "   [139.25  72.    75.25]\n",
      "   [137.25 141.75 143.75]\n",
      "   [ 41.5   33.75  43.  ]]\n",
      "\n",
      "  [[ 90.25  58.25  74.5 ]\n",
      "   [ 77.5   91.75  83.  ]\n",
      "   [ 65.   102.75  43.5 ]\n",
      "   ...\n",
      "   [ 68.5   78.    66.  ]\n",
      "   [ 95.   129.25  98.25]\n",
      "   [145.75 138.75 138.25]]\n",
      "\n",
      "  [[ 70.75  69.   126.5 ]\n",
      "   [ 82.   122.   120.  ]\n",
      "   [ 75.75  68.5   60.25]\n",
      "   ...\n",
      "   [ 44.25  80.5   63.25]\n",
      "   [116.5   63.25 134.25]\n",
      "   [137.5   55.   163.25]]\n",
      "\n",
      "  ...\n",
      "\n",
      "  [[ 38.25  20.    78.75]\n",
      "   [ 75.25  69.5   22.5 ]\n",
      "   [ 64.    97.75  42.25]\n",
      "   ...\n",
      "   [ 81.5   82.5   51.5 ]\n",
      "   [ 83.25  50.5   41.  ]\n",
      "   [ 40.75  84.    70.75]]\n",
      "\n",
      "  [[ 36.25  18.5   62.75]\n",
      "   [ 70.5   62.5   24.25]\n",
      "   [ 72.75  28.5   42.  ]\n",
      "   ...\n",
      "   [ 60.75  74.5   52.5 ]\n",
      "   [ 70.25  39.75  17.25]\n",
      "   [ 39.25  77.    56.  ]]\n",
      "\n",
      "  [[ 38.    23.5   32.  ]\n",
      "   [ 40.    86.75  99.5 ]\n",
      "   [ 42.5   36.25 121.5 ]\n",
      "   ...\n",
      "   [ 13.5   20.5   69.5 ]\n",
      "   [ 24.75  52.75  36.75]\n",
      "   [ 37.   121.5   48.75]]]\n",
      "\n",
      "\n",
      " [[[130.   128.   133.  ]\n",
      "   [127.25 125.25 130.25]\n",
      "   [125.5  123.5  128.5 ]\n",
      "   ...\n",
      "   [124.   122.   125.  ]\n",
      "   [128.75 126.75 129.75]\n",
      "   [128.25 126.25 129.25]]\n",
      "\n",
      "  [[125.25 123.25 128.25]\n",
      "   [126.25 124.25 129.25]\n",
      "   [128.   126.   131.  ]\n",
      "   ...\n",
      "   [122.   120.   123.  ]\n",
      "   [127.5  125.5  128.5 ]\n",
      "   [128.5  126.5  129.5 ]]\n",
      "\n",
      "  [[121.25 119.25 124.25]\n",
      "   [125.5  123.5  128.5 ]\n",
      "   [129.75 127.75 132.75]\n",
      "   ...\n",
      "   [123.5  121.5  124.5 ]\n",
      "   [125.75 123.75 126.75]\n",
      "   [124.25 122.25 125.25]]\n",
      "\n",
      "  ...\n",
      "\n",
      "  [[ 85.5   89.5   92.5 ]\n",
      "   [ 85.25  89.25  92.25]\n",
      "   [ 85.    89.    92.  ]\n",
      "   ...\n",
      "   [ 81.5   86.5   89.5 ]\n",
      "   [ 78.5   83.5   86.5 ]\n",
      "   [ 79.    84.    87.  ]]\n",
      "\n",
      "  [[ 83.5   87.5   90.5 ]\n",
      "   [ 83.75  87.75  90.75]\n",
      "   [ 84.    88.    91.  ]\n",
      "   ...\n",
      "   [ 81.5   86.5   89.5 ]\n",
      "   [ 78.5   83.5   86.5 ]\n",
      "   [ 79.    84.    87.  ]]\n",
      "\n",
      "  [[ 82.25  86.25  89.25]\n",
      "   [ 83.    87.    90.  ]\n",
      "   [ 84.    88.    91.  ]\n",
      "   ...\n",
      "   [ 81.5   86.5   89.5 ]\n",
      "   [ 78.5   83.5   86.5 ]\n",
      "   [ 79.    84.    87.  ]]]\n",
      "\n",
      "\n",
      " [[[164.75 162.75 163.75]\n",
      "   [162.5  160.5  161.5 ]\n",
      "   [178.75 176.75 177.75]\n",
      "   ...\n",
      "   [157.   155.   158.  ]\n",
      "   [152.5  150.5  153.5 ]\n",
      "   [148.   146.   149.  ]]\n",
      "\n",
      "  [[167.5  165.5  166.5 ]\n",
      "   [169.25 167.25 168.25]\n",
      "   [167.5  165.5  166.5 ]\n",
      "   ...\n",
      "   [159.   157.   160.  ]\n",
      "   [157.5  155.5  158.5 ]\n",
      "   [162.   160.   163.  ]]\n",
      "\n",
      "  [[163.25 161.25 162.25]\n",
      "   [168.75 166.75 167.75]\n",
      "   [171.75 169.75 170.75]\n",
      "   ...\n",
      "   [160.5  158.5  161.5 ]\n",
      "   [158.   156.   159.  ]\n",
      "   [162.25 160.25 163.25]]\n",
      "\n",
      "  ...\n",
      "\n",
      "  [[130.75 126.75 123.75]\n",
      "   [115.5  111.5  108.5 ]\n",
      "   [122.5  118.5  115.5 ]\n",
      "   ...\n",
      "   [120.   116.   113.  ]\n",
      "   [123.25 119.25 116.25]\n",
      "   [120.5  116.5  113.5 ]]\n",
      "\n",
      "  [[114.   110.   107.  ]\n",
      "   [115.5  111.5  108.5 ]\n",
      "   [121.5  117.5  114.5 ]\n",
      "   ...\n",
      "   [113.5  109.5  106.5 ]\n",
      "   [120.25 116.25 113.25]\n",
      "   [117.   113.   110.  ]]\n",
      "\n",
      "  [[112.   108.   105.  ]\n",
      "   [114.75 110.75 107.75]\n",
      "   [118.   114.   111.  ]\n",
      "   ...\n",
      "   [118.   114.   111.  ]\n",
      "   [119.25 115.25 112.25]\n",
      "   [123.5  119.5  116.5 ]]]], shape=(32, 128, 128, 3), dtype=float32) (32, 128, 128, 3)\n",
      "tf.Tensor(\n",
      "[[0. 0. 0. 0. 0. 0. 0. 0. 0. 0. 0. 0. 0. 0. 1.]\n",
      " [0. 0. 0. 0. 0. 0. 0. 0. 0. 0. 0. 0. 1. 0. 0.]\n",
      " [0. 0. 0. 0. 0. 0. 0. 0. 0. 0. 0. 0. 0. 0. 1.]\n",
      " [0. 0. 0. 0. 0. 0. 0. 0. 0. 0. 0. 0. 0. 0. 1.]\n",
      " [0. 0. 0. 0. 0. 1. 0. 0. 0. 0. 0. 0. 0. 0. 0.]\n",
      " [0. 0. 0. 0. 1. 0. 0. 0. 0. 0. 0. 0. 0. 0. 0.]\n",
      " [0. 0. 0. 0. 0. 0. 0. 0. 0. 0. 0. 0. 0. 0. 1.]\n",
      " [0. 0. 0. 0. 0. 0. 0. 0. 0. 0. 1. 0. 0. 0. 0.]\n",
      " [0. 0. 0. 0. 0. 0. 0. 0. 0. 0. 0. 0. 0. 0. 1.]\n",
      " [0. 0. 0. 0. 0. 0. 0. 1. 0. 0. 0. 0. 0. 0. 0.]\n",
      " [0. 0. 0. 0. 0. 0. 1. 0. 0. 0. 0. 0. 0. 0. 0.]\n",
      " [0. 0. 0. 0. 0. 0. 0. 1. 0. 0. 0. 0. 0. 0. 0.]\n",
      " [0. 0. 0. 0. 0. 0. 0. 0. 0. 0. 0. 0. 0. 0. 1.]\n",
      " [0. 0. 0. 0. 0. 0. 0. 0. 0. 0. 0. 0. 0. 0. 1.]\n",
      " [0. 0. 0. 0. 0. 0. 0. 0. 0. 0. 0. 0. 0. 0. 1.]\n",
      " [0. 0. 0. 0. 0. 1. 0. 0. 0. 0. 0. 0. 0. 0. 0.]\n",
      " [0. 0. 0. 0. 0. 0. 0. 0. 0. 0. 0. 0. 0. 0. 1.]\n",
      " [0. 0. 0. 0. 0. 0. 0. 0. 0. 0. 0. 0. 0. 0. 1.]\n",
      " [0. 0. 0. 0. 0. 0. 1. 0. 0. 0. 0. 0. 0. 0. 0.]\n",
      " [0. 0. 0. 0. 0. 0. 0. 0. 0. 0. 0. 1. 0. 0. 0.]\n",
      " [0. 0. 0. 0. 0. 0. 0. 0. 1. 0. 0. 0. 0. 0. 0.]\n",
      " [0. 0. 0. 0. 0. 0. 0. 1. 0. 0. 0. 0. 0. 0. 0.]\n",
      " [0. 0. 0. 0. 0. 0. 0. 0. 0. 0. 0. 0. 0. 0. 1.]\n",
      " [0. 0. 0. 0. 0. 0. 0. 0. 0. 0. 0. 0. 0. 0. 1.]\n",
      " [0. 0. 0. 0. 0. 0. 0. 0. 0. 0. 0. 0. 0. 0. 1.]\n",
      " [0. 0. 0. 0. 0. 0. 0. 0. 0. 0. 0. 0. 0. 0. 1.]\n",
      " [0. 1. 0. 0. 0. 0. 0. 0. 0. 0. 0. 0. 0. 0. 0.]\n",
      " [0. 1. 0. 0. 0. 0. 0. 0. 0. 0. 0. 0. 0. 0. 0.]\n",
      " [0. 0. 0. 0. 1. 0. 0. 0. 0. 0. 0. 0. 0. 0. 0.]\n",
      " [0. 0. 0. 0. 0. 0. 0. 0. 0. 0. 0. 0. 0. 0. 1.]\n",
      " [0. 0. 0. 0. 0. 0. 0. 0. 0. 0. 0. 0. 0. 0. 1.]\n",
      " [0. 0. 0. 0. 0. 1. 0. 0. 0. 0. 0. 0. 0. 0. 0.]], shape=(32, 15), dtype=float32) (32, 15)\n"
     ]
    }
   ],
   "source": [
    "for x, y in training_set:\n",
    "    print(x, x.shape)\n",
    "    print(y, y.shape)\n",
    "    break"
   ]
  },
  {
   "cell_type": "markdown",
   "id": "0ea5dda8",
   "metadata": {
    "id": "0ea5dda8"
   },
   "source": [
    "# **Building Model**"
   ]
  },
  {
   "cell_type": "code",
   "execution_count": 7,
   "id": "2c8686b6",
   "metadata": {
    "executionInfo": {
     "elapsed": 4,
     "status": "ok",
     "timestamp": 1761287507984,
     "user": {
      "displayName": "Adam Fox",
      "userId": "15231053833354285105"
     },
     "user_tz": -345
    },
    "id": "2c8686b6"
   },
   "outputs": [],
   "source": [
    "cnn = Sequential()"
   ]
  },
  {
   "cell_type": "markdown",
   "id": "cfe39a7a",
   "metadata": {
    "id": "cfe39a7a"
   },
   "source": [
    "## Building Convolution Layers (Architecture)"
   ]
  },
  {
   "cell_type": "code",
   "execution_count": 8,
   "id": "8e0d8b48",
   "metadata": {
    "executionInfo": {
     "elapsed": 2,
     "status": "ok",
     "timestamp": 1761287507989,
     "user": {
      "displayName": "Adam Fox",
      "userId": "15231053833354285105"
     },
     "user_tz": -345
    },
    "id": "8e0d8b48"
   },
   "outputs": [],
   "source": [
    "# 🧠 CNN Concept Summary:\n",
    "\n",
    "# 1️⃣ Each cnn.add() = one layer (Conv, Pool, etc.)\n",
    "#     → Conv2D = learns features (edges → textures → shapes)\n",
    "#     → MaxPool2D = downsamples feature maps (keeps strongest features)\n",
    "\n",
    "# 2️⃣ Repeated Conv+Pool blocks = deeper understanding:\n",
    "#     Block1: basic edges/colors\n",
    "#     Block2: shapes/textures\n",
    "#     Block3: complex leaf patterns\n",
    "#     Block4: disease regions\n",
    "\n",
    "# 3️⃣ Kernel (3x3): small filter sliding over input\n",
    "#     → detects local patterns (like edge fragments)\n",
    "\n",
    "# 4️⃣ padding='same': adds zero borders → output height & width stay same\n",
    "#     padding='valid': no padding → output shrinks\n",
    "\n",
    "# 5️⃣ input_shape: only needed in the first Conv2D layer\n",
    "#     → later layers infer input size automatically\n",
    "\n",
    "# 6️⃣ Max Pooling (2x2): reduces feature map size by half\n",
    "#     → keeps key activations, adds translation invariance\n",
    "\n",
    "# 7️⃣ Hierarchy summary:\n",
    "#     Input → Conv → Pool → Conv → Pool → Flatten → Dense → Output\n"
   ]
  },
  {
   "cell_type": "code",
   "execution_count": 9,
   "id": "a77009e5",
   "metadata": {
    "colab": {
     "base_uri": "https://localhost:8080/"
    },
    "executionInfo": {
     "elapsed": 856,
     "status": "ok",
     "timestamp": 1761287508847,
     "user": {
      "displayName": "Adam Fox",
      "userId": "15231053833354285105"
     },
     "user_tz": -345
    },
    "id": "a77009e5",
    "outputId": "675def6f-000c-46ad-a3c4-45cc4bc75a9a"
   },
   "outputs": [
    {
     "name": "stderr",
     "output_type": "stream",
     "text": [
      "/home/root123/GitHub/Two_Months_ML_Journey/Week 4/tf/lib/python3.10/site-packages/keras/src/layers/convolutional/base_conv.py:113: UserWarning: Do not pass an `input_shape`/`input_dim` argument to a layer. When using Sequential models, prefer using an `Input(shape)` object as the first layer in the model instead.\n",
      "  super().__init__(activity_regularizer=activity_regularizer, **kwargs)\n"
     ]
    }
   ],
   "source": [
    "cnn.add(Conv2D(filters=32, kernel_size = 3, padding = 'same', activation = 'relu', input_shape = [128,128, 3])) # input_size = [widht, height, input shape]\n",
    "cnn.add(Conv2D(filters=32, kernel_size = 3, padding = 'same', activation = 'relu'))\n",
    "cnn.add(MaxPool2D(pool_size = 2, strides = 2)) # pool size -> shape of pooling filter, strides -> movement of sliding window"
   ]
  },
  {
   "cell_type": "code",
   "execution_count": 10,
   "id": "11bfcf28",
   "metadata": {
    "executionInfo": {
     "elapsed": 25,
     "status": "ok",
     "timestamp": 1761287508876,
     "user": {
      "displayName": "Adam Fox",
      "userId": "15231053833354285105"
     },
     "user_tz": -345
    },
    "id": "11bfcf28"
   },
   "outputs": [],
   "source": [
    "cnn.add(Conv2D(filters=64, kernel_size = 3, padding = 'same', activation = 'relu'))\n",
    "cnn.add(Conv2D(filters=64, kernel_size = 3, padding = 'same', activation = 'relu'))\n",
    "cnn.add(MaxPool2D(pool_size = 2, strides = 2))"
   ]
  },
  {
   "cell_type": "code",
   "execution_count": 11,
   "id": "ab5cebc5",
   "metadata": {
    "executionInfo": {
     "elapsed": 26,
     "status": "ok",
     "timestamp": 1761287508905,
     "user": {
      "displayName": "Adam Fox",
      "userId": "15231053833354285105"
     },
     "user_tz": -345
    },
    "id": "ab5cebc5"
   },
   "outputs": [],
   "source": [
    "cnn.add(Conv2D(filters=128, kernel_size = 3, padding = 'same', activation = 'relu'))\n",
    "cnn.add(Conv2D(filters=128, kernel_size = 3, padding = 'same', activation = 'relu'))\n",
    "cnn.add(MaxPool2D(pool_size = 2, strides = 2))"
   ]
  },
  {
   "cell_type": "code",
   "execution_count": 12,
   "id": "bde8f32a",
   "metadata": {
    "executionInfo": {
     "elapsed": 1,
     "status": "ok",
     "timestamp": 1761287508909,
     "user": {
      "displayName": "Adam Fox",
      "userId": "15231053833354285105"
     },
     "user_tz": -345
    },
    "id": "bde8f32a"
   },
   "outputs": [],
   "source": [
    "# cnn.add(Conv2D(filters=256, kernel_size = 3, padding = 'same', activation = 'relu'))\n",
    "# cnn.add(Conv2D(filters=256, kernel_size = 3, padding = 'same', activation = 'relu'))\n",
    "# cnn.add(MaxPool2D(pool_size = 2, strides = 2))"
   ]
  },
  {
   "cell_type": "code",
   "execution_count": 13,
   "id": "67c89c08",
   "metadata": {
    "executionInfo": {
     "elapsed": 4,
     "status": "ok",
     "timestamp": 1761287508920,
     "user": {
      "displayName": "Adam Fox",
      "userId": "15231053833354285105"
     },
     "user_tz": -345
    },
    "id": "67c89c08"
   },
   "outputs": [],
   "source": [
    "# Flattening the results to pass to the dense layer\n",
    "cnn.add(Flatten())"
   ]
  },
  {
   "cell_type": "code",
   "execution_count": 14,
   "id": "e43db7dd",
   "metadata": {
    "executionInfo": {
     "elapsed": 27,
     "status": "ok",
     "timestamp": 1761287508952,
     "user": {
      "displayName": "Adam Fox",
      "userId": "15231053833354285105"
     },
     "user_tz": -345
    },
    "id": "e43db7dd"
   },
   "outputs": [],
   "source": [
    "cnn.add(Dense(units = 64, activation = 'relu'))"
   ]
  },
  {
   "cell_type": "code",
   "execution_count": 15,
   "id": "99ef7925",
   "metadata": {
    "executionInfo": {
     "elapsed": 35,
     "status": "ok",
     "timestamp": 1761287508983,
     "user": {
      "displayName": "Adam Fox",
      "userId": "15231053833354285105"
     },
     "user_tz": -345
    },
    "id": "99ef7925"
   },
   "outputs": [],
   "source": [
    "# output layer\n",
    "cnn.add(Dense(units = 15, activation = 'softmax'))"
   ]
  },
  {
   "cell_type": "markdown",
   "id": "b629a387",
   "metadata": {
    "id": "b629a387"
   },
   "source": [
    "## Compiling Model"
   ]
  },
  {
   "cell_type": "code",
   "execution_count": 16,
   "id": "7fdc649e",
   "metadata": {
    "executionInfo": {
     "elapsed": 21,
     "status": "ok",
     "timestamp": 1761287509005,
     "user": {
      "displayName": "Adam Fox",
      "userId": "15231053833354285105"
     },
     "user_tz": -345
    },
    "id": "7fdc649e"
   },
   "outputs": [],
   "source": [
    "cnn.compile(\n",
    "    optimizer = 'adam',\n",
    "    loss = 'categorical_crossentropy',\n",
    "    metrics = ['accuracy', Precision(), Recall()])"
   ]
  },
  {
   "cell_type": "code",
   "execution_count": 17,
   "id": "6344a79e",
   "metadata": {
    "colab": {
     "base_uri": "https://localhost:8080/",
     "height": 513
    },
    "executionInfo": {
     "elapsed": 26,
     "status": "ok",
     "timestamp": 1761287509032,
     "user": {
      "displayName": "Adam Fox",
      "userId": "15231053833354285105"
     },
     "user_tz": -345
    },
    "id": "6344a79e",
    "outputId": "e87a9494-d252-4031-9d96-372d2683b243"
   },
   "outputs": [
    {
     "data": {
      "text/html": [
       "<pre style=\"white-space:pre;overflow-x:auto;line-height:normal;font-family:Menlo,'DejaVu Sans Mono',consolas,'Courier New',monospace\"><span style=\"font-weight: bold\">Model: \"sequential\"</span>\n",
       "</pre>\n"
      ],
      "text/plain": [
       "\u001b[1mModel: \"sequential\"\u001b[0m\n"
      ]
     },
     "metadata": {},
     "output_type": "display_data"
    },
    {
     "data": {
      "text/html": [
       "<pre style=\"white-space:pre;overflow-x:auto;line-height:normal;font-family:Menlo,'DejaVu Sans Mono',consolas,'Courier New',monospace\">┏━━━━━━━━━━━━━━━━━━━━━━━━━━━━━━━━━┳━━━━━━━━━━━━━━━━━━━━━━━━┳━━━━━━━━━━━━━━━┓\n",
       "┃<span style=\"font-weight: bold\"> Layer (type)                    </span>┃<span style=\"font-weight: bold\"> Output Shape           </span>┃<span style=\"font-weight: bold\">       Param # </span>┃\n",
       "┡━━━━━━━━━━━━━━━━━━━━━━━━━━━━━━━━━╇━━━━━━━━━━━━━━━━━━━━━━━━╇━━━━━━━━━━━━━━━┩\n",
       "│ conv2d (<span style=\"color: #0087ff; text-decoration-color: #0087ff\">Conv2D</span>)                 │ (<span style=\"color: #00d7ff; text-decoration-color: #00d7ff\">None</span>, <span style=\"color: #00af00; text-decoration-color: #00af00\">128</span>, <span style=\"color: #00af00; text-decoration-color: #00af00\">128</span>, <span style=\"color: #00af00; text-decoration-color: #00af00\">32</span>)   │           <span style=\"color: #00af00; text-decoration-color: #00af00\">896</span> │\n",
       "├─────────────────────────────────┼────────────────────────┼───────────────┤\n",
       "│ conv2d_1 (<span style=\"color: #0087ff; text-decoration-color: #0087ff\">Conv2D</span>)               │ (<span style=\"color: #00d7ff; text-decoration-color: #00d7ff\">None</span>, <span style=\"color: #00af00; text-decoration-color: #00af00\">128</span>, <span style=\"color: #00af00; text-decoration-color: #00af00\">128</span>, <span style=\"color: #00af00; text-decoration-color: #00af00\">32</span>)   │         <span style=\"color: #00af00; text-decoration-color: #00af00\">9,248</span> │\n",
       "├─────────────────────────────────┼────────────────────────┼───────────────┤\n",
       "│ max_pooling2d (<span style=\"color: #0087ff; text-decoration-color: #0087ff\">MaxPooling2D</span>)    │ (<span style=\"color: #00d7ff; text-decoration-color: #00d7ff\">None</span>, <span style=\"color: #00af00; text-decoration-color: #00af00\">64</span>, <span style=\"color: #00af00; text-decoration-color: #00af00\">64</span>, <span style=\"color: #00af00; text-decoration-color: #00af00\">32</span>)     │             <span style=\"color: #00af00; text-decoration-color: #00af00\">0</span> │\n",
       "├─────────────────────────────────┼────────────────────────┼───────────────┤\n",
       "│ conv2d_2 (<span style=\"color: #0087ff; text-decoration-color: #0087ff\">Conv2D</span>)               │ (<span style=\"color: #00d7ff; text-decoration-color: #00d7ff\">None</span>, <span style=\"color: #00af00; text-decoration-color: #00af00\">64</span>, <span style=\"color: #00af00; text-decoration-color: #00af00\">64</span>, <span style=\"color: #00af00; text-decoration-color: #00af00\">64</span>)     │        <span style=\"color: #00af00; text-decoration-color: #00af00\">18,496</span> │\n",
       "├─────────────────────────────────┼────────────────────────┼───────────────┤\n",
       "│ conv2d_3 (<span style=\"color: #0087ff; text-decoration-color: #0087ff\">Conv2D</span>)               │ (<span style=\"color: #00d7ff; text-decoration-color: #00d7ff\">None</span>, <span style=\"color: #00af00; text-decoration-color: #00af00\">64</span>, <span style=\"color: #00af00; text-decoration-color: #00af00\">64</span>, <span style=\"color: #00af00; text-decoration-color: #00af00\">64</span>)     │        <span style=\"color: #00af00; text-decoration-color: #00af00\">36,928</span> │\n",
       "├─────────────────────────────────┼────────────────────────┼───────────────┤\n",
       "│ max_pooling2d_1 (<span style=\"color: #0087ff; text-decoration-color: #0087ff\">MaxPooling2D</span>)  │ (<span style=\"color: #00d7ff; text-decoration-color: #00d7ff\">None</span>, <span style=\"color: #00af00; text-decoration-color: #00af00\">32</span>, <span style=\"color: #00af00; text-decoration-color: #00af00\">32</span>, <span style=\"color: #00af00; text-decoration-color: #00af00\">64</span>)     │             <span style=\"color: #00af00; text-decoration-color: #00af00\">0</span> │\n",
       "├─────────────────────────────────┼────────────────────────┼───────────────┤\n",
       "│ conv2d_4 (<span style=\"color: #0087ff; text-decoration-color: #0087ff\">Conv2D</span>)               │ (<span style=\"color: #00d7ff; text-decoration-color: #00d7ff\">None</span>, <span style=\"color: #00af00; text-decoration-color: #00af00\">32</span>, <span style=\"color: #00af00; text-decoration-color: #00af00\">32</span>, <span style=\"color: #00af00; text-decoration-color: #00af00\">128</span>)    │        <span style=\"color: #00af00; text-decoration-color: #00af00\">73,856</span> │\n",
       "├─────────────────────────────────┼────────────────────────┼───────────────┤\n",
       "│ conv2d_5 (<span style=\"color: #0087ff; text-decoration-color: #0087ff\">Conv2D</span>)               │ (<span style=\"color: #00d7ff; text-decoration-color: #00d7ff\">None</span>, <span style=\"color: #00af00; text-decoration-color: #00af00\">32</span>, <span style=\"color: #00af00; text-decoration-color: #00af00\">32</span>, <span style=\"color: #00af00; text-decoration-color: #00af00\">128</span>)    │       <span style=\"color: #00af00; text-decoration-color: #00af00\">147,584</span> │\n",
       "├─────────────────────────────────┼────────────────────────┼───────────────┤\n",
       "│ max_pooling2d_2 (<span style=\"color: #0087ff; text-decoration-color: #0087ff\">MaxPooling2D</span>)  │ (<span style=\"color: #00d7ff; text-decoration-color: #00d7ff\">None</span>, <span style=\"color: #00af00; text-decoration-color: #00af00\">16</span>, <span style=\"color: #00af00; text-decoration-color: #00af00\">16</span>, <span style=\"color: #00af00; text-decoration-color: #00af00\">128</span>)    │             <span style=\"color: #00af00; text-decoration-color: #00af00\">0</span> │\n",
       "├─────────────────────────────────┼────────────────────────┼───────────────┤\n",
       "│ flatten (<span style=\"color: #0087ff; text-decoration-color: #0087ff\">Flatten</span>)               │ (<span style=\"color: #00d7ff; text-decoration-color: #00d7ff\">None</span>, <span style=\"color: #00af00; text-decoration-color: #00af00\">32768</span>)          │             <span style=\"color: #00af00; text-decoration-color: #00af00\">0</span> │\n",
       "├─────────────────────────────────┼────────────────────────┼───────────────┤\n",
       "│ dense (<span style=\"color: #0087ff; text-decoration-color: #0087ff\">Dense</span>)                   │ (<span style=\"color: #00d7ff; text-decoration-color: #00d7ff\">None</span>, <span style=\"color: #00af00; text-decoration-color: #00af00\">64</span>)             │     <span style=\"color: #00af00; text-decoration-color: #00af00\">2,097,216</span> │\n",
       "├─────────────────────────────────┼────────────────────────┼───────────────┤\n",
       "│ dense_1 (<span style=\"color: #0087ff; text-decoration-color: #0087ff\">Dense</span>)                 │ (<span style=\"color: #00d7ff; text-decoration-color: #00d7ff\">None</span>, <span style=\"color: #00af00; text-decoration-color: #00af00\">15</span>)             │           <span style=\"color: #00af00; text-decoration-color: #00af00\">975</span> │\n",
       "└─────────────────────────────────┴────────────────────────┴───────────────┘\n",
       "</pre>\n"
      ],
      "text/plain": [
       "┏━━━━━━━━━━━━━━━━━━━━━━━━━━━━━━━━━┳━━━━━━━━━━━━━━━━━━━━━━━━┳━━━━━━━━━━━━━━━┓\n",
       "┃\u001b[1m \u001b[0m\u001b[1mLayer (type)                   \u001b[0m\u001b[1m \u001b[0m┃\u001b[1m \u001b[0m\u001b[1mOutput Shape          \u001b[0m\u001b[1m \u001b[0m┃\u001b[1m \u001b[0m\u001b[1m      Param #\u001b[0m\u001b[1m \u001b[0m┃\n",
       "┡━━━━━━━━━━━━━━━━━━━━━━━━━━━━━━━━━╇━━━━━━━━━━━━━━━━━━━━━━━━╇━━━━━━━━━━━━━━━┩\n",
       "│ conv2d (\u001b[38;5;33mConv2D\u001b[0m)                 │ (\u001b[38;5;45mNone\u001b[0m, \u001b[38;5;34m128\u001b[0m, \u001b[38;5;34m128\u001b[0m, \u001b[38;5;34m32\u001b[0m)   │           \u001b[38;5;34m896\u001b[0m │\n",
       "├─────────────────────────────────┼────────────────────────┼───────────────┤\n",
       "│ conv2d_1 (\u001b[38;5;33mConv2D\u001b[0m)               │ (\u001b[38;5;45mNone\u001b[0m, \u001b[38;5;34m128\u001b[0m, \u001b[38;5;34m128\u001b[0m, \u001b[38;5;34m32\u001b[0m)   │         \u001b[38;5;34m9,248\u001b[0m │\n",
       "├─────────────────────────────────┼────────────────────────┼───────────────┤\n",
       "│ max_pooling2d (\u001b[38;5;33mMaxPooling2D\u001b[0m)    │ (\u001b[38;5;45mNone\u001b[0m, \u001b[38;5;34m64\u001b[0m, \u001b[38;5;34m64\u001b[0m, \u001b[38;5;34m32\u001b[0m)     │             \u001b[38;5;34m0\u001b[0m │\n",
       "├─────────────────────────────────┼────────────────────────┼───────────────┤\n",
       "│ conv2d_2 (\u001b[38;5;33mConv2D\u001b[0m)               │ (\u001b[38;5;45mNone\u001b[0m, \u001b[38;5;34m64\u001b[0m, \u001b[38;5;34m64\u001b[0m, \u001b[38;5;34m64\u001b[0m)     │        \u001b[38;5;34m18,496\u001b[0m │\n",
       "├─────────────────────────────────┼────────────────────────┼───────────────┤\n",
       "│ conv2d_3 (\u001b[38;5;33mConv2D\u001b[0m)               │ (\u001b[38;5;45mNone\u001b[0m, \u001b[38;5;34m64\u001b[0m, \u001b[38;5;34m64\u001b[0m, \u001b[38;5;34m64\u001b[0m)     │        \u001b[38;5;34m36,928\u001b[0m │\n",
       "├─────────────────────────────────┼────────────────────────┼───────────────┤\n",
       "│ max_pooling2d_1 (\u001b[38;5;33mMaxPooling2D\u001b[0m)  │ (\u001b[38;5;45mNone\u001b[0m, \u001b[38;5;34m32\u001b[0m, \u001b[38;5;34m32\u001b[0m, \u001b[38;5;34m64\u001b[0m)     │             \u001b[38;5;34m0\u001b[0m │\n",
       "├─────────────────────────────────┼────────────────────────┼───────────────┤\n",
       "│ conv2d_4 (\u001b[38;5;33mConv2D\u001b[0m)               │ (\u001b[38;5;45mNone\u001b[0m, \u001b[38;5;34m32\u001b[0m, \u001b[38;5;34m32\u001b[0m, \u001b[38;5;34m128\u001b[0m)    │        \u001b[38;5;34m73,856\u001b[0m │\n",
       "├─────────────────────────────────┼────────────────────────┼───────────────┤\n",
       "│ conv2d_5 (\u001b[38;5;33mConv2D\u001b[0m)               │ (\u001b[38;5;45mNone\u001b[0m, \u001b[38;5;34m32\u001b[0m, \u001b[38;5;34m32\u001b[0m, \u001b[38;5;34m128\u001b[0m)    │       \u001b[38;5;34m147,584\u001b[0m │\n",
       "├─────────────────────────────────┼────────────────────────┼───────────────┤\n",
       "│ max_pooling2d_2 (\u001b[38;5;33mMaxPooling2D\u001b[0m)  │ (\u001b[38;5;45mNone\u001b[0m, \u001b[38;5;34m16\u001b[0m, \u001b[38;5;34m16\u001b[0m, \u001b[38;5;34m128\u001b[0m)    │             \u001b[38;5;34m0\u001b[0m │\n",
       "├─────────────────────────────────┼────────────────────────┼───────────────┤\n",
       "│ flatten (\u001b[38;5;33mFlatten\u001b[0m)               │ (\u001b[38;5;45mNone\u001b[0m, \u001b[38;5;34m32768\u001b[0m)          │             \u001b[38;5;34m0\u001b[0m │\n",
       "├─────────────────────────────────┼────────────────────────┼───────────────┤\n",
       "│ dense (\u001b[38;5;33mDense\u001b[0m)                   │ (\u001b[38;5;45mNone\u001b[0m, \u001b[38;5;34m64\u001b[0m)             │     \u001b[38;5;34m2,097,216\u001b[0m │\n",
       "├─────────────────────────────────┼────────────────────────┼───────────────┤\n",
       "│ dense_1 (\u001b[38;5;33mDense\u001b[0m)                 │ (\u001b[38;5;45mNone\u001b[0m, \u001b[38;5;34m15\u001b[0m)             │           \u001b[38;5;34m975\u001b[0m │\n",
       "└─────────────────────────────────┴────────────────────────┴───────────────┘\n"
      ]
     },
     "metadata": {},
     "output_type": "display_data"
    },
    {
     "data": {
      "text/html": [
       "<pre style=\"white-space:pre;overflow-x:auto;line-height:normal;font-family:Menlo,'DejaVu Sans Mono',consolas,'Courier New',monospace\"><span style=\"font-weight: bold\"> Total params: </span><span style=\"color: #00af00; text-decoration-color: #00af00\">2,385,199</span> (9.10 MB)\n",
       "</pre>\n"
      ],
      "text/plain": [
       "\u001b[1m Total params: \u001b[0m\u001b[38;5;34m2,385,199\u001b[0m (9.10 MB)\n"
      ]
     },
     "metadata": {},
     "output_type": "display_data"
    },
    {
     "data": {
      "text/html": [
       "<pre style=\"white-space:pre;overflow-x:auto;line-height:normal;font-family:Menlo,'DejaVu Sans Mono',consolas,'Courier New',monospace\"><span style=\"font-weight: bold\"> Trainable params: </span><span style=\"color: #00af00; text-decoration-color: #00af00\">2,385,199</span> (9.10 MB)\n",
       "</pre>\n"
      ],
      "text/plain": [
       "\u001b[1m Trainable params: \u001b[0m\u001b[38;5;34m2,385,199\u001b[0m (9.10 MB)\n"
      ]
     },
     "metadata": {},
     "output_type": "display_data"
    },
    {
     "data": {
      "text/html": [
       "<pre style=\"white-space:pre;overflow-x:auto;line-height:normal;font-family:Menlo,'DejaVu Sans Mono',consolas,'Courier New',monospace\"><span style=\"font-weight: bold\"> Non-trainable params: </span><span style=\"color: #00af00; text-decoration-color: #00af00\">0</span> (0.00 B)\n",
       "</pre>\n"
      ],
      "text/plain": [
       "\u001b[1m Non-trainable params: \u001b[0m\u001b[38;5;34m0\u001b[0m (0.00 B)\n"
      ]
     },
     "metadata": {},
     "output_type": "display_data"
    }
   ],
   "source": [
    "cnn.summary()"
   ]
  },
  {
   "cell_type": "markdown",
   "id": "6195d6af",
   "metadata": {
    "id": "6195d6af"
   },
   "source": [
    "## Training Model"
   ]
  },
  {
   "cell_type": "code",
   "execution_count": 19,
   "id": "558beabc",
   "metadata": {
    "colab": {
     "background_save": true,
     "base_uri": "https://localhost:8080/"
    },
    "id": "558beabc",
    "outputId": "ed1dfd5b-444d-4752-90b3-f9436d2ce92d"
   },
   "outputs": [
    {
     "name": "stdout",
     "output_type": "stream",
     "text": [
      "Epoch 1/20\n",
      "\u001b[1m771/771\u001b[0m \u001b[32m━━━━━━━━━━━━━━━━━━━━\u001b[0m\u001b[37m\u001b[0m \u001b[1m44s\u001b[0m 57ms/step - accuracy: 0.9740 - loss: 0.0818 - precision: 0.9753 - recall: 0.9721 - val_accuracy: 0.9070 - val_loss: 0.4499 - val_precision: 0.9123 - val_recall: 0.9049\n",
      "Epoch 2/20\n",
      "\u001b[1m771/771\u001b[0m \u001b[32m━━━━━━━━━━━━━━━━━━━━\u001b[0m\u001b[37m\u001b[0m \u001b[1m46s\u001b[0m 59ms/step - accuracy: 0.9736 - loss: 0.0798 - precision: 0.9757 - recall: 0.9719 - val_accuracy: 0.8793 - val_loss: 0.6011 - val_precision: 0.8865 - val_recall: 0.8757\n",
      "Epoch 3/20\n",
      "\u001b[1m771/771\u001b[0m \u001b[32m━━━━━━━━━━━━━━━━━━━━\u001b[0m\u001b[37m\u001b[0m \u001b[1m46s\u001b[0m 60ms/step - accuracy: 0.9734 - loss: 0.0885 - precision: 0.9755 - recall: 0.9720 - val_accuracy: 0.9070 - val_loss: 0.4346 - val_precision: 0.9123 - val_recall: 0.9049\n",
      "Epoch 4/20\n",
      "\u001b[1m771/771\u001b[0m \u001b[32m━━━━━━━━━━━━━━━━━━━━\u001b[0m\u001b[37m\u001b[0m \u001b[1m47s\u001b[0m 60ms/step - accuracy: 0.9805 - loss: 0.0631 - precision: 0.9813 - recall: 0.9796 - val_accuracy: 0.8871 - val_loss: 0.6198 - val_precision: 0.8921 - val_recall: 0.8846\n",
      "Epoch 5/20\n",
      "\u001b[1m771/771\u001b[0m \u001b[32m━━━━━━━━━━━━━━━━━━━━\u001b[0m\u001b[37m\u001b[0m \u001b[1m47s\u001b[0m 60ms/step - accuracy: 0.9805 - loss: 0.0627 - precision: 0.9813 - recall: 0.9795 - val_accuracy: 0.8840 - val_loss: 0.6732 - val_precision: 0.8891 - val_recall: 0.8814\n",
      "Epoch 6/20\n",
      "\u001b[1m771/771\u001b[0m \u001b[32m━━━━━━━━━━━━━━━━━━━━\u001b[0m\u001b[37m\u001b[0m \u001b[1m46s\u001b[0m 60ms/step - accuracy: 0.9760 - loss: 0.0748 - precision: 0.9774 - recall: 0.9748 - val_accuracy: 0.9017 - val_loss: 0.4562 - val_precision: 0.9082 - val_recall: 0.8977\n",
      "Epoch 7/20\n",
      "\u001b[1m771/771\u001b[0m \u001b[32m━━━━━━━━━━━━━━━━━━━━\u001b[0m\u001b[37m\u001b[0m \u001b[1m46s\u001b[0m 60ms/step - accuracy: 0.9817 - loss: 0.0598 - precision: 0.9828 - recall: 0.9807 - val_accuracy: 0.9053 - val_loss: 0.4839 - val_precision: 0.9097 - val_recall: 0.9005\n",
      "Epoch 8/20\n",
      "\u001b[1m771/771\u001b[0m \u001b[32m━━━━━━━━━━━━━━━━━━━━\u001b[0m\u001b[37m\u001b[0m \u001b[1m48s\u001b[0m 62ms/step - accuracy: 0.9834 - loss: 0.0574 - precision: 0.9843 - recall: 0.9827 - val_accuracy: 0.9074 - val_loss: 0.5667 - val_precision: 0.9107 - val_recall: 0.9060\n",
      "Epoch 9/20\n",
      "\u001b[1m771/771\u001b[0m \u001b[32m━━━━━━━━━━━━━━━━━━━━\u001b[0m\u001b[37m\u001b[0m \u001b[1m46s\u001b[0m 60ms/step - accuracy: 0.9809 - loss: 0.0661 - precision: 0.9818 - recall: 0.9802 - val_accuracy: 0.9022 - val_loss: 0.4508 - val_precision: 0.9067 - val_recall: 0.8988\n",
      "Epoch 10/20\n",
      "\u001b[1m771/771\u001b[0m \u001b[32m━━━━━━━━━━━━━━━━━━━━\u001b[0m\u001b[37m\u001b[0m \u001b[1m47s\u001b[0m 61ms/step - accuracy: 0.9820 - loss: 0.0594 - precision: 0.9832 - recall: 0.9812 - val_accuracy: 0.8907 - val_loss: 0.5673 - val_precision: 0.8975 - val_recall: 0.8871\n",
      "Epoch 11/20\n",
      "\u001b[1m771/771\u001b[0m \u001b[32m━━━━━━━━━━━━━━━━━━━━\u001b[0m\u001b[37m\u001b[0m \u001b[1m47s\u001b[0m 61ms/step - accuracy: 0.9781 - loss: 0.0701 - precision: 0.9796 - recall: 0.9767 - val_accuracy: 0.8547 - val_loss: 0.9178 - val_precision: 0.8603 - val_recall: 0.8526\n",
      "Epoch 12/20\n",
      "\u001b[1m771/771\u001b[0m \u001b[32m━━━━━━━━━━━━━━━━━━━━\u001b[0m\u001b[37m\u001b[0m \u001b[1m47s\u001b[0m 61ms/step - accuracy: 0.9783 - loss: 0.0695 - precision: 0.9798 - recall: 0.9776 - val_accuracy: 0.9019 - val_loss: 0.6294 - val_precision: 0.9041 - val_recall: 0.9005\n",
      "Epoch 13/20\n",
      "\u001b[1m771/771\u001b[0m \u001b[32m━━━━━━━━━━━━━━━━━━━━\u001b[0m\u001b[37m\u001b[0m \u001b[1m46s\u001b[0m 60ms/step - accuracy: 0.9858 - loss: 0.0511 - precision: 0.9864 - recall: 0.9851 - val_accuracy: 0.8948 - val_loss: 0.6264 - val_precision: 0.8999 - val_recall: 0.8930\n",
      "Epoch 14/20\n",
      "\u001b[1m771/771\u001b[0m \u001b[32m━━━━━━━━━━━━━━━━━━━━\u001b[0m\u001b[37m\u001b[0m \u001b[1m46s\u001b[0m 60ms/step - accuracy: 0.9841 - loss: 0.0544 - precision: 0.9849 - recall: 0.9836 - val_accuracy: 0.8973 - val_loss: 0.6896 - val_precision: 0.9002 - val_recall: 0.8960\n",
      "Epoch 15/20\n",
      "\u001b[1m771/771\u001b[0m \u001b[32m━━━━━━━━━━━━━━━━━━━━\u001b[0m\u001b[37m\u001b[0m \u001b[1m46s\u001b[0m 60ms/step - accuracy: 0.9862 - loss: 0.0448 - precision: 0.9868 - recall: 0.9858 - val_accuracy: 0.8867 - val_loss: 0.6908 - val_precision: 0.8906 - val_recall: 0.8852\n",
      "Epoch 16/20\n",
      "\u001b[1m771/771\u001b[0m \u001b[32m━━━━━━━━━━━━━━━━━━━━\u001b[0m\u001b[37m\u001b[0m \u001b[1m46s\u001b[0m 59ms/step - accuracy: 0.9765 - loss: 0.0877 - precision: 0.9781 - recall: 0.9758 - val_accuracy: 0.9020 - val_loss: 0.5215 - val_precision: 0.9061 - val_recall: 0.8990\n",
      "Epoch 17/20\n",
      "\u001b[1m771/771\u001b[0m \u001b[32m━━━━━━━━━━━━━━━━━━━━\u001b[0m\u001b[37m\u001b[0m \u001b[1m47s\u001b[0m 61ms/step - accuracy: 0.9871 - loss: 0.0446 - precision: 0.9876 - recall: 0.9867 - val_accuracy: 0.9072 - val_loss: 0.5458 - val_precision: 0.9105 - val_recall: 0.9058\n",
      "Epoch 18/20\n",
      "\u001b[1m771/771\u001b[0m \u001b[32m━━━━━━━━━━━━━━━━━━━━\u001b[0m\u001b[37m\u001b[0m \u001b[1m46s\u001b[0m 60ms/step - accuracy: 0.9873 - loss: 0.0439 - precision: 0.9877 - recall: 0.9869 - val_accuracy: 0.8920 - val_loss: 0.7263 - val_precision: 0.8944 - val_recall: 0.8907\n",
      "Epoch 19/20\n",
      "\u001b[1m771/771\u001b[0m \u001b[32m━━━━━━━━━━━━━━━━━━━━\u001b[0m\u001b[37m\u001b[0m \u001b[1m46s\u001b[0m 60ms/step - accuracy: 0.9842 - loss: 0.0558 - precision: 0.9847 - recall: 0.9837 - val_accuracy: 0.8840 - val_loss: 0.7407 - val_precision: 0.8880 - val_recall: 0.8829\n",
      "Epoch 20/20\n",
      "\u001b[1m771/771\u001b[0m \u001b[32m━━━━━━━━━━━━━━━━━━━━\u001b[0m\u001b[37m\u001b[0m \u001b[1m47s\u001b[0m 61ms/step - accuracy: 0.9853 - loss: 0.0516 - precision: 0.9859 - recall: 0.9848 - val_accuracy: 0.9003 - val_loss: 0.6768 - val_precision: 0.9025 - val_recall: 0.8998\n"
     ]
    }
   ],
   "source": [
    "training_history = cnn.fit(x = training_set, validation_data = validation_set, epochs = 20)"
   ]
  },
  {
   "cell_type": "markdown",
   "id": "OTghB8iIwGWD",
   "metadata": {
    "id": "OTghB8iIwGWD"
   },
   "source": [
    "## Model Evaluation"
   ]
  },
  {
   "cell_type": "code",
   "execution_count": 23,
   "id": "355372e1",
   "metadata": {
    "id": "355372e1"
   },
   "outputs": [
    {
     "name": "stdout",
     "output_type": "stream",
     "text": [
      "\u001b[1m771/771\u001b[0m \u001b[32m━━━━━━━━━━━━━━━━━━━━\u001b[0m\u001b[37m\u001b[0m \u001b[1m11s\u001b[0m 15ms/step - accuracy: 0.9897 - loss: 0.0407 - precision: 0.9899 - recall: 0.9895\n"
     ]
    }
   ],
   "source": [
    "train_loss, train_acc, train_pre, train_rec = cnn.evaluate(training_set)"
   ]
  },
  {
   "cell_type": "code",
   "execution_count": 24,
   "id": "0SV6JQir2kCC",
   "metadata": {
    "id": "0SV6JQir2kCC"
   },
   "outputs": [
    {
     "name": "stdout",
     "output_type": "stream",
     "text": [
      "0.040742792189121246 0.9897371530532837 0.989935040473938 0.9894531965255737\n"
     ]
    }
   ],
   "source": [
    "print(train_loss, train_acc, train_pre, train_rec)"
   ]
  },
  {
   "cell_type": "code",
   "execution_count": 25,
   "id": "VXVnoWQC2pvu",
   "metadata": {
    "id": "VXVnoWQC2pvu"
   },
   "outputs": [
    {
     "name": "stdout",
     "output_type": "stream",
     "text": [
      "\u001b[1m165/165\u001b[0m \u001b[32m━━━━━━━━━━━━━━━━━━━━\u001b[0m\u001b[37m\u001b[0m \u001b[1m3s\u001b[0m 15ms/step - accuracy: 0.9003 - loss: 0.6768 - precision: 0.9025 - recall: 0.8998\n"
     ]
    }
   ],
   "source": [
    "valid_loss, valid_acc, valid_pre, valid_rec = cnn.evaluate(validation_set)"
   ]
  },
  {
   "cell_type": "code",
   "execution_count": 26,
   "id": "uix2GIK82zx0",
   "metadata": {
    "id": "uix2GIK82zx0"
   },
   "outputs": [
    {
     "name": "stdout",
     "output_type": "stream",
     "text": [
      "0.6767751574516296 0.9003410339355469 0.902508556842804 0.8997726440429688\n"
     ]
    }
   ],
   "source": [
    "print(valid_loss, valid_acc, valid_pre, valid_rec)"
   ]
  },
  {
   "cell_type": "markdown",
   "id": "ujb25md34V7t",
   "metadata": {
    "id": "ujb25md34V7t"
   },
   "source": [
    "## Accuracy Visualization"
   ]
  },
  {
   "cell_type": "code",
   "execution_count": 33,
   "id": "8d9325c8",
   "metadata": {},
   "outputs": [
    {
     "name": "stdout",
     "output_type": "stream",
     "text": [
      "[0.9740386009216309, 0.9735924005508423, 0.9733895659446716, 0.9805289506912231, 0.9805289506912231, 0.9759857058525085, 0.981664776802063, 0.9834496378898621, 0.9808534979820251, 0.9819892644882202, 0.9781356453895569, 0.9782573580741882, 0.985761821269989, 0.9840580821037292, 0.9862080216407776, 0.9764724969863892, 0.9871004223823547, 0.9872627258300781, 0.9841797947883606, 0.9853156208992004]\n"
     ]
    }
   ],
   "source": [
    "print(training_history.history['accuracy'])"
   ]
  },
  {
   "cell_type": "code",
   "execution_count": 35,
   "id": "LphQmNQq4OSP",
   "metadata": {
    "id": "LphQmNQq4OSP"
   },
   "outputs": [
    {
     "data": {
      "image/png": "[encoded data removed]",
      "text/plain": [
       "<Figure size 640x480 with 1 Axes>"
      ]
     },
     "metadata": {},
     "output_type": "display_data"
    }
   ],
   "source": [
    "epochs = [i for i in range(1,21)]\n",
    "plt.plot(epochs, training_history.history['accuracy'], color='red', label ='Training Accuracy')\n",
    "plt.plot(epochs, training_history.history['val_accuracy'], color='blue', label ='Validation Accuracy')\n",
    "plt.xlabel('No. of Epochs')\n",
    "plt.ylabel('Accuracy Result')\n",
    "plt.title('Visualization of Accuracy Result')\n",
    "plt.legend()\n",
    "plt.show()"
   ]
  },
  {
   "cell_type": "markdown",
   "id": "f5058900",
   "metadata": {},
   "source": [
    "## Creating Pipeline"
   ]
  },
  {
   "cell_type": "code",
   "execution_count": null,
   "id": "b10a8c2c",
   "metadata": {},
   "outputs": [],
   "source": []
  },
  {
   "cell_type": "markdown",
   "id": "oCPNwlGf24kh",
   "metadata": {
    "id": "oCPNwlGf24kh"
   },
   "source": [
    "## Saving Model"
   ]
  },
  {
   "cell_type": "code",
   "execution_count": null,
   "id": "NHbenC8L262l",
   "metadata": {
    "id": "NHbenC8L262l"
   },
   "outputs": [],
   "source": [
    "cnn.save('trained_model.keras') # one extension of saving, not using h5 as keras takes less space"
   ]
  },
  {
   "cell_type": "code",
   "execution_count": null,
   "id": "ssO8WVP43lNa",
   "metadata": {
    "id": "ssO8WVP43lNa"
   },
   "outputs": [],
   "source": [
    "training_history.history"
   ]
  },
  {
   "cell_type": "code",
   "execution_count": null,
   "id": "9IQoFW7f30oX",
   "metadata": {
    "id": "9IQoFW7f30oX"
   },
   "outputs": [],
   "source": [
    "# storing history in json format\n",
    "import json\n",
    "with open('training_hist.json', 'w') as f:\n",
    "  json.dumpt(training_history.history, f)"
   ]
  },
  {
   "cell_type": "code",
   "execution_count": null,
   "id": "ShpqUBL04iSS",
   "metadata": {
    "id": "ShpqUBL04iSS"
   },
   "outputs": [],
   "source": []
  }
 ],
 "metadata": {
  "accelerator": "GPU",
  "colab": {
   "gpuType": "T4",
   "provenance": []
  },
  "kernelspec": {
   "display_name": "tf",
   "language": "python",
   "name": "python3"
  },
  "language_info": {
   "codemirror_mode": {
    "name": "ipython",
    "version": 3
   },
   "file_extension": ".py",
   "mimetype": "text/x-python",
   "name": "python",
   "nbconvert_exporter": "python",
   "pygments_lexer": "ipython3",
   "version": "3.10.12"
  }
 },
 "nbformat": 4,
 "nbformat_minor": 5
}
